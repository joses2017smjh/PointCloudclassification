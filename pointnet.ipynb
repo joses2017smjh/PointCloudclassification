{
 "cells": [
  {
   "cell_type": "code",
   "execution_count": 3,
   "metadata": {},
   "outputs": [],
   "source": [
    "import torch\n",
    "from torch_geometric.datasets import ModelNet\n",
    "from torch_geometric.transforms import SamplePoints, NormalizeScale\n",
    "from torch_geometric.loader import DataLoader\n",
    "\n",
    "import open3d as o3d\n",
    "import plotly.graph_objects as go\n",
    "\n",
    "import torch.nn as nn\n",
    "import torch.nn.functional as F\n",
    "import torch.optim as optim\n",
    "import datetime"
   ]
  },
  {
   "cell_type": "code",
   "execution_count": 4,
   "metadata": {},
   "outputs": [],
   "source": [
    "device = \"mps\""
   ]
  },
  {
   "cell_type": "code",
   "execution_count": 58,
   "metadata": {},
   "outputs": [
    {
     "name": "stdout",
     "output_type": "stream",
     "text": [
      "Number of training examples: 3991\n",
      "Number of test examples: 908\n",
      "Data(pos=[1024, 3], y=[1])\n",
      "Point cloud shape: torch.Size([1024, 3])\n",
      "Label: tensor([2])\n"
     ]
    }
   ],
   "source": [
    "num_points = 1024\n",
    "\n",
    "pre_transform = NormalizeScale()\n",
    "transform = SamplePoints(num_points)\n",
    "\n",
    "batch_size = 64\n",
    "\n",
    "root = 'data/ModelNet10'\n",
    "dataset_train = ModelNet(root=root, name='10', train=True, pre_transform=pre_transform, transform=transform)\n",
    "trainloader = DataLoader(dataset_train, batch_size=batch_size, shuffle=True)\n",
    "\n",
    "dataset_test = ModelNet(root=root, name='10', train=False, pre_transform=pre_transform, transform=transform)\n",
    "test_loader = DataLoader(dataset_test, batch_size=batch_size)\n",
    "\n",
    "print(f'Number of training examples: {len(dataset_train)}')\n",
    "print(f'Number of test examples: {len(dataset_test)}')\n",
    "\n",
    "data = dataset_train[1001]\n",
    "print(data)\n",
    "print(f'Point cloud shape: {data.pos.shape}')\n",
    "print(f'Label: {data.y}')"
   ]
  },
  {
   "cell_type": "code",
   "execution_count": 6,
   "metadata": {},
   "outputs": [
    {
     "data": {
      "application/vnd.plotly.v1+json": {
       "config": {
        "plotlyServerURL": "https://plot.ly"
       },
       "data": [
        {
         "marker": {
          "color": "white",
          "size": 1
         },
         "mode": "markers",
         "type": "scatter3d",
         "x": {
          "bdata": "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",
          "dtype": "f4"
         },
         "y": {
          "bdata": "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",
          "dtype": "f4"
         },
         "z": {
          "bdata": "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",
          "dtype": "f4"
         }
        }
       ],
       "layout": {
        "scene": {
         "xaxis": {
          "visible": false
         },
         "yaxis": {
          "visible": false
         },
         "zaxis": {
          "visible": false
         }
        },
        "template": {
         "data": {
          "bar": [
           {
            "error_x": {
             "color": "#f2f5fa"
            },
            "error_y": {
             "color": "#f2f5fa"
            },
            "marker": {
             "line": {
              "color": "rgb(17,17,17)",
              "width": 0.5
             },
             "pattern": {
              "fillmode": "overlay",
              "size": 10,
              "solidity": 0.2
             }
            },
            "type": "bar"
           }
          ],
          "barpolar": [
           {
            "marker": {
             "line": {
              "color": "rgb(17,17,17)",
              "width": 0.5
             },
             "pattern": {
              "fillmode": "overlay",
              "size": 10,
              "solidity": 0.2
             }
            },
            "type": "barpolar"
           }
          ],
          "carpet": [
           {
            "aaxis": {
             "endlinecolor": "#A2B1C6",
             "gridcolor": "#506784",
             "linecolor": "#506784",
             "minorgridcolor": "#506784",
             "startlinecolor": "#A2B1C6"
            },
            "baxis": {
             "endlinecolor": "#A2B1C6",
             "gridcolor": "#506784",
             "linecolor": "#506784",
             "minorgridcolor": "#506784",
             "startlinecolor": "#A2B1C6"
            },
            "type": "carpet"
           }
          ],
          "choropleth": [
           {
            "colorbar": {
             "outlinewidth": 0,
             "ticks": ""
            },
            "type": "choropleth"
           }
          ],
          "contour": [
           {
            "colorbar": {
             "outlinewidth": 0,
             "ticks": ""
            },
            "colorscale": [
             [
              0,
              "#0d0887"
             ],
             [
              0.1111111111111111,
              "#46039f"
             ],
             [
              0.2222222222222222,
              "#7201a8"
             ],
             [
              0.3333333333333333,
              "#9c179e"
             ],
             [
              0.4444444444444444,
              "#bd3786"
             ],
             [
              0.5555555555555556,
              "#d8576b"
             ],
             [
              0.6666666666666666,
              "#ed7953"
             ],
             [
              0.7777777777777778,
              "#fb9f3a"
             ],
             [
              0.8888888888888888,
              "#fdca26"
             ],
             [
              1,
              "#f0f921"
             ]
            ],
            "type": "contour"
           }
          ],
          "contourcarpet": [
           {
            "colorbar": {
             "outlinewidth": 0,
             "ticks": ""
            },
            "type": "contourcarpet"
           }
          ],
          "heatmap": [
           {
            "colorbar": {
             "outlinewidth": 0,
             "ticks": ""
            },
            "colorscale": [
             [
              0,
              "#0d0887"
             ],
             [
              0.1111111111111111,
              "#46039f"
             ],
             [
              0.2222222222222222,
              "#7201a8"
             ],
             [
              0.3333333333333333,
              "#9c179e"
             ],
             [
              0.4444444444444444,
              "#bd3786"
             ],
             [
              0.5555555555555556,
              "#d8576b"
             ],
             [
              0.6666666666666666,
              "#ed7953"
             ],
             [
              0.7777777777777778,
              "#fb9f3a"
             ],
             [
              0.8888888888888888,
              "#fdca26"
             ],
             [
              1,
              "#f0f921"
             ]
            ],
            "type": "heatmap"
           }
          ],
          "histogram": [
           {
            "marker": {
             "pattern": {
              "fillmode": "overlay",
              "size": 10,
              "solidity": 0.2
             }
            },
            "type": "histogram"
           }
          ],
          "histogram2d": [
           {
            "colorbar": {
             "outlinewidth": 0,
             "ticks": ""
            },
            "colorscale": [
             [
              0,
              "#0d0887"
             ],
             [
              0.1111111111111111,
              "#46039f"
             ],
             [
              0.2222222222222222,
              "#7201a8"
             ],
             [
              0.3333333333333333,
              "#9c179e"
             ],
             [
              0.4444444444444444,
              "#bd3786"
             ],
             [
              0.5555555555555556,
              "#d8576b"
             ],
             [
              0.6666666666666666,
              "#ed7953"
             ],
             [
              0.7777777777777778,
              "#fb9f3a"
             ],
             [
              0.8888888888888888,
              "#fdca26"
             ],
             [
              1,
              "#f0f921"
             ]
            ],
            "type": "histogram2d"
           }
          ],
          "histogram2dcontour": [
           {
            "colorbar": {
             "outlinewidth": 0,
             "ticks": ""
            },
            "colorscale": [
             [
              0,
              "#0d0887"
             ],
             [
              0.1111111111111111,
              "#46039f"
             ],
             [
              0.2222222222222222,
              "#7201a8"
             ],
             [
              0.3333333333333333,
              "#9c179e"
             ],
             [
              0.4444444444444444,
              "#bd3786"
             ],
             [
              0.5555555555555556,
              "#d8576b"
             ],
             [
              0.6666666666666666,
              "#ed7953"
             ],
             [
              0.7777777777777778,
              "#fb9f3a"
             ],
             [
              0.8888888888888888,
              "#fdca26"
             ],
             [
              1,
              "#f0f921"
             ]
            ],
            "type": "histogram2dcontour"
           }
          ],
          "mesh3d": [
           {
            "colorbar": {
             "outlinewidth": 0,
             "ticks": ""
            },
            "type": "mesh3d"
           }
          ],
          "parcoords": [
           {
            "line": {
             "colorbar": {
              "outlinewidth": 0,
              "ticks": ""
             }
            },
            "type": "parcoords"
           }
          ],
          "pie": [
           {
            "automargin": true,
            "type": "pie"
           }
          ],
          "scatter": [
           {
            "marker": {
             "line": {
              "color": "#283442"
             }
            },
            "type": "scatter"
           }
          ],
          "scatter3d": [
           {
            "line": {
             "colorbar": {
              "outlinewidth": 0,
              "ticks": ""
             }
            },
            "marker": {
             "colorbar": {
              "outlinewidth": 0,
              "ticks": ""
             }
            },
            "type": "scatter3d"
           }
          ],
          "scattercarpet": [
           {
            "marker": {
             "colorbar": {
              "outlinewidth": 0,
              "ticks": ""
             }
            },
            "type": "scattercarpet"
           }
          ],
          "scattergeo": [
           {
            "marker": {
             "colorbar": {
              "outlinewidth": 0,
              "ticks": ""
             }
            },
            "type": "scattergeo"
           }
          ],
          "scattergl": [
           {
            "marker": {
             "line": {
              "color": "#283442"
             }
            },
            "type": "scattergl"
           }
          ],
          "scattermap": [
           {
            "marker": {
             "colorbar": {
              "outlinewidth": 0,
              "ticks": ""
             }
            },
            "type": "scattermap"
           }
          ],
          "scattermapbox": [
           {
            "marker": {
             "colorbar": {
              "outlinewidth": 0,
              "ticks": ""
             }
            },
            "type": "scattermapbox"
           }
          ],
          "scatterpolar": [
           {
            "marker": {
             "colorbar": {
              "outlinewidth": 0,
              "ticks": ""
             }
            },
            "type": "scatterpolar"
           }
          ],
          "scatterpolargl": [
           {
            "marker": {
             "colorbar": {
              "outlinewidth": 0,
              "ticks": ""
             }
            },
            "type": "scatterpolargl"
           }
          ],
          "scatterternary": [
           {
            "marker": {
             "colorbar": {
              "outlinewidth": 0,
              "ticks": ""
             }
            },
            "type": "scatterternary"
           }
          ],
          "surface": [
           {
            "colorbar": {
             "outlinewidth": 0,
             "ticks": ""
            },
            "colorscale": [
             [
              0,
              "#0d0887"
             ],
             [
              0.1111111111111111,
              "#46039f"
             ],
             [
              0.2222222222222222,
              "#7201a8"
             ],
             [
              0.3333333333333333,
              "#9c179e"
             ],
             [
              0.4444444444444444,
              "#bd3786"
             ],
             [
              0.5555555555555556,
              "#d8576b"
             ],
             [
              0.6666666666666666,
              "#ed7953"
             ],
             [
              0.7777777777777778,
              "#fb9f3a"
             ],
             [
              0.8888888888888888,
              "#fdca26"
             ],
             [
              1,
              "#f0f921"
             ]
            ],
            "type": "surface"
           }
          ],
          "table": [
           {
            "cells": {
             "fill": {
              "color": "#506784"
             },
             "line": {
              "color": "rgb(17,17,17)"
             }
            },
            "header": {
             "fill": {
              "color": "#2a3f5f"
             },
             "line": {
              "color": "rgb(17,17,17)"
             }
            },
            "type": "table"
           }
          ]
         },
         "layout": {
          "annotationdefaults": {
           "arrowcolor": "#f2f5fa",
           "arrowhead": 0,
           "arrowwidth": 1
          },
          "autotypenumbers": "strict",
          "coloraxis": {
           "colorbar": {
            "outlinewidth": 0,
            "ticks": ""
           }
          },
          "colorscale": {
           "diverging": [
            [
             0,
             "#8e0152"
            ],
            [
             0.1,
             "#c51b7d"
            ],
            [
             0.2,
             "#de77ae"
            ],
            [
             0.3,
             "#f1b6da"
            ],
            [
             0.4,
             "#fde0ef"
            ],
            [
             0.5,
             "#f7f7f7"
            ],
            [
             0.6,
             "#e6f5d0"
            ],
            [
             0.7,
             "#b8e186"
            ],
            [
             0.8,
             "#7fbc41"
            ],
            [
             0.9,
             "#4d9221"
            ],
            [
             1,
             "#276419"
            ]
           ],
           "sequential": [
            [
             0,
             "#0d0887"
            ],
            [
             0.1111111111111111,
             "#46039f"
            ],
            [
             0.2222222222222222,
             "#7201a8"
            ],
            [
             0.3333333333333333,
             "#9c179e"
            ],
            [
             0.4444444444444444,
             "#bd3786"
            ],
            [
             0.5555555555555556,
             "#d8576b"
            ],
            [
             0.6666666666666666,
             "#ed7953"
            ],
            [
             0.7777777777777778,
             "#fb9f3a"
            ],
            [
             0.8888888888888888,
             "#fdca26"
            ],
            [
             1,
             "#f0f921"
            ]
           ],
           "sequentialminus": [
            [
             0,
             "#0d0887"
            ],
            [
             0.1111111111111111,
             "#46039f"
            ],
            [
             0.2222222222222222,
             "#7201a8"
            ],
            [
             0.3333333333333333,
             "#9c179e"
            ],
            [
             0.4444444444444444,
             "#bd3786"
            ],
            [
             0.5555555555555556,
             "#d8576b"
            ],
            [
             0.6666666666666666,
             "#ed7953"
            ],
            [
             0.7777777777777778,
             "#fb9f3a"
            ],
            [
             0.8888888888888888,
             "#fdca26"
            ],
            [
             1,
             "#f0f921"
            ]
           ]
          },
          "colorway": [
           "#636efa",
           "#EF553B",
           "#00cc96",
           "#ab63fa",
           "#FFA15A",
           "#19d3f3",
           "#FF6692",
           "#B6E880",
           "#FF97FF",
           "#FECB52"
          ],
          "font": {
           "color": "#f2f5fa"
          },
          "geo": {
           "bgcolor": "rgb(17,17,17)",
           "lakecolor": "rgb(17,17,17)",
           "landcolor": "rgb(17,17,17)",
           "showlakes": true,
           "showland": true,
           "subunitcolor": "#506784"
          },
          "hoverlabel": {
           "align": "left"
          },
          "hovermode": "closest",
          "mapbox": {
           "style": "dark"
          },
          "paper_bgcolor": "rgb(17,17,17)",
          "plot_bgcolor": "rgb(17,17,17)",
          "polar": {
           "angularaxis": {
            "gridcolor": "#506784",
            "linecolor": "#506784",
            "ticks": ""
           },
           "bgcolor": "rgb(17,17,17)",
           "radialaxis": {
            "gridcolor": "#506784",
            "linecolor": "#506784",
            "ticks": ""
           }
          },
          "scene": {
           "xaxis": {
            "backgroundcolor": "rgb(17,17,17)",
            "gridcolor": "#506784",
            "gridwidth": 2,
            "linecolor": "#506784",
            "showbackground": true,
            "ticks": "",
            "zerolinecolor": "#C8D4E3"
           },
           "yaxis": {
            "backgroundcolor": "rgb(17,17,17)",
            "gridcolor": "#506784",
            "gridwidth": 2,
            "linecolor": "#506784",
            "showbackground": true,
            "ticks": "",
            "zerolinecolor": "#C8D4E3"
           },
           "zaxis": {
            "backgroundcolor": "rgb(17,17,17)",
            "gridcolor": "#506784",
            "gridwidth": 2,
            "linecolor": "#506784",
            "showbackground": true,
            "ticks": "",
            "zerolinecolor": "#C8D4E3"
           }
          },
          "shapedefaults": {
           "line": {
            "color": "#f2f5fa"
           }
          },
          "sliderdefaults": {
           "bgcolor": "#C8D4E3",
           "bordercolor": "rgb(17,17,17)",
           "borderwidth": 1,
           "tickwidth": 0
          },
          "ternary": {
           "aaxis": {
            "gridcolor": "#506784",
            "linecolor": "#506784",
            "ticks": ""
           },
           "baxis": {
            "gridcolor": "#506784",
            "linecolor": "#506784",
            "ticks": ""
           },
           "bgcolor": "rgb(17,17,17)",
           "caxis": {
            "gridcolor": "#506784",
            "linecolor": "#506784",
            "ticks": ""
           }
          },
          "title": {
           "x": 0.05
          },
          "updatemenudefaults": {
           "bgcolor": "#506784",
           "borderwidth": 0
          },
          "xaxis": {
           "automargin": true,
           "gridcolor": "#283442",
           "linecolor": "#506784",
           "ticks": "",
           "title": {
            "standoff": 15
           },
           "zerolinecolor": "#283442",
           "zerolinewidth": 2
          },
          "yaxis": {
           "automargin": true,
           "gridcolor": "#283442",
           "linecolor": "#506784",
           "ticks": "",
           "title": {
            "standoff": 15
           },
           "zerolinecolor": "#283442",
           "zerolinewidth": 2
          }
         }
        }
       }
      }
     },
     "metadata": {},
     "output_type": "display_data"
    }
   ],
   "source": [
    "fig = go.Figure(\n",
    "  data=[\n",
    "    go.Scatter3d(\n",
    "      x=data.pos[:,0], y=data.pos[:,1], z=data.pos[:,2],\n",
    "      mode='markers',\n",
    "      marker=dict(size=1, color=\"white\"))],\n",
    "  layout=dict(\n",
    "    scene=dict(\n",
    "      xaxis=dict(visible=False),\n",
    "      yaxis=dict(visible=False),\n",
    "      zaxis=dict(visible=False))))\n",
    "\n",
    "fig.update_layout(template='plotly_dark')\n",
    "\n",
    "fig.show()"
   ]
  },
  {
   "cell_type": "code",
   "execution_count": 59,
   "metadata": {},
   "outputs": [],
   "source": [
    "class Transformer(nn.Module):\n",
    "    def __init__(self, num_points, features, identity):\n",
    "        super(Transformer, self).__init__()\n",
    "\n",
    "        self.features = features\n",
    "        self.identity = identity\n",
    "\n",
    "        self.mlp = nn.Sequential(\n",
    "            nn.Conv1d(in_channels=features, out_channels=64, kernel_size=1),\n",
    "            nn.ReLU(),\n",
    "            nn.BatchNorm1d(64),\n",
    "            nn.Conv1d(in_channels=64, out_channels=128, kernel_size=1),\n",
    "            nn.ReLU(),\n",
    "            nn.BatchNorm1d(128),\n",
    "            nn.Conv1d(in_channels=128, out_channels=1024, kernel_size=1),\n",
    "            nn.ReLU(),\n",
    "            nn.BatchNorm1d(1024))\n",
    "\n",
    "        self.max_pool = nn.MaxPool1d(kernel_size=num_points)\n",
    "\n",
    "        self.fcl = nn.Sequential(\n",
    "            nn.Linear(in_features=1024, out_features=512),\n",
    "            nn.ReLU(),\n",
    "            nn.BatchNorm1d(512),\n",
    "            nn.Linear(in_features=512, out_features=256),\n",
    "            nn.ReLU(),\n",
    "            nn.BatchNorm1d(256),\n",
    "            nn.Linear(in_features=256, out_features=features*features))\n",
    "    \n",
    "    def forward(self, x):\n",
    "\n",
    "        bs = x.shape[0]\n",
    "\n",
    "        x = self.mlp(x)\n",
    "        x = self.max_pool(x).view(bs, -1)\n",
    "        x = self.fcl(x)\n",
    "        \n",
    "        x = x.view(-1, self.features, self.features)\n",
    "\n",
    "        if self.identity:\n",
    "            x += torch.eye(self.features, requires_grad=True).repeat(bs, 1, 1).to(device)\n",
    "\n",
    "        return x\n",
    "\n",
    "\n",
    "class PointNet(nn.Module):\n",
    "    def __init__(self, num_points, num_classes):\n",
    "        super(PointNet, self).__init__()\n",
    "\n",
    "        self.tnet1 = Transformer(num_points=num_points, features=3, identity=False).to(device)\n",
    "\n",
    "        self.mlp1 = nn.Sequential(\n",
    "            nn.Conv1d(in_channels=3, out_channels=64, kernel_size=1),\n",
    "            nn.ReLU(),\n",
    "            nn.BatchNorm1d(64),\n",
    "            nn.Conv1d(in_channels=64, out_channels=64, kernel_size=1),\n",
    "            nn.ReLU(),\n",
    "            nn.BatchNorm1d(64))\n",
    "    \n",
    "        self.tnet2 = Transformer(num_points=num_points, features=64, identity=True).to(device)\n",
    "\n",
    "        self.mlp2 = nn.Sequential(\n",
    "            nn.Conv1d(in_channels=64, out_channels=64, kernel_size=1),\n",
    "            nn.ReLU(),\n",
    "            nn.BatchNorm1d(64),\n",
    "            nn.Conv1d(in_channels=64, out_channels=128, kernel_size=1),\n",
    "            nn.ReLU(),\n",
    "            nn.BatchNorm1d(128),\n",
    "            nn.Conv1d(in_channels=128, out_channels=1024, kernel_size=1),\n",
    "            nn.ReLU(),\n",
    "            nn.BatchNorm1d(1024))\n",
    "\n",
    "        self.max_pool = nn.MaxPool1d(kernel_size=num_points)\n",
    "\n",
    "        self.classification_head = nn.Sequential(\n",
    "            nn.Linear(in_features=1024, out_features=512),\n",
    "            nn.BatchNorm1d(512),\n",
    "            nn.ReLU(),\n",
    "            nn.Linear(in_features=512, out_features=256),\n",
    "            nn.BatchNorm1d(256),\n",
    "            nn.ReLU(),\n",
    "            nn.Dropout(p=0.3),\n",
    "            nn.Linear(in_features=256, out_features=num_classes)\n",
    "        )\n",
    "    \n",
    "    def forward(self, x):\n",
    "\n",
    "        bs = x.shape[0]\n",
    "\n",
    "        input_transform = self.tnet1(x)\n",
    "        \n",
    "        x = torch.bmm(x.transpose(2, 1), input_transform).transpose(2, 1)\n",
    "        x = self.mlp1(x)\n",
    "\n",
    "        feature_transform = self.tnet2(x)\n",
    "\n",
    "        x = torch.bmm(x.transpose(2, 1), feature_transform).transpose(2, 1)\n",
    "        x = self.mlp2(x)\n",
    "\n",
    "        x = self.max_pool(x).view(bs, -1)\n",
    "\n",
    "        x = self.classification_head(x)\n",
    "\n",
    "        return x, feature_transform\n"
   ]
  },
  {
   "cell_type": "code",
   "execution_count": 85,
   "metadata": {},
   "outputs": [
    {
     "data": {
      "text/plain": [
       "PointNet(\n",
       "  (tnet1): Transformer(\n",
       "    (mlp): Sequential(\n",
       "      (0): Conv1d(3, 64, kernel_size=(1,), stride=(1,))\n",
       "      (1): ReLU()\n",
       "      (2): BatchNorm1d(64, eps=1e-05, momentum=0.1, affine=True, track_running_stats=True)\n",
       "      (3): Conv1d(64, 128, kernel_size=(1,), stride=(1,))\n",
       "      (4): ReLU()\n",
       "      (5): BatchNorm1d(128, eps=1e-05, momentum=0.1, affine=True, track_running_stats=True)\n",
       "      (6): Conv1d(128, 1024, kernel_size=(1,), stride=(1,))\n",
       "      (7): ReLU()\n",
       "      (8): BatchNorm1d(1024, eps=1e-05, momentum=0.1, affine=True, track_running_stats=True)\n",
       "    )\n",
       "    (max_pool): MaxPool1d(kernel_size=1024, stride=1024, padding=0, dilation=1, ceil_mode=False)\n",
       "    (fcl): Sequential(\n",
       "      (0): Linear(in_features=1024, out_features=512, bias=True)\n",
       "      (1): ReLU()\n",
       "      (2): BatchNorm1d(512, eps=1e-05, momentum=0.1, affine=True, track_running_stats=True)\n",
       "      (3): Linear(in_features=512, out_features=256, bias=True)\n",
       "      (4): ReLU()\n",
       "      (5): BatchNorm1d(256, eps=1e-05, momentum=0.1, affine=True, track_running_stats=True)\n",
       "      (6): Linear(in_features=256, out_features=9, bias=True)\n",
       "    )\n",
       "  )\n",
       "  (mlp1): Sequential(\n",
       "    (0): Conv1d(3, 64, kernel_size=(1,), stride=(1,))\n",
       "    (1): ReLU()\n",
       "    (2): BatchNorm1d(64, eps=1e-05, momentum=0.1, affine=True, track_running_stats=True)\n",
       "    (3): Conv1d(64, 64, kernel_size=(1,), stride=(1,))\n",
       "    (4): ReLU()\n",
       "    (5): BatchNorm1d(64, eps=1e-05, momentum=0.1, affine=True, track_running_stats=True)\n",
       "  )\n",
       "  (tnet2): Transformer(\n",
       "    (mlp): Sequential(\n",
       "      (0): Conv1d(64, 64, kernel_size=(1,), stride=(1,))\n",
       "      (1): ReLU()\n",
       "      (2): BatchNorm1d(64, eps=1e-05, momentum=0.1, affine=True, track_running_stats=True)\n",
       "      (3): Conv1d(64, 128, kernel_size=(1,), stride=(1,))\n",
       "      (4): ReLU()\n",
       "      (5): BatchNorm1d(128, eps=1e-05, momentum=0.1, affine=True, track_running_stats=True)\n",
       "      (6): Conv1d(128, 1024, kernel_size=(1,), stride=(1,))\n",
       "      (7): ReLU()\n",
       "      (8): BatchNorm1d(1024, eps=1e-05, momentum=0.1, affine=True, track_running_stats=True)\n",
       "    )\n",
       "    (max_pool): MaxPool1d(kernel_size=1024, stride=1024, padding=0, dilation=1, ceil_mode=False)\n",
       "    (fcl): Sequential(\n",
       "      (0): Linear(in_features=1024, out_features=512, bias=True)\n",
       "      (1): ReLU()\n",
       "      (2): BatchNorm1d(512, eps=1e-05, momentum=0.1, affine=True, track_running_stats=True)\n",
       "      (3): Linear(in_features=512, out_features=256, bias=True)\n",
       "      (4): ReLU()\n",
       "      (5): BatchNorm1d(256, eps=1e-05, momentum=0.1, affine=True, track_running_stats=True)\n",
       "      (6): Linear(in_features=256, out_features=4096, bias=True)\n",
       "    )\n",
       "  )\n",
       "  (mlp2): Sequential(\n",
       "    (0): Conv1d(64, 64, kernel_size=(1,), stride=(1,))\n",
       "    (1): ReLU()\n",
       "    (2): BatchNorm1d(64, eps=1e-05, momentum=0.1, affine=True, track_running_stats=True)\n",
       "    (3): Conv1d(64, 128, kernel_size=(1,), stride=(1,))\n",
       "    (4): ReLU()\n",
       "    (5): BatchNorm1d(128, eps=1e-05, momentum=0.1, affine=True, track_running_stats=True)\n",
       "    (6): Conv1d(128, 1024, kernel_size=(1,), stride=(1,))\n",
       "    (7): ReLU()\n",
       "    (8): BatchNorm1d(1024, eps=1e-05, momentum=0.1, affine=True, track_running_stats=True)\n",
       "  )\n",
       "  (max_pool): MaxPool1d(kernel_size=1024, stride=1024, padding=0, dilation=1, ceil_mode=False)\n",
       "  (classification_head): Sequential(\n",
       "    (0): Linear(in_features=1024, out_features=512, bias=True)\n",
       "    (1): BatchNorm1d(512, eps=1e-05, momentum=0.1, affine=True, track_running_stats=True)\n",
       "    (2): ReLU()\n",
       "    (3): Linear(in_features=512, out_features=256, bias=True)\n",
       "    (4): BatchNorm1d(256, eps=1e-05, momentum=0.1, affine=True, track_running_stats=True)\n",
       "    (5): ReLU()\n",
       "    (6): Dropout(p=0.3, inplace=False)\n",
       "    (7): Linear(in_features=256, out_features=10, bias=True)\n",
       "  )\n",
       ")"
      ]
     },
     "execution_count": 85,
     "metadata": {},
     "output_type": "execute_result"
    }
   ],
   "source": [
    "pointnet = PointNet(num_points=num_points, num_classes=10)\n",
    "pointnet.to(device)\n",
    "\n",
    "# rotate object around z-axis\n",
    "# apply guassian noise to each point, mean 0 std deviation 0.002"
   ]
  },
  {
   "cell_type": "code",
   "execution_count": 61,
   "metadata": {},
   "outputs": [
    {
     "name": "stdout",
     "output_type": "stream",
     "text": [
      "torch.Size([10, 10])\n",
      "torch.Size([10, 64, 64])\n"
     ]
    }
   ],
   "source": [
    "pointnet.train()\n",
    "\n",
    "test_data = torch.rand(10, 3, num_points).to(device)\n",
    "A, output = pointnet(test_data)\n",
    "print(A.shape)\n",
    "print(output.shape)"
   ]
  },
  {
   "cell_type": "code",
   "execution_count": 86,
   "metadata": {},
   "outputs": [],
   "source": [
    "class PointNetClassificationLoss(nn.Module):\n",
    "    def __init__(self, reg_weight):\n",
    "        super(PointNetClassificationLoss, self).__init__()\n",
    "\n",
    "        self.reg_weight = reg_weight\n",
    "        self.cross_entropy = nn.CrossEntropyLoss()\n",
    "    \n",
    "    def forward(self, outputs, labels, A):\n",
    "        bs = A.shape[0]\n",
    "\n",
    "        loss = self.cross_entropy(outputs, labels)\n",
    "\n",
    "        I = torch.eye(64).repeat(bs, 1, 1).view(bs, 64, 64).to(device)\n",
    "\n",
    "        loss += self.reg_weight*torch.linalg.norm(I - torch.bmm(A, A.transpose(2, 1)))/bs\n",
    "\n",
    "        return loss"
   ]
  },
  {
   "cell_type": "code",
   "execution_count": 87,
   "metadata": {},
   "outputs": [],
   "source": [
    "learning_rate = 0.001\n",
    "num_epochs = 10\n",
    "momentum = 0.9\n",
    "reg_weight = 0.001\n",
    "weight_decay = 0.0\n",
    "\n",
    "criterion = PointNetClassificationLoss(reg_weight=reg_weight)\n",
    "optimizer = optim.AdamW(pointnet.parameters(), lr=learning_rate, weight_decay=weight_decay)"
   ]
  },
  {
   "cell_type": "code",
   "execution_count": 88,
   "metadata": {},
   "outputs": [
    {
     "name": "stdout",
     "output_type": "stream",
     "text": [
      "2025-03-04 01:00:31.283992   [Epoch   1]  Loss:     3.07  Accuracy:      11.01%\n",
      "2025-03-04 01:00:45.834007   [Epoch   2]  Loss:    2.585  Accuracy:      10.24%\n",
      "2025-03-04 01:01:00.031465   [Epoch   3]  Loss:    2.478  Accuracy:       10.9%\n",
      "2025-03-04 01:01:14.233417   [Epoch   4]  Loss:    2.455  Accuracy:      13.99%\n",
      "2025-03-04 01:01:28.139676   [Epoch   5]  Loss:     2.42  Accuracy:      11.23%\n",
      "2025-03-04 01:01:42.794101   [Epoch   6]  Loss:    2.392  Accuracy:      11.12%\n",
      "2025-03-04 01:01:57.300865   [Epoch   7]  Loss:    2.366  Accuracy:      13.88%\n",
      "2025-03-04 01:02:11.754239   [Epoch   8]  Loss:    2.372  Accuracy:      13.99%\n",
      "2025-03-04 01:02:25.672786   [Epoch   9]  Loss:    2.385  Accuracy:      12.22%\n",
      "2025-03-04 01:02:40.473759   [Epoch  10]  Loss:    2.394  Accuracy:      14.32%\n"
     ]
    }
   ],
   "source": [
    "for epoch in range(num_epochs):\n",
    "\n",
    "    accuracy = 0\n",
    "    loss_avg = 0\n",
    "    count = 0\n",
    "\n",
    "    pointnet.train()\n",
    "    for data in test_loader:\n",
    "\n",
    "        clouds = data.pos.view(data.batch[-1]+1, num_points, 3)\n",
    "        clouds = clouds.view(-1, clouds.shape[2], clouds.shape[1]).to(device)\n",
    "\n",
    "        labels = data.y.to(device)\n",
    "\n",
    "        optimizer.zero_grad()\n",
    "\n",
    "        outputs, A = pointnet(clouds)\n",
    "        loss = criterion(outputs, labels, A)\n",
    "        loss.backward()\n",
    "        optimizer.step()\n",
    "\n",
    "        loss_avg += loss.item()\n",
    "        count += 1\n",
    "    \n",
    "    loss_avg = loss_avg/count\n",
    "    \n",
    "    pointnet.eval()\n",
    "    with torch.no_grad():\n",
    "        correct = 0\n",
    "        total = 0\n",
    "        for data in test_loader:\n",
    "            \n",
    "            clouds = data.pos.view(data.batch[-1]+1, num_points, 3)\n",
    "            clouds = clouds.view(-1, clouds.shape[2], clouds.shape[1]).to(device)\n",
    "\n",
    "            labels = data.y.to(device)\n",
    "            \n",
    "            outputs, _ = pointnet(clouds)\n",
    "\n",
    "            _, predicted = torch.max(outputs.data, 1)\n",
    "            total += labels.size(0)\n",
    "            correct += (predicted == labels).sum().item()\n",
    "\n",
    "        accuracy = correct/total\n",
    "    \n",
    "    print(\"{}   [Epoch {:3}]  Loss: {:8.4}  Accuracy:   {:8.4}%\".format(datetime.datetime.now(), epoch+1, loss_avg, 100*accuracy))"
   ]
  },
  {
   "cell_type": "code",
   "execution_count": 19,
   "metadata": {},
   "outputs": [
    {
     "name": "stdout",
     "output_type": "stream",
     "text": [
      "Accuracy:    11.45374449339207%\n"
     ]
    }
   ],
   "source": [
    "pointnet.eval()\n",
    "\n",
    "with torch.no_grad():\n",
    "    correct = 0\n",
    "    total = 0\n",
    "    for data in test_loader:\n",
    "        \n",
    "        clouds = data.pos.resize(data.batch[-1]+1, num_points, 3)\n",
    "        clouds = clouds.view(-1, clouds.shape[2], clouds.shape[1]).to(device)\n",
    "\n",
    "        labels = data.y.to(device)\n",
    "        \n",
    "        logits = pointnet(clouds)\n",
    "\n",
    "        _, predicted = torch.max(logits.data, 1)\n",
    "        total += labels.size(0)\n",
    "        correct += (predicted == labels).sum().item()\n",
    "\n",
    "    print('Accuracy:    {}%'.format(100 * correct / total))"
   ]
  },
  {
   "cell_type": "code",
   "execution_count": null,
   "metadata": {},
   "outputs": [],
   "source": []
  }
 ],
 "metadata": {
  "kernelspec": {
   "display_name": ".venv",
   "language": "python",
   "name": "python3"
  },
  "language_info": {
   "codemirror_mode": {
    "name": "ipython",
    "version": 3
   },
   "file_extension": ".py",
   "mimetype": "text/x-python",
   "name": "python",
   "nbconvert_exporter": "python",
   "pygments_lexer": "ipython3",
   "version": "3.10.15"
  }
 },
 "nbformat": 4,
 "nbformat_minor": 2
}
