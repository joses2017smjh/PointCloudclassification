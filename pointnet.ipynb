{
 "cells": [
  {
   "cell_type": "code",
   "execution_count": 701,
   "metadata": {},
   "outputs": [],
   "source": [
    "import torch\n",
    "from torch_geometric.datasets import ModelNet\n",
    "from torch_geometric.transforms import SamplePoints, NormalizeScale\n",
    "from torch_geometric.loader import DataLoader\n",
    "\n",
    "import open3d as o3d\n",
    "import plotly.graph_objects as go\n",
    "\n",
    "import torch.nn as nn\n",
    "import torch.nn.functional as F\n",
    "import torch.optim as optim\n",
    "import datetime"
   ]
  },
  {
   "cell_type": "code",
   "execution_count": 710,
   "metadata": {},
   "outputs": [],
   "source": [
    "device = \"mps\""
   ]
  },
  {
   "cell_type": "code",
   "execution_count": 703,
   "metadata": {},
   "outputs": [
    {
     "name": "stdout",
     "output_type": "stream",
     "text": [
      "Number of training examples: 3991\n",
      "Number of test examples: 908\n",
      "Data(pos=[1024, 3], y=[1])\n",
      "Point cloud shape: torch.Size([1024, 3])\n",
      "Label: tensor([2])\n"
     ]
    }
   ],
   "source": [
    "num_points = 1024\n",
    "\n",
    "pre_transform = NormalizeScale()\n",
    "transform = SamplePoints(num_points)\n",
    "\n",
    "batch_size = 64\n",
    "\n",
    "root = 'data/ModelNet10'\n",
    "dataset_train = ModelNet(root=root, name='10', train=True, pre_transform=pre_transform, transform=transform)\n",
    "trainloader = DataLoader(dataset_train, batch_size=batch_size, shuffle=True)\n",
    "\n",
    "dataset_test = ModelNet(root=root, name='10', train=False, pre_transform=pre_transform, transform=transform)\n",
    "test_loader = DataLoader(dataset_test, batch_size=batch_size)\n",
    "\n",
    "print(f'Number of training examples: {len(dataset_train)}')\n",
    "print(f'Number of test examples: {len(dataset_test)}')\n",
    "\n",
    "data = dataset_train[1001]\n",
    "print(data)\n",
    "print(f'Point cloud shape: {data.pos.shape}')\n",
    "print(f'Label: {data.y}')"
   ]
  },
  {
   "cell_type": "code",
   "execution_count": 664,
   "metadata": {},
   "outputs": [
    {
     "data": {
      "application/vnd.plotly.v1+json": {
       "config": {
        "plotlyServerURL": "https://plot.ly"
       },
       "data": [
        {
         "marker": {
          "color": "white",
          "size": 1
         },
         "mode": "markers",
         "type": "scatter3d",
         "x": {
          "bdata": "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",
          "dtype": "f4"
         },
         "y": {
          "bdata": "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",
          "dtype": "f4"
         },
         "z": {
          "bdata": "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",
          "dtype": "f4"
         }
        }
       ],
       "layout": {
        "scene": {
         "xaxis": {
          "visible": false
         },
         "yaxis": {
          "visible": false
         },
         "zaxis": {
          "visible": false
         }
        },
        "template": {
         "data": {
          "bar": [
           {
            "error_x": {
             "color": "#f2f5fa"
            },
            "error_y": {
             "color": "#f2f5fa"
            },
            "marker": {
             "line": {
              "color": "rgb(17,17,17)",
              "width": 0.5
             },
             "pattern": {
              "fillmode": "overlay",
              "size": 10,
              "solidity": 0.2
             }
            },
            "type": "bar"
           }
          ],
          "barpolar": [
           {
            "marker": {
             "line": {
              "color": "rgb(17,17,17)",
              "width": 0.5
             },
             "pattern": {
              "fillmode": "overlay",
              "size": 10,
              "solidity": 0.2
             }
            },
            "type": "barpolar"
           }
          ],
          "carpet": [
           {
            "aaxis": {
             "endlinecolor": "#A2B1C6",
             "gridcolor": "#506784",
             "linecolor": "#506784",
             "minorgridcolor": "#506784",
             "startlinecolor": "#A2B1C6"
            },
            "baxis": {
             "endlinecolor": "#A2B1C6",
             "gridcolor": "#506784",
             "linecolor": "#506784",
             "minorgridcolor": "#506784",
             "startlinecolor": "#A2B1C6"
            },
            "type": "carpet"
           }
          ],
          "choropleth": [
           {
            "colorbar": {
             "outlinewidth": 0,
             "ticks": ""
            },
            "type": "choropleth"
           }
          ],
          "contour": [
           {
            "colorbar": {
             "outlinewidth": 0,
             "ticks": ""
            },
            "colorscale": [
             [
              0,
              "#0d0887"
             ],
             [
              0.1111111111111111,
              "#46039f"
             ],
             [
              0.2222222222222222,
              "#7201a8"
             ],
             [
              0.3333333333333333,
              "#9c179e"
             ],
             [
              0.4444444444444444,
              "#bd3786"
             ],
             [
              0.5555555555555556,
              "#d8576b"
             ],
             [
              0.6666666666666666,
              "#ed7953"
             ],
             [
              0.7777777777777778,
              "#fb9f3a"
             ],
             [
              0.8888888888888888,
              "#fdca26"
             ],
             [
              1,
              "#f0f921"
             ]
            ],
            "type": "contour"
           }
          ],
          "contourcarpet": [
           {
            "colorbar": {
             "outlinewidth": 0,
             "ticks": ""
            },
            "type": "contourcarpet"
           }
          ],
          "heatmap": [
           {
            "colorbar": {
             "outlinewidth": 0,
             "ticks": ""
            },
            "colorscale": [
             [
              0,
              "#0d0887"
             ],
             [
              0.1111111111111111,
              "#46039f"
             ],
             [
              0.2222222222222222,
              "#7201a8"
             ],
             [
              0.3333333333333333,
              "#9c179e"
             ],
             [
              0.4444444444444444,
              "#bd3786"
             ],
             [
              0.5555555555555556,
              "#d8576b"
             ],
             [
              0.6666666666666666,
              "#ed7953"
             ],
             [
              0.7777777777777778,
              "#fb9f3a"
             ],
             [
              0.8888888888888888,
              "#fdca26"
             ],
             [
              1,
              "#f0f921"
             ]
            ],
            "type": "heatmap"
           }
          ],
          "histogram": [
           {
            "marker": {
             "pattern": {
              "fillmode": "overlay",
              "size": 10,
              "solidity": 0.2
             }
            },
            "type": "histogram"
           }
          ],
          "histogram2d": [
           {
            "colorbar": {
             "outlinewidth": 0,
             "ticks": ""
            },
            "colorscale": [
             [
              0,
              "#0d0887"
             ],
             [
              0.1111111111111111,
              "#46039f"
             ],
             [
              0.2222222222222222,
              "#7201a8"
             ],
             [
              0.3333333333333333,
              "#9c179e"
             ],
             [
              0.4444444444444444,
              "#bd3786"
             ],
             [
              0.5555555555555556,
              "#d8576b"
             ],
             [
              0.6666666666666666,
              "#ed7953"
             ],
             [
              0.7777777777777778,
              "#fb9f3a"
             ],
             [
              0.8888888888888888,
              "#fdca26"
             ],
             [
              1,
              "#f0f921"
             ]
            ],
            "type": "histogram2d"
           }
          ],
          "histogram2dcontour": [
           {
            "colorbar": {
             "outlinewidth": 0,
             "ticks": ""
            },
            "colorscale": [
             [
              0,
              "#0d0887"
             ],
             [
              0.1111111111111111,
              "#46039f"
             ],
             [
              0.2222222222222222,
              "#7201a8"
             ],
             [
              0.3333333333333333,
              "#9c179e"
             ],
             [
              0.4444444444444444,
              "#bd3786"
             ],
             [
              0.5555555555555556,
              "#d8576b"
             ],
             [
              0.6666666666666666,
              "#ed7953"
             ],
             [
              0.7777777777777778,
              "#fb9f3a"
             ],
             [
              0.8888888888888888,
              "#fdca26"
             ],
             [
              1,
              "#f0f921"
             ]
            ],
            "type": "histogram2dcontour"
           }
          ],
          "mesh3d": [
           {
            "colorbar": {
             "outlinewidth": 0,
             "ticks": ""
            },
            "type": "mesh3d"
           }
          ],
          "parcoords": [
           {
            "line": {
             "colorbar": {
              "outlinewidth": 0,
              "ticks": ""
             }
            },
            "type": "parcoords"
           }
          ],
          "pie": [
           {
            "automargin": true,
            "type": "pie"
           }
          ],
          "scatter": [
           {
            "marker": {
             "line": {
              "color": "#283442"
             }
            },
            "type": "scatter"
           }
          ],
          "scatter3d": [
           {
            "line": {
             "colorbar": {
              "outlinewidth": 0,
              "ticks": ""
             }
            },
            "marker": {
             "colorbar": {
              "outlinewidth": 0,
              "ticks": ""
             }
            },
            "type": "scatter3d"
           }
          ],
          "scattercarpet": [
           {
            "marker": {
             "colorbar": {
              "outlinewidth": 0,
              "ticks": ""
             }
            },
            "type": "scattercarpet"
           }
          ],
          "scattergeo": [
           {
            "marker": {
             "colorbar": {
              "outlinewidth": 0,
              "ticks": ""
             }
            },
            "type": "scattergeo"
           }
          ],
          "scattergl": [
           {
            "marker": {
             "line": {
              "color": "#283442"
             }
            },
            "type": "scattergl"
           }
          ],
          "scattermap": [
           {
            "marker": {
             "colorbar": {
              "outlinewidth": 0,
              "ticks": ""
             }
            },
            "type": "scattermap"
           }
          ],
          "scattermapbox": [
           {
            "marker": {
             "colorbar": {
              "outlinewidth": 0,
              "ticks": ""
             }
            },
            "type": "scattermapbox"
           }
          ],
          "scatterpolar": [
           {
            "marker": {
             "colorbar": {
              "outlinewidth": 0,
              "ticks": ""
             }
            },
            "type": "scatterpolar"
           }
          ],
          "scatterpolargl": [
           {
            "marker": {
             "colorbar": {
              "outlinewidth": 0,
              "ticks": ""
             }
            },
            "type": "scatterpolargl"
           }
          ],
          "scatterternary": [
           {
            "marker": {
             "colorbar": {
              "outlinewidth": 0,
              "ticks": ""
             }
            },
            "type": "scatterternary"
           }
          ],
          "surface": [
           {
            "colorbar": {
             "outlinewidth": 0,
             "ticks": ""
            },
            "colorscale": [
             [
              0,
              "#0d0887"
             ],
             [
              0.1111111111111111,
              "#46039f"
             ],
             [
              0.2222222222222222,
              "#7201a8"
             ],
             [
              0.3333333333333333,
              "#9c179e"
             ],
             [
              0.4444444444444444,
              "#bd3786"
             ],
             [
              0.5555555555555556,
              "#d8576b"
             ],
             [
              0.6666666666666666,
              "#ed7953"
             ],
             [
              0.7777777777777778,
              "#fb9f3a"
             ],
             [
              0.8888888888888888,
              "#fdca26"
             ],
             [
              1,
              "#f0f921"
             ]
            ],
            "type": "surface"
           }
          ],
          "table": [
           {
            "cells": {
             "fill": {
              "color": "#506784"
             },
             "line": {
              "color": "rgb(17,17,17)"
             }
            },
            "header": {
             "fill": {
              "color": "#2a3f5f"
             },
             "line": {
              "color": "rgb(17,17,17)"
             }
            },
            "type": "table"
           }
          ]
         },
         "layout": {
          "annotationdefaults": {
           "arrowcolor": "#f2f5fa",
           "arrowhead": 0,
           "arrowwidth": 1
          },
          "autotypenumbers": "strict",
          "coloraxis": {
           "colorbar": {
            "outlinewidth": 0,
            "ticks": ""
           }
          },
          "colorscale": {
           "diverging": [
            [
             0,
             "#8e0152"
            ],
            [
             0.1,
             "#c51b7d"
            ],
            [
             0.2,
             "#de77ae"
            ],
            [
             0.3,
             "#f1b6da"
            ],
            [
             0.4,
             "#fde0ef"
            ],
            [
             0.5,
             "#f7f7f7"
            ],
            [
             0.6,
             "#e6f5d0"
            ],
            [
             0.7,
             "#b8e186"
            ],
            [
             0.8,
             "#7fbc41"
            ],
            [
             0.9,
             "#4d9221"
            ],
            [
             1,
             "#276419"
            ]
           ],
           "sequential": [
            [
             0,
             "#0d0887"
            ],
            [
             0.1111111111111111,
             "#46039f"
            ],
            [
             0.2222222222222222,
             "#7201a8"
            ],
            [
             0.3333333333333333,
             "#9c179e"
            ],
            [
             0.4444444444444444,
             "#bd3786"
            ],
            [
             0.5555555555555556,
             "#d8576b"
            ],
            [
             0.6666666666666666,
             "#ed7953"
            ],
            [
             0.7777777777777778,
             "#fb9f3a"
            ],
            [
             0.8888888888888888,
             "#fdca26"
            ],
            [
             1,
             "#f0f921"
            ]
           ],
           "sequentialminus": [
            [
             0,
             "#0d0887"
            ],
            [
             0.1111111111111111,
             "#46039f"
            ],
            [
             0.2222222222222222,
             "#7201a8"
            ],
            [
             0.3333333333333333,
             "#9c179e"
            ],
            [
             0.4444444444444444,
             "#bd3786"
            ],
            [
             0.5555555555555556,
             "#d8576b"
            ],
            [
             0.6666666666666666,
             "#ed7953"
            ],
            [
             0.7777777777777778,
             "#fb9f3a"
            ],
            [
             0.8888888888888888,
             "#fdca26"
            ],
            [
             1,
             "#f0f921"
            ]
           ]
          },
          "colorway": [
           "#636efa",
           "#EF553B",
           "#00cc96",
           "#ab63fa",
           "#FFA15A",
           "#19d3f3",
           "#FF6692",
           "#B6E880",
           "#FF97FF",
           "#FECB52"
          ],
          "font": {
           "color": "#f2f5fa"
          },
          "geo": {
           "bgcolor": "rgb(17,17,17)",
           "lakecolor": "rgb(17,17,17)",
           "landcolor": "rgb(17,17,17)",
           "showlakes": true,
           "showland": true,
           "subunitcolor": "#506784"
          },
          "hoverlabel": {
           "align": "left"
          },
          "hovermode": "closest",
          "mapbox": {
           "style": "dark"
          },
          "paper_bgcolor": "rgb(17,17,17)",
          "plot_bgcolor": "rgb(17,17,17)",
          "polar": {
           "angularaxis": {
            "gridcolor": "#506784",
            "linecolor": "#506784",
            "ticks": ""
           },
           "bgcolor": "rgb(17,17,17)",
           "radialaxis": {
            "gridcolor": "#506784",
            "linecolor": "#506784",
            "ticks": ""
           }
          },
          "scene": {
           "xaxis": {
            "backgroundcolor": "rgb(17,17,17)",
            "gridcolor": "#506784",
            "gridwidth": 2,
            "linecolor": "#506784",
            "showbackground": true,
            "ticks": "",
            "zerolinecolor": "#C8D4E3"
           },
           "yaxis": {
            "backgroundcolor": "rgb(17,17,17)",
            "gridcolor": "#506784",
            "gridwidth": 2,
            "linecolor": "#506784",
            "showbackground": true,
            "ticks": "",
            "zerolinecolor": "#C8D4E3"
           },
           "zaxis": {
            "backgroundcolor": "rgb(17,17,17)",
            "gridcolor": "#506784",
            "gridwidth": 2,
            "linecolor": "#506784",
            "showbackground": true,
            "ticks": "",
            "zerolinecolor": "#C8D4E3"
           }
          },
          "shapedefaults": {
           "line": {
            "color": "#f2f5fa"
           }
          },
          "sliderdefaults": {
           "bgcolor": "#C8D4E3",
           "bordercolor": "rgb(17,17,17)",
           "borderwidth": 1,
           "tickwidth": 0
          },
          "ternary": {
           "aaxis": {
            "gridcolor": "#506784",
            "linecolor": "#506784",
            "ticks": ""
           },
           "baxis": {
            "gridcolor": "#506784",
            "linecolor": "#506784",
            "ticks": ""
           },
           "bgcolor": "rgb(17,17,17)",
           "caxis": {
            "gridcolor": "#506784",
            "linecolor": "#506784",
            "ticks": ""
           }
          },
          "title": {
           "x": 0.05
          },
          "updatemenudefaults": {
           "bgcolor": "#506784",
           "borderwidth": 0
          },
          "xaxis": {
           "automargin": true,
           "gridcolor": "#283442",
           "linecolor": "#506784",
           "ticks": "",
           "title": {
            "standoff": 15
           },
           "zerolinecolor": "#283442",
           "zerolinewidth": 2
          },
          "yaxis": {
           "automargin": true,
           "gridcolor": "#283442",
           "linecolor": "#506784",
           "ticks": "",
           "title": {
            "standoff": 15
           },
           "zerolinecolor": "#283442",
           "zerolinewidth": 2
          }
         }
        }
       }
      }
     },
     "metadata": {},
     "output_type": "display_data"
    }
   ],
   "source": [
    "fig = go.Figure(\n",
    "  data=[\n",
    "    go.Scatter3d(\n",
    "      x=data.pos[:,0], y=data.pos[:,1], z=data.pos[:,2],\n",
    "      mode='markers',\n",
    "      marker=dict(size=1, color=\"white\"))],\n",
    "  layout=dict(\n",
    "    scene=dict(\n",
    "      xaxis=dict(visible=False),\n",
    "      yaxis=dict(visible=False),\n",
    "      zaxis=dict(visible=False))))\n",
    "\n",
    "fig.update_layout(template='plotly_dark')\n",
    "\n",
    "fig.show()"
   ]
  },
  {
   "cell_type": "code",
   "execution_count": 791,
   "metadata": {},
   "outputs": [],
   "source": [
    "class Transformer(nn.Module):\n",
    "    def __init__(self, num_points, features):\n",
    "        super(Transformer, self).__init__()\n",
    "\n",
    "        self.features = features\n",
    "\n",
    "        self.mlp1 = nn.Sequential(\n",
    "            nn.Conv1d(in_channels=features, out_channels=64, kernel_size=1),\n",
    "            nn.ReLU(),\n",
    "            nn.BatchNorm1d(64))\n",
    "\n",
    "        self.mlp2 = nn.Sequential(\n",
    "            nn.Conv1d(in_channels=64, out_channels=128, kernel_size=1),\n",
    "            nn.ReLU(),\n",
    "            nn.BatchNorm1d(128))\n",
    "\n",
    "        self.mlp3 = nn.Sequential(\n",
    "            nn.Conv1d(in_channels=128, out_channels=1024, kernel_size=1),\n",
    "            nn.ReLU(),\n",
    "            nn.BatchNorm1d(1024))\n",
    "\n",
    "        self.max_pool = nn.MaxPool1d(kernel_size=num_points)\n",
    "\n",
    "        self.ll1 = nn.Sequential(\n",
    "            nn.Linear(1024, 512),\n",
    "            nn.ReLU(),\n",
    "            nn.BatchNorm1d(512))\n",
    "\n",
    "        self.ll2 = nn.Sequential(\n",
    "            nn.Linear(512, 256),\n",
    "            nn.ReLU(),\n",
    "            nn.BatchNorm1d(256))\n",
    "        \n",
    "        self.ll3 = nn.Linear(256, features*features)\n",
    "    \n",
    "    def forward(self, x):\n",
    "\n",
    "        bs = x.shape[0]\n",
    "\n",
    "        x = self.mlp1(x)\n",
    "        x = self.mlp2(x)\n",
    "        x = self.mlp3(x)\n",
    "\n",
    "        x = self.max_pool(x).view(bs, -1)\n",
    "\n",
    "        x = self.ll1(x)\n",
    "        x = self.ll2(x)\n",
    "\n",
    "        x = self.ll3(x)\n",
    "\n",
    "        eye = torch.eye(self.features, requires_grad=True).repeat(bs, 1, 1).to(device)\n",
    "\n",
    "        x = x.view(-1, self.features, self.features) + eye\n",
    "\n",
    "        return x\n",
    "\n",
    "class PointNet(nn.Module):\n",
    "    def __init__(self, num_points, num_classes):\n",
    "        super(PointNet, self).__init__()\n",
    "\n",
    "        self.tnet1 = Transformer(num_points=num_points, features=3).to(device)\n",
    "\n",
    "        self.mlp1 = nn.Sequential(\n",
    "            nn.Conv1d(in_channels=3, out_channels=64, kernel_size=1),\n",
    "            nn.ReLU(),\n",
    "            nn.BatchNorm1d(64),\n",
    "            nn.Conv1d(in_channels=64, out_channels=64, kernel_size=1),\n",
    "            nn.ReLU(),\n",
    "            nn.BatchNorm1d(64))\n",
    "    \n",
    "        self.tnet2 = Transformer(num_points=num_points, features=64).to(device)\n",
    "\n",
    "        self.mlp2 = nn.Sequential(\n",
    "            nn.Conv1d(in_channels=64, out_channels=64, kernel_size=1),\n",
    "            nn.ReLU(),\n",
    "            nn.BatchNorm1d(64),\n",
    "            nn.Conv1d(in_channels=64, out_channels=128, kernel_size=1),\n",
    "            nn.ReLU(),\n",
    "            nn.BatchNorm1d(128),\n",
    "            nn.Conv1d(in_channels=128, out_channels=1024, kernel_size=1),\n",
    "            nn.ReLU(),\n",
    "            nn.BatchNorm1d(1024))\n",
    "\n",
    "        self.max_pool = nn.MaxPool1d(kernel_size=num_points)\n",
    "\n",
    "        self.classification = nn.Sequential(\n",
    "            nn.Linear(in_features=1024, out_features=512),\n",
    "            nn.ReLU(),\n",
    "            nn.BatchNorm1d(512),\n",
    "            nn.Linear(in_features=512, out_features=256),\n",
    "            nn.ReLU(),\n",
    "            nn.BatchNorm1d(256),\n",
    "            nn.Dropout(p=0.3),\n",
    "            nn.Linear(in_features=256, out_features=num_classes)\n",
    "        )\n",
    "    \n",
    "    def forward(self, x):\n",
    "\n",
    "        bs = x.shape[0]\n",
    "\n",
    "        input_transform = self.tnet1(x)\n",
    "        \n",
    "        x = torch.bmm(x.transpose(2, 1), input_transform).transpose(2, 1)\n",
    "        x = self.mlp1(x)\n",
    "\n",
    "        feature_transform = self.tnet2(x)\n",
    "        x = torch.bmm(x.transpose(2, 1), feature_transform).transpose(2, 1)\n",
    "        x = self.mlp2(x)\n",
    "\n",
    "        x = self.max_pool(x).view(bs, -1)\n",
    "\n",
    "        x = self.classification(x)\n",
    "\n",
    "        return x\n"
   ]
  },
  {
   "cell_type": "code",
   "execution_count": 792,
   "metadata": {},
   "outputs": [
    {
     "data": {
      "text/plain": [
       "PointNet(\n",
       "  (tnet1): Transformer(\n",
       "    (mlp1): Sequential(\n",
       "      (0): Conv1d(3, 64, kernel_size=(1,), stride=(1,))\n",
       "      (1): ReLU()\n",
       "      (2): BatchNorm1d(64, eps=1e-05, momentum=0.1, affine=True, track_running_stats=True)\n",
       "    )\n",
       "    (mlp2): Sequential(\n",
       "      (0): Conv1d(64, 128, kernel_size=(1,), stride=(1,))\n",
       "      (1): ReLU()\n",
       "      (2): BatchNorm1d(128, eps=1e-05, momentum=0.1, affine=True, track_running_stats=True)\n",
       "    )\n",
       "    (mlp3): Sequential(\n",
       "      (0): Conv1d(128, 1024, kernel_size=(1,), stride=(1,))\n",
       "      (1): ReLU()\n",
       "      (2): BatchNorm1d(1024, eps=1e-05, momentum=0.1, affine=True, track_running_stats=True)\n",
       "    )\n",
       "    (max_pool): MaxPool1d(kernel_size=1024, stride=1024, padding=0, dilation=1, ceil_mode=False)\n",
       "    (ll1): Sequential(\n",
       "      (0): Linear(in_features=1024, out_features=512, bias=True)\n",
       "      (1): ReLU()\n",
       "      (2): BatchNorm1d(512, eps=1e-05, momentum=0.1, affine=True, track_running_stats=True)\n",
       "    )\n",
       "    (ll2): Sequential(\n",
       "      (0): Linear(in_features=512, out_features=256, bias=True)\n",
       "      (1): ReLU()\n",
       "      (2): BatchNorm1d(256, eps=1e-05, momentum=0.1, affine=True, track_running_stats=True)\n",
       "    )\n",
       "    (ll3): Linear(in_features=256, out_features=9, bias=True)\n",
       "  )\n",
       "  (mlp1): Sequential(\n",
       "    (0): Conv1d(3, 64, kernel_size=(1,), stride=(1,))\n",
       "    (1): ReLU()\n",
       "    (2): BatchNorm1d(64, eps=1e-05, momentum=0.1, affine=True, track_running_stats=True)\n",
       "    (3): Conv1d(64, 64, kernel_size=(1,), stride=(1,))\n",
       "    (4): ReLU()\n",
       "    (5): BatchNorm1d(64, eps=1e-05, momentum=0.1, affine=True, track_running_stats=True)\n",
       "  )\n",
       "  (tnet2): Transformer(\n",
       "    (mlp1): Sequential(\n",
       "      (0): Conv1d(64, 64, kernel_size=(1,), stride=(1,))\n",
       "      (1): ReLU()\n",
       "      (2): BatchNorm1d(64, eps=1e-05, momentum=0.1, affine=True, track_running_stats=True)\n",
       "    )\n",
       "    (mlp2): Sequential(\n",
       "      (0): Conv1d(64, 128, kernel_size=(1,), stride=(1,))\n",
       "      (1): ReLU()\n",
       "      (2): BatchNorm1d(128, eps=1e-05, momentum=0.1, affine=True, track_running_stats=True)\n",
       "    )\n",
       "    (mlp3): Sequential(\n",
       "      (0): Conv1d(128, 1024, kernel_size=(1,), stride=(1,))\n",
       "      (1): ReLU()\n",
       "      (2): BatchNorm1d(1024, eps=1e-05, momentum=0.1, affine=True, track_running_stats=True)\n",
       "    )\n",
       "    (max_pool): MaxPool1d(kernel_size=1024, stride=1024, padding=0, dilation=1, ceil_mode=False)\n",
       "    (ll1): Sequential(\n",
       "      (0): Linear(in_features=1024, out_features=512, bias=True)\n",
       "      (1): ReLU()\n",
       "      (2): BatchNorm1d(512, eps=1e-05, momentum=0.1, affine=True, track_running_stats=True)\n",
       "    )\n",
       "    (ll2): Sequential(\n",
       "      (0): Linear(in_features=512, out_features=256, bias=True)\n",
       "      (1): ReLU()\n",
       "      (2): BatchNorm1d(256, eps=1e-05, momentum=0.1, affine=True, track_running_stats=True)\n",
       "    )\n",
       "    (ll3): Linear(in_features=256, out_features=4096, bias=True)\n",
       "  )\n",
       "  (mlp2): Sequential(\n",
       "    (0): Conv1d(64, 64, kernel_size=(1,), stride=(1,))\n",
       "    (1): ReLU()\n",
       "    (2): BatchNorm1d(64, eps=1e-05, momentum=0.1, affine=True, track_running_stats=True)\n",
       "    (3): Conv1d(64, 128, kernel_size=(1,), stride=(1,))\n",
       "    (4): ReLU()\n",
       "    (5): BatchNorm1d(128, eps=1e-05, momentum=0.1, affine=True, track_running_stats=True)\n",
       "    (6): Conv1d(128, 1024, kernel_size=(1,), stride=(1,))\n",
       "    (7): ReLU()\n",
       "    (8): BatchNorm1d(1024, eps=1e-05, momentum=0.1, affine=True, track_running_stats=True)\n",
       "  )\n",
       "  (max_pool): MaxPool1d(kernel_size=1024, stride=1024, padding=0, dilation=1, ceil_mode=False)\n",
       "  (classification): Sequential(\n",
       "    (0): Linear(in_features=1024, out_features=512, bias=True)\n",
       "    (1): ReLU()\n",
       "    (2): BatchNorm1d(512, eps=1e-05, momentum=0.1, affine=True, track_running_stats=True)\n",
       "    (3): Linear(in_features=512, out_features=256, bias=True)\n",
       "    (4): ReLU()\n",
       "    (5): BatchNorm1d(256, eps=1e-05, momentum=0.1, affine=True, track_running_stats=True)\n",
       "    (6): Dropout(p=0.3, inplace=False)\n",
       "    (7): Linear(in_features=256, out_features=10, bias=True)\n",
       "  )\n",
       ")"
      ]
     },
     "execution_count": 792,
     "metadata": {},
     "output_type": "execute_result"
    }
   ],
   "source": [
    "pointnet = PointNet(num_points=num_points, num_classes=10)\n",
    "pointnet.to(device)"
   ]
  },
  {
   "cell_type": "code",
   "execution_count": 793,
   "metadata": {},
   "outputs": [],
   "source": [
    "learning_rate = 0.001\n",
    "weight_decay = 0.001\n",
    "num_epochs = 10\n",
    "\n",
    "criterion = nn.CrossEntropyLoss()\n",
    "optimizer = optim.AdamW(pointnet.parameters(), lr=learning_rate, weight_decay=weight_decay)"
   ]
  },
  {
   "cell_type": "code",
   "execution_count": 751,
   "metadata": {},
   "outputs": [
    {
     "name": "stdout",
     "output_type": "stream",
     "text": [
      "torch.Size([32, 10])\n"
     ]
    }
   ],
   "source": [
    "pointnet.train()\n",
    "\n",
    "test_data = torch.rand(32, 3, num_points).to(device)\n",
    "output = pointnet(test_data)\n",
    "print(output.shape)"
   ]
  },
  {
   "cell_type": "code",
   "execution_count": 796,
   "metadata": {},
   "outputs": [
    {
     "name": "stdout",
     "output_type": "stream",
     "text": [
      "2025-03-03 17:24:56.265981   [Epoch   1]  Loss:    2.598\n",
      "2025-03-03 17:25:23.284272   [Epoch   2]  Loss:    2.591\n",
      "2025-03-03 17:25:39.982744   [Epoch   3]  Loss:    2.477\n",
      "2025-03-03 17:25:53.081311   [Epoch   4]  Loss:    2.578\n",
      "2025-03-03 17:26:07.392929   [Epoch   5]  Loss:    2.529\n",
      "2025-03-03 17:26:37.725503   [Epoch   6]  Loss:    2.606\n",
      "2025-03-03 17:28:46.702383   [Epoch   7]  Loss:    2.743\n",
      "2025-03-03 17:29:13.808445   [Epoch   8]  Loss:    2.828\n",
      "2025-03-03 17:30:08.473483   [Epoch   9]  Loss:    2.547\n",
      "2025-03-03 17:30:32.106480   [Epoch  10]  Loss:    2.592\n"
     ]
    }
   ],
   "source": [
    "pointnet.train()\n",
    "\n",
    "for epoch in range(num_epochs):\n",
    "    for data in test_loader:\n",
    "\n",
    "        clouds = data.pos.resize(data.batch[-1]+1, num_points, 3)\n",
    "        clouds = clouds.view(-1, clouds.shape[2], clouds.shape[1]).to(device)\n",
    "\n",
    "        labels = data.y.to(device)\n",
    "\n",
    "        optimizer.zero_grad()\n",
    "\n",
    "        logits = pointnet(clouds)\n",
    "        loss = criterion(logits, labels)\n",
    "        optimizer.step()\n",
    "    \n",
    "    print(\"{}   [Epoch {:3}]  Loss: {:8.4}\".format(datetime.datetime.now(), epoch+1, loss.item()))"
   ]
  },
  {
   "cell_type": "code",
   "execution_count": 797,
   "metadata": {},
   "outputs": [
    {
     "name": "stdout",
     "output_type": "stream",
     "text": [
      "Accuracy:    8.039647577092511%\n"
     ]
    }
   ],
   "source": [
    "pointnet.eval()\n",
    "\n",
    "with torch.no_grad():\n",
    "    correct = 0\n",
    "    total = 0\n",
    "    for data in test_loader:\n",
    "        \n",
    "        clouds = data.pos.resize(data.batch[-1]+1, num_points, 3)\n",
    "        clouds = clouds.view(-1, clouds.shape[2], clouds.shape[1]).to(device)\n",
    "\n",
    "        labels = data.y.to(device)\n",
    "        \n",
    "        logits = pointnet(clouds)\n",
    "\n",
    "        _, predicted = torch.max(logits.data, 1)\n",
    "        total += labels.size(0)\n",
    "        correct += (predicted == labels).sum().item()\n",
    "\n",
    "    print('Accuracy:    {}%'.format(100 * correct / total))"
   ]
  },
  {
   "cell_type": "code",
   "execution_count": null,
   "metadata": {},
   "outputs": [],
   "source": []
  }
 ],
 "metadata": {
  "kernelspec": {
   "display_name": ".venv",
   "language": "python",
   "name": "python3"
  },
  "language_info": {
   "codemirror_mode": {
    "name": "ipython",
    "version": 3
   },
   "file_extension": ".py",
   "mimetype": "text/x-python",
   "name": "python",
   "nbconvert_exporter": "python",
   "pygments_lexer": "ipython3",
   "version": "3.10.15"
  }
 },
 "nbformat": 4,
 "nbformat_minor": 2
}
