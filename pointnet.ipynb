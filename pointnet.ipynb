{
 "cells": [
  {
   "cell_type": "code",
   "execution_count": 1,
   "metadata": {},
   "outputs": [
    {
     "name": "stdout",
     "output_type": "stream",
     "text": [
      "Jupyter environment detected. Enabling Open3D WebVisualizer.\n",
      "[Open3D INFO] WebRTC GUI backend enabled.\n",
      "[Open3D INFO] WebRTCWindowSystem: HTTP handshake server disabled.\n"
     ]
    }
   ],
   "source": [
    "import torch\n",
    "from torch_geometric.datasets import ModelNet\n",
    "from torch_geometric.transforms import SamplePoints, NormalizeScale\n",
    "from torch_geometric.loader import DataLoader\n",
    "\n",
    "import open3d as o3d\n",
    "import plotly.graph_objects as go\n",
    "\n",
    "import torch.nn as nn\n",
    "import torch.nn.functional as F\n",
    "import torch.optim as optim\n",
    "import datetime\n",
    "import os\n",
    "import random"
   ]
  },
  {
   "cell_type": "code",
   "execution_count": 2,
   "metadata": {},
   "outputs": [],
   "source": [
    "device = \"cuda\""
   ]
  },
  {
   "cell_type": "code",
   "execution_count": 13,
   "metadata": {},
   "outputs": [
    {
     "name": "stdout",
     "output_type": "stream",
     "text": [
      "Number of training examples: 3991\n",
      "Number of test examples: 908\n",
      "Data(pos=[1024, 3], y=[1])\n",
      "Point cloud shape: torch.Size([1024, 3])\n",
      "Label: tensor([2])\n"
     ]
    }
   ],
   "source": [
    "num_points = 1024\n",
    "\n",
    "pre_transform = NormalizeScale()\n",
    "transform = SamplePoints(num_points)\n",
    "\n",
    "batch_size = 64\n",
    "\n",
    "root = 'data/ModelNet10'\n",
    "dataset_train = ModelNet(root=root, name='10', train=True, pre_transform=pre_transform, transform=transform)\n",
    "trainloader = DataLoader(dataset_train, batch_size=batch_size, shuffle=True)\n",
    "\n",
    "dataset_test = ModelNet(root=root, name='10', train=False, pre_transform=pre_transform, transform=transform)\n",
    "testloader = DataLoader(dataset_test, batch_size=batch_size)\n",
    "\n",
    "print(f'Number of training examples: {len(dataset_train)}')\n",
    "print(f'Number of test examples: {len(dataset_test)}')\n",
    "\n",
    "classes = {0: \"bathtub\", 1: \"bed\", 2: \"chair\", 3: \"desk\", 4: \"dresser\", 5: \"monitor\", 6: \"night_stand\", 7: \"sofa\", 8: \"table\", 9: \"toilet\"}\n",
    "\n",
    "data = dataset_train[1001]\n",
    "print(data)\n",
    "print(f'Point cloud shape: {data.pos.shape}')\n",
    "print(f'Label: {data.y}')"
   ]
  },
  {
   "cell_type": "code",
   "execution_count": 4,
   "metadata": {},
   "outputs": [
    {
     "name": "stderr",
     "output_type": "stream",
     "text": [
      "Using existing file ModelNet40.zip\n",
      "Extracting data\\ModelNet40\\ModelNet40.zip\n"
     ]
    },
    {
     "ename": "OSError",
     "evalue": "[Errno 28] No space left on device",
     "output_type": "error",
     "traceback": [
      "\u001b[1;31m---------------------------------------------------------------------------\u001b[0m",
      "\u001b[1;31mOSError\u001b[0m                                   Traceback (most recent call last)",
      "Cell \u001b[1;32mIn[4], line 9\u001b[0m\n\u001b[0;32m      6\u001b[0m batch_size \u001b[38;5;241m=\u001b[39m \u001b[38;5;241m64\u001b[39m\n\u001b[0;32m      8\u001b[0m root \u001b[38;5;241m=\u001b[39m \u001b[38;5;124m'\u001b[39m\u001b[38;5;124mdata/ModelNet40\u001b[39m\u001b[38;5;124m'\u001b[39m\n\u001b[1;32m----> 9\u001b[0m dataset_train \u001b[38;5;241m=\u001b[39m \u001b[43mModelNet\u001b[49m\u001b[43m(\u001b[49m\u001b[43mroot\u001b[49m\u001b[38;5;241;43m=\u001b[39;49m\u001b[43mroot\u001b[49m\u001b[43m,\u001b[49m\u001b[43m \u001b[49m\u001b[43mname\u001b[49m\u001b[38;5;241;43m=\u001b[39;49m\u001b[38;5;124;43m'\u001b[39;49m\u001b[38;5;124;43m40\u001b[39;49m\u001b[38;5;124;43m'\u001b[39;49m\u001b[43m,\u001b[49m\u001b[43m \u001b[49m\u001b[43mtrain\u001b[49m\u001b[38;5;241;43m=\u001b[39;49m\u001b[38;5;28;43;01mTrue\u001b[39;49;00m\u001b[43m,\u001b[49m\u001b[43m \u001b[49m\u001b[43mpre_transform\u001b[49m\u001b[38;5;241;43m=\u001b[39;49m\u001b[43mpre_transform\u001b[49m\u001b[43m,\u001b[49m\u001b[43m \u001b[49m\u001b[43mtransform\u001b[49m\u001b[38;5;241;43m=\u001b[39;49m\u001b[43mtransform\u001b[49m\u001b[43m)\u001b[49m\n\u001b[0;32m     10\u001b[0m trainloader \u001b[38;5;241m=\u001b[39m DataLoader(dataset_train, batch_size\u001b[38;5;241m=\u001b[39mbatch_size, shuffle\u001b[38;5;241m=\u001b[39m\u001b[38;5;28;01mTrue\u001b[39;00m)\n\u001b[0;32m     12\u001b[0m dataset_test \u001b[38;5;241m=\u001b[39m ModelNet(root\u001b[38;5;241m=\u001b[39mroot, name\u001b[38;5;241m=\u001b[39m\u001b[38;5;124m'\u001b[39m\u001b[38;5;124m40\u001b[39m\u001b[38;5;124m'\u001b[39m, train\u001b[38;5;241m=\u001b[39m\u001b[38;5;28;01mFalse\u001b[39;00m, pre_transform\u001b[38;5;241m=\u001b[39mpre_transform, transform\u001b[38;5;241m=\u001b[39mtransform)\n",
      "File \u001b[1;32mc:\\Users\\Joshua\\OneDrive\\Documents\\AI_535\\PointCloudclassification\\.venv\\lib\\site-packages\\torch_geometric\\datasets\\modelnet.py:98\u001b[0m, in \u001b[0;36mModelNet.__init__\u001b[1;34m(self, root, name, train, transform, pre_transform, pre_filter, force_reload)\u001b[0m\n\u001b[0;32m     96\u001b[0m \u001b[38;5;28;01massert\u001b[39;00m name \u001b[38;5;129;01min\u001b[39;00m [\u001b[38;5;124m'\u001b[39m\u001b[38;5;124m10\u001b[39m\u001b[38;5;124m'\u001b[39m, \u001b[38;5;124m'\u001b[39m\u001b[38;5;124m40\u001b[39m\u001b[38;5;124m'\u001b[39m]\n\u001b[0;32m     97\u001b[0m \u001b[38;5;28mself\u001b[39m\u001b[38;5;241m.\u001b[39mname \u001b[38;5;241m=\u001b[39m name\n\u001b[1;32m---> 98\u001b[0m \u001b[38;5;28;43msuper\u001b[39;49m\u001b[43m(\u001b[49m\u001b[43m)\u001b[49m\u001b[38;5;241;43m.\u001b[39;49m\u001b[38;5;21;43m__init__\u001b[39;49m\u001b[43m(\u001b[49m\u001b[43mroot\u001b[49m\u001b[43m,\u001b[49m\u001b[43m \u001b[49m\u001b[43mtransform\u001b[49m\u001b[43m,\u001b[49m\u001b[43m \u001b[49m\u001b[43mpre_transform\u001b[49m\u001b[43m,\u001b[49m\u001b[43m \u001b[49m\u001b[43mpre_filter\u001b[49m\u001b[43m,\u001b[49m\n\u001b[0;32m     99\u001b[0m \u001b[43m                 \u001b[49m\u001b[43mforce_reload\u001b[49m\u001b[38;5;241;43m=\u001b[39;49m\u001b[43mforce_reload\u001b[49m\u001b[43m)\u001b[49m\n\u001b[0;32m    100\u001b[0m path \u001b[38;5;241m=\u001b[39m \u001b[38;5;28mself\u001b[39m\u001b[38;5;241m.\u001b[39mprocessed_paths[\u001b[38;5;241m0\u001b[39m] \u001b[38;5;28;01mif\u001b[39;00m train \u001b[38;5;28;01melse\u001b[39;00m \u001b[38;5;28mself\u001b[39m\u001b[38;5;241m.\u001b[39mprocessed_paths[\u001b[38;5;241m1\u001b[39m]\n\u001b[0;32m    101\u001b[0m \u001b[38;5;28mself\u001b[39m\u001b[38;5;241m.\u001b[39mload(path)\n",
      "File \u001b[1;32mc:\\Users\\Joshua\\OneDrive\\Documents\\AI_535\\PointCloudclassification\\.venv\\lib\\site-packages\\torch_geometric\\data\\in_memory_dataset.py:81\u001b[0m, in \u001b[0;36mInMemoryDataset.__init__\u001b[1;34m(self, root, transform, pre_transform, pre_filter, log, force_reload)\u001b[0m\n\u001b[0;32m     72\u001b[0m \u001b[38;5;28;01mdef\u001b[39;00m\u001b[38;5;250m \u001b[39m\u001b[38;5;21m__init__\u001b[39m(\n\u001b[0;32m     73\u001b[0m     \u001b[38;5;28mself\u001b[39m,\n\u001b[0;32m     74\u001b[0m     root: Optional[\u001b[38;5;28mstr\u001b[39m] \u001b[38;5;241m=\u001b[39m \u001b[38;5;28;01mNone\u001b[39;00m,\n\u001b[1;32m   (...)\u001b[0m\n\u001b[0;32m     79\u001b[0m     force_reload: \u001b[38;5;28mbool\u001b[39m \u001b[38;5;241m=\u001b[39m \u001b[38;5;28;01mFalse\u001b[39;00m,\n\u001b[0;32m     80\u001b[0m ) \u001b[38;5;241m-\u001b[39m\u001b[38;5;241m>\u001b[39m \u001b[38;5;28;01mNone\u001b[39;00m:\n\u001b[1;32m---> 81\u001b[0m     \u001b[38;5;28;43msuper\u001b[39;49m\u001b[43m(\u001b[49m\u001b[43m)\u001b[49m\u001b[38;5;241;43m.\u001b[39;49m\u001b[38;5;21;43m__init__\u001b[39;49m\u001b[43m(\u001b[49m\u001b[43mroot\u001b[49m\u001b[43m,\u001b[49m\u001b[43m \u001b[49m\u001b[43mtransform\u001b[49m\u001b[43m,\u001b[49m\u001b[43m \u001b[49m\u001b[43mpre_transform\u001b[49m\u001b[43m,\u001b[49m\u001b[43m \u001b[49m\u001b[43mpre_filter\u001b[49m\u001b[43m,\u001b[49m\u001b[43m \u001b[49m\u001b[43mlog\u001b[49m\u001b[43m,\u001b[49m\n\u001b[0;32m     82\u001b[0m \u001b[43m                     \u001b[49m\u001b[43mforce_reload\u001b[49m\u001b[43m)\u001b[49m\n\u001b[0;32m     84\u001b[0m     \u001b[38;5;28mself\u001b[39m\u001b[38;5;241m.\u001b[39m_data: Optional[BaseData] \u001b[38;5;241m=\u001b[39m \u001b[38;5;28;01mNone\u001b[39;00m\n\u001b[0;32m     85\u001b[0m     \u001b[38;5;28mself\u001b[39m\u001b[38;5;241m.\u001b[39mslices: Optional[Dict[\u001b[38;5;28mstr\u001b[39m, Tensor]] \u001b[38;5;241m=\u001b[39m \u001b[38;5;28;01mNone\u001b[39;00m\n",
      "File \u001b[1;32mc:\\Users\\Joshua\\OneDrive\\Documents\\AI_535\\PointCloudclassification\\.venv\\lib\\site-packages\\torch_geometric\\data\\dataset.py:112\u001b[0m, in \u001b[0;36mDataset.__init__\u001b[1;34m(self, root, transform, pre_transform, pre_filter, log, force_reload)\u001b[0m\n\u001b[0;32m    109\u001b[0m \u001b[38;5;28mself\u001b[39m\u001b[38;5;241m.\u001b[39mforce_reload \u001b[38;5;241m=\u001b[39m force_reload\n\u001b[0;32m    111\u001b[0m \u001b[38;5;28;01mif\u001b[39;00m \u001b[38;5;28mself\u001b[39m\u001b[38;5;241m.\u001b[39mhas_download:\n\u001b[1;32m--> 112\u001b[0m     \u001b[38;5;28;43mself\u001b[39;49m\u001b[38;5;241;43m.\u001b[39;49m\u001b[43m_download\u001b[49m\u001b[43m(\u001b[49m\u001b[43m)\u001b[49m\n\u001b[0;32m    114\u001b[0m \u001b[38;5;28;01mif\u001b[39;00m \u001b[38;5;28mself\u001b[39m\u001b[38;5;241m.\u001b[39mhas_process:\n\u001b[0;32m    115\u001b[0m     \u001b[38;5;28mself\u001b[39m\u001b[38;5;241m.\u001b[39m_process()\n",
      "File \u001b[1;32mc:\\Users\\Joshua\\OneDrive\\Documents\\AI_535\\PointCloudclassification\\.venv\\lib\\site-packages\\torch_geometric\\data\\dataset.py:229\u001b[0m, in \u001b[0;36mDataset._download\u001b[1;34m(self)\u001b[0m\n\u001b[0;32m    226\u001b[0m     \u001b[38;5;28;01mreturn\u001b[39;00m\n\u001b[0;32m    228\u001b[0m fs\u001b[38;5;241m.\u001b[39mmakedirs(\u001b[38;5;28mself\u001b[39m\u001b[38;5;241m.\u001b[39mraw_dir, exist_ok\u001b[38;5;241m=\u001b[39m\u001b[38;5;28;01mTrue\u001b[39;00m)\n\u001b[1;32m--> 229\u001b[0m \u001b[38;5;28;43mself\u001b[39;49m\u001b[38;5;241;43m.\u001b[39;49m\u001b[43mdownload\u001b[49m\u001b[43m(\u001b[49m\u001b[43m)\u001b[49m\n",
      "File \u001b[1;32mc:\\Users\\Joshua\\OneDrive\\Documents\\AI_535\\PointCloudclassification\\.venv\\lib\\site-packages\\torch_geometric\\datasets\\modelnet.py:116\u001b[0m, in \u001b[0;36mModelNet.download\u001b[1;34m(self)\u001b[0m\n\u001b[0;32m    114\u001b[0m \u001b[38;5;28;01mdef\u001b[39;00m\u001b[38;5;250m \u001b[39m\u001b[38;5;21mdownload\u001b[39m(\u001b[38;5;28mself\u001b[39m) \u001b[38;5;241m-\u001b[39m\u001b[38;5;241m>\u001b[39m \u001b[38;5;28;01mNone\u001b[39;00m:\n\u001b[0;32m    115\u001b[0m     path \u001b[38;5;241m=\u001b[39m download_url(\u001b[38;5;28mself\u001b[39m\u001b[38;5;241m.\u001b[39murls[\u001b[38;5;28mself\u001b[39m\u001b[38;5;241m.\u001b[39mname], \u001b[38;5;28mself\u001b[39m\u001b[38;5;241m.\u001b[39mroot)\n\u001b[1;32m--> 116\u001b[0m     \u001b[43mextract_zip\u001b[49m\u001b[43m(\u001b[49m\u001b[43mpath\u001b[49m\u001b[43m,\u001b[49m\u001b[43m \u001b[49m\u001b[38;5;28;43mself\u001b[39;49m\u001b[38;5;241;43m.\u001b[39;49m\u001b[43mroot\u001b[49m\u001b[43m)\u001b[49m\n\u001b[0;32m    117\u001b[0m     os\u001b[38;5;241m.\u001b[39munlink(path)\n\u001b[0;32m    118\u001b[0m     folder \u001b[38;5;241m=\u001b[39m osp\u001b[38;5;241m.\u001b[39mjoin(\u001b[38;5;28mself\u001b[39m\u001b[38;5;241m.\u001b[39mroot, \u001b[38;5;124mf\u001b[39m\u001b[38;5;124m'\u001b[39m\u001b[38;5;124mModelNet\u001b[39m\u001b[38;5;132;01m{\u001b[39;00m\u001b[38;5;28mself\u001b[39m\u001b[38;5;241m.\u001b[39mname\u001b[38;5;132;01m}\u001b[39;00m\u001b[38;5;124m'\u001b[39m)\n",
      "File \u001b[1;32mc:\\Users\\Joshua\\OneDrive\\Documents\\AI_535\\PointCloudclassification\\.venv\\lib\\site-packages\\torch_geometric\\data\\extract.py:45\u001b[0m, in \u001b[0;36mextract_zip\u001b[1;34m(path, folder, log)\u001b[0m\n\u001b[0;32m     43\u001b[0m maybe_log(path, log)\n\u001b[0;32m     44\u001b[0m \u001b[38;5;28;01mwith\u001b[39;00m zipfile\u001b[38;5;241m.\u001b[39mZipFile(path, \u001b[38;5;124m'\u001b[39m\u001b[38;5;124mr\u001b[39m\u001b[38;5;124m'\u001b[39m) \u001b[38;5;28;01mas\u001b[39;00m f:\n\u001b[1;32m---> 45\u001b[0m     \u001b[43mf\u001b[49m\u001b[38;5;241;43m.\u001b[39;49m\u001b[43mextractall\u001b[49m\u001b[43m(\u001b[49m\u001b[43mfolder\u001b[49m\u001b[43m)\u001b[49m\n",
      "File \u001b[1;32mC:\\Program Files\\WindowsApps\\PythonSoftwareFoundation.Python.3.10_3.10.3056.0_x64__qbz5n2kfra8p0\\lib\\zipfile.py:1647\u001b[0m, in \u001b[0;36mZipFile.extractall\u001b[1;34m(self, path, members, pwd)\u001b[0m\n\u001b[0;32m   1644\u001b[0m     path \u001b[38;5;241m=\u001b[39m os\u001b[38;5;241m.\u001b[39mfspath(path)\n\u001b[0;32m   1646\u001b[0m \u001b[38;5;28;01mfor\u001b[39;00m zipinfo \u001b[38;5;129;01min\u001b[39;00m members:\n\u001b[1;32m-> 1647\u001b[0m     \u001b[38;5;28;43mself\u001b[39;49m\u001b[38;5;241;43m.\u001b[39;49m\u001b[43m_extract_member\u001b[49m\u001b[43m(\u001b[49m\u001b[43mzipinfo\u001b[49m\u001b[43m,\u001b[49m\u001b[43m \u001b[49m\u001b[43mpath\u001b[49m\u001b[43m,\u001b[49m\u001b[43m \u001b[49m\u001b[43mpwd\u001b[49m\u001b[43m)\u001b[49m\n",
      "File \u001b[1;32mC:\\Program Files\\WindowsApps\\PythonSoftwareFoundation.Python.3.10_3.10.3056.0_x64__qbz5n2kfra8p0\\lib\\zipfile.py:1702\u001b[0m, in \u001b[0;36mZipFile._extract_member\u001b[1;34m(self, member, targetpath, pwd)\u001b[0m\n\u001b[0;32m   1698\u001b[0m     \u001b[38;5;28;01mreturn\u001b[39;00m targetpath\n\u001b[0;32m   1700\u001b[0m \u001b[38;5;28;01mwith\u001b[39;00m \u001b[38;5;28mself\u001b[39m\u001b[38;5;241m.\u001b[39mopen(member, pwd\u001b[38;5;241m=\u001b[39mpwd) \u001b[38;5;28;01mas\u001b[39;00m source, \\\n\u001b[0;32m   1701\u001b[0m      \u001b[38;5;28mopen\u001b[39m(targetpath, \u001b[38;5;124m\"\u001b[39m\u001b[38;5;124mwb\u001b[39m\u001b[38;5;124m\"\u001b[39m) \u001b[38;5;28;01mas\u001b[39;00m target:\n\u001b[1;32m-> 1702\u001b[0m     \u001b[43mshutil\u001b[49m\u001b[38;5;241;43m.\u001b[39;49m\u001b[43mcopyfileobj\u001b[49m\u001b[43m(\u001b[49m\u001b[43msource\u001b[49m\u001b[43m,\u001b[49m\u001b[43m \u001b[49m\u001b[43mtarget\u001b[49m\u001b[43m)\u001b[49m\n\u001b[0;32m   1704\u001b[0m \u001b[38;5;28;01mreturn\u001b[39;00m targetpath\n",
      "File \u001b[1;32mC:\\Program Files\\WindowsApps\\PythonSoftwareFoundation.Python.3.10_3.10.3056.0_x64__qbz5n2kfra8p0\\lib\\shutil.py:198\u001b[0m, in \u001b[0;36mcopyfileobj\u001b[1;34m(fsrc, fdst, length)\u001b[0m\n\u001b[0;32m    196\u001b[0m \u001b[38;5;28;01mif\u001b[39;00m \u001b[38;5;129;01mnot\u001b[39;00m buf:\n\u001b[0;32m    197\u001b[0m     \u001b[38;5;28;01mbreak\u001b[39;00m\n\u001b[1;32m--> 198\u001b[0m \u001b[43mfdst_write\u001b[49m\u001b[43m(\u001b[49m\u001b[43mbuf\u001b[49m\u001b[43m)\u001b[49m\n",
      "\u001b[1;31mOSError\u001b[0m: [Errno 28] No space left on device"
     ]
    }
   ],
   "source": [
    "num_points = 1024\n",
    "\n",
    "pre_transform = NormalizeScale()\n",
    "transform = SamplePoints(num_points)\n",
    "\n",
    "batch_size = 64\n",
    "\n",
    "root = 'data/ModelNet40'\n",
    "dataset_train = ModelNet(root=root, name='40', train=True, pre_transform=pre_transform, transform=transform)\n",
    "trainloader = DataLoader(dataset_train, batch_size=batch_size, shuffle=True)\n",
    "\n",
    "dataset_test = ModelNet(root=root, name='40', train=False, pre_transform=pre_transform, transform=transform)\n",
    "testloader = DataLoader(dataset_test, batch_size=batch_size)\n",
    "\n",
    "print(f'Number of training examples: {len(dataset_train)}')\n",
    "print(f'Number of test examples: {len(dataset_test)}')\n",
    "\n",
    "data = dataset_train[1001]\n",
    "print(data)\n",
    "print(f'Point cloud shape: {data.pos.shape}')\n",
    "print(f'Label: {data.y}')"
   ]
  },
  {
   "cell_type": "code",
   "execution_count": 10,
   "metadata": {},
   "outputs": [
    {
     "data": {
      "application/vnd.plotly.v1+json": {
       "config": {
        "plotlyServerURL": "https://plot.ly"
       },
       "data": [
        {
         "marker": {
          "color": "white",
          "size": 1
         },
         "mode": "markers",
         "type": "scatter3d",
         "x": {
          "bdata": "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",
          "dtype": "f4"
         },
         "y": {
          "bdata": "cDWzvKcfzj6Zuw29px/OPo6zH7854DA+MnSFPo6zH794wcc+MnSFPlSMF78ydIU+LYIfv/Yn8D6vJwq/euJhPo6zH78RQ1O+O/4AvzE+oj6f2ao+px/OPg1whz7a9cE9XpQ9Pqcfzj67ys8+3bBYPqcfzj6D5m69cjsEv5u8/L7LgB+/mzPGPoUzzL5eGNC+MnSFPvZEjj6r74M9XRd2vo6zH7+Osx+/MnSFPrMVkj5CCgS+05t9PnI7BL8ICb++UFnlPifi/7zJGZG9N75bvjJ0hT4ydIU+8UOhPQVDrT4N8yI+og3zvukHoL4eLp291izavjgk7z2nM/++6fagPo/Esr4EVrk8ibHzvt4d9z2qnva+RJO4vjJ0hT4ydIU+px/OPqcfzj6Osx+/wgk6vgFhkD2+czA+eskFv6cfzj5yOwS/px/OPo6zH78c1AS/qU2mPo6zH7/jOc0+MnSFPo2mhD4Nu8k+cjsEv6cfzj6nH84+75WoPk6bx74ydIU+93r2vvKtAD6Osx+/KaLNPjl5Eb6+nlI+WQiKvX/0PT2Yi/A++zPEvioDCL7bU8C+xahKPsBx+b2vlp++MskCvhWVITynH84+CueTPjJ0hT79CyK7fnpMPjJ0hT7uS+q98p24PikYdL5Js2a9Nt4bvhhHur6YcbU+hdChPgH6Bb5StDA+/igmPgiGNT4FQAu/qg67PixnxD4ydIU+ExGIvTJ0hT4zyIo9pL/zvYkKAr/iAf29QcfmPYdIRz0rGMk+UGOuvqS+0L4nBMY+MnSFPnI7BL8wBva8MvaUPacfzj7Tk1Q+vj+rPTJ0hT4PpJ+9MnSFPrfhiT0ydIU+jrMfvyQ0Dz5zG7g9lcFaPklZNj7U9uq+ZDXpvjJ0hT48rF0+MF0cvuz8az5xoBa/U1Efv46zH7+L080+cjsEv4pZYD5kb02+l5I2PKJp675NDXo+akcUPqcfzj4a4YU+o/qaPsiklb6ysUy+BSDXvmvHG78bVIe+jrMfv+3mAL/NwwK+DFDRvuP/vL6nH84+j9Z4PEPlsz5h41s+ylNbvZlViT5orqA+LQlhPuIUyb4Jbbg+OvDJvDJ0hT4Q/+w+MnSFPnI7BL8ydIU+plVoPgPtxr1RO6i+cjsEv8eKH79MLZE+fcG9Pjwxlr5yOwS/Qr7sPhLKzzwydIU+MrROPGn+Hb5yOwS/MnSFPqcfzj4X4+4+xb0EvzJ0hT4ydIU+jrMfv3I7BL8ydIU+F1zGPqcfzj7VeyO9MnSFPjJ0hT47fZ8+gKMav46zH78fgZE+5hiOPn4Y676s646+tIoRPgqoTz4XJOU+r7r/vCucjj4ydIU+S1cNv6D8EL/bir49nQ+KPhsK0T6nH84+ZCHeveBgiD2nH84+59OgvjaKb75yOwS/Gi+UvnI7BL9fk/S9WFbHvk5mFL+nH84+sfYlPtNP4L5Bj8m+MnSFPpMoRrx2nxi7oGubPnI7BL8ekQC/aAHwPQcyCL9yOwS/8wQGvTJ0hT4ydIU++Z9GvlTYOj4ydIU+MnSFPhIcKL1Nbpw+Q+O8vsQ7Lz6nH84+px/OPjiTMz7mNVE+uvSGPjJ0hT5i45M+cjsEvzJ0hT4ydIU+/a/qPjJ0hT5jfWQ+yU/NPjJ0hT6Osx+/px/OPo6zH78b5vq+Jgy5vctSuL5VZZo+MnSFPjJ0hT5yOwS/XY4Xv8hvkLwLmA09px/OPkYpob60ALK8RUklPUwKTj5yOwS/Z46KPjJ0hT5u1IY+5FrCPlR16z0ydIU+ThAaPWliD758cri9MnSFPsSqBL/dmAy/Pq/wvhPCD7+nH84+cjsEvykFqb2nH84+px/OPo6zH7/tQKM9Mgmau6bcnTyh42M9Sl/BPo6zH78xJNw+px/OPo8m6L7zIcc9w6m9O8710r1Cvdm+LO2tvn0vSL6Osx+/+ddAPkdlur4ydIU+px/OPiYraT6Osx+/emiSvY6zH79eeRy/tSkFv1NRxL631og9+8sevzJ0hT5QKY4+97PcPSyR2L7Ql249+aj7vjD+4z6nH84+cjsEv6cfzj5wQJg+px/OPnI7BL9yOwS/MnSFPjJ0hT4uZeG+1fySPq+JCL1yOwS/jfZKvl1L072Osx+/U5iQPv2nEr8gmXc+Z9ghPlnjiL4cNxW/3cv8vtH2MT6Osx+/cjsEvzL3Lz5+lNk+e6cDvyBm3T6nH84+30HGPu7FwL4ydIU+MnSFPrugvb1nR4Y+QFQ3Phif7j0FfqQ9GNluvWBz2D4ydIU+WIgevyHr/b4ydIU+px/OPjJ0hT57tg2/MnSFPjJ0hT5yOwS/1XAev+fGO76nH84+px/OPu6AxD6q+c49Xc/7vnI7BL+Osx+/jrMfv4Q2z75yOwS/9GA4vI6zH78Tuko+cjsEvxjwEr4B5RM+Lp4QOyYvsL3NKpM+rLi2vjJ0hT6Osx+/0z6+vn2RC79vYOA+HxAHPTJ0hT65iwa/px/OPmCCSz6nH84+4MQrvTLsSr70Rdq+iQIjviztSr76tbk+g02Fvj0lAr+nH84+rO5wPkjllL5I1Lq+NBCkPh+ojT4ydIU+lT94vo6zH79yOwS/EgycPsY0EL9evRa/MnSFPudJQD41zok+px/OPqcfzj5yOwS/px/OPidbXz6nH84+px/OPj+T3rzhD4e+hJ91PHI7BL8X1Ao9kSrkvqfqxT4yfLc+M0DHPqcfzj7zIkU+hfLdPplR8j0KFru9px/OPnJNUj36DGg8MnSFPp3YTLyE8WQ+bhkIvacfzj6nH84+MnSFPl2hSr5yOwS/cjsEv41JhL6nH84+OVS+PGBZdT2xWCs+rsC/Pid5aD1nfbC+MWpqPgxpFb+nH84+g8kLv+8uuj6Osx+/CSMBv0OPxT0ydIU+HSvLPo6zH7/8ETs+a6rUPat2KL4ydIU+Q63HvlqgWD1++7y+jrMfvzfJBb23X3u9jrMfv3I7BL/Rg9w9pwaPvE000r5ZCum9DwHivut3xz7xsKs+px/OPjJ0hT6jdI099tKFPqcfzj4ydIU+IJEIv8Lnyb4y/Le+KziFPinIfz7FmYm+zoqUPokdsz5yOwS/jrMfvzSPiD0/48o+StqTPtthPr2nH84+5eN2vqcfzj6tGsE+cjsEv46zH78ydIU+jrMfv/c8Ab/3vIW98+B9PjAKT72DS+K9xZXAvk3Unr7HAUY+gnOaPjJ0hT4ADve8R7KSvjEiAb9yOwS/MnSFPnI7BL8ydIU+GUmRPNFfXr6TXxO+0biKvnWZST64xNo9QjhPPglaSj4QcQC/AlOQPbapzT4WRLM+w2rMvjrfHb+lpZg+px/OPjJ0hT4DSzy+px/OPlPZPT1nxLe+aUl6vnI7BL/NL80+THRQvV8rgr2nH84+TDgSv2gGkT6Osx+/Lx69PYmeB7+TRZc+jrMfv7GVqj4ydIU+1uxpPgj4hz73OUQ+cJqUPvLlvT6DMs47hQ0oPKcfzj7VGfA+jrMfvzJ0hT4ZvKU+jrMfv108qb3rYJo+MnSFPuSSlL6Osx+/j2G1vuP8nz70jBK/sVJjvevrlz1axdg9px/OPqcfzj5yOwS/OGE1Ptsz7D4tTSa+0HyVPqcfzj52orY9vH74vNj8mT4ydIU+VSsWv4RqhT5MZTs+yiEHv/Awhb68CpY+jrMfv5bE2b6HV4U98xwCv46zH7/+CPi9cjsEv46zH78ydIU+cjsEv67wKL4O5QC/HU29vqcfzj6nH84+1XvpvgAMWb6UA/K9POI7PiNIyr569Dq+vyeSPjUhhz6koiq8MnSFPvHonb7vwAk+SEsNvzJ0hT6nH84+ga3JPhbrrD5Crs2+px/OPnbe1jwydIU+px/OPqgILr6nH84+MxvJvTJ0hT4L/pc+6ACQvnI7BL8vDee7h4MLvTJ0hT6TNoq+px/OPvEMlr68w+M+M/s+PY6zH7+slbw+ir0cv+lZg75vb3e+MnSFPmu9gj19py2+hh1BvTxqwj4/XP08px/OPv8eyL6D3LS+VsvVPqcfzj6Osx+/jrMfv0nrsbxYbbK9DPHivsVx+D0WCdy9px/OPnFOLT5Aj7k+ienvPvkWWD7uFpY9zyXpPhKsuz4jASY+px/OPs5hlz5uZs2+px/OPmI4EL8cQJo9yfPbvuz2Er8ydIU+lmM3PkIwpj4kpwi/71RFPXpmHb+mui2+1kSQPUSf1r5DWuI+px/OPqaU5D7YsMG+aXUfv6cfzj6/iSq+jrMfv8otCL9yOwS/zegCvo6zH79v6r0+pDAdv3CEsbuyiKK+jrMfv0A99r4YL5C+wXfFvvRGrTwydIU+jrMfv6cfzj6L5/G8Om+vPnI7BL9QyNg+jrMfvzJ0hT70xpI+Ku3TviV8VjynH84+aRAlPeYTvT4haQq/GaTEPo6zH7+IGY4+aqAev/BZaD4ydIU+cjsEvzoulz4ydIU+SVKgvqcfzj7/4AW9bV2pvo6zH7/snaS+xQmiPmoSnT4mPtY+oRhWPiKPdb7l+s0+ym3Jvh5W6r5y9VO+3qkNv//Wbj5yOwS/k5BYPsA+9DwydIU+px/OPi6wlL0ydIU+kdC8PnI7BL/6kgC/pmy8vvGjXzpvBtc+px/OPmxjzr5SYti+63k/vd2Owr6hwGe+FqnAPk8NLT4ydIU+MnSFPo6zH7/10rs+MnSFPq5e6L4ydIU+RszKPq5DH78ydIU+cjsEv5UBHz2nH84+8t0tPnI7BL9g3Tk+MnSFPqcfzj4Nv+y+MnSFPnNDmz2oAhG/SQobvxenCb1f6Mk9dwcLv30+Kb1ZP0M+iQpOvuLqZr4ydIU+SwG/vj+pgz7kRrO+iKPnPu9eEr++xPY9jrMfv46zH79hUZE+px/OPnph/D0LD5s+jJ20PnI7BL+Osx+/px/OPt/ner4+kI2+C84Uv3F0nbzmyMs9MnSFPtZOA771+u4+XjJPPZQAkL6Osx+/utAdv7qVjr4ydIU+WdddvXkkir5PMkO+cjsEv4e0Er7uOyO+jMjpPhYczj4ydIU+JkpNvrImMz5s0x2/vji1PhDS8DuOsx+/OMTvPlCWu7wydIU+pEoWvyYbaz6nH84+TY9KPqcfzj6nH84+EBT3PTJ0hT5pTT++rEhSPnI7BL9yOwS/MnSFPow3+D1aN9a+gu4bPDJ0hT6vEyK+MZfoO09+f76nH84+I1yAvXI7BL8vDsm962pAPWiH9b7mQJU+cjsEvzrssT4x6/m9px/OPuy1vT6nH84+meE9PrXeyL2nH84+MnSFPsrSw7xyOwS/3eTFvuUAyr06NZs+9vsaO4aYI76nH84+jrMfv3I7BL/Rnlw+cjsEv98TSr5IuDE+cjsEvzmH7D6Osx+/hOuKPtqEnTwuDNm9px/OPue7hz6nH84+RY8gvHlBUr6ipIE+jrMfv0AZ1LxyOwS/UZsZv1fZ8r5aARk+px/OPo6zH7/PXwU+IEsuvg==",
          "dtype": "f4"
         },
         "z": {
          "bdata": "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",
          "dtype": "f4"
         }
        }
       ],
       "layout": {
        "scene": {
         "xaxis": {
          "visible": false
         },
         "yaxis": {
          "visible": false
         },
         "zaxis": {
          "visible": false
         }
        },
        "template": {
         "data": {
          "bar": [
           {
            "error_x": {
             "color": "#f2f5fa"
            },
            "error_y": {
             "color": "#f2f5fa"
            },
            "marker": {
             "line": {
              "color": "rgb(17,17,17)",
              "width": 0.5
             },
             "pattern": {
              "fillmode": "overlay",
              "size": 10,
              "solidity": 0.2
             }
            },
            "type": "bar"
           }
          ],
          "barpolar": [
           {
            "marker": {
             "line": {
              "color": "rgb(17,17,17)",
              "width": 0.5
             },
             "pattern": {
              "fillmode": "overlay",
              "size": 10,
              "solidity": 0.2
             }
            },
            "type": "barpolar"
           }
          ],
          "carpet": [
           {
            "aaxis": {
             "endlinecolor": "#A2B1C6",
             "gridcolor": "#506784",
             "linecolor": "#506784",
             "minorgridcolor": "#506784",
             "startlinecolor": "#A2B1C6"
            },
            "baxis": {
             "endlinecolor": "#A2B1C6",
             "gridcolor": "#506784",
             "linecolor": "#506784",
             "minorgridcolor": "#506784",
             "startlinecolor": "#A2B1C6"
            },
            "type": "carpet"
           }
          ],
          "choropleth": [
           {
            "colorbar": {
             "outlinewidth": 0,
             "ticks": ""
            },
            "type": "choropleth"
           }
          ],
          "contour": [
           {
            "colorbar": {
             "outlinewidth": 0,
             "ticks": ""
            },
            "colorscale": [
             [
              0,
              "#0d0887"
             ],
             [
              0.1111111111111111,
              "#46039f"
             ],
             [
              0.2222222222222222,
              "#7201a8"
             ],
             [
              0.3333333333333333,
              "#9c179e"
             ],
             [
              0.4444444444444444,
              "#bd3786"
             ],
             [
              0.5555555555555556,
              "#d8576b"
             ],
             [
              0.6666666666666666,
              "#ed7953"
             ],
             [
              0.7777777777777778,
              "#fb9f3a"
             ],
             [
              0.8888888888888888,
              "#fdca26"
             ],
             [
              1,
              "#f0f921"
             ]
            ],
            "type": "contour"
           }
          ],
          "contourcarpet": [
           {
            "colorbar": {
             "outlinewidth": 0,
             "ticks": ""
            },
            "type": "contourcarpet"
           }
          ],
          "heatmap": [
           {
            "colorbar": {
             "outlinewidth": 0,
             "ticks": ""
            },
            "colorscale": [
             [
              0,
              "#0d0887"
             ],
             [
              0.1111111111111111,
              "#46039f"
             ],
             [
              0.2222222222222222,
              "#7201a8"
             ],
             [
              0.3333333333333333,
              "#9c179e"
             ],
             [
              0.4444444444444444,
              "#bd3786"
             ],
             [
              0.5555555555555556,
              "#d8576b"
             ],
             [
              0.6666666666666666,
              "#ed7953"
             ],
             [
              0.7777777777777778,
              "#fb9f3a"
             ],
             [
              0.8888888888888888,
              "#fdca26"
             ],
             [
              1,
              "#f0f921"
             ]
            ],
            "type": "heatmap"
           }
          ],
          "histogram": [
           {
            "marker": {
             "pattern": {
              "fillmode": "overlay",
              "size": 10,
              "solidity": 0.2
             }
            },
            "type": "histogram"
           }
          ],
          "histogram2d": [
           {
            "colorbar": {
             "outlinewidth": 0,
             "ticks": ""
            },
            "colorscale": [
             [
              0,
              "#0d0887"
             ],
             [
              0.1111111111111111,
              "#46039f"
             ],
             [
              0.2222222222222222,
              "#7201a8"
             ],
             [
              0.3333333333333333,
              "#9c179e"
             ],
             [
              0.4444444444444444,
              "#bd3786"
             ],
             [
              0.5555555555555556,
              "#d8576b"
             ],
             [
              0.6666666666666666,
              "#ed7953"
             ],
             [
              0.7777777777777778,
              "#fb9f3a"
             ],
             [
              0.8888888888888888,
              "#fdca26"
             ],
             [
              1,
              "#f0f921"
             ]
            ],
            "type": "histogram2d"
           }
          ],
          "histogram2dcontour": [
           {
            "colorbar": {
             "outlinewidth": 0,
             "ticks": ""
            },
            "colorscale": [
             [
              0,
              "#0d0887"
             ],
             [
              0.1111111111111111,
              "#46039f"
             ],
             [
              0.2222222222222222,
              "#7201a8"
             ],
             [
              0.3333333333333333,
              "#9c179e"
             ],
             [
              0.4444444444444444,
              "#bd3786"
             ],
             [
              0.5555555555555556,
              "#d8576b"
             ],
             [
              0.6666666666666666,
              "#ed7953"
             ],
             [
              0.7777777777777778,
              "#fb9f3a"
             ],
             [
              0.8888888888888888,
              "#fdca26"
             ],
             [
              1,
              "#f0f921"
             ]
            ],
            "type": "histogram2dcontour"
           }
          ],
          "mesh3d": [
           {
            "colorbar": {
             "outlinewidth": 0,
             "ticks": ""
            },
            "type": "mesh3d"
           }
          ],
          "parcoords": [
           {
            "line": {
             "colorbar": {
              "outlinewidth": 0,
              "ticks": ""
             }
            },
            "type": "parcoords"
           }
          ],
          "pie": [
           {
            "automargin": true,
            "type": "pie"
           }
          ],
          "scatter": [
           {
            "marker": {
             "line": {
              "color": "#283442"
             }
            },
            "type": "scatter"
           }
          ],
          "scatter3d": [
           {
            "line": {
             "colorbar": {
              "outlinewidth": 0,
              "ticks": ""
             }
            },
            "marker": {
             "colorbar": {
              "outlinewidth": 0,
              "ticks": ""
             }
            },
            "type": "scatter3d"
           }
          ],
          "scattercarpet": [
           {
            "marker": {
             "colorbar": {
              "outlinewidth": 0,
              "ticks": ""
             }
            },
            "type": "scattercarpet"
           }
          ],
          "scattergeo": [
           {
            "marker": {
             "colorbar": {
              "outlinewidth": 0,
              "ticks": ""
             }
            },
            "type": "scattergeo"
           }
          ],
          "scattergl": [
           {
            "marker": {
             "line": {
              "color": "#283442"
             }
            },
            "type": "scattergl"
           }
          ],
          "scattermap": [
           {
            "marker": {
             "colorbar": {
              "outlinewidth": 0,
              "ticks": ""
             }
            },
            "type": "scattermap"
           }
          ],
          "scattermapbox": [
           {
            "marker": {
             "colorbar": {
              "outlinewidth": 0,
              "ticks": ""
             }
            },
            "type": "scattermapbox"
           }
          ],
          "scatterpolar": [
           {
            "marker": {
             "colorbar": {
              "outlinewidth": 0,
              "ticks": ""
             }
            },
            "type": "scatterpolar"
           }
          ],
          "scatterpolargl": [
           {
            "marker": {
             "colorbar": {
              "outlinewidth": 0,
              "ticks": ""
             }
            },
            "type": "scatterpolargl"
           }
          ],
          "scatterternary": [
           {
            "marker": {
             "colorbar": {
              "outlinewidth": 0,
              "ticks": ""
             }
            },
            "type": "scatterternary"
           }
          ],
          "surface": [
           {
            "colorbar": {
             "outlinewidth": 0,
             "ticks": ""
            },
            "colorscale": [
             [
              0,
              "#0d0887"
             ],
             [
              0.1111111111111111,
              "#46039f"
             ],
             [
              0.2222222222222222,
              "#7201a8"
             ],
             [
              0.3333333333333333,
              "#9c179e"
             ],
             [
              0.4444444444444444,
              "#bd3786"
             ],
             [
              0.5555555555555556,
              "#d8576b"
             ],
             [
              0.6666666666666666,
              "#ed7953"
             ],
             [
              0.7777777777777778,
              "#fb9f3a"
             ],
             [
              0.8888888888888888,
              "#fdca26"
             ],
             [
              1,
              "#f0f921"
             ]
            ],
            "type": "surface"
           }
          ],
          "table": [
           {
            "cells": {
             "fill": {
              "color": "#506784"
             },
             "line": {
              "color": "rgb(17,17,17)"
             }
            },
            "header": {
             "fill": {
              "color": "#2a3f5f"
             },
             "line": {
              "color": "rgb(17,17,17)"
             }
            },
            "type": "table"
           }
          ]
         },
         "layout": {
          "annotationdefaults": {
           "arrowcolor": "#f2f5fa",
           "arrowhead": 0,
           "arrowwidth": 1
          },
          "autotypenumbers": "strict",
          "coloraxis": {
           "colorbar": {
            "outlinewidth": 0,
            "ticks": ""
           }
          },
          "colorscale": {
           "diverging": [
            [
             0,
             "#8e0152"
            ],
            [
             0.1,
             "#c51b7d"
            ],
            [
             0.2,
             "#de77ae"
            ],
            [
             0.3,
             "#f1b6da"
            ],
            [
             0.4,
             "#fde0ef"
            ],
            [
             0.5,
             "#f7f7f7"
            ],
            [
             0.6,
             "#e6f5d0"
            ],
            [
             0.7,
             "#b8e186"
            ],
            [
             0.8,
             "#7fbc41"
            ],
            [
             0.9,
             "#4d9221"
            ],
            [
             1,
             "#276419"
            ]
           ],
           "sequential": [
            [
             0,
             "#0d0887"
            ],
            [
             0.1111111111111111,
             "#46039f"
            ],
            [
             0.2222222222222222,
             "#7201a8"
            ],
            [
             0.3333333333333333,
             "#9c179e"
            ],
            [
             0.4444444444444444,
             "#bd3786"
            ],
            [
             0.5555555555555556,
             "#d8576b"
            ],
            [
             0.6666666666666666,
             "#ed7953"
            ],
            [
             0.7777777777777778,
             "#fb9f3a"
            ],
            [
             0.8888888888888888,
             "#fdca26"
            ],
            [
             1,
             "#f0f921"
            ]
           ],
           "sequentialminus": [
            [
             0,
             "#0d0887"
            ],
            [
             0.1111111111111111,
             "#46039f"
            ],
            [
             0.2222222222222222,
             "#7201a8"
            ],
            [
             0.3333333333333333,
             "#9c179e"
            ],
            [
             0.4444444444444444,
             "#bd3786"
            ],
            [
             0.5555555555555556,
             "#d8576b"
            ],
            [
             0.6666666666666666,
             "#ed7953"
            ],
            [
             0.7777777777777778,
             "#fb9f3a"
            ],
            [
             0.8888888888888888,
             "#fdca26"
            ],
            [
             1,
             "#f0f921"
            ]
           ]
          },
          "colorway": [
           "#636efa",
           "#EF553B",
           "#00cc96",
           "#ab63fa",
           "#FFA15A",
           "#19d3f3",
           "#FF6692",
           "#B6E880",
           "#FF97FF",
           "#FECB52"
          ],
          "font": {
           "color": "#f2f5fa"
          },
          "geo": {
           "bgcolor": "rgb(17,17,17)",
           "lakecolor": "rgb(17,17,17)",
           "landcolor": "rgb(17,17,17)",
           "showlakes": true,
           "showland": true,
           "subunitcolor": "#506784"
          },
          "hoverlabel": {
           "align": "left"
          },
          "hovermode": "closest",
          "mapbox": {
           "style": "dark"
          },
          "paper_bgcolor": "rgb(17,17,17)",
          "plot_bgcolor": "rgb(17,17,17)",
          "polar": {
           "angularaxis": {
            "gridcolor": "#506784",
            "linecolor": "#506784",
            "ticks": ""
           },
           "bgcolor": "rgb(17,17,17)",
           "radialaxis": {
            "gridcolor": "#506784",
            "linecolor": "#506784",
            "ticks": ""
           }
          },
          "scene": {
           "xaxis": {
            "backgroundcolor": "rgb(17,17,17)",
            "gridcolor": "#506784",
            "gridwidth": 2,
            "linecolor": "#506784",
            "showbackground": true,
            "ticks": "",
            "zerolinecolor": "#C8D4E3"
           },
           "yaxis": {
            "backgroundcolor": "rgb(17,17,17)",
            "gridcolor": "#506784",
            "gridwidth": 2,
            "linecolor": "#506784",
            "showbackground": true,
            "ticks": "",
            "zerolinecolor": "#C8D4E3"
           },
           "zaxis": {
            "backgroundcolor": "rgb(17,17,17)",
            "gridcolor": "#506784",
            "gridwidth": 2,
            "linecolor": "#506784",
            "showbackground": true,
            "ticks": "",
            "zerolinecolor": "#C8D4E3"
           }
          },
          "shapedefaults": {
           "line": {
            "color": "#f2f5fa"
           }
          },
          "sliderdefaults": {
           "bgcolor": "#C8D4E3",
           "bordercolor": "rgb(17,17,17)",
           "borderwidth": 1,
           "tickwidth": 0
          },
          "ternary": {
           "aaxis": {
            "gridcolor": "#506784",
            "linecolor": "#506784",
            "ticks": ""
           },
           "baxis": {
            "gridcolor": "#506784",
            "linecolor": "#506784",
            "ticks": ""
           },
           "bgcolor": "rgb(17,17,17)",
           "caxis": {
            "gridcolor": "#506784",
            "linecolor": "#506784",
            "ticks": ""
           }
          },
          "title": {
           "x": 0.05
          },
          "updatemenudefaults": {
           "bgcolor": "#506784",
           "borderwidth": 0
          },
          "xaxis": {
           "automargin": true,
           "gridcolor": "#283442",
           "linecolor": "#506784",
           "ticks": "",
           "title": {
            "standoff": 15
           },
           "zerolinecolor": "#283442",
           "zerolinewidth": 2
          },
          "yaxis": {
           "automargin": true,
           "gridcolor": "#283442",
           "linecolor": "#506784",
           "ticks": "",
           "title": {
            "standoff": 15
           },
           "zerolinecolor": "#283442",
           "zerolinewidth": 2
          }
         }
        }
       }
      }
     },
     "metadata": {},
     "output_type": "display_data"
    }
   ],
   "source": [
    "fig = go.Figure(\n",
    "  data=[\n",
    "    go.Scatter3d(\n",
    "      x=data.pos[:,0], y=data.pos[:,1], z=data.pos[:,2],\n",
    "      mode='markers',\n",
    "      marker=dict(size=1, color=\"white\"))],\n",
    "  layout=dict(\n",
    "    scene=dict(\n",
    "      xaxis=dict(visible=False),\n",
    "      yaxis=dict(visible=False),\n",
    "      zaxis=dict(visible=False))))\n",
    "\n",
    "fig.update_layout(template='plotly_dark')\n",
    "\n",
    "fig.show()"
   ]
  },
  {
   "cell_type": "code",
   "execution_count": 4,
   "metadata": {},
   "outputs": [],
   "source": [
    "class Transformer(nn.Module):\n",
    "    def __init__(self, features, identity):\n",
    "        super(Transformer, self).__init__()\n",
    "\n",
    "        self.features = features\n",
    "        self.identity = identity\n",
    "\n",
    "        self.mlp = nn.Sequential(\n",
    "            nn.Conv1d(in_channels=features, out_channels=64, kernel_size=1),\n",
    "            nn.ReLU(),\n",
    "            nn.BatchNorm1d(64),\n",
    "            nn.Conv1d(in_channels=64, out_channels=128, kernel_size=1),\n",
    "            nn.ReLU(),\n",
    "            nn.BatchNorm1d(128),\n",
    "            nn.Conv1d(in_channels=128, out_channels=1024, kernel_size=1),\n",
    "            nn.ReLU(),\n",
    "            nn.BatchNorm1d(1024))\n",
    "\n",
    "        self.fcl = nn.Sequential(\n",
    "            nn.Linear(in_features=1024, out_features=512),\n",
    "            nn.ReLU(),\n",
    "            nn.BatchNorm1d(512),\n",
    "            nn.Linear(in_features=512, out_features=256),\n",
    "            nn.ReLU(),\n",
    "            nn.BatchNorm1d(256),\n",
    "            nn.Linear(in_features=256, out_features=features*features))\n",
    "    \n",
    "    def forward(self, x):\n",
    "\n",
    "        bs = x.shape[0]\n",
    "        num_points = x.shape[2]\n",
    "\n",
    "        x = self.mlp(x)\n",
    "        x = F.max_pool1d(x, kernel_size=num_points).view(bs, -1)\n",
    "        x = self.fcl(x)\n",
    "        \n",
    "        x = x.view(-1, self.features, self.features)\n",
    "\n",
    "        if self.identity:\n",
    "            x += torch.eye(self.features, requires_grad=True).repeat(bs, 1, 1).to(device)\n",
    "\n",
    "        return x\n",
    "\n",
    "\n",
    "class PointNet(nn.Module):\n",
    "    def __init__(self, num_classes):\n",
    "        super(PointNet, self).__init__()\n",
    "\n",
    "        self.tnet1 = Transformer(features=3, identity=False).to(device)\n",
    "\n",
    "        self.mlp1 = nn.Sequential(\n",
    "            nn.Conv1d(in_channels=3, out_channels=64, kernel_size=1),\n",
    "            nn.ReLU(),\n",
    "            nn.BatchNorm1d(64),\n",
    "            nn.Conv1d(in_channels=64, out_channels=64, kernel_size=1),\n",
    "            nn.ReLU(),\n",
    "            nn.BatchNorm1d(64))\n",
    "    \n",
    "        self.tnet2 = Transformer(features=64, identity=True).to(device)\n",
    "\n",
    "        self.mlp2 = nn.Sequential(\n",
    "            nn.Conv1d(in_channels=64, out_channels=64, kernel_size=1),\n",
    "            nn.ReLU(),\n",
    "            nn.BatchNorm1d(64),\n",
    "            nn.Conv1d(in_channels=64, out_channels=128, kernel_size=1),\n",
    "            nn.ReLU(),\n",
    "            nn.BatchNorm1d(128),\n",
    "            nn.Conv1d(in_channels=128, out_channels=1024, kernel_size=1),\n",
    "            nn.ReLU(),\n",
    "            nn.BatchNorm1d(1024))\n",
    "\n",
    "        self.max_pool = nn.MaxPool1d(kernel_size=num_points)\n",
    "\n",
    "        self.classification_head = nn.Sequential(\n",
    "            nn.Linear(in_features=1024, out_features=512),\n",
    "            nn.BatchNorm1d(512),\n",
    "            nn.ReLU(),\n",
    "            nn.Linear(in_features=512, out_features=256),\n",
    "            nn.BatchNorm1d(256),\n",
    "            nn.ReLU(),\n",
    "            nn.Dropout(p=0.3),\n",
    "            nn.Linear(in_features=256, out_features=num_classes)\n",
    "        )\n",
    "    \n",
    "    def forward(self, x):\n",
    "\n",
    "        bs = x.shape[0]\n",
    "        num_points = x.shape[2]\n",
    "\n",
    "        input_transform = self.tnet1(x)\n",
    "        \n",
    "        x = torch.bmm(x.transpose(2, 1), input_transform).transpose(2, 1)\n",
    "        x = self.mlp1(x)\n",
    "\n",
    "        feature_transform = self.tnet2(x)\n",
    "\n",
    "        x = torch.bmm(x.transpose(2, 1), feature_transform).transpose(2, 1)\n",
    "        x = self.mlp2(x)\n",
    "\n",
    "        x = F.max_pool1d(x, kernel_size=num_points).view(bs, -1)\n",
    "\n",
    "        x = self.classification_head(x)\n",
    "\n",
    "        return x, feature_transform\n"
   ]
  },
  {
   "cell_type": "code",
   "execution_count": 5,
   "metadata": {},
   "outputs": [
    {
     "data": {
      "text/plain": [
       "PointNet(\n",
       "  (tnet1): Transformer(\n",
       "    (mlp): Sequential(\n",
       "      (0): Conv1d(3, 64, kernel_size=(1,), stride=(1,))\n",
       "      (1): ReLU()\n",
       "      (2): BatchNorm1d(64, eps=1e-05, momentum=0.1, affine=True, track_running_stats=True)\n",
       "      (3): Conv1d(64, 128, kernel_size=(1,), stride=(1,))\n",
       "      (4): ReLU()\n",
       "      (5): BatchNorm1d(128, eps=1e-05, momentum=0.1, affine=True, track_running_stats=True)\n",
       "      (6): Conv1d(128, 1024, kernel_size=(1,), stride=(1,))\n",
       "      (7): ReLU()\n",
       "      (8): BatchNorm1d(1024, eps=1e-05, momentum=0.1, affine=True, track_running_stats=True)\n",
       "    )\n",
       "    (fcl): Sequential(\n",
       "      (0): Linear(in_features=1024, out_features=512, bias=True)\n",
       "      (1): ReLU()\n",
       "      (2): BatchNorm1d(512, eps=1e-05, momentum=0.1, affine=True, track_running_stats=True)\n",
       "      (3): Linear(in_features=512, out_features=256, bias=True)\n",
       "      (4): ReLU()\n",
       "      (5): BatchNorm1d(256, eps=1e-05, momentum=0.1, affine=True, track_running_stats=True)\n",
       "      (6): Linear(in_features=256, out_features=9, bias=True)\n",
       "    )\n",
       "  )\n",
       "  (mlp1): Sequential(\n",
       "    (0): Conv1d(3, 64, kernel_size=(1,), stride=(1,))\n",
       "    (1): ReLU()\n",
       "    (2): BatchNorm1d(64, eps=1e-05, momentum=0.1, affine=True, track_running_stats=True)\n",
       "    (3): Conv1d(64, 64, kernel_size=(1,), stride=(1,))\n",
       "    (4): ReLU()\n",
       "    (5): BatchNorm1d(64, eps=1e-05, momentum=0.1, affine=True, track_running_stats=True)\n",
       "  )\n",
       "  (tnet2): Transformer(\n",
       "    (mlp): Sequential(\n",
       "      (0): Conv1d(64, 64, kernel_size=(1,), stride=(1,))\n",
       "      (1): ReLU()\n",
       "      (2): BatchNorm1d(64, eps=1e-05, momentum=0.1, affine=True, track_running_stats=True)\n",
       "      (3): Conv1d(64, 128, kernel_size=(1,), stride=(1,))\n",
       "      (4): ReLU()\n",
       "      (5): BatchNorm1d(128, eps=1e-05, momentum=0.1, affine=True, track_running_stats=True)\n",
       "      (6): Conv1d(128, 1024, kernel_size=(1,), stride=(1,))\n",
       "      (7): ReLU()\n",
       "      (8): BatchNorm1d(1024, eps=1e-05, momentum=0.1, affine=True, track_running_stats=True)\n",
       "    )\n",
       "    (fcl): Sequential(\n",
       "      (0): Linear(in_features=1024, out_features=512, bias=True)\n",
       "      (1): ReLU()\n",
       "      (2): BatchNorm1d(512, eps=1e-05, momentum=0.1, affine=True, track_running_stats=True)\n",
       "      (3): Linear(in_features=512, out_features=256, bias=True)\n",
       "      (4): ReLU()\n",
       "      (5): BatchNorm1d(256, eps=1e-05, momentum=0.1, affine=True, track_running_stats=True)\n",
       "      (6): Linear(in_features=256, out_features=4096, bias=True)\n",
       "    )\n",
       "  )\n",
       "  (mlp2): Sequential(\n",
       "    (0): Conv1d(64, 64, kernel_size=(1,), stride=(1,))\n",
       "    (1): ReLU()\n",
       "    (2): BatchNorm1d(64, eps=1e-05, momentum=0.1, affine=True, track_running_stats=True)\n",
       "    (3): Conv1d(64, 128, kernel_size=(1,), stride=(1,))\n",
       "    (4): ReLU()\n",
       "    (5): BatchNorm1d(128, eps=1e-05, momentum=0.1, affine=True, track_running_stats=True)\n",
       "    (6): Conv1d(128, 1024, kernel_size=(1,), stride=(1,))\n",
       "    (7): ReLU()\n",
       "    (8): BatchNorm1d(1024, eps=1e-05, momentum=0.1, affine=True, track_running_stats=True)\n",
       "  )\n",
       "  (max_pool): MaxPool1d(kernel_size=1024, stride=1024, padding=0, dilation=1, ceil_mode=False)\n",
       "  (classification_head): Sequential(\n",
       "    (0): Linear(in_features=1024, out_features=512, bias=True)\n",
       "    (1): BatchNorm1d(512, eps=1e-05, momentum=0.1, affine=True, track_running_stats=True)\n",
       "    (2): ReLU()\n",
       "    (3): Linear(in_features=512, out_features=256, bias=True)\n",
       "    (4): BatchNorm1d(256, eps=1e-05, momentum=0.1, affine=True, track_running_stats=True)\n",
       "    (5): ReLU()\n",
       "    (6): Dropout(p=0.3, inplace=False)\n",
       "    (7): Linear(in_features=256, out_features=10, bias=True)\n",
       "  )\n",
       ")"
      ]
     },
     "execution_count": 5,
     "metadata": {},
     "output_type": "execute_result"
    }
   ],
   "source": [
    "pointnet = PointNet(num_classes=10)\n",
    "pointnet.to(device)\n",
    "\n",
    "# rotate object around z-axis\n",
    "# apply guassian noise to each point, mean 0 std deviation 0.002"
   ]
  },
  {
   "cell_type": "code",
   "execution_count": 88,
   "metadata": {},
   "outputs": [
    {
     "name": "stdout",
     "output_type": "stream",
     "text": [
      "torch.Size([10, 10])\n",
      "torch.Size([10, 64, 64])\n"
     ]
    }
   ],
   "source": [
    "pointnet.train()\n",
    "\n",
    "test_data = torch.rand(10, 3, num_points).to(device)\n",
    "A, output = pointnet(test_data)\n",
    "print(A.shape)\n",
    "print(output.shape)"
   ]
  },
  {
   "cell_type": "code",
   "execution_count": 6,
   "metadata": {},
   "outputs": [],
   "source": [
    "class PointNetClassificationLoss(nn.Module):\n",
    "    def __init__(self, reg_weight):\n",
    "        super(PointNetClassificationLoss, self).__init__()\n",
    "\n",
    "        self.reg_weight = reg_weight\n",
    "        self.cross_entropy = nn.CrossEntropyLoss()\n",
    "    \n",
    "    def forward(self, outputs, labels, A):\n",
    "        bs = A.shape[0]\n",
    "\n",
    "        loss = self.cross_entropy(outputs, labels)\n",
    "\n",
    "        I = torch.eye(64).repeat(bs, 1, 1).view(bs, 64, 64).to(device)\n",
    "\n",
    "        loss += self.reg_weight*torch.linalg.norm(I - torch.bmm(A, A.transpose(2, 1)))/bs\n",
    "\n",
    "        return loss"
   ]
  },
  {
   "cell_type": "code",
   "execution_count": 20,
   "metadata": {},
   "outputs": [],
   "source": [
    "learning_rate = 0.0001\n",
    "num_epochs = 10\n",
    "momentum = 0.9\n",
    "reg_weight = 0.001\n",
    "weight_decay = 0.005\n",
    "\n",
    "criterion = PointNetClassificationLoss(reg_weight=reg_weight)\n",
    "optimizer = optim.AdamW(pointnet.parameters(), lr=learning_rate, weight_decay=weight_decay)"
   ]
  },
  {
   "cell_type": "code",
   "execution_count": 54,
   "metadata": {},
   "outputs": [],
   "source": [
    "num_epochs = 50\n",
    "learning_rate = 0.0001\n",
    "reg_weight = 0.001\n",
    "\n",
    "optimizer = optim.Adam(pointnet.parameters(), lr=learning_rate)\n",
    "scheduler = torch.optim.lr_scheduler.CyclicLR(optimizer, base_lr=0.0001, max_lr=0.01, \n",
    "                                              step_size_up=2000, cycle_momentum=False)\n",
    "\n",
    "criterion = PointNetClassificationLoss(reg_weight=reg_weight).to(device)"
   ]
  },
  {
   "cell_type": "code",
   "execution_count": 7,
   "metadata": {},
   "outputs": [
    {
     "data": {
      "text/plain": [
       "<All keys matched successfully>"
      ]
     },
     "execution_count": 7,
     "metadata": {},
     "output_type": "execute_result"
    }
   ],
   "source": [
    "checkpoint = torch.load(\"./pointnet_02/epoch_3.pth\")\n",
    "pointnet.load_state_dict(checkpoint['model_state_dict'])"
   ]
  },
  {
   "cell_type": "code",
   "execution_count": 58,
   "metadata": {},
   "outputs": [
    {
     "name": "stdout",
     "output_type": "stream",
     "text": [
      "2025-03-04 11:26:42.545806   [Epoch   1]  Loss:   0.1295  Accuracy:       78.3%\n"
     ]
    },
    {
     "ename": "RuntimeError",
     "evalue": "[enforce fail at inline_container.cc:626] . unexpected pos 34314560 vs 34314456",
     "output_type": "error",
     "traceback": [
      "\u001b[1;31m---------------------------------------------------------------------------\u001b[0m",
      "\u001b[1;31mRuntimeError\u001b[0m                              Traceback (most recent call last)",
      "File \u001b[1;32mc:\\Users\\Joshua\\OneDrive\\Documents\\AI_535\\PointCloudclassification\\.venv\\lib\\site-packages\\torch\\serialization.py:944\u001b[0m, in \u001b[0;36msave\u001b[1;34m(obj, f, pickle_module, pickle_protocol, _use_new_zipfile_serialization, _disable_byteorder_record)\u001b[0m\n\u001b[0;32m    943\u001b[0m \u001b[38;5;28;01mwith\u001b[39;00m _open_zipfile_writer(f) \u001b[38;5;28;01mas\u001b[39;00m opened_zipfile:\n\u001b[1;32m--> 944\u001b[0m     \u001b[43m_save\u001b[49m\u001b[43m(\u001b[49m\n\u001b[0;32m    945\u001b[0m \u001b[43m        \u001b[49m\u001b[43mobj\u001b[49m\u001b[43m,\u001b[49m\n\u001b[0;32m    946\u001b[0m \u001b[43m        \u001b[49m\u001b[43mopened_zipfile\u001b[49m\u001b[43m,\u001b[49m\n\u001b[0;32m    947\u001b[0m \u001b[43m        \u001b[49m\u001b[43mpickle_module\u001b[49m\u001b[43m,\u001b[49m\n\u001b[0;32m    948\u001b[0m \u001b[43m        \u001b[49m\u001b[43mpickle_protocol\u001b[49m\u001b[43m,\u001b[49m\n\u001b[0;32m    949\u001b[0m \u001b[43m        \u001b[49m\u001b[43m_disable_byteorder_record\u001b[49m\u001b[43m,\u001b[49m\n\u001b[0;32m    950\u001b[0m \u001b[43m    \u001b[49m\u001b[43m)\u001b[49m\n\u001b[0;32m    951\u001b[0m     \u001b[38;5;28;01mreturn\u001b[39;00m\n",
      "File \u001b[1;32mc:\\Users\\Joshua\\OneDrive\\Documents\\AI_535\\PointCloudclassification\\.venv\\lib\\site-packages\\torch\\serialization.py:1216\u001b[0m, in \u001b[0;36m_save\u001b[1;34m(obj, zip_file, pickle_module, pickle_protocol, _disable_byteorder_record)\u001b[0m\n\u001b[0;32m   1215\u001b[0m \u001b[38;5;66;03m# Now that it is on the CPU we can directly copy it into the zip file\u001b[39;00m\n\u001b[1;32m-> 1216\u001b[0m \u001b[43mzip_file\u001b[49m\u001b[38;5;241;43m.\u001b[39;49m\u001b[43mwrite_record\u001b[49m\u001b[43m(\u001b[49m\u001b[43mname\u001b[49m\u001b[43m,\u001b[49m\u001b[43m \u001b[49m\u001b[43mstorage\u001b[49m\u001b[43m,\u001b[49m\u001b[43m \u001b[49m\u001b[43mnum_bytes\u001b[49m\u001b[43m)\u001b[49m\n",
      "\u001b[1;31mRuntimeError\u001b[0m: [enforce fail at inline_container.cc:820] . PytorchStreamWriter failed writing file data/65: file write failed",
      "\nDuring handling of the above exception, another exception occurred:\n",
      "\u001b[1;31mRuntimeError\u001b[0m                              Traceback (most recent call last)",
      "Cell \u001b[1;32mIn[58], line 51\u001b[0m\n\u001b[0;32m     47\u001b[0m     accuracy \u001b[38;5;241m=\u001b[39m correct\u001b[38;5;241m/\u001b[39mtotal\n\u001b[0;32m     49\u001b[0m \u001b[38;5;28mprint\u001b[39m(\u001b[38;5;124m\"\u001b[39m\u001b[38;5;132;01m{}\u001b[39;00m\u001b[38;5;124m   [Epoch \u001b[39m\u001b[38;5;132;01m{:3}\u001b[39;00m\u001b[38;5;124m]  Loss: \u001b[39m\u001b[38;5;132;01m{:8.4}\u001b[39;00m\u001b[38;5;124m  Accuracy:   \u001b[39m\u001b[38;5;132;01m{:8.4}\u001b[39;00m\u001b[38;5;124m%\u001b[39m\u001b[38;5;124m\"\u001b[39m\u001b[38;5;241m.\u001b[39mformat(datetime\u001b[38;5;241m.\u001b[39mdatetime\u001b[38;5;241m.\u001b[39mnow(), epoch\u001b[38;5;241m+\u001b[39m\u001b[38;5;241m1\u001b[39m, loss_avg, \u001b[38;5;241m100\u001b[39m\u001b[38;5;241m*\u001b[39maccuracy))\n\u001b[1;32m---> 51\u001b[0m \u001b[43mtorch\u001b[49m\u001b[38;5;241;43m.\u001b[39;49m\u001b[43msave\u001b[49m\u001b[43m(\u001b[49m\u001b[43m{\u001b[49m\n\u001b[0;32m     52\u001b[0m \u001b[43m    \u001b[49m\u001b[38;5;124;43m'\u001b[39;49m\u001b[38;5;124;43mepoch\u001b[39;49m\u001b[38;5;124;43m'\u001b[39;49m\u001b[43m:\u001b[49m\u001b[43m \u001b[49m\u001b[43mepoch\u001b[49m\u001b[43m,\u001b[49m\n\u001b[0;32m     53\u001b[0m \u001b[43m    \u001b[49m\u001b[38;5;124;43m'\u001b[39;49m\u001b[38;5;124;43mmodel_state_dict\u001b[39;49m\u001b[38;5;124;43m'\u001b[39;49m\u001b[43m:\u001b[49m\u001b[43m \u001b[49m\u001b[43mpointnet\u001b[49m\u001b[38;5;241;43m.\u001b[39;49m\u001b[43mstate_dict\u001b[49m\u001b[43m(\u001b[49m\u001b[43m)\u001b[49m\u001b[43m,\u001b[49m\n\u001b[0;32m     54\u001b[0m \u001b[43m    \u001b[49m\u001b[38;5;124;43m'\u001b[39;49m\u001b[38;5;124;43moptimizer_state_dict\u001b[39;49m\u001b[38;5;124;43m'\u001b[39;49m\u001b[43m:\u001b[49m\u001b[43m \u001b[49m\u001b[43moptimizer\u001b[49m\u001b[38;5;241;43m.\u001b[39;49m\u001b[43mstate_dict\u001b[49m\u001b[43m(\u001b[49m\u001b[43m)\u001b[49m\u001b[43m,\u001b[49m\n\u001b[0;32m     55\u001b[0m \u001b[43m    \u001b[49m\u001b[38;5;124;43m'\u001b[39;49m\u001b[38;5;124;43mscheduler_state_dict\u001b[39;49m\u001b[38;5;124;43m'\u001b[39;49m\u001b[43m:\u001b[49m\u001b[43m \u001b[49m\u001b[43mscheduler\u001b[49m\u001b[38;5;241;43m.\u001b[39;49m\u001b[43mstate_dict\u001b[49m\u001b[43m(\u001b[49m\u001b[43m)\u001b[49m\u001b[43m,\u001b[49m\n\u001b[0;32m     56\u001b[0m \u001b[43m    \u001b[49m\u001b[38;5;124;43m'\u001b[39;49m\u001b[38;5;124;43mloss\u001b[39;49m\u001b[38;5;124;43m'\u001b[39;49m\u001b[43m:\u001b[49m\u001b[43m \u001b[49m\u001b[43mloss\u001b[49m\u001b[43m,\u001b[49m\n\u001b[0;32m     57\u001b[0m \u001b[43m    \u001b[49m\u001b[43m}\u001b[49m\u001b[43m,\u001b[49m\u001b[43m \u001b[49m\u001b[38;5;124;43m\"\u001b[39;49m\u001b[38;5;124;43m./pointnet_03/epoch_\u001b[39;49m\u001b[38;5;124;43m\"\u001b[39;49m\u001b[43m \u001b[49m\u001b[38;5;241;43m+\u001b[39;49m\u001b[43m \u001b[49m\u001b[38;5;28;43mstr\u001b[39;49m\u001b[43m(\u001b[49m\u001b[43mepoch\u001b[49m\u001b[43m)\u001b[49m\u001b[43m \u001b[49m\u001b[38;5;241;43m+\u001b[39;49m\u001b[43m \u001b[49m\u001b[38;5;124;43m\"\u001b[39;49m\u001b[38;5;124;43m.pth\u001b[39;49m\u001b[38;5;124;43m\"\u001b[39;49m\u001b[43m)\u001b[49m\n",
      "File \u001b[1;32mc:\\Users\\Joshua\\OneDrive\\Documents\\AI_535\\PointCloudclassification\\.venv\\lib\\site-packages\\torch\\serialization.py:943\u001b[0m, in \u001b[0;36msave\u001b[1;34m(obj, f, pickle_module, pickle_protocol, _use_new_zipfile_serialization, _disable_byteorder_record)\u001b[0m\n\u001b[0;32m    940\u001b[0m _check_save_filelike(f)\n\u001b[0;32m    942\u001b[0m \u001b[38;5;28;01mif\u001b[39;00m _use_new_zipfile_serialization:\n\u001b[1;32m--> 943\u001b[0m     \u001b[38;5;28;01mwith\u001b[39;00m _open_zipfile_writer(f) \u001b[38;5;28;01mas\u001b[39;00m opened_zipfile:\n\u001b[0;32m    944\u001b[0m         _save(\n\u001b[0;32m    945\u001b[0m             obj,\n\u001b[0;32m    946\u001b[0m             opened_zipfile,\n\u001b[1;32m   (...)\u001b[0m\n\u001b[0;32m    949\u001b[0m             _disable_byteorder_record,\n\u001b[0;32m    950\u001b[0m         )\n\u001b[0;32m    951\u001b[0m         \u001b[38;5;28;01mreturn\u001b[39;00m\n",
      "File \u001b[1;32mc:\\Users\\Joshua\\OneDrive\\Documents\\AI_535\\PointCloudclassification\\.venv\\lib\\site-packages\\torch\\serialization.py:784\u001b[0m, in \u001b[0;36m_open_zipfile_writer_file.__exit__\u001b[1;34m(self, *args)\u001b[0m\n\u001b[0;32m    783\u001b[0m \u001b[38;5;28;01mdef\u001b[39;00m\u001b[38;5;250m \u001b[39m\u001b[38;5;21m__exit__\u001b[39m(\u001b[38;5;28mself\u001b[39m, \u001b[38;5;241m*\u001b[39margs) \u001b[38;5;241m-\u001b[39m\u001b[38;5;241m>\u001b[39m \u001b[38;5;28;01mNone\u001b[39;00m:\n\u001b[1;32m--> 784\u001b[0m     \u001b[38;5;28;43mself\u001b[39;49m\u001b[38;5;241;43m.\u001b[39;49m\u001b[43mfile_like\u001b[49m\u001b[38;5;241;43m.\u001b[39;49m\u001b[43mwrite_end_of_file\u001b[49m\u001b[43m(\u001b[49m\u001b[43m)\u001b[49m\n\u001b[0;32m    785\u001b[0m     \u001b[38;5;28;01mif\u001b[39;00m \u001b[38;5;28mself\u001b[39m\u001b[38;5;241m.\u001b[39mfile_stream \u001b[38;5;129;01mis\u001b[39;00m \u001b[38;5;129;01mnot\u001b[39;00m \u001b[38;5;28;01mNone\u001b[39;00m:\n\u001b[0;32m    786\u001b[0m         \u001b[38;5;28mself\u001b[39m\u001b[38;5;241m.\u001b[39mfile_stream\u001b[38;5;241m.\u001b[39mclose()\n",
      "\u001b[1;31mRuntimeError\u001b[0m: [enforce fail at inline_container.cc:626] . unexpected pos 34314560 vs 34314456"
     ]
    }
   ],
   "source": [
    "os.makedirs(\"./pointnet_03\", exist_ok=True)\n",
    "\n",
    "for epoch in range(num_epochs):\n",
    "\n",
    "    accuracy = 0\n",
    "    loss_avg = 0\n",
    "    count = 0\n",
    "\n",
    "    pointnet.train()\n",
    "    for data in trainloader:\n",
    "\n",
    "        clouds = data.pos.view(data.batch[-1]+1, num_points, 3)\n",
    "        clouds = clouds.transpose(2, 1).to(device)\n",
    "\n",
    "        labels = data.y.to(device)\n",
    "\n",
    "        optimizer.zero_grad()\n",
    "\n",
    "        outputs, A = pointnet(clouds)\n",
    "        loss = criterion(outputs, labels, A)\n",
    "        loss.backward()\n",
    "        optimizer.step()\n",
    "        scheduler.step()\n",
    "\n",
    "        loss_avg += loss.item()\n",
    "        count += 1\n",
    "    \n",
    "    loss_avg = loss_avg/count\n",
    "    \n",
    "    pointnet.eval()\n",
    "    with torch.no_grad():\n",
    "        correct = 0\n",
    "        total = 0\n",
    "        for data in testloader:\n",
    "            \n",
    "            clouds = data.pos.view(data.batch[-1]+1, num_points, 3)\n",
    "            clouds = clouds.transpose(2,1).to(device)\n",
    "\n",
    "            labels = data.y.to(device)\n",
    "            \n",
    "            outputs, _ = pointnet(clouds)\n",
    "\n",
    "            _, predicted = torch.max(outputs.data, 1)\n",
    "            total += labels.size(0)\n",
    "            correct += (predicted == labels).sum().item()\n",
    "\n",
    "        accuracy = correct/total\n",
    "    \n",
    "    print(\"{}   [Epoch {:3}]  Loss: {:8.4}  Accuracy:   {:8.4}%\".format(datetime.datetime.now(), epoch+1, loss_avg, 100*accuracy))\n",
    "\n",
    "    torch.save({\n",
    "        'epoch': epoch,\n",
    "        'model_state_dict': pointnet.state_dict(),\n",
    "        'optimizer_state_dict': optimizer.state_dict(),\n",
    "        'scheduler_state_dict': scheduler.state_dict(),\n",
    "        'loss': loss,\n",
    "        }, \"./pointnet_03/epoch_\" + str(epoch) + \".pth\")"
   ]
  },
  {
   "cell_type": "code",
   "execution_count": 12,
   "metadata": {},
   "outputs": [
    {
     "name": "stdout",
     "output_type": "stream",
     "text": [
      "Accuracy:    89.97797356828194%\n"
     ]
    }
   ],
   "source": [
    "pointnet.eval()\n",
    "\n",
    "with torch.no_grad():\n",
    "    correct = 0\n",
    "    total = 0\n",
    "    for data in testloader:\n",
    "        \n",
    "        clouds = data.pos.view(data.batch[-1]+1, num_points, 3)\n",
    "        clouds = clouds.transpose(2, 1).to(device)\n",
    "\n",
    "        labels = data.y.to(device)\n",
    "            \n",
    "        outputs, _ = pointnet(clouds)\n",
    "\n",
    "        _, predicted = torch.max(outputs.data, 1)\n",
    "        total += labels.size(0)\n",
    "        correct += (predicted == labels).sum().item()\n",
    "\n",
    "    print('Accuracy:    {}%'.format(100 * correct / total))"
   ]
  },
  {
   "cell_type": "code",
   "execution_count": 19,
   "metadata": {},
   "outputs": [
    {
     "name": "stdout",
     "output_type": "stream",
     "text": [
      "Predicted Class: bed      Actual Class:   bed\n"
     ]
    },
    {
     "data": {
      "application/vnd.plotly.v1+json": {
       "config": {
        "plotlyServerURL": "https://plot.ly"
       },
       "data": [
        {
         "marker": {
          "color": "white",
          "size": 1
         },
         "mode": "markers",
         "type": "scatter3d",
         "x": {
          "bdata": "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",
          "dtype": "f4"
         },
         "y": {
          "bdata": "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",
          "dtype": "f4"
         },
         "z": {
          "bdata": "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",
          "dtype": "f4"
         }
        }
       ],
       "layout": {
        "scene": {
         "xaxis": {
          "visible": false
         },
         "yaxis": {
          "visible": false
         },
         "zaxis": {
          "visible": false
         }
        },
        "template": {
         "data": {
          "bar": [
           {
            "error_x": {
             "color": "#f2f5fa"
            },
            "error_y": {
             "color": "#f2f5fa"
            },
            "marker": {
             "line": {
              "color": "rgb(17,17,17)",
              "width": 0.5
             },
             "pattern": {
              "fillmode": "overlay",
              "size": 10,
              "solidity": 0.2
             }
            },
            "type": "bar"
           }
          ],
          "barpolar": [
           {
            "marker": {
             "line": {
              "color": "rgb(17,17,17)",
              "width": 0.5
             },
             "pattern": {
              "fillmode": "overlay",
              "size": 10,
              "solidity": 0.2
             }
            },
            "type": "barpolar"
           }
          ],
          "carpet": [
           {
            "aaxis": {
             "endlinecolor": "#A2B1C6",
             "gridcolor": "#506784",
             "linecolor": "#506784",
             "minorgridcolor": "#506784",
             "startlinecolor": "#A2B1C6"
            },
            "baxis": {
             "endlinecolor": "#A2B1C6",
             "gridcolor": "#506784",
             "linecolor": "#506784",
             "minorgridcolor": "#506784",
             "startlinecolor": "#A2B1C6"
            },
            "type": "carpet"
           }
          ],
          "choropleth": [
           {
            "colorbar": {
             "outlinewidth": 0,
             "ticks": ""
            },
            "type": "choropleth"
           }
          ],
          "contour": [
           {
            "colorbar": {
             "outlinewidth": 0,
             "ticks": ""
            },
            "colorscale": [
             [
              0,
              "#0d0887"
             ],
             [
              0.1111111111111111,
              "#46039f"
             ],
             [
              0.2222222222222222,
              "#7201a8"
             ],
             [
              0.3333333333333333,
              "#9c179e"
             ],
             [
              0.4444444444444444,
              "#bd3786"
             ],
             [
              0.5555555555555556,
              "#d8576b"
             ],
             [
              0.6666666666666666,
              "#ed7953"
             ],
             [
              0.7777777777777778,
              "#fb9f3a"
             ],
             [
              0.8888888888888888,
              "#fdca26"
             ],
             [
              1,
              "#f0f921"
             ]
            ],
            "type": "contour"
           }
          ],
          "contourcarpet": [
           {
            "colorbar": {
             "outlinewidth": 0,
             "ticks": ""
            },
            "type": "contourcarpet"
           }
          ],
          "heatmap": [
           {
            "colorbar": {
             "outlinewidth": 0,
             "ticks": ""
            },
            "colorscale": [
             [
              0,
              "#0d0887"
             ],
             [
              0.1111111111111111,
              "#46039f"
             ],
             [
              0.2222222222222222,
              "#7201a8"
             ],
             [
              0.3333333333333333,
              "#9c179e"
             ],
             [
              0.4444444444444444,
              "#bd3786"
             ],
             [
              0.5555555555555556,
              "#d8576b"
             ],
             [
              0.6666666666666666,
              "#ed7953"
             ],
             [
              0.7777777777777778,
              "#fb9f3a"
             ],
             [
              0.8888888888888888,
              "#fdca26"
             ],
             [
              1,
              "#f0f921"
             ]
            ],
            "type": "heatmap"
           }
          ],
          "histogram": [
           {
            "marker": {
             "pattern": {
              "fillmode": "overlay",
              "size": 10,
              "solidity": 0.2
             }
            },
            "type": "histogram"
           }
          ],
          "histogram2d": [
           {
            "colorbar": {
             "outlinewidth": 0,
             "ticks": ""
            },
            "colorscale": [
             [
              0,
              "#0d0887"
             ],
             [
              0.1111111111111111,
              "#46039f"
             ],
             [
              0.2222222222222222,
              "#7201a8"
             ],
             [
              0.3333333333333333,
              "#9c179e"
             ],
             [
              0.4444444444444444,
              "#bd3786"
             ],
             [
              0.5555555555555556,
              "#d8576b"
             ],
             [
              0.6666666666666666,
              "#ed7953"
             ],
             [
              0.7777777777777778,
              "#fb9f3a"
             ],
             [
              0.8888888888888888,
              "#fdca26"
             ],
             [
              1,
              "#f0f921"
             ]
            ],
            "type": "histogram2d"
           }
          ],
          "histogram2dcontour": [
           {
            "colorbar": {
             "outlinewidth": 0,
             "ticks": ""
            },
            "colorscale": [
             [
              0,
              "#0d0887"
             ],
             [
              0.1111111111111111,
              "#46039f"
             ],
             [
              0.2222222222222222,
              "#7201a8"
             ],
             [
              0.3333333333333333,
              "#9c179e"
             ],
             [
              0.4444444444444444,
              "#bd3786"
             ],
             [
              0.5555555555555556,
              "#d8576b"
             ],
             [
              0.6666666666666666,
              "#ed7953"
             ],
             [
              0.7777777777777778,
              "#fb9f3a"
             ],
             [
              0.8888888888888888,
              "#fdca26"
             ],
             [
              1,
              "#f0f921"
             ]
            ],
            "type": "histogram2dcontour"
           }
          ],
          "mesh3d": [
           {
            "colorbar": {
             "outlinewidth": 0,
             "ticks": ""
            },
            "type": "mesh3d"
           }
          ],
          "parcoords": [
           {
            "line": {
             "colorbar": {
              "outlinewidth": 0,
              "ticks": ""
             }
            },
            "type": "parcoords"
           }
          ],
          "pie": [
           {
            "automargin": true,
            "type": "pie"
           }
          ],
          "scatter": [
           {
            "marker": {
             "line": {
              "color": "#283442"
             }
            },
            "type": "scatter"
           }
          ],
          "scatter3d": [
           {
            "line": {
             "colorbar": {
              "outlinewidth": 0,
              "ticks": ""
             }
            },
            "marker": {
             "colorbar": {
              "outlinewidth": 0,
              "ticks": ""
             }
            },
            "type": "scatter3d"
           }
          ],
          "scattercarpet": [
           {
            "marker": {
             "colorbar": {
              "outlinewidth": 0,
              "ticks": ""
             }
            },
            "type": "scattercarpet"
           }
          ],
          "scattergeo": [
           {
            "marker": {
             "colorbar": {
              "outlinewidth": 0,
              "ticks": ""
             }
            },
            "type": "scattergeo"
           }
          ],
          "scattergl": [
           {
            "marker": {
             "line": {
              "color": "#283442"
             }
            },
            "type": "scattergl"
           }
          ],
          "scattermap": [
           {
            "marker": {
             "colorbar": {
              "outlinewidth": 0,
              "ticks": ""
             }
            },
            "type": "scattermap"
           }
          ],
          "scattermapbox": [
           {
            "marker": {
             "colorbar": {
              "outlinewidth": 0,
              "ticks": ""
             }
            },
            "type": "scattermapbox"
           }
          ],
          "scatterpolar": [
           {
            "marker": {
             "colorbar": {
              "outlinewidth": 0,
              "ticks": ""
             }
            },
            "type": "scatterpolar"
           }
          ],
          "scatterpolargl": [
           {
            "marker": {
             "colorbar": {
              "outlinewidth": 0,
              "ticks": ""
             }
            },
            "type": "scatterpolargl"
           }
          ],
          "scatterternary": [
           {
            "marker": {
             "colorbar": {
              "outlinewidth": 0,
              "ticks": ""
             }
            },
            "type": "scatterternary"
           }
          ],
          "surface": [
           {
            "colorbar": {
             "outlinewidth": 0,
             "ticks": ""
            },
            "colorscale": [
             [
              0,
              "#0d0887"
             ],
             [
              0.1111111111111111,
              "#46039f"
             ],
             [
              0.2222222222222222,
              "#7201a8"
             ],
             [
              0.3333333333333333,
              "#9c179e"
             ],
             [
              0.4444444444444444,
              "#bd3786"
             ],
             [
              0.5555555555555556,
              "#d8576b"
             ],
             [
              0.6666666666666666,
              "#ed7953"
             ],
             [
              0.7777777777777778,
              "#fb9f3a"
             ],
             [
              0.8888888888888888,
              "#fdca26"
             ],
             [
              1,
              "#f0f921"
             ]
            ],
            "type": "surface"
           }
          ],
          "table": [
           {
            "cells": {
             "fill": {
              "color": "#506784"
             },
             "line": {
              "color": "rgb(17,17,17)"
             }
            },
            "header": {
             "fill": {
              "color": "#2a3f5f"
             },
             "line": {
              "color": "rgb(17,17,17)"
             }
            },
            "type": "table"
           }
          ]
         },
         "layout": {
          "annotationdefaults": {
           "arrowcolor": "#f2f5fa",
           "arrowhead": 0,
           "arrowwidth": 1
          },
          "autotypenumbers": "strict",
          "coloraxis": {
           "colorbar": {
            "outlinewidth": 0,
            "ticks": ""
           }
          },
          "colorscale": {
           "diverging": [
            [
             0,
             "#8e0152"
            ],
            [
             0.1,
             "#c51b7d"
            ],
            [
             0.2,
             "#de77ae"
            ],
            [
             0.3,
             "#f1b6da"
            ],
            [
             0.4,
             "#fde0ef"
            ],
            [
             0.5,
             "#f7f7f7"
            ],
            [
             0.6,
             "#e6f5d0"
            ],
            [
             0.7,
             "#b8e186"
            ],
            [
             0.8,
             "#7fbc41"
            ],
            [
             0.9,
             "#4d9221"
            ],
            [
             1,
             "#276419"
            ]
           ],
           "sequential": [
            [
             0,
             "#0d0887"
            ],
            [
             0.1111111111111111,
             "#46039f"
            ],
            [
             0.2222222222222222,
             "#7201a8"
            ],
            [
             0.3333333333333333,
             "#9c179e"
            ],
            [
             0.4444444444444444,
             "#bd3786"
            ],
            [
             0.5555555555555556,
             "#d8576b"
            ],
            [
             0.6666666666666666,
             "#ed7953"
            ],
            [
             0.7777777777777778,
             "#fb9f3a"
            ],
            [
             0.8888888888888888,
             "#fdca26"
            ],
            [
             1,
             "#f0f921"
            ]
           ],
           "sequentialminus": [
            [
             0,
             "#0d0887"
            ],
            [
             0.1111111111111111,
             "#46039f"
            ],
            [
             0.2222222222222222,
             "#7201a8"
            ],
            [
             0.3333333333333333,
             "#9c179e"
            ],
            [
             0.4444444444444444,
             "#bd3786"
            ],
            [
             0.5555555555555556,
             "#d8576b"
            ],
            [
             0.6666666666666666,
             "#ed7953"
            ],
            [
             0.7777777777777778,
             "#fb9f3a"
            ],
            [
             0.8888888888888888,
             "#fdca26"
            ],
            [
             1,
             "#f0f921"
            ]
           ]
          },
          "colorway": [
           "#636efa",
           "#EF553B",
           "#00cc96",
           "#ab63fa",
           "#FFA15A",
           "#19d3f3",
           "#FF6692",
           "#B6E880",
           "#FF97FF",
           "#FECB52"
          ],
          "font": {
           "color": "#f2f5fa"
          },
          "geo": {
           "bgcolor": "rgb(17,17,17)",
           "lakecolor": "rgb(17,17,17)",
           "landcolor": "rgb(17,17,17)",
           "showlakes": true,
           "showland": true,
           "subunitcolor": "#506784"
          },
          "hoverlabel": {
           "align": "left"
          },
          "hovermode": "closest",
          "mapbox": {
           "style": "dark"
          },
          "paper_bgcolor": "rgb(17,17,17)",
          "plot_bgcolor": "rgb(17,17,17)",
          "polar": {
           "angularaxis": {
            "gridcolor": "#506784",
            "linecolor": "#506784",
            "ticks": ""
           },
           "bgcolor": "rgb(17,17,17)",
           "radialaxis": {
            "gridcolor": "#506784",
            "linecolor": "#506784",
            "ticks": ""
           }
          },
          "scene": {
           "xaxis": {
            "backgroundcolor": "rgb(17,17,17)",
            "gridcolor": "#506784",
            "gridwidth": 2,
            "linecolor": "#506784",
            "showbackground": true,
            "ticks": "",
            "zerolinecolor": "#C8D4E3"
           },
           "yaxis": {
            "backgroundcolor": "rgb(17,17,17)",
            "gridcolor": "#506784",
            "gridwidth": 2,
            "linecolor": "#506784",
            "showbackground": true,
            "ticks": "",
            "zerolinecolor": "#C8D4E3"
           },
           "zaxis": {
            "backgroundcolor": "rgb(17,17,17)",
            "gridcolor": "#506784",
            "gridwidth": 2,
            "linecolor": "#506784",
            "showbackground": true,
            "ticks": "",
            "zerolinecolor": "#C8D4E3"
           }
          },
          "shapedefaults": {
           "line": {
            "color": "#f2f5fa"
           }
          },
          "sliderdefaults": {
           "bgcolor": "#C8D4E3",
           "bordercolor": "rgb(17,17,17)",
           "borderwidth": 1,
           "tickwidth": 0
          },
          "ternary": {
           "aaxis": {
            "gridcolor": "#506784",
            "linecolor": "#506784",
            "ticks": ""
           },
           "baxis": {
            "gridcolor": "#506784",
            "linecolor": "#506784",
            "ticks": ""
           },
           "bgcolor": "rgb(17,17,17)",
           "caxis": {
            "gridcolor": "#506784",
            "linecolor": "#506784",
            "ticks": ""
           }
          },
          "title": {
           "x": 0.05
          },
          "updatemenudefaults": {
           "bgcolor": "#506784",
           "borderwidth": 0
          },
          "xaxis": {
           "automargin": true,
           "gridcolor": "#283442",
           "linecolor": "#506784",
           "ticks": "",
           "title": {
            "standoff": 15
           },
           "zerolinecolor": "#283442",
           "zerolinewidth": 2
          },
          "yaxis": {
           "automargin": true,
           "gridcolor": "#283442",
           "linecolor": "#506784",
           "ticks": "",
           "title": {
            "standoff": 15
           },
           "zerolinecolor": "#283442",
           "zerolinewidth": 2
          }
         }
        }
       }
      }
     },
     "metadata": {},
     "output_type": "display_data"
    }
   ],
   "source": [
    "idx = random.randint(0, len(dataset_test))\n",
    "\n",
    "cloud = dataset_train[idx].pos.view(1, num_points, 3)\n",
    "cloud = cloud.transpose(2, 1).to(device)\n",
    "\n",
    "output, _ = pointnet(cloud)\n",
    "\n",
    "_, predicted = torch.max(output.data, 1)\n",
    "label = dataset_train[idx].y\n",
    "\n",
    "print('Predicted Class: {}      Actual Class:   {}'.format(classes[predicted.item()], classes[label.item()]))\n",
    "\n",
    "fig = go.Figure(\n",
    "  data=[\n",
    "    go.Scatter3d(\n",
    "      x=dataset_train[idx].pos[:,0], y=dataset_train[idx].pos[:,1], z=dataset_train[idx].pos[:,2],\n",
    "      mode='markers',\n",
    "      marker=dict(size=1, color=\"white\"))],\n",
    "  layout=dict(\n",
    "    scene=dict(\n",
    "      xaxis=dict(visible=False),\n",
    "      yaxis=dict(visible=False),\n",
    "      zaxis=dict(visible=False))))\n",
    "\n",
    "fig.update_layout(template='plotly_dark')\n",
    "\n",
    "fig.show()"
   ]
  },
  {
   "cell_type": "code",
   "execution_count": null,
   "metadata": {},
   "outputs": [],
   "source": []
  }
 ],
 "metadata": {
  "kernelspec": {
   "display_name": ".venv",
   "language": "python",
   "name": "python3"
  },
  "language_info": {
   "codemirror_mode": {
    "name": "ipython",
    "version": 3
   },
   "file_extension": ".py",
   "mimetype": "text/x-python",
   "name": "python",
   "nbconvert_exporter": "python",
   "pygments_lexer": "ipython3",
   "version": "3.10.11"
  }
 },
 "nbformat": 4,
 "nbformat_minor": 2
}
