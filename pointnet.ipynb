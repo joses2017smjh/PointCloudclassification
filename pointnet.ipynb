{
 "cells": [
  {
   "cell_type": "code",
   "execution_count": 2,
   "metadata": {},
   "outputs": [
    {
     "name": "stdout",
     "output_type": "stream",
     "text": [
      "Jupyter environment detected. Enabling Open3D WebVisualizer.\n",
      "[Open3D INFO] WebRTC GUI backend enabled.\n",
      "[Open3D INFO] WebRTCWindowSystem: HTTP handshake server disabled.\n"
     ]
    }
   ],
   "source": [
    "import torch\n",
    "from torch_geometric.datasets import ModelNet\n",
    "from torch_geometric.transforms import SamplePoints, NormalizeScale\n",
    "from torch_geometric.loader import DataLoader\n",
    "\n",
    "import open3d as o3d\n",
    "import plotly.graph_objects as go\n",
    "\n",
    "import torch.nn as nn\n",
    "import torch.nn.functional as F\n",
    "import torch.optim as optim\n",
    "import datetime"
   ]
  },
  {
   "cell_type": "code",
   "execution_count": 3,
   "metadata": {},
   "outputs": [],
   "source": [
    "device = \"cuda\""
   ]
  },
  {
   "cell_type": "code",
   "execution_count": 6,
   "metadata": {},
   "outputs": [
    {
     "name": "stdout",
     "output_type": "stream",
     "text": [
      "Number of training examples: 3991\n",
      "Number of test examples: 908\n",
      "Data(pos=[512, 3], y=[1])\n",
      "Point cloud shape: torch.Size([512, 3])\n",
      "Label: tensor([2])\n"
     ]
    }
   ],
   "source": [
    "num_points = 512\n",
    "\n",
    "pre_transform = NormalizeScale()\n",
    "transform = SamplePoints(num_points)\n",
    "\n",
    "batch_size = 64\n",
    "\n",
    "root = 'data/ModelNet10'\n",
    "dataset_train = ModelNet(root=root, name='10', train=True, pre_transform=pre_transform, transform=transform)\n",
    "trainloader = DataLoader(dataset_train, batch_size=batch_size, shuffle=True)\n",
    "\n",
    "dataset_test = ModelNet(root=root, name='10', train=False, pre_transform=pre_transform, transform=transform)\n",
    "testloader = DataLoader(dataset_test, batch_size=batch_size)\n",
    "\n",
    "print(f'Number of training examples: {len(dataset_train)}')\n",
    "print(f'Number of test examples: {len(dataset_test)}')\n",
    "\n",
    "data = dataset_train[1001]\n",
    "print(data)\n",
    "print(f'Point cloud shape: {data.pos.shape}')\n",
    "print(f'Label: {data.y}')"
   ]
  },
  {
   "cell_type": "code",
   "execution_count": 7,
   "metadata": {},
   "outputs": [
    {
     "data": {
      "application/vnd.plotly.v1+json": {
       "config": {
        "plotlyServerURL": "https://plot.ly"
       },
       "data": [
        {
         "marker": {
          "color": "white",
          "size": 1
         },
         "mode": "markers",
         "type": "scatter3d",
         "x": {
          "bdata": "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",
          "dtype": "f4"
         },
         "y": {
          "bdata": "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",
          "dtype": "f4"
         },
         "z": {
          "bdata": "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",
          "dtype": "f4"
         }
        }
       ],
       "layout": {
        "scene": {
         "xaxis": {
          "visible": false
         },
         "yaxis": {
          "visible": false
         },
         "zaxis": {
          "visible": false
         }
        },
        "template": {
         "data": {
          "bar": [
           {
            "error_x": {
             "color": "#f2f5fa"
            },
            "error_y": {
             "color": "#f2f5fa"
            },
            "marker": {
             "line": {
              "color": "rgb(17,17,17)",
              "width": 0.5
             },
             "pattern": {
              "fillmode": "overlay",
              "size": 10,
              "solidity": 0.2
             }
            },
            "type": "bar"
           }
          ],
          "barpolar": [
           {
            "marker": {
             "line": {
              "color": "rgb(17,17,17)",
              "width": 0.5
             },
             "pattern": {
              "fillmode": "overlay",
              "size": 10,
              "solidity": 0.2
             }
            },
            "type": "barpolar"
           }
          ],
          "carpet": [
           {
            "aaxis": {
             "endlinecolor": "#A2B1C6",
             "gridcolor": "#506784",
             "linecolor": "#506784",
             "minorgridcolor": "#506784",
             "startlinecolor": "#A2B1C6"
            },
            "baxis": {
             "endlinecolor": "#A2B1C6",
             "gridcolor": "#506784",
             "linecolor": "#506784",
             "minorgridcolor": "#506784",
             "startlinecolor": "#A2B1C6"
            },
            "type": "carpet"
           }
          ],
          "choropleth": [
           {
            "colorbar": {
             "outlinewidth": 0,
             "ticks": ""
            },
            "type": "choropleth"
           }
          ],
          "contour": [
           {
            "colorbar": {
             "outlinewidth": 0,
             "ticks": ""
            },
            "colorscale": [
             [
              0,
              "#0d0887"
             ],
             [
              0.1111111111111111,
              "#46039f"
             ],
             [
              0.2222222222222222,
              "#7201a8"
             ],
             [
              0.3333333333333333,
              "#9c179e"
             ],
             [
              0.4444444444444444,
              "#bd3786"
             ],
             [
              0.5555555555555556,
              "#d8576b"
             ],
             [
              0.6666666666666666,
              "#ed7953"
             ],
             [
              0.7777777777777778,
              "#fb9f3a"
             ],
             [
              0.8888888888888888,
              "#fdca26"
             ],
             [
              1,
              "#f0f921"
             ]
            ],
            "type": "contour"
           }
          ],
          "contourcarpet": [
           {
            "colorbar": {
             "outlinewidth": 0,
             "ticks": ""
            },
            "type": "contourcarpet"
           }
          ],
          "heatmap": [
           {
            "colorbar": {
             "outlinewidth": 0,
             "ticks": ""
            },
            "colorscale": [
             [
              0,
              "#0d0887"
             ],
             [
              0.1111111111111111,
              "#46039f"
             ],
             [
              0.2222222222222222,
              "#7201a8"
             ],
             [
              0.3333333333333333,
              "#9c179e"
             ],
             [
              0.4444444444444444,
              "#bd3786"
             ],
             [
              0.5555555555555556,
              "#d8576b"
             ],
             [
              0.6666666666666666,
              "#ed7953"
             ],
             [
              0.7777777777777778,
              "#fb9f3a"
             ],
             [
              0.8888888888888888,
              "#fdca26"
             ],
             [
              1,
              "#f0f921"
             ]
            ],
            "type": "heatmap"
           }
          ],
          "histogram": [
           {
            "marker": {
             "pattern": {
              "fillmode": "overlay",
              "size": 10,
              "solidity": 0.2
             }
            },
            "type": "histogram"
           }
          ],
          "histogram2d": [
           {
            "colorbar": {
             "outlinewidth": 0,
             "ticks": ""
            },
            "colorscale": [
             [
              0,
              "#0d0887"
             ],
             [
              0.1111111111111111,
              "#46039f"
             ],
             [
              0.2222222222222222,
              "#7201a8"
             ],
             [
              0.3333333333333333,
              "#9c179e"
             ],
             [
              0.4444444444444444,
              "#bd3786"
             ],
             [
              0.5555555555555556,
              "#d8576b"
             ],
             [
              0.6666666666666666,
              "#ed7953"
             ],
             [
              0.7777777777777778,
              "#fb9f3a"
             ],
             [
              0.8888888888888888,
              "#fdca26"
             ],
             [
              1,
              "#f0f921"
             ]
            ],
            "type": "histogram2d"
           }
          ],
          "histogram2dcontour": [
           {
            "colorbar": {
             "outlinewidth": 0,
             "ticks": ""
            },
            "colorscale": [
             [
              0,
              "#0d0887"
             ],
             [
              0.1111111111111111,
              "#46039f"
             ],
             [
              0.2222222222222222,
              "#7201a8"
             ],
             [
              0.3333333333333333,
              "#9c179e"
             ],
             [
              0.4444444444444444,
              "#bd3786"
             ],
             [
              0.5555555555555556,
              "#d8576b"
             ],
             [
              0.6666666666666666,
              "#ed7953"
             ],
             [
              0.7777777777777778,
              "#fb9f3a"
             ],
             [
              0.8888888888888888,
              "#fdca26"
             ],
             [
              1,
              "#f0f921"
             ]
            ],
            "type": "histogram2dcontour"
           }
          ],
          "mesh3d": [
           {
            "colorbar": {
             "outlinewidth": 0,
             "ticks": ""
            },
            "type": "mesh3d"
           }
          ],
          "parcoords": [
           {
            "line": {
             "colorbar": {
              "outlinewidth": 0,
              "ticks": ""
             }
            },
            "type": "parcoords"
           }
          ],
          "pie": [
           {
            "automargin": true,
            "type": "pie"
           }
          ],
          "scatter": [
           {
            "marker": {
             "line": {
              "color": "#283442"
             }
            },
            "type": "scatter"
           }
          ],
          "scatter3d": [
           {
            "line": {
             "colorbar": {
              "outlinewidth": 0,
              "ticks": ""
             }
            },
            "marker": {
             "colorbar": {
              "outlinewidth": 0,
              "ticks": ""
             }
            },
            "type": "scatter3d"
           }
          ],
          "scattercarpet": [
           {
            "marker": {
             "colorbar": {
              "outlinewidth": 0,
              "ticks": ""
             }
            },
            "type": "scattercarpet"
           }
          ],
          "scattergeo": [
           {
            "marker": {
             "colorbar": {
              "outlinewidth": 0,
              "ticks": ""
             }
            },
            "type": "scattergeo"
           }
          ],
          "scattergl": [
           {
            "marker": {
             "line": {
              "color": "#283442"
             }
            },
            "type": "scattergl"
           }
          ],
          "scattermap": [
           {
            "marker": {
             "colorbar": {
              "outlinewidth": 0,
              "ticks": ""
             }
            },
            "type": "scattermap"
           }
          ],
          "scattermapbox": [
           {
            "marker": {
             "colorbar": {
              "outlinewidth": 0,
              "ticks": ""
             }
            },
            "type": "scattermapbox"
           }
          ],
          "scatterpolar": [
           {
            "marker": {
             "colorbar": {
              "outlinewidth": 0,
              "ticks": ""
             }
            },
            "type": "scatterpolar"
           }
          ],
          "scatterpolargl": [
           {
            "marker": {
             "colorbar": {
              "outlinewidth": 0,
              "ticks": ""
             }
            },
            "type": "scatterpolargl"
           }
          ],
          "scatterternary": [
           {
            "marker": {
             "colorbar": {
              "outlinewidth": 0,
              "ticks": ""
             }
            },
            "type": "scatterternary"
           }
          ],
          "surface": [
           {
            "colorbar": {
             "outlinewidth": 0,
             "ticks": ""
            },
            "colorscale": [
             [
              0,
              "#0d0887"
             ],
             [
              0.1111111111111111,
              "#46039f"
             ],
             [
              0.2222222222222222,
              "#7201a8"
             ],
             [
              0.3333333333333333,
              "#9c179e"
             ],
             [
              0.4444444444444444,
              "#bd3786"
             ],
             [
              0.5555555555555556,
              "#d8576b"
             ],
             [
              0.6666666666666666,
              "#ed7953"
             ],
             [
              0.7777777777777778,
              "#fb9f3a"
             ],
             [
              0.8888888888888888,
              "#fdca26"
             ],
             [
              1,
              "#f0f921"
             ]
            ],
            "type": "surface"
           }
          ],
          "table": [
           {
            "cells": {
             "fill": {
              "color": "#506784"
             },
             "line": {
              "color": "rgb(17,17,17)"
             }
            },
            "header": {
             "fill": {
              "color": "#2a3f5f"
             },
             "line": {
              "color": "rgb(17,17,17)"
             }
            },
            "type": "table"
           }
          ]
         },
         "layout": {
          "annotationdefaults": {
           "arrowcolor": "#f2f5fa",
           "arrowhead": 0,
           "arrowwidth": 1
          },
          "autotypenumbers": "strict",
          "coloraxis": {
           "colorbar": {
            "outlinewidth": 0,
            "ticks": ""
           }
          },
          "colorscale": {
           "diverging": [
            [
             0,
             "#8e0152"
            ],
            [
             0.1,
             "#c51b7d"
            ],
            [
             0.2,
             "#de77ae"
            ],
            [
             0.3,
             "#f1b6da"
            ],
            [
             0.4,
             "#fde0ef"
            ],
            [
             0.5,
             "#f7f7f7"
            ],
            [
             0.6,
             "#e6f5d0"
            ],
            [
             0.7,
             "#b8e186"
            ],
            [
             0.8,
             "#7fbc41"
            ],
            [
             0.9,
             "#4d9221"
            ],
            [
             1,
             "#276419"
            ]
           ],
           "sequential": [
            [
             0,
             "#0d0887"
            ],
            [
             0.1111111111111111,
             "#46039f"
            ],
            [
             0.2222222222222222,
             "#7201a8"
            ],
            [
             0.3333333333333333,
             "#9c179e"
            ],
            [
             0.4444444444444444,
             "#bd3786"
            ],
            [
             0.5555555555555556,
             "#d8576b"
            ],
            [
             0.6666666666666666,
             "#ed7953"
            ],
            [
             0.7777777777777778,
             "#fb9f3a"
            ],
            [
             0.8888888888888888,
             "#fdca26"
            ],
            [
             1,
             "#f0f921"
            ]
           ],
           "sequentialminus": [
            [
             0,
             "#0d0887"
            ],
            [
             0.1111111111111111,
             "#46039f"
            ],
            [
             0.2222222222222222,
             "#7201a8"
            ],
            [
             0.3333333333333333,
             "#9c179e"
            ],
            [
             0.4444444444444444,
             "#bd3786"
            ],
            [
             0.5555555555555556,
             "#d8576b"
            ],
            [
             0.6666666666666666,
             "#ed7953"
            ],
            [
             0.7777777777777778,
             "#fb9f3a"
            ],
            [
             0.8888888888888888,
             "#fdca26"
            ],
            [
             1,
             "#f0f921"
            ]
           ]
          },
          "colorway": [
           "#636efa",
           "#EF553B",
           "#00cc96",
           "#ab63fa",
           "#FFA15A",
           "#19d3f3",
           "#FF6692",
           "#B6E880",
           "#FF97FF",
           "#FECB52"
          ],
          "font": {
           "color": "#f2f5fa"
          },
          "geo": {
           "bgcolor": "rgb(17,17,17)",
           "lakecolor": "rgb(17,17,17)",
           "landcolor": "rgb(17,17,17)",
           "showlakes": true,
           "showland": true,
           "subunitcolor": "#506784"
          },
          "hoverlabel": {
           "align": "left"
          },
          "hovermode": "closest",
          "mapbox": {
           "style": "dark"
          },
          "paper_bgcolor": "rgb(17,17,17)",
          "plot_bgcolor": "rgb(17,17,17)",
          "polar": {
           "angularaxis": {
            "gridcolor": "#506784",
            "linecolor": "#506784",
            "ticks": ""
           },
           "bgcolor": "rgb(17,17,17)",
           "radialaxis": {
            "gridcolor": "#506784",
            "linecolor": "#506784",
            "ticks": ""
           }
          },
          "scene": {
           "xaxis": {
            "backgroundcolor": "rgb(17,17,17)",
            "gridcolor": "#506784",
            "gridwidth": 2,
            "linecolor": "#506784",
            "showbackground": true,
            "ticks": "",
            "zerolinecolor": "#C8D4E3"
           },
           "yaxis": {
            "backgroundcolor": "rgb(17,17,17)",
            "gridcolor": "#506784",
            "gridwidth": 2,
            "linecolor": "#506784",
            "showbackground": true,
            "ticks": "",
            "zerolinecolor": "#C8D4E3"
           },
           "zaxis": {
            "backgroundcolor": "rgb(17,17,17)",
            "gridcolor": "#506784",
            "gridwidth": 2,
            "linecolor": "#506784",
            "showbackground": true,
            "ticks": "",
            "zerolinecolor": "#C8D4E3"
           }
          },
          "shapedefaults": {
           "line": {
            "color": "#f2f5fa"
           }
          },
          "sliderdefaults": {
           "bgcolor": "#C8D4E3",
           "bordercolor": "rgb(17,17,17)",
           "borderwidth": 1,
           "tickwidth": 0
          },
          "ternary": {
           "aaxis": {
            "gridcolor": "#506784",
            "linecolor": "#506784",
            "ticks": ""
           },
           "baxis": {
            "gridcolor": "#506784",
            "linecolor": "#506784",
            "ticks": ""
           },
           "bgcolor": "rgb(17,17,17)",
           "caxis": {
            "gridcolor": "#506784",
            "linecolor": "#506784",
            "ticks": ""
           }
          },
          "title": {
           "x": 0.05
          },
          "updatemenudefaults": {
           "bgcolor": "#506784",
           "borderwidth": 0
          },
          "xaxis": {
           "automargin": true,
           "gridcolor": "#283442",
           "linecolor": "#506784",
           "ticks": "",
           "title": {
            "standoff": 15
           },
           "zerolinecolor": "#283442",
           "zerolinewidth": 2
          },
          "yaxis": {
           "automargin": true,
           "gridcolor": "#283442",
           "linecolor": "#506784",
           "ticks": "",
           "title": {
            "standoff": 15
           },
           "zerolinecolor": "#283442",
           "zerolinewidth": 2
          }
         }
        }
       }
      }
     },
     "metadata": {},
     "output_type": "display_data"
    }
   ],
   "source": [
    "fig = go.Figure(\n",
    "  data=[\n",
    "    go.Scatter3d(\n",
    "      x=data.pos[:,0], y=data.pos[:,1], z=data.pos[:,2],\n",
    "      mode='markers',\n",
    "      marker=dict(size=1, color=\"white\"))],\n",
    "  layout=dict(\n",
    "    scene=dict(\n",
    "      xaxis=dict(visible=False),\n",
    "      yaxis=dict(visible=False),\n",
    "      zaxis=dict(visible=False))))\n",
    "\n",
    "fig.update_layout(template='plotly_dark')\n",
    "\n",
    "fig.show()"
   ]
  },
  {
   "cell_type": "code",
   "execution_count": 8,
   "metadata": {},
   "outputs": [],
   "source": [
    "class Transformer(nn.Module):\n",
    "    def __init__(self, features, identity):\n",
    "        super(Transformer, self).__init__()\n",
    "\n",
    "        self.features = features\n",
    "        self.identity = identity\n",
    "\n",
    "        self.mlp = nn.Sequential(\n",
    "            nn.Conv1d(in_channels=features, out_channels=64, kernel_size=1),\n",
    "            nn.ReLU(),\n",
    "            nn.BatchNorm1d(64),\n",
    "            nn.Conv1d(in_channels=64, out_channels=128, kernel_size=1),\n",
    "            nn.ReLU(),\n",
    "            nn.BatchNorm1d(128),\n",
    "            nn.Conv1d(in_channels=128, out_channels=1024, kernel_size=1),\n",
    "            nn.ReLU(),\n",
    "            nn.BatchNorm1d(1024))\n",
    "\n",
    "        self.fcl = nn.Sequential(\n",
    "            nn.Linear(in_features=1024, out_features=512),\n",
    "            nn.ReLU(),\n",
    "            nn.BatchNorm1d(512),\n",
    "            nn.Linear(in_features=512, out_features=256),\n",
    "            nn.ReLU(),\n",
    "            nn.BatchNorm1d(256),\n",
    "            nn.Linear(in_features=256, out_features=features*features))\n",
    "    \n",
    "    def forward(self, x):\n",
    "\n",
    "        bs = x.shape[0]\n",
    "        num_points = x.shape[2]\n",
    "\n",
    "        x = self.mlp(x)\n",
    "        x = F.max_pool1d(x, kernel_size=num_points).view(bs, -1)\n",
    "        x = self.fcl(x)\n",
    "        \n",
    "        x = x.view(-1, self.features, self.features)\n",
    "\n",
    "        if self.identity:\n",
    "            x += torch.eye(self.features, requires_grad=True).repeat(bs, 1, 1).to(device)\n",
    "\n",
    "        return x\n",
    "\n",
    "\n",
    "class PointNet(nn.Module):\n",
    "    def __init__(self, num_classes):\n",
    "        super(PointNet, self).__init__()\n",
    "\n",
    "        self.tnet1 = Transformer(features=3, identity=False).to(device)\n",
    "\n",
    "        self.mlp1 = nn.Sequential(\n",
    "            nn.Conv1d(in_channels=3, out_channels=64, kernel_size=1),\n",
    "            nn.ReLU(),\n",
    "            nn.BatchNorm1d(64),\n",
    "            nn.Conv1d(in_channels=64, out_channels=64, kernel_size=1),\n",
    "            nn.ReLU(),\n",
    "            nn.BatchNorm1d(64))\n",
    "    \n",
    "        self.tnet2 = Transformer(features=64, identity=True).to(device)\n",
    "\n",
    "        self.mlp2 = nn.Sequential(\n",
    "            nn.Conv1d(in_channels=64, out_channels=64, kernel_size=1),\n",
    "            nn.ReLU(),\n",
    "            nn.BatchNorm1d(64),\n",
    "            nn.Conv1d(in_channels=64, out_channels=128, kernel_size=1),\n",
    "            nn.ReLU(),\n",
    "            nn.BatchNorm1d(128),\n",
    "            nn.Conv1d(in_channels=128, out_channels=1024, kernel_size=1),\n",
    "            nn.ReLU(),\n",
    "            nn.BatchNorm1d(1024))\n",
    "\n",
    "        self.max_pool = nn.MaxPool1d(kernel_size=num_points)\n",
    "\n",
    "        self.classification_head = nn.Sequential(\n",
    "            nn.Linear(in_features=1024, out_features=512),\n",
    "            nn.BatchNorm1d(512),\n",
    "            nn.ReLU(),\n",
    "            nn.Linear(in_features=512, out_features=256),\n",
    "            nn.BatchNorm1d(256),\n",
    "            nn.ReLU(),\n",
    "            nn.Dropout(p=0.3),\n",
    "            nn.Linear(in_features=256, out_features=num_classes)\n",
    "        )\n",
    "    \n",
    "    def forward(self, x):\n",
    "\n",
    "        bs = x.shape[0]\n",
    "        num_points = x.shape[2]\n",
    "\n",
    "        input_transform = self.tnet1(x)\n",
    "        \n",
    "        x = torch.bmm(x.transpose(2, 1), input_transform).transpose(2, 1)\n",
    "        x = self.mlp1(x)\n",
    "\n",
    "        feature_transform = self.tnet2(x)\n",
    "\n",
    "        x = torch.bmm(x.transpose(2, 1), feature_transform).transpose(2, 1)\n",
    "        x = self.mlp2(x)\n",
    "\n",
    "        x = F.max_pool1d(x, kernel_size=num_points).view(bs, -1)\n",
    "\n",
    "        x = self.classification_head(x)\n",
    "\n",
    "        return x, feature_transform\n"
   ]
  },
  {
   "cell_type": "code",
   "execution_count": 87,
   "metadata": {},
   "outputs": [
    {
     "data": {
      "text/plain": [
       "PointNet(\n",
       "  (tnet1): Transformer(\n",
       "    (mlp): Sequential(\n",
       "      (0): Conv1d(3, 64, kernel_size=(1,), stride=(1,))\n",
       "      (1): ReLU()\n",
       "      (2): BatchNorm1d(64, eps=1e-05, momentum=0.1, affine=True, track_running_stats=True)\n",
       "      (3): Conv1d(64, 128, kernel_size=(1,), stride=(1,))\n",
       "      (4): ReLU()\n",
       "      (5): BatchNorm1d(128, eps=1e-05, momentum=0.1, affine=True, track_running_stats=True)\n",
       "      (6): Conv1d(128, 1024, kernel_size=(1,), stride=(1,))\n",
       "      (7): ReLU()\n",
       "      (8): BatchNorm1d(1024, eps=1e-05, momentum=0.1, affine=True, track_running_stats=True)\n",
       "    )\n",
       "    (fcl): Sequential(\n",
       "      (0): Linear(in_features=1024, out_features=512, bias=True)\n",
       "      (1): ReLU()\n",
       "      (2): BatchNorm1d(512, eps=1e-05, momentum=0.1, affine=True, track_running_stats=True)\n",
       "      (3): Linear(in_features=512, out_features=256, bias=True)\n",
       "      (4): ReLU()\n",
       "      (5): BatchNorm1d(256, eps=1e-05, momentum=0.1, affine=True, track_running_stats=True)\n",
       "      (6): Linear(in_features=256, out_features=9, bias=True)\n",
       "    )\n",
       "  )\n",
       "  (mlp1): Sequential(\n",
       "    (0): Conv1d(3, 64, kernel_size=(1,), stride=(1,))\n",
       "    (1): ReLU()\n",
       "    (2): BatchNorm1d(64, eps=1e-05, momentum=0.1, affine=True, track_running_stats=True)\n",
       "    (3): Conv1d(64, 64, kernel_size=(1,), stride=(1,))\n",
       "    (4): ReLU()\n",
       "    (5): BatchNorm1d(64, eps=1e-05, momentum=0.1, affine=True, track_running_stats=True)\n",
       "  )\n",
       "  (tnet2): Transformer(\n",
       "    (mlp): Sequential(\n",
       "      (0): Conv1d(64, 64, kernel_size=(1,), stride=(1,))\n",
       "      (1): ReLU()\n",
       "      (2): BatchNorm1d(64, eps=1e-05, momentum=0.1, affine=True, track_running_stats=True)\n",
       "      (3): Conv1d(64, 128, kernel_size=(1,), stride=(1,))\n",
       "      (4): ReLU()\n",
       "      (5): BatchNorm1d(128, eps=1e-05, momentum=0.1, affine=True, track_running_stats=True)\n",
       "      (6): Conv1d(128, 1024, kernel_size=(1,), stride=(1,))\n",
       "      (7): ReLU()\n",
       "      (8): BatchNorm1d(1024, eps=1e-05, momentum=0.1, affine=True, track_running_stats=True)\n",
       "    )\n",
       "    (fcl): Sequential(\n",
       "      (0): Linear(in_features=1024, out_features=512, bias=True)\n",
       "      (1): ReLU()\n",
       "      (2): BatchNorm1d(512, eps=1e-05, momentum=0.1, affine=True, track_running_stats=True)\n",
       "      (3): Linear(in_features=512, out_features=256, bias=True)\n",
       "      (4): ReLU()\n",
       "      (5): BatchNorm1d(256, eps=1e-05, momentum=0.1, affine=True, track_running_stats=True)\n",
       "      (6): Linear(in_features=256, out_features=4096, bias=True)\n",
       "    )\n",
       "  )\n",
       "  (mlp2): Sequential(\n",
       "    (0): Conv1d(64, 64, kernel_size=(1,), stride=(1,))\n",
       "    (1): ReLU()\n",
       "    (2): BatchNorm1d(64, eps=1e-05, momentum=0.1, affine=True, track_running_stats=True)\n",
       "    (3): Conv1d(64, 128, kernel_size=(1,), stride=(1,))\n",
       "    (4): ReLU()\n",
       "    (5): BatchNorm1d(128, eps=1e-05, momentum=0.1, affine=True, track_running_stats=True)\n",
       "    (6): Conv1d(128, 1024, kernel_size=(1,), stride=(1,))\n",
       "    (7): ReLU()\n",
       "    (8): BatchNorm1d(1024, eps=1e-05, momentum=0.1, affine=True, track_running_stats=True)\n",
       "  )\n",
       "  (max_pool): MaxPool1d(kernel_size=512, stride=512, padding=0, dilation=1, ceil_mode=False)\n",
       "  (classification_head): Sequential(\n",
       "    (0): Linear(in_features=1024, out_features=512, bias=True)\n",
       "    (1): BatchNorm1d(512, eps=1e-05, momentum=0.1, affine=True, track_running_stats=True)\n",
       "    (2): ReLU()\n",
       "    (3): Linear(in_features=512, out_features=256, bias=True)\n",
       "    (4): BatchNorm1d(256, eps=1e-05, momentum=0.1, affine=True, track_running_stats=True)\n",
       "    (5): ReLU()\n",
       "    (6): Dropout(p=0.3, inplace=False)\n",
       "    (7): Linear(in_features=256, out_features=10, bias=True)\n",
       "  )\n",
       ")"
      ]
     },
     "execution_count": 87,
     "metadata": {},
     "output_type": "execute_result"
    }
   ],
   "source": [
    "pointnet = PointNet(num_classes=10)\n",
    "pointnet.to(device)\n",
    "\n",
    "# rotate object around z-axis\n",
    "# apply guassian noise to each point, mean 0 std deviation 0.002"
   ]
  },
  {
   "cell_type": "code",
   "execution_count": 88,
   "metadata": {},
   "outputs": [
    {
     "name": "stdout",
     "output_type": "stream",
     "text": [
      "torch.Size([10, 10])\n",
      "torch.Size([10, 64, 64])\n"
     ]
    }
   ],
   "source": [
    "pointnet.train()\n",
    "\n",
    "test_data = torch.rand(10, 3, num_points).to(device)\n",
    "A, output = pointnet(test_data)\n",
    "print(A.shape)\n",
    "print(output.shape)"
   ]
  },
  {
   "cell_type": "code",
   "execution_count": 89,
   "metadata": {},
   "outputs": [],
   "source": [
    "class PointNetClassificationLoss(nn.Module):\n",
    "    def __init__(self, reg_weight):\n",
    "        super(PointNetClassificationLoss, self).__init__()\n",
    "\n",
    "        self.reg_weight = reg_weight\n",
    "        self.cross_entropy = nn.CrossEntropyLoss()\n",
    "    \n",
    "    def forward(self, outputs, labels, A):\n",
    "        bs = A.shape[0]\n",
    "\n",
    "        loss = self.cross_entropy(outputs, labels)\n",
    "\n",
    "        I = torch.eye(64).repeat(bs, 1, 1).view(bs, 64, 64).to(device)\n",
    "\n",
    "        loss += self.reg_weight*torch.linalg.norm(I - torch.bmm(A, A.transpose(2, 1)))/bs\n",
    "\n",
    "        return loss"
   ]
  },
  {
   "cell_type": "code",
   "execution_count": 95,
   "metadata": {},
   "outputs": [],
   "source": [
    "learning_rate = 0.0001\n",
    "num_epochs = 10\n",
    "momentum = 0.9\n",
    "reg_weight = 0.001\n",
    "weight_decay = 0.005\n",
    "\n",
    "criterion = PointNetClassificationLoss(reg_weight=reg_weight)\n",
    "optimizer = optim.AdamW(pointnet.parameters(), lr=learning_rate, weight_decay=weight_decay)"
   ]
  },
  {
   "cell_type": "code",
   "execution_count": 96,
   "metadata": {},
   "outputs": [
    {
     "name": "stdout",
     "output_type": "stream",
     "text": [
      "2025-03-04 03:25:07.324285   [Epoch   1]  Loss:   0.2396  Accuracy:       84.8%\n"
     ]
    },
    {
     "ename": "KeyboardInterrupt",
     "evalue": "",
     "output_type": "error",
     "traceback": [
      "\u001b[1;31m---------------------------------------------------------------------------\u001b[0m",
      "\u001b[1;31mKeyboardInterrupt\u001b[0m                         Traceback (most recent call last)",
      "Cell \u001b[1;32mIn[96], line 17\u001b[0m\n\u001b[0;32m     13\u001b[0m labels \u001b[38;5;241m=\u001b[39m data\u001b[38;5;241m.\u001b[39my\u001b[38;5;241m.\u001b[39mto(device)\n\u001b[0;32m     15\u001b[0m optimizer\u001b[38;5;241m.\u001b[39mzero_grad()\n\u001b[1;32m---> 17\u001b[0m outputs, A \u001b[38;5;241m=\u001b[39m \u001b[43mpointnet\u001b[49m\u001b[43m(\u001b[49m\u001b[43mclouds\u001b[49m\u001b[43m)\u001b[49m\n\u001b[0;32m     18\u001b[0m loss \u001b[38;5;241m=\u001b[39m criterion(outputs, labels, A)\n\u001b[0;32m     19\u001b[0m loss\u001b[38;5;241m.\u001b[39mbackward()\n",
      "File \u001b[1;32mc:\\Users\\Joshua\\OneDrive\\Documents\\AI_535\\PointCloudclassification\\.venv\\lib\\site-packages\\torch\\nn\\modules\\module.py:1739\u001b[0m, in \u001b[0;36mModule._wrapped_call_impl\u001b[1;34m(self, *args, **kwargs)\u001b[0m\n\u001b[0;32m   1737\u001b[0m     \u001b[38;5;28;01mreturn\u001b[39;00m \u001b[38;5;28mself\u001b[39m\u001b[38;5;241m.\u001b[39m_compiled_call_impl(\u001b[38;5;241m*\u001b[39margs, \u001b[38;5;241m*\u001b[39m\u001b[38;5;241m*\u001b[39mkwargs)  \u001b[38;5;66;03m# type: ignore[misc]\u001b[39;00m\n\u001b[0;32m   1738\u001b[0m \u001b[38;5;28;01melse\u001b[39;00m:\n\u001b[1;32m-> 1739\u001b[0m     \u001b[38;5;28;01mreturn\u001b[39;00m \u001b[38;5;28mself\u001b[39m\u001b[38;5;241m.\u001b[39m_call_impl(\u001b[38;5;241m*\u001b[39margs, \u001b[38;5;241m*\u001b[39m\u001b[38;5;241m*\u001b[39mkwargs)\n",
      "File \u001b[1;32mc:\\Users\\Joshua\\OneDrive\\Documents\\AI_535\\PointCloudclassification\\.venv\\lib\\site-packages\\torch\\nn\\modules\\module.py:1750\u001b[0m, in \u001b[0;36mModule._call_impl\u001b[1;34m(self, *args, **kwargs)\u001b[0m\n\u001b[0;32m   1745\u001b[0m \u001b[38;5;66;03m# If we don't have any hooks, we want to skip the rest of the logic in\u001b[39;00m\n\u001b[0;32m   1746\u001b[0m \u001b[38;5;66;03m# this function, and just call forward.\u001b[39;00m\n\u001b[0;32m   1747\u001b[0m \u001b[38;5;28;01mif\u001b[39;00m \u001b[38;5;129;01mnot\u001b[39;00m (\u001b[38;5;28mself\u001b[39m\u001b[38;5;241m.\u001b[39m_backward_hooks \u001b[38;5;129;01mor\u001b[39;00m \u001b[38;5;28mself\u001b[39m\u001b[38;5;241m.\u001b[39m_backward_pre_hooks \u001b[38;5;129;01mor\u001b[39;00m \u001b[38;5;28mself\u001b[39m\u001b[38;5;241m.\u001b[39m_forward_hooks \u001b[38;5;129;01mor\u001b[39;00m \u001b[38;5;28mself\u001b[39m\u001b[38;5;241m.\u001b[39m_forward_pre_hooks\n\u001b[0;32m   1748\u001b[0m         \u001b[38;5;129;01mor\u001b[39;00m _global_backward_pre_hooks \u001b[38;5;129;01mor\u001b[39;00m _global_backward_hooks\n\u001b[0;32m   1749\u001b[0m         \u001b[38;5;129;01mor\u001b[39;00m _global_forward_hooks \u001b[38;5;129;01mor\u001b[39;00m _global_forward_pre_hooks):\n\u001b[1;32m-> 1750\u001b[0m     \u001b[38;5;28;01mreturn\u001b[39;00m forward_call(\u001b[38;5;241m*\u001b[39margs, \u001b[38;5;241m*\u001b[39m\u001b[38;5;241m*\u001b[39mkwargs)\n\u001b[0;32m   1752\u001b[0m result \u001b[38;5;241m=\u001b[39m \u001b[38;5;28;01mNone\u001b[39;00m\n\u001b[0;32m   1753\u001b[0m called_always_called_hooks \u001b[38;5;241m=\u001b[39m \u001b[38;5;28mset\u001b[39m()\n",
      "Cell \u001b[1;32mIn[86], line 95\u001b[0m, in \u001b[0;36mPointNet.forward\u001b[1;34m(self, x)\u001b[0m\n\u001b[0;32m     92\u001b[0m x \u001b[38;5;241m=\u001b[39m torch\u001b[38;5;241m.\u001b[39mbmm(x\u001b[38;5;241m.\u001b[39mtranspose(\u001b[38;5;241m2\u001b[39m, \u001b[38;5;241m1\u001b[39m), input_transform)\u001b[38;5;241m.\u001b[39mtranspose(\u001b[38;5;241m2\u001b[39m, \u001b[38;5;241m1\u001b[39m)\n\u001b[0;32m     93\u001b[0m x \u001b[38;5;241m=\u001b[39m \u001b[38;5;28mself\u001b[39m\u001b[38;5;241m.\u001b[39mmlp1(x)\n\u001b[1;32m---> 95\u001b[0m feature_transform \u001b[38;5;241m=\u001b[39m \u001b[38;5;28;43mself\u001b[39;49m\u001b[38;5;241;43m.\u001b[39;49m\u001b[43mtnet2\u001b[49m\u001b[43m(\u001b[49m\u001b[43mx\u001b[49m\u001b[43m)\u001b[49m\n\u001b[0;32m     97\u001b[0m x \u001b[38;5;241m=\u001b[39m torch\u001b[38;5;241m.\u001b[39mbmm(x\u001b[38;5;241m.\u001b[39mtranspose(\u001b[38;5;241m2\u001b[39m, \u001b[38;5;241m1\u001b[39m), feature_transform)\u001b[38;5;241m.\u001b[39mtranspose(\u001b[38;5;241m2\u001b[39m, \u001b[38;5;241m1\u001b[39m)\n\u001b[0;32m     98\u001b[0m x \u001b[38;5;241m=\u001b[39m \u001b[38;5;28mself\u001b[39m\u001b[38;5;241m.\u001b[39mmlp2(x)\n",
      "File \u001b[1;32mc:\\Users\\Joshua\\OneDrive\\Documents\\AI_535\\PointCloudclassification\\.venv\\lib\\site-packages\\torch\\nn\\modules\\module.py:1739\u001b[0m, in \u001b[0;36mModule._wrapped_call_impl\u001b[1;34m(self, *args, **kwargs)\u001b[0m\n\u001b[0;32m   1737\u001b[0m     \u001b[38;5;28;01mreturn\u001b[39;00m \u001b[38;5;28mself\u001b[39m\u001b[38;5;241m.\u001b[39m_compiled_call_impl(\u001b[38;5;241m*\u001b[39margs, \u001b[38;5;241m*\u001b[39m\u001b[38;5;241m*\u001b[39mkwargs)  \u001b[38;5;66;03m# type: ignore[misc]\u001b[39;00m\n\u001b[0;32m   1738\u001b[0m \u001b[38;5;28;01melse\u001b[39;00m:\n\u001b[1;32m-> 1739\u001b[0m     \u001b[38;5;28;01mreturn\u001b[39;00m \u001b[38;5;28mself\u001b[39m\u001b[38;5;241m.\u001b[39m_call_impl(\u001b[38;5;241m*\u001b[39margs, \u001b[38;5;241m*\u001b[39m\u001b[38;5;241m*\u001b[39mkwargs)\n",
      "File \u001b[1;32mc:\\Users\\Joshua\\OneDrive\\Documents\\AI_535\\PointCloudclassification\\.venv\\lib\\site-packages\\torch\\nn\\modules\\module.py:1750\u001b[0m, in \u001b[0;36mModule._call_impl\u001b[1;34m(self, *args, **kwargs)\u001b[0m\n\u001b[0;32m   1745\u001b[0m \u001b[38;5;66;03m# If we don't have any hooks, we want to skip the rest of the logic in\u001b[39;00m\n\u001b[0;32m   1746\u001b[0m \u001b[38;5;66;03m# this function, and just call forward.\u001b[39;00m\n\u001b[0;32m   1747\u001b[0m \u001b[38;5;28;01mif\u001b[39;00m \u001b[38;5;129;01mnot\u001b[39;00m (\u001b[38;5;28mself\u001b[39m\u001b[38;5;241m.\u001b[39m_backward_hooks \u001b[38;5;129;01mor\u001b[39;00m \u001b[38;5;28mself\u001b[39m\u001b[38;5;241m.\u001b[39m_backward_pre_hooks \u001b[38;5;129;01mor\u001b[39;00m \u001b[38;5;28mself\u001b[39m\u001b[38;5;241m.\u001b[39m_forward_hooks \u001b[38;5;129;01mor\u001b[39;00m \u001b[38;5;28mself\u001b[39m\u001b[38;5;241m.\u001b[39m_forward_pre_hooks\n\u001b[0;32m   1748\u001b[0m         \u001b[38;5;129;01mor\u001b[39;00m _global_backward_pre_hooks \u001b[38;5;129;01mor\u001b[39;00m _global_backward_hooks\n\u001b[0;32m   1749\u001b[0m         \u001b[38;5;129;01mor\u001b[39;00m _global_forward_hooks \u001b[38;5;129;01mor\u001b[39;00m _global_forward_pre_hooks):\n\u001b[1;32m-> 1750\u001b[0m     \u001b[38;5;28;01mreturn\u001b[39;00m forward_call(\u001b[38;5;241m*\u001b[39margs, \u001b[38;5;241m*\u001b[39m\u001b[38;5;241m*\u001b[39mkwargs)\n\u001b[0;32m   1752\u001b[0m result \u001b[38;5;241m=\u001b[39m \u001b[38;5;28;01mNone\u001b[39;00m\n\u001b[0;32m   1753\u001b[0m called_always_called_hooks \u001b[38;5;241m=\u001b[39m \u001b[38;5;28mset\u001b[39m()\n",
      "Cell \u001b[1;32mIn[86], line 33\u001b[0m, in \u001b[0;36mTransformer.forward\u001b[1;34m(self, x)\u001b[0m\n\u001b[0;32m     30\u001b[0m bs \u001b[38;5;241m=\u001b[39m x\u001b[38;5;241m.\u001b[39mshape[\u001b[38;5;241m0\u001b[39m]\n\u001b[0;32m     31\u001b[0m num_points \u001b[38;5;241m=\u001b[39m x\u001b[38;5;241m.\u001b[39mshape[\u001b[38;5;241m2\u001b[39m]\n\u001b[1;32m---> 33\u001b[0m x \u001b[38;5;241m=\u001b[39m \u001b[38;5;28;43mself\u001b[39;49m\u001b[38;5;241;43m.\u001b[39;49m\u001b[43mmlp\u001b[49m\u001b[43m(\u001b[49m\u001b[43mx\u001b[49m\u001b[43m)\u001b[49m\n\u001b[0;32m     34\u001b[0m x \u001b[38;5;241m=\u001b[39m F\u001b[38;5;241m.\u001b[39mmax_pool1d(x, kernel_size\u001b[38;5;241m=\u001b[39mnum_points)\u001b[38;5;241m.\u001b[39mview(bs, \u001b[38;5;241m-\u001b[39m\u001b[38;5;241m1\u001b[39m)\n\u001b[0;32m     35\u001b[0m x \u001b[38;5;241m=\u001b[39m \u001b[38;5;28mself\u001b[39m\u001b[38;5;241m.\u001b[39mfcl(x)\n",
      "File \u001b[1;32mc:\\Users\\Joshua\\OneDrive\\Documents\\AI_535\\PointCloudclassification\\.venv\\lib\\site-packages\\torch\\nn\\modules\\module.py:1739\u001b[0m, in \u001b[0;36mModule._wrapped_call_impl\u001b[1;34m(self, *args, **kwargs)\u001b[0m\n\u001b[0;32m   1737\u001b[0m     \u001b[38;5;28;01mreturn\u001b[39;00m \u001b[38;5;28mself\u001b[39m\u001b[38;5;241m.\u001b[39m_compiled_call_impl(\u001b[38;5;241m*\u001b[39margs, \u001b[38;5;241m*\u001b[39m\u001b[38;5;241m*\u001b[39mkwargs)  \u001b[38;5;66;03m# type: ignore[misc]\u001b[39;00m\n\u001b[0;32m   1738\u001b[0m \u001b[38;5;28;01melse\u001b[39;00m:\n\u001b[1;32m-> 1739\u001b[0m     \u001b[38;5;28;01mreturn\u001b[39;00m \u001b[38;5;28mself\u001b[39m\u001b[38;5;241m.\u001b[39m_call_impl(\u001b[38;5;241m*\u001b[39margs, \u001b[38;5;241m*\u001b[39m\u001b[38;5;241m*\u001b[39mkwargs)\n",
      "File \u001b[1;32mc:\\Users\\Joshua\\OneDrive\\Documents\\AI_535\\PointCloudclassification\\.venv\\lib\\site-packages\\torch\\nn\\modules\\module.py:1750\u001b[0m, in \u001b[0;36mModule._call_impl\u001b[1;34m(self, *args, **kwargs)\u001b[0m\n\u001b[0;32m   1745\u001b[0m \u001b[38;5;66;03m# If we don't have any hooks, we want to skip the rest of the logic in\u001b[39;00m\n\u001b[0;32m   1746\u001b[0m \u001b[38;5;66;03m# this function, and just call forward.\u001b[39;00m\n\u001b[0;32m   1747\u001b[0m \u001b[38;5;28;01mif\u001b[39;00m \u001b[38;5;129;01mnot\u001b[39;00m (\u001b[38;5;28mself\u001b[39m\u001b[38;5;241m.\u001b[39m_backward_hooks \u001b[38;5;129;01mor\u001b[39;00m \u001b[38;5;28mself\u001b[39m\u001b[38;5;241m.\u001b[39m_backward_pre_hooks \u001b[38;5;129;01mor\u001b[39;00m \u001b[38;5;28mself\u001b[39m\u001b[38;5;241m.\u001b[39m_forward_hooks \u001b[38;5;129;01mor\u001b[39;00m \u001b[38;5;28mself\u001b[39m\u001b[38;5;241m.\u001b[39m_forward_pre_hooks\n\u001b[0;32m   1748\u001b[0m         \u001b[38;5;129;01mor\u001b[39;00m _global_backward_pre_hooks \u001b[38;5;129;01mor\u001b[39;00m _global_backward_hooks\n\u001b[0;32m   1749\u001b[0m         \u001b[38;5;129;01mor\u001b[39;00m _global_forward_hooks \u001b[38;5;129;01mor\u001b[39;00m _global_forward_pre_hooks):\n\u001b[1;32m-> 1750\u001b[0m     \u001b[38;5;28;01mreturn\u001b[39;00m forward_call(\u001b[38;5;241m*\u001b[39margs, \u001b[38;5;241m*\u001b[39m\u001b[38;5;241m*\u001b[39mkwargs)\n\u001b[0;32m   1752\u001b[0m result \u001b[38;5;241m=\u001b[39m \u001b[38;5;28;01mNone\u001b[39;00m\n\u001b[0;32m   1753\u001b[0m called_always_called_hooks \u001b[38;5;241m=\u001b[39m \u001b[38;5;28mset\u001b[39m()\n",
      "File \u001b[1;32mc:\\Users\\Joshua\\OneDrive\\Documents\\AI_535\\PointCloudclassification\\.venv\\lib\\site-packages\\torch\\nn\\modules\\container.py:250\u001b[0m, in \u001b[0;36mSequential.forward\u001b[1;34m(self, input)\u001b[0m\n\u001b[0;32m    248\u001b[0m \u001b[38;5;28;01mdef\u001b[39;00m\u001b[38;5;250m \u001b[39m\u001b[38;5;21mforward\u001b[39m(\u001b[38;5;28mself\u001b[39m, \u001b[38;5;28minput\u001b[39m):\n\u001b[0;32m    249\u001b[0m     \u001b[38;5;28;01mfor\u001b[39;00m module \u001b[38;5;129;01min\u001b[39;00m \u001b[38;5;28mself\u001b[39m:\n\u001b[1;32m--> 250\u001b[0m         \u001b[38;5;28minput\u001b[39m \u001b[38;5;241m=\u001b[39m \u001b[43mmodule\u001b[49m\u001b[43m(\u001b[49m\u001b[38;5;28;43minput\u001b[39;49m\u001b[43m)\u001b[49m\n\u001b[0;32m    251\u001b[0m     \u001b[38;5;28;01mreturn\u001b[39;00m \u001b[38;5;28minput\u001b[39m\n",
      "File \u001b[1;32mc:\\Users\\Joshua\\OneDrive\\Documents\\AI_535\\PointCloudclassification\\.venv\\lib\\site-packages\\torch\\nn\\modules\\module.py:1739\u001b[0m, in \u001b[0;36mModule._wrapped_call_impl\u001b[1;34m(self, *args, **kwargs)\u001b[0m\n\u001b[0;32m   1737\u001b[0m     \u001b[38;5;28;01mreturn\u001b[39;00m \u001b[38;5;28mself\u001b[39m\u001b[38;5;241m.\u001b[39m_compiled_call_impl(\u001b[38;5;241m*\u001b[39margs, \u001b[38;5;241m*\u001b[39m\u001b[38;5;241m*\u001b[39mkwargs)  \u001b[38;5;66;03m# type: ignore[misc]\u001b[39;00m\n\u001b[0;32m   1738\u001b[0m \u001b[38;5;28;01melse\u001b[39;00m:\n\u001b[1;32m-> 1739\u001b[0m     \u001b[38;5;28;01mreturn\u001b[39;00m \u001b[38;5;28mself\u001b[39m\u001b[38;5;241m.\u001b[39m_call_impl(\u001b[38;5;241m*\u001b[39margs, \u001b[38;5;241m*\u001b[39m\u001b[38;5;241m*\u001b[39mkwargs)\n",
      "File \u001b[1;32mc:\\Users\\Joshua\\OneDrive\\Documents\\AI_535\\PointCloudclassification\\.venv\\lib\\site-packages\\torch\\nn\\modules\\module.py:1750\u001b[0m, in \u001b[0;36mModule._call_impl\u001b[1;34m(self, *args, **kwargs)\u001b[0m\n\u001b[0;32m   1745\u001b[0m \u001b[38;5;66;03m# If we don't have any hooks, we want to skip the rest of the logic in\u001b[39;00m\n\u001b[0;32m   1746\u001b[0m \u001b[38;5;66;03m# this function, and just call forward.\u001b[39;00m\n\u001b[0;32m   1747\u001b[0m \u001b[38;5;28;01mif\u001b[39;00m \u001b[38;5;129;01mnot\u001b[39;00m (\u001b[38;5;28mself\u001b[39m\u001b[38;5;241m.\u001b[39m_backward_hooks \u001b[38;5;129;01mor\u001b[39;00m \u001b[38;5;28mself\u001b[39m\u001b[38;5;241m.\u001b[39m_backward_pre_hooks \u001b[38;5;129;01mor\u001b[39;00m \u001b[38;5;28mself\u001b[39m\u001b[38;5;241m.\u001b[39m_forward_hooks \u001b[38;5;129;01mor\u001b[39;00m \u001b[38;5;28mself\u001b[39m\u001b[38;5;241m.\u001b[39m_forward_pre_hooks\n\u001b[0;32m   1748\u001b[0m         \u001b[38;5;129;01mor\u001b[39;00m _global_backward_pre_hooks \u001b[38;5;129;01mor\u001b[39;00m _global_backward_hooks\n\u001b[0;32m   1749\u001b[0m         \u001b[38;5;129;01mor\u001b[39;00m _global_forward_hooks \u001b[38;5;129;01mor\u001b[39;00m _global_forward_pre_hooks):\n\u001b[1;32m-> 1750\u001b[0m     \u001b[38;5;28;01mreturn\u001b[39;00m forward_call(\u001b[38;5;241m*\u001b[39margs, \u001b[38;5;241m*\u001b[39m\u001b[38;5;241m*\u001b[39mkwargs)\n\u001b[0;32m   1752\u001b[0m result \u001b[38;5;241m=\u001b[39m \u001b[38;5;28;01mNone\u001b[39;00m\n\u001b[0;32m   1753\u001b[0m called_always_called_hooks \u001b[38;5;241m=\u001b[39m \u001b[38;5;28mset\u001b[39m()\n",
      "File \u001b[1;32mc:\\Users\\Joshua\\OneDrive\\Documents\\AI_535\\PointCloudclassification\\.venv\\lib\\site-packages\\torch\\nn\\modules\\batchnorm.py:173\u001b[0m, in \u001b[0;36m_BatchNorm.forward\u001b[1;34m(self, input)\u001b[0m\n\u001b[0;32m    170\u001b[0m \u001b[38;5;28;01mif\u001b[39;00m \u001b[38;5;28mself\u001b[39m\u001b[38;5;241m.\u001b[39mtraining \u001b[38;5;129;01mand\u001b[39;00m \u001b[38;5;28mself\u001b[39m\u001b[38;5;241m.\u001b[39mtrack_running_stats:\n\u001b[0;32m    171\u001b[0m     \u001b[38;5;66;03m# TODO: if statement only here to tell the jit to skip emitting this when it is None\u001b[39;00m\n\u001b[0;32m    172\u001b[0m     \u001b[38;5;28;01mif\u001b[39;00m \u001b[38;5;28mself\u001b[39m\u001b[38;5;241m.\u001b[39mnum_batches_tracked \u001b[38;5;129;01mis\u001b[39;00m \u001b[38;5;129;01mnot\u001b[39;00m \u001b[38;5;28;01mNone\u001b[39;00m:  \u001b[38;5;66;03m# type: ignore[has-type]\u001b[39;00m\n\u001b[1;32m--> 173\u001b[0m         \u001b[38;5;28;43mself\u001b[39;49m\u001b[38;5;241;43m.\u001b[39;49m\u001b[43mnum_batches_tracked\u001b[49m\u001b[38;5;241;43m.\u001b[39;49m\u001b[43madd_\u001b[49m\u001b[43m(\u001b[49m\u001b[38;5;241;43m1\u001b[39;49m\u001b[43m)\u001b[49m  \u001b[38;5;66;03m# type: ignore[has-type]\u001b[39;00m\n\u001b[0;32m    174\u001b[0m         \u001b[38;5;28;01mif\u001b[39;00m \u001b[38;5;28mself\u001b[39m\u001b[38;5;241m.\u001b[39mmomentum \u001b[38;5;129;01mis\u001b[39;00m \u001b[38;5;28;01mNone\u001b[39;00m:  \u001b[38;5;66;03m# use cumulative moving average\u001b[39;00m\n\u001b[0;32m    175\u001b[0m             exponential_average_factor \u001b[38;5;241m=\u001b[39m \u001b[38;5;241m1.0\u001b[39m \u001b[38;5;241m/\u001b[39m \u001b[38;5;28mfloat\u001b[39m(\u001b[38;5;28mself\u001b[39m\u001b[38;5;241m.\u001b[39mnum_batches_tracked)\n",
      "\u001b[1;31mKeyboardInterrupt\u001b[0m: "
     ]
    }
   ],
   "source": [
    "for epoch in range(num_epochs):\n",
    "\n",
    "    accuracy = 0\n",
    "    loss_avg = 0\n",
    "    count = 0\n",
    "\n",
    "    pointnet.train()\n",
    "    for data in trainloader:\n",
    "\n",
    "        clouds = data.pos.view(data.batch[-1]+1, num_points, 3)\n",
    "        clouds = clouds.transpose(2, 1).to(device)\n",
    "\n",
    "        labels = data.y.to(device)\n",
    "\n",
    "        optimizer.zero_grad()\n",
    "\n",
    "        outputs, A = pointnet(clouds)\n",
    "        loss = criterion(outputs, labels, A)\n",
    "        loss.backward()\n",
    "        optimizer.step()\n",
    "\n",
    "        loss_avg += loss.item()\n",
    "        count += 1\n",
    "    \n",
    "    loss_avg = loss_avg/count\n",
    "    \n",
    "    pointnet.eval()\n",
    "    with torch.no_grad():\n",
    "        correct = 0\n",
    "        total = 0\n",
    "        for data in testloader:\n",
    "            \n",
    "            clouds = data.pos.view(data.batch[-1]+1, num_points, 3)\n",
    "            clouds = clouds.transpose(2,1).to(device)\n",
    "\n",
    "            labels = data.y.to(device)\n",
    "            \n",
    "            outputs, _ = pointnet(clouds)\n",
    "\n",
    "            _, predicted = torch.max(outputs.data, 1)\n",
    "            total += labels.size(0)\n",
    "            correct += (predicted == labels).sum().item()\n",
    "\n",
    "        accuracy = correct/total\n",
    "    \n",
    "    print(\"{}   [Epoch {:3}]  Loss: {:8.4}  Accuracy:   {:8.4}%\".format(datetime.datetime.now(), epoch+1, loss_avg, 100*accuracy))"
   ]
  },
  {
   "cell_type": "code",
   "execution_count": 97,
   "metadata": {},
   "outputs": [
    {
     "name": "stdout",
     "output_type": "stream",
     "text": [
      "Accuracy:    82.59911894273128%\n"
     ]
    }
   ],
   "source": [
    "pointnet.eval()\n",
    "\n",
    "with torch.no_grad():\n",
    "    correct = 0\n",
    "    total = 0\n",
    "    for data in testloader:\n",
    "        \n",
    "        clouds = data.pos.view(data.batch[-1]+1, num_points, 3)\n",
    "        clouds = clouds.transpose(2, 1).to(device)\n",
    "\n",
    "        labels = data.y.to(device)\n",
    "            \n",
    "        outputs, _ = pointnet(clouds)\n",
    "\n",
    "        _, predicted = torch.max(outputs.data, 1)\n",
    "        total += labels.size(0)\n",
    "        correct += (predicted == labels).sum().item()\n",
    "\n",
    "    print('Accuracy:    {}%'.format(100 * correct / total))"
   ]
  },
  {
   "cell_type": "code",
   "execution_count": 5,
   "metadata": {},
   "outputs": [
    {
     "ename": "NameError",
     "evalue": "name 'pointnet' is not defined",
     "output_type": "error",
     "traceback": [
      "\u001b[1;31m---------------------------------------------------------------------------\u001b[0m",
      "\u001b[1;31mNameError\u001b[0m                                 Traceback (most recent call last)",
      "Cell \u001b[1;32mIn[5], line 1\u001b[0m\n\u001b[1;32m----> 1\u001b[0m \u001b[43mpointnet\u001b[49m(data\u001b[38;5;241m.\u001b[39mpos\u001b[38;5;241m.\u001b[39mview(\u001b[38;5;241m1\u001b[39m, \u001b[38;5;241m3\u001b[39m, num_points))\n",
      "\u001b[1;31mNameError\u001b[0m: name 'pointnet' is not defined"
     ]
    }
   ],
   "source": [
    "pointnet(data.pos.view(1, 3, num_points))"
   ]
  },
  {
   "cell_type": "code",
   "execution_count": null,
   "metadata": {},
   "outputs": [],
   "source": []
  }
 ],
 "metadata": {
  "kernelspec": {
   "display_name": ".venv",
   "language": "python",
   "name": "python3"
  },
  "language_info": {
   "codemirror_mode": {
    "name": "ipython",
    "version": 3
   },
   "file_extension": ".py",
   "mimetype": "text/x-python",
   "name": "python",
   "nbconvert_exporter": "python",
   "pygments_lexer": "ipython3",
   "version": "3.10.15"
  }
 },
 "nbformat": 4,
 "nbformat_minor": 2
}
