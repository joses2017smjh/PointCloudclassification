{
 "cells": [
  {
   "cell_type": "code",
   "execution_count": 11,
   "metadata": {},
   "outputs": [],
   "source": [
    "import torch\n",
    "from torch_geometric.datasets import ModelNet\n",
    "from torch_geometric.transforms import SamplePoints, NormalizeScale\n",
    "from torch_geometric.loader import DataLoader\n",
    "\n",
    "import open3d as o3d\n",
    "import plotly.graph_objects as go\n",
    "\n",
    "import torch.nn as nn\n",
    "import torch.nn.functional as F\n",
    "import torch.optim as optim\n",
    "import datetime\n",
    "import os\n",
    "import random"
   ]
  },
  {
   "cell_type": "code",
   "execution_count": 12,
   "metadata": {},
   "outputs": [],
   "source": [
    "from pointnet import PointNetClassifier, PointNetClassificationLoss"
   ]
  },
  {
   "cell_type": "code",
   "execution_count": 13,
   "metadata": {},
   "outputs": [],
   "source": [
    "device = \"cuda\""
   ]
  },
  {
   "cell_type": "code",
   "execution_count": 64,
   "metadata": {},
   "outputs": [
    {
     "name": "stdout",
     "output_type": "stream",
     "text": [
      "Number of training examples: 3991\n",
      "Number of test examples: 908\n",
      "['bathtub', 'bed', 'chair', 'desk', 'dresser', 'monitor', 'night_stand', 'sofa', 'table', 'toilet']\n",
      "Data(pos=[1024, 3], y=[1])\n",
      "Point cloud shape: torch.Size([1024, 3])\n",
      "Label: tensor([2])\n"
     ]
    }
   ],
   "source": [
    "# modelnet10\n",
    "\n",
    "num_points = 1024\n",
    "\n",
    "pre_transform = NormalizeScale()\n",
    "transform = SamplePoints(num_points)\n",
    "\n",
    "batch_size = 64\n",
    "\n",
    "root = 'data/ModelNet10'\n",
    "dataset_train = ModelNet(root=root, name='10', train=True, pre_transform=pre_transform, transform=transform)\n",
    "trainloader = DataLoader(dataset_train, batch_size=batch_size, shuffle=True)\n",
    "\n",
    "dataset_test = ModelNet(root=root, name='10', train=False, pre_transform=pre_transform, transform=transform)\n",
    "testloader = DataLoader(dataset_test, batch_size=batch_size)\n",
    "\n",
    "print(f'Number of training examples: {len(dataset_train)}')\n",
    "print(f'Number of test examples: {len(dataset_test)}')\n",
    "\n",
    "classes = dataset_test.raw_file_names\n",
    "print(classes)\n",
    "\n",
    "data = dataset_train[1001]\n",
    "print(data)\n",
    "print(f'Point cloud shape: {data.pos.shape}')\n",
    "print(f'Label: {data.y}')"
   ]
  },
  {
   "cell_type": "code",
   "execution_count": 14,
   "metadata": {},
   "outputs": [
    {
     "name": "stdout",
     "output_type": "stream",
     "text": [
      "Number of training examples: 9843\n",
      "Number of test examples: 2468\n",
      "Data(pos=[512, 3], y=[1])\n",
      "Point cloud shape: torch.Size([512, 3])\n",
      "Label: tensor([2])\n"
     ]
    }
   ],
   "source": [
    "# modelnet40\n",
    "\n",
    "num_points = 512\n",
    "\n",
    "pre_transform = NormalizeScale()\n",
    "transform = SamplePoints(num_points)\n",
    "\n",
    "batch_size = 64\n",
    "\n",
    "root = 'data/ModelNet40'\n",
    "dataset_train = ModelNet(root=root, name='40', train=True, pre_transform=pre_transform, transform=transform)\n",
    "trainloader = DataLoader(dataset_train, batch_size=batch_size, shuffle=True)\n",
    "\n",
    "dataset_test = ModelNet(root=root, name='40', train=False, pre_transform=pre_transform, transform=transform)\n",
    "testloader = DataLoader(dataset_test, batch_size=batch_size)\n",
    "\n",
    "classes = [\"airplane\", \"bathtub\", \"bed\", \"bench\", \"bookshelf\", \"bottle\", \"bowl\", \"car\", \"chair\", \"cone\", \"cup\", \"curtain\", \"desk\", \"door\", \"dresser\", \"flower_pot\", \"glass_box\", \"guitar\", \"keyboard\", \"lamp\", \"laptop\", \"mantel\", \"monitor\", \"night_stand\", \"person\", \"piano\", \"plant\", \"radio\", \"range_hood\", \"sink\", \"sofa\", \"stairs\", \"stool\", \"table\", \"tent\", \"toilet\", \"tv_stand\", \"vase\", \"wardrobe\", \"xbox\"]\n",
    "\n",
    "print(f'Number of training examples: {len(dataset_train)}')\n",
    "print(f'Number of test examples: {len(dataset_test)}')\n",
    "\n",
    "data = dataset_train[1001]\n",
    "print(data)\n",
    "print(f'Point cloud shape: {data.pos.shape}')\n",
    "print(f'Label: {data.y}')"
   ]
  },
  {
   "cell_type": "code",
   "execution_count": 15,
   "metadata": {},
   "outputs": [
    {
     "data": {
      "application/vnd.plotly.v1+json": {
       "config": {
        "plotlyServerURL": "https://plot.ly"
       },
       "data": [
        {
         "marker": {
          "color": "white",
          "size": 1
         },
         "mode": "markers",
         "type": "scatter3d",
         "x": {
          "bdata": "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",
          "dtype": "f4"
         },
         "y": {
          "bdata": "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",
          "dtype": "f4"
         },
         "z": {
          "bdata": "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",
          "dtype": "f4"
         }
        }
       ],
       "layout": {
        "scene": {
         "xaxis": {
          "visible": false
         },
         "yaxis": {
          "visible": false
         },
         "zaxis": {
          "visible": false
         }
        },
        "template": {
         "data": {
          "bar": [
           {
            "error_x": {
             "color": "#f2f5fa"
            },
            "error_y": {
             "color": "#f2f5fa"
            },
            "marker": {
             "line": {
              "color": "rgb(17,17,17)",
              "width": 0.5
             },
             "pattern": {
              "fillmode": "overlay",
              "size": 10,
              "solidity": 0.2
             }
            },
            "type": "bar"
           }
          ],
          "barpolar": [
           {
            "marker": {
             "line": {
              "color": "rgb(17,17,17)",
              "width": 0.5
             },
             "pattern": {
              "fillmode": "overlay",
              "size": 10,
              "solidity": 0.2
             }
            },
            "type": "barpolar"
           }
          ],
          "carpet": [
           {
            "aaxis": {
             "endlinecolor": "#A2B1C6",
             "gridcolor": "#506784",
             "linecolor": "#506784",
             "minorgridcolor": "#506784",
             "startlinecolor": "#A2B1C6"
            },
            "baxis": {
             "endlinecolor": "#A2B1C6",
             "gridcolor": "#506784",
             "linecolor": "#506784",
             "minorgridcolor": "#506784",
             "startlinecolor": "#A2B1C6"
            },
            "type": "carpet"
           }
          ],
          "choropleth": [
           {
            "colorbar": {
             "outlinewidth": 0,
             "ticks": ""
            },
            "type": "choropleth"
           }
          ],
          "contour": [
           {
            "colorbar": {
             "outlinewidth": 0,
             "ticks": ""
            },
            "colorscale": [
             [
              0,
              "#0d0887"
             ],
             [
              0.1111111111111111,
              "#46039f"
             ],
             [
              0.2222222222222222,
              "#7201a8"
             ],
             [
              0.3333333333333333,
              "#9c179e"
             ],
             [
              0.4444444444444444,
              "#bd3786"
             ],
             [
              0.5555555555555556,
              "#d8576b"
             ],
             [
              0.6666666666666666,
              "#ed7953"
             ],
             [
              0.7777777777777778,
              "#fb9f3a"
             ],
             [
              0.8888888888888888,
              "#fdca26"
             ],
             [
              1,
              "#f0f921"
             ]
            ],
            "type": "contour"
           }
          ],
          "contourcarpet": [
           {
            "colorbar": {
             "outlinewidth": 0,
             "ticks": ""
            },
            "type": "contourcarpet"
           }
          ],
          "heatmap": [
           {
            "colorbar": {
             "outlinewidth": 0,
             "ticks": ""
            },
            "colorscale": [
             [
              0,
              "#0d0887"
             ],
             [
              0.1111111111111111,
              "#46039f"
             ],
             [
              0.2222222222222222,
              "#7201a8"
             ],
             [
              0.3333333333333333,
              "#9c179e"
             ],
             [
              0.4444444444444444,
              "#bd3786"
             ],
             [
              0.5555555555555556,
              "#d8576b"
             ],
             [
              0.6666666666666666,
              "#ed7953"
             ],
             [
              0.7777777777777778,
              "#fb9f3a"
             ],
             [
              0.8888888888888888,
              "#fdca26"
             ],
             [
              1,
              "#f0f921"
             ]
            ],
            "type": "heatmap"
           }
          ],
          "histogram": [
           {
            "marker": {
             "pattern": {
              "fillmode": "overlay",
              "size": 10,
              "solidity": 0.2
             }
            },
            "type": "histogram"
           }
          ],
          "histogram2d": [
           {
            "colorbar": {
             "outlinewidth": 0,
             "ticks": ""
            },
            "colorscale": [
             [
              0,
              "#0d0887"
             ],
             [
              0.1111111111111111,
              "#46039f"
             ],
             [
              0.2222222222222222,
              "#7201a8"
             ],
             [
              0.3333333333333333,
              "#9c179e"
             ],
             [
              0.4444444444444444,
              "#bd3786"
             ],
             [
              0.5555555555555556,
              "#d8576b"
             ],
             [
              0.6666666666666666,
              "#ed7953"
             ],
             [
              0.7777777777777778,
              "#fb9f3a"
             ],
             [
              0.8888888888888888,
              "#fdca26"
             ],
             [
              1,
              "#f0f921"
             ]
            ],
            "type": "histogram2d"
           }
          ],
          "histogram2dcontour": [
           {
            "colorbar": {
             "outlinewidth": 0,
             "ticks": ""
            },
            "colorscale": [
             [
              0,
              "#0d0887"
             ],
             [
              0.1111111111111111,
              "#46039f"
             ],
             [
              0.2222222222222222,
              "#7201a8"
             ],
             [
              0.3333333333333333,
              "#9c179e"
             ],
             [
              0.4444444444444444,
              "#bd3786"
             ],
             [
              0.5555555555555556,
              "#d8576b"
             ],
             [
              0.6666666666666666,
              "#ed7953"
             ],
             [
              0.7777777777777778,
              "#fb9f3a"
             ],
             [
              0.8888888888888888,
              "#fdca26"
             ],
             [
              1,
              "#f0f921"
             ]
            ],
            "type": "histogram2dcontour"
           }
          ],
          "mesh3d": [
           {
            "colorbar": {
             "outlinewidth": 0,
             "ticks": ""
            },
            "type": "mesh3d"
           }
          ],
          "parcoords": [
           {
            "line": {
             "colorbar": {
              "outlinewidth": 0,
              "ticks": ""
             }
            },
            "type": "parcoords"
           }
          ],
          "pie": [
           {
            "automargin": true,
            "type": "pie"
           }
          ],
          "scatter": [
           {
            "marker": {
             "line": {
              "color": "#283442"
             }
            },
            "type": "scatter"
           }
          ],
          "scatter3d": [
           {
            "line": {
             "colorbar": {
              "outlinewidth": 0,
              "ticks": ""
             }
            },
            "marker": {
             "colorbar": {
              "outlinewidth": 0,
              "ticks": ""
             }
            },
            "type": "scatter3d"
           }
          ],
          "scattercarpet": [
           {
            "marker": {
             "colorbar": {
              "outlinewidth": 0,
              "ticks": ""
             }
            },
            "type": "scattercarpet"
           }
          ],
          "scattergeo": [
           {
            "marker": {
             "colorbar": {
              "outlinewidth": 0,
              "ticks": ""
             }
            },
            "type": "scattergeo"
           }
          ],
          "scattergl": [
           {
            "marker": {
             "line": {
              "color": "#283442"
             }
            },
            "type": "scattergl"
           }
          ],
          "scattermap": [
           {
            "marker": {
             "colorbar": {
              "outlinewidth": 0,
              "ticks": ""
             }
            },
            "type": "scattermap"
           }
          ],
          "scattermapbox": [
           {
            "marker": {
             "colorbar": {
              "outlinewidth": 0,
              "ticks": ""
             }
            },
            "type": "scattermapbox"
           }
          ],
          "scatterpolar": [
           {
            "marker": {
             "colorbar": {
              "outlinewidth": 0,
              "ticks": ""
             }
            },
            "type": "scatterpolar"
           }
          ],
          "scatterpolargl": [
           {
            "marker": {
             "colorbar": {
              "outlinewidth": 0,
              "ticks": ""
             }
            },
            "type": "scatterpolargl"
           }
          ],
          "scatterternary": [
           {
            "marker": {
             "colorbar": {
              "outlinewidth": 0,
              "ticks": ""
             }
            },
            "type": "scatterternary"
           }
          ],
          "surface": [
           {
            "colorbar": {
             "outlinewidth": 0,
             "ticks": ""
            },
            "colorscale": [
             [
              0,
              "#0d0887"
             ],
             [
              0.1111111111111111,
              "#46039f"
             ],
             [
              0.2222222222222222,
              "#7201a8"
             ],
             [
              0.3333333333333333,
              "#9c179e"
             ],
             [
              0.4444444444444444,
              "#bd3786"
             ],
             [
              0.5555555555555556,
              "#d8576b"
             ],
             [
              0.6666666666666666,
              "#ed7953"
             ],
             [
              0.7777777777777778,
              "#fb9f3a"
             ],
             [
              0.8888888888888888,
              "#fdca26"
             ],
             [
              1,
              "#f0f921"
             ]
            ],
            "type": "surface"
           }
          ],
          "table": [
           {
            "cells": {
             "fill": {
              "color": "#506784"
             },
             "line": {
              "color": "rgb(17,17,17)"
             }
            },
            "header": {
             "fill": {
              "color": "#2a3f5f"
             },
             "line": {
              "color": "rgb(17,17,17)"
             }
            },
            "type": "table"
           }
          ]
         },
         "layout": {
          "annotationdefaults": {
           "arrowcolor": "#f2f5fa",
           "arrowhead": 0,
           "arrowwidth": 1
          },
          "autotypenumbers": "strict",
          "coloraxis": {
           "colorbar": {
            "outlinewidth": 0,
            "ticks": ""
           }
          },
          "colorscale": {
           "diverging": [
            [
             0,
             "#8e0152"
            ],
            [
             0.1,
             "#c51b7d"
            ],
            [
             0.2,
             "#de77ae"
            ],
            [
             0.3,
             "#f1b6da"
            ],
            [
             0.4,
             "#fde0ef"
            ],
            [
             0.5,
             "#f7f7f7"
            ],
            [
             0.6,
             "#e6f5d0"
            ],
            [
             0.7,
             "#b8e186"
            ],
            [
             0.8,
             "#7fbc41"
            ],
            [
             0.9,
             "#4d9221"
            ],
            [
             1,
             "#276419"
            ]
           ],
           "sequential": [
            [
             0,
             "#0d0887"
            ],
            [
             0.1111111111111111,
             "#46039f"
            ],
            [
             0.2222222222222222,
             "#7201a8"
            ],
            [
             0.3333333333333333,
             "#9c179e"
            ],
            [
             0.4444444444444444,
             "#bd3786"
            ],
            [
             0.5555555555555556,
             "#d8576b"
            ],
            [
             0.6666666666666666,
             "#ed7953"
            ],
            [
             0.7777777777777778,
             "#fb9f3a"
            ],
            [
             0.8888888888888888,
             "#fdca26"
            ],
            [
             1,
             "#f0f921"
            ]
           ],
           "sequentialminus": [
            [
             0,
             "#0d0887"
            ],
            [
             0.1111111111111111,
             "#46039f"
            ],
            [
             0.2222222222222222,
             "#7201a8"
            ],
            [
             0.3333333333333333,
             "#9c179e"
            ],
            [
             0.4444444444444444,
             "#bd3786"
            ],
            [
             0.5555555555555556,
             "#d8576b"
            ],
            [
             0.6666666666666666,
             "#ed7953"
            ],
            [
             0.7777777777777778,
             "#fb9f3a"
            ],
            [
             0.8888888888888888,
             "#fdca26"
            ],
            [
             1,
             "#f0f921"
            ]
           ]
          },
          "colorway": [
           "#636efa",
           "#EF553B",
           "#00cc96",
           "#ab63fa",
           "#FFA15A",
           "#19d3f3",
           "#FF6692",
           "#B6E880",
           "#FF97FF",
           "#FECB52"
          ],
          "font": {
           "color": "#f2f5fa"
          },
          "geo": {
           "bgcolor": "rgb(17,17,17)",
           "lakecolor": "rgb(17,17,17)",
           "landcolor": "rgb(17,17,17)",
           "showlakes": true,
           "showland": true,
           "subunitcolor": "#506784"
          },
          "hoverlabel": {
           "align": "left"
          },
          "hovermode": "closest",
          "mapbox": {
           "style": "dark"
          },
          "paper_bgcolor": "rgb(17,17,17)",
          "plot_bgcolor": "rgb(17,17,17)",
          "polar": {
           "angularaxis": {
            "gridcolor": "#506784",
            "linecolor": "#506784",
            "ticks": ""
           },
           "bgcolor": "rgb(17,17,17)",
           "radialaxis": {
            "gridcolor": "#506784",
            "linecolor": "#506784",
            "ticks": ""
           }
          },
          "scene": {
           "xaxis": {
            "backgroundcolor": "rgb(17,17,17)",
            "gridcolor": "#506784",
            "gridwidth": 2,
            "linecolor": "#506784",
            "showbackground": true,
            "ticks": "",
            "zerolinecolor": "#C8D4E3"
           },
           "yaxis": {
            "backgroundcolor": "rgb(17,17,17)",
            "gridcolor": "#506784",
            "gridwidth": 2,
            "linecolor": "#506784",
            "showbackground": true,
            "ticks": "",
            "zerolinecolor": "#C8D4E3"
           },
           "zaxis": {
            "backgroundcolor": "rgb(17,17,17)",
            "gridcolor": "#506784",
            "gridwidth": 2,
            "linecolor": "#506784",
            "showbackground": true,
            "ticks": "",
            "zerolinecolor": "#C8D4E3"
           }
          },
          "shapedefaults": {
           "line": {
            "color": "#f2f5fa"
           }
          },
          "sliderdefaults": {
           "bgcolor": "#C8D4E3",
           "bordercolor": "rgb(17,17,17)",
           "borderwidth": 1,
           "tickwidth": 0
          },
          "ternary": {
           "aaxis": {
            "gridcolor": "#506784",
            "linecolor": "#506784",
            "ticks": ""
           },
           "baxis": {
            "gridcolor": "#506784",
            "linecolor": "#506784",
            "ticks": ""
           },
           "bgcolor": "rgb(17,17,17)",
           "caxis": {
            "gridcolor": "#506784",
            "linecolor": "#506784",
            "ticks": ""
           }
          },
          "title": {
           "x": 0.05
          },
          "updatemenudefaults": {
           "bgcolor": "#506784",
           "borderwidth": 0
          },
          "xaxis": {
           "automargin": true,
           "gridcolor": "#283442",
           "linecolor": "#506784",
           "ticks": "",
           "title": {
            "standoff": 15
           },
           "zerolinecolor": "#283442",
           "zerolinewidth": 2
          },
          "yaxis": {
           "automargin": true,
           "gridcolor": "#283442",
           "linecolor": "#506784",
           "ticks": "",
           "title": {
            "standoff": 15
           },
           "zerolinecolor": "#283442",
           "zerolinewidth": 2
          }
         }
        }
       }
      }
     },
     "metadata": {},
     "output_type": "display_data"
    }
   ],
   "source": [
    "fig = go.Figure(\n",
    "  data=[\n",
    "    go.Scatter3d(\n",
    "      x=data.pos[:,0], y=data.pos[:,1], z=data.pos[:,2],\n",
    "      mode='markers',\n",
    "      marker=dict(size=1, color=\"white\"))],\n",
    "  layout=dict(\n",
    "    scene=dict(\n",
    "      xaxis=dict(visible=False),\n",
    "      yaxis=dict(visible=False),\n",
    "      zaxis=dict(visible=False))))\n",
    "\n",
    "fig.update_layout(template='plotly_dark')\n",
    "\n",
    "fig.show()"
   ]
  },
  {
   "cell_type": "code",
   "execution_count": 60,
   "metadata": {},
   "outputs": [
    {
     "data": {
      "text/plain": [
       "PointNetClassifier(\n",
       "  (backbone): PointNetBackbone(\n",
       "    (tnet1): Transformer(\n",
       "      (mlp): Sequential(\n",
       "        (0): Conv1d(3, 64, kernel_size=(1,), stride=(1,))\n",
       "        (1): ReLU()\n",
       "        (2): BatchNorm1d(64, eps=1e-05, momentum=0.1, affine=True, track_running_stats=True)\n",
       "        (3): Conv1d(64, 128, kernel_size=(1,), stride=(1,))\n",
       "        (4): ReLU()\n",
       "        (5): BatchNorm1d(128, eps=1e-05, momentum=0.1, affine=True, track_running_stats=True)\n",
       "        (6): Conv1d(128, 1024, kernel_size=(1,), stride=(1,))\n",
       "        (7): ReLU()\n",
       "        (8): BatchNorm1d(1024, eps=1e-05, momentum=0.1, affine=True, track_running_stats=True)\n",
       "      )\n",
       "      (fcl): Sequential(\n",
       "        (0): Linear(in_features=1024, out_features=512, bias=True)\n",
       "        (1): ReLU()\n",
       "        (2): BatchNorm1d(512, eps=1e-05, momentum=0.1, affine=True, track_running_stats=True)\n",
       "        (3): Linear(in_features=512, out_features=256, bias=True)\n",
       "        (4): ReLU()\n",
       "        (5): BatchNorm1d(256, eps=1e-05, momentum=0.1, affine=True, track_running_stats=True)\n",
       "        (6): Linear(in_features=256, out_features=9, bias=True)\n",
       "      )\n",
       "    )\n",
       "    (mlp1): Sequential(\n",
       "      (0): Conv1d(3, 64, kernel_size=(1,), stride=(1,))\n",
       "      (1): ReLU()\n",
       "      (2): BatchNorm1d(64, eps=1e-05, momentum=0.1, affine=True, track_running_stats=True)\n",
       "      (3): Conv1d(64, 64, kernel_size=(1,), stride=(1,))\n",
       "      (4): ReLU()\n",
       "      (5): BatchNorm1d(64, eps=1e-05, momentum=0.1, affine=True, track_running_stats=True)\n",
       "    )\n",
       "    (tnet2): Transformer(\n",
       "      (mlp): Sequential(\n",
       "        (0): Conv1d(64, 64, kernel_size=(1,), stride=(1,))\n",
       "        (1): ReLU()\n",
       "        (2): BatchNorm1d(64, eps=1e-05, momentum=0.1, affine=True, track_running_stats=True)\n",
       "        (3): Conv1d(64, 128, kernel_size=(1,), stride=(1,))\n",
       "        (4): ReLU()\n",
       "        (5): BatchNorm1d(128, eps=1e-05, momentum=0.1, affine=True, track_running_stats=True)\n",
       "        (6): Conv1d(128, 1024, kernel_size=(1,), stride=(1,))\n",
       "        (7): ReLU()\n",
       "        (8): BatchNorm1d(1024, eps=1e-05, momentum=0.1, affine=True, track_running_stats=True)\n",
       "      )\n",
       "      (fcl): Sequential(\n",
       "        (0): Linear(in_features=1024, out_features=512, bias=True)\n",
       "        (1): ReLU()\n",
       "        (2): BatchNorm1d(512, eps=1e-05, momentum=0.1, affine=True, track_running_stats=True)\n",
       "        (3): Linear(in_features=512, out_features=256, bias=True)\n",
       "        (4): ReLU()\n",
       "        (5): BatchNorm1d(256, eps=1e-05, momentum=0.1, affine=True, track_running_stats=True)\n",
       "        (6): Linear(in_features=256, out_features=4096, bias=True)\n",
       "      )\n",
       "    )\n",
       "    (mlp2): Sequential(\n",
       "      (0): Conv1d(64, 64, kernel_size=(1,), stride=(1,))\n",
       "      (1): ReLU()\n",
       "      (2): BatchNorm1d(64, eps=1e-05, momentum=0.1, affine=True, track_running_stats=True)\n",
       "      (3): Conv1d(64, 128, kernel_size=(1,), stride=(1,))\n",
       "      (4): ReLU()\n",
       "      (5): BatchNorm1d(128, eps=1e-05, momentum=0.1, affine=True, track_running_stats=True)\n",
       "      (6): Conv1d(128, 1024, kernel_size=(1,), stride=(1,))\n",
       "      (7): ReLU()\n",
       "      (8): BatchNorm1d(1024, eps=1e-05, momentum=0.1, affine=True, track_running_stats=True)\n",
       "    )\n",
       "  )\n",
       "  (classification_head): Sequential(\n",
       "    (0): Linear(in_features=1024, out_features=512, bias=True)\n",
       "    (1): BatchNorm1d(512, eps=1e-05, momentum=0.1, affine=True, track_running_stats=True)\n",
       "    (2): ReLU()\n",
       "    (3): Linear(in_features=512, out_features=256, bias=True)\n",
       "    (4): BatchNorm1d(256, eps=1e-05, momentum=0.1, affine=True, track_running_stats=True)\n",
       "    (5): ReLU()\n",
       "    (6): Dropout(p=0.3, inplace=False)\n",
       "    (7): Linear(in_features=256, out_features=10, bias=True)\n",
       "  )\n",
       ")"
      ]
     },
     "execution_count": 60,
     "metadata": {},
     "output_type": "execute_result"
    }
   ],
   "source": [
    "pointnet = PointNetClassifier(num_classes=10)\n",
    "pointnet.to(device)\n",
    "\n",
    "# rotate object around z-axis\n",
    "# apply guassian noise to each point, mean 0 std deviation 0.002"
   ]
  },
  {
   "cell_type": "code",
   "execution_count": 17,
   "metadata": {},
   "outputs": [
    {
     "name": "stdout",
     "output_type": "stream",
     "text": [
      "torch.Size([10, 64, 64])\n",
      "torch.Size([10, 40])\n"
     ]
    }
   ],
   "source": [
    "pointnet.train()\n",
    "\n",
    "test_data = torch.rand(10, 3, num_points).to(device)\n",
    "output, A = pointnet(test_data)\n",
    "print(A.shape)\n",
    "print(output.shape)"
   ]
  },
  {
   "cell_type": "code",
   "execution_count": 8,
   "metadata": {},
   "outputs": [],
   "source": [
    "num_epochs = 50\n",
    "learning_rate = 0.0001\n",
    "reg_weight = 0.001\n",
    "\n",
    "optimizer = optim.Adam(pointnet.parameters(), lr=learning_rate)\n",
    "scheduler = torch.optim.lr_scheduler.CyclicLR(optimizer, base_lr=0.0001, max_lr=0.001, \n",
    "                                              step_size_up=2000, cycle_momentum=False)\n",
    "\n",
    "criterion = PointNetClassificationLoss(reg_weight=reg_weight).to(device)"
   ]
  },
  {
   "cell_type": "code",
   "execution_count": 61,
   "metadata": {},
   "outputs": [
    {
     "data": {
      "text/plain": [
       "<All keys matched successfully>"
      ]
     },
     "execution_count": 61,
     "metadata": {},
     "output_type": "execute_result"
    }
   ],
   "source": [
    "checkpoint = torch.load(\"pointnet_modelnet10.pth\")\n",
    "pointnet.load_state_dict(checkpoint['model_state_dict'])"
   ]
  },
  {
   "cell_type": "code",
   "execution_count": 9,
   "metadata": {},
   "outputs": [
    {
     "name": "stdout",
     "output_type": "stream",
     "text": [
      "2025-03-05 00:39:30.791853   [Epoch   0]  Loss:    3.316  Accuracy:      24.88%\n",
      "2025-03-05 00:40:27.214408   [Epoch   1]  Loss:    2.398  Accuracy:      38.21%\n",
      "2025-03-05 00:41:23.821786   [Epoch   2]  Loss:     1.98  Accuracy:      47.16%\n",
      "2025-03-05 00:42:20.551162   [Epoch   3]  Loss:    1.698  Accuracy:       53.2%\n",
      "2025-03-05 00:43:17.495072   [Epoch   4]  Loss:    1.523  Accuracy:       59.4%\n",
      "2025-03-05 00:44:14.215230   [Epoch   5]  Loss:    1.412  Accuracy:      59.81%\n",
      "2025-03-05 00:45:10.971817   [Epoch   6]  Loss:    1.253  Accuracy:      59.89%\n",
      "2025-03-05 00:46:07.847645   [Epoch   7]  Loss:    1.172  Accuracy:      59.28%\n",
      "2025-03-05 00:47:04.528796   [Epoch   8]  Loss:    1.156  Accuracy:      49.23%\n",
      "2025-03-05 00:48:01.280493   [Epoch   9]  Loss:    1.133  Accuracy:      60.09%\n",
      "2025-03-05 00:48:58.082312   [Epoch  10]  Loss:    1.036  Accuracy:      63.33%\n",
      "2025-03-05 00:49:55.552840   [Epoch  11]  Loss:    1.023  Accuracy:      69.89%\n",
      "2025-03-05 00:50:52.406648   [Epoch  12]  Loss:   0.9927  Accuracy:      66.73%\n",
      "2025-03-05 00:51:49.454870   [Epoch  13]  Loss:    0.927  Accuracy:      68.96%\n",
      "2025-03-05 00:52:46.549367   [Epoch  14]  Loss:   0.8654  Accuracy:      71.31%\n",
      "2025-03-05 00:53:43.539364   [Epoch  15]  Loss:   0.7719  Accuracy:      71.35%\n",
      "2025-03-05 00:54:40.542114   [Epoch  16]  Loss:    0.733  Accuracy:       76.5%\n",
      "2025-03-05 00:55:37.651075   [Epoch  17]  Loss:   0.6827  Accuracy:      77.39%\n",
      "2025-03-05 00:56:34.904224   [Epoch  18]  Loss:   0.6212  Accuracy:      77.96%\n",
      "2025-03-05 00:57:31.869912   [Epoch  19]  Loss:   0.5592  Accuracy:      78.48%\n",
      "2025-03-05 00:58:28.780453   [Epoch  20]  Loss:   0.5599  Accuracy:      75.93%\n",
      "2025-03-05 00:59:25.776507   [Epoch  21]  Loss:   0.5205  Accuracy:      79.21%\n",
      "2025-03-05 01:00:22.649445   [Epoch  22]  Loss:   0.4506  Accuracy:      82.46%\n",
      "2025-03-05 01:01:19.730391   [Epoch  23]  Loss:   0.3908  Accuracy:      82.74%\n",
      "2025-03-05 01:02:16.943769   [Epoch  24]  Loss:   0.3505  Accuracy:      83.39%\n",
      "2025-03-05 01:03:14.079324   [Epoch  25]  Loss:   0.3242  Accuracy:      84.48%\n",
      "2025-03-05 01:04:11.127085   [Epoch  26]  Loss:   0.3096  Accuracy:      83.83%\n",
      "2025-03-05 01:05:08.029264   [Epoch  27]  Loss:   0.3936  Accuracy:      79.29%\n",
      "2025-03-05 01:06:04.962032   [Epoch  28]  Loss:   0.4199  Accuracy:      79.25%\n",
      "2025-03-05 01:07:01.946651   [Epoch  29]  Loss:   0.4175  Accuracy:       81.4%\n",
      "2025-03-05 01:07:59.046011   [Epoch  30]  Loss:   0.4388  Accuracy:      77.59%\n",
      "2025-03-05 01:08:56.036530   [Epoch  31]  Loss:   0.4675  Accuracy:      78.61%\n",
      "2025-03-05 01:09:52.888461   [Epoch  32]  Loss:   0.5039  Accuracy:      78.08%\n",
      "2025-03-05 01:10:50.003321   [Epoch  33]  Loss:   0.5598  Accuracy:       76.3%\n",
      "2025-03-05 01:11:47.118032   [Epoch  34]  Loss:   0.5564  Accuracy:      74.64%\n",
      "2025-03-05 01:12:45.192053   [Epoch  35]  Loss:   0.5914  Accuracy:      70.99%\n",
      "2025-03-05 01:13:43.024929   [Epoch  36]  Loss:   0.5967  Accuracy:      74.96%\n",
      "2025-03-05 01:14:41.268726   [Epoch  37]  Loss:   0.5649  Accuracy:      77.07%\n",
      "2025-03-05 01:15:39.185580   [Epoch  38]  Loss:   0.5872  Accuracy:      74.55%\n",
      "2025-03-05 01:16:37.589464   [Epoch  39]  Loss:   0.5542  Accuracy:      47.85%\n",
      "2025-03-05 01:17:35.466916   [Epoch  40]  Loss:   0.5062  Accuracy:      80.79%\n",
      "2025-03-05 01:18:33.617861   [Epoch  41]  Loss:   0.4487  Accuracy:      79.66%\n",
      "2025-03-05 01:19:32.132687   [Epoch  42]  Loss:   0.4276  Accuracy:      80.27%\n",
      "2025-03-05 01:20:29.912716   [Epoch  43]  Loss:   0.3772  Accuracy:      79.94%\n",
      "2025-03-05 01:21:28.769113   [Epoch  44]  Loss:   0.3991  Accuracy:      77.71%\n",
      "2025-03-05 01:22:26.807482   [Epoch  45]  Loss:   0.3456  Accuracy:      82.25%\n",
      "2025-03-05 01:23:24.886424   [Epoch  46]  Loss:   0.2967  Accuracy:      82.62%\n",
      "2025-03-05 01:24:22.754179   [Epoch  47]  Loss:   0.2568  Accuracy:      83.63%\n",
      "2025-03-05 01:25:20.610699   [Epoch  48]  Loss:   0.2315  Accuracy:      84.08%\n",
      "2025-03-05 01:26:18.377195   [Epoch  49]  Loss:   0.2148  Accuracy:      85.09%\n"
     ]
    }
   ],
   "source": [
    "directory = \"./pointnet_modelnet40\"\n",
    "os.makedirs(directory, exist_ok=True)\n",
    "\n",
    "for epoch in range(num_epochs):\n",
    "\n",
    "    accuracy = 0\n",
    "    loss_avg = 0\n",
    "    count = 0\n",
    "\n",
    "    pointnet.train()\n",
    "    for data in trainloader:\n",
    "\n",
    "        clouds = data.pos.view(data.batch[-1]+1, num_points, 3)\n",
    "        clouds = clouds.transpose(2, 1).to(device)\n",
    "\n",
    "        labels = data.y.to(device)\n",
    "\n",
    "        optimizer.zero_grad()\n",
    "\n",
    "        outputs, A = pointnet(clouds)\n",
    "        loss = criterion(outputs, labels, A)\n",
    "        loss.backward()\n",
    "        optimizer.step()\n",
    "        scheduler.step()\n",
    "\n",
    "        loss_avg += loss.item()\n",
    "        count += 1\n",
    "    \n",
    "    loss_avg = loss_avg/count\n",
    "    \n",
    "    pointnet.eval()\n",
    "    with torch.no_grad():\n",
    "        correct = 0\n",
    "        total = 0\n",
    "        for data in testloader:\n",
    "            \n",
    "            clouds = data.pos.view(data.batch[-1]+1, num_points, 3)\n",
    "            clouds = clouds.transpose(2,1).to(device)\n",
    "\n",
    "            labels = data.y.to(device)\n",
    "            \n",
    "            outputs, _ = pointnet(clouds)\n",
    "\n",
    "            _, predicted = torch.max(outputs.data, 1)\n",
    "            total += labels.size(0)\n",
    "            correct += (predicted == labels).sum().item()\n",
    "\n",
    "        accuracy = correct/total\n",
    "    \n",
    "    print(\"{}   [Epoch {:3}]  Loss: {:8.4}  Accuracy:   {:8.4}%\".format(datetime.datetime.now(), epoch, loss_avg, 100*accuracy))\n",
    "\n",
    "    torch.save(\n",
    "        {'model_state_dict': pointnet.state_dict()},\n",
    "        directory + \"/epoch_\" + str(epoch) + \".pth\")"
   ]
  },
  {
   "cell_type": "code",
   "execution_count": 66,
   "metadata": {},
   "outputs": [
    {
     "name": "stdout",
     "output_type": "stream",
     "text": [
      "2025-03-05 10:58:18.512179   Accuracy:      90.42%\n"
     ]
    }
   ],
   "source": [
    "pointnet.eval()\n",
    "\n",
    "with torch.no_grad():\n",
    "    correct = 0\n",
    "    total = 0\n",
    "    for data in testloader:\n",
    "        \n",
    "        clouds = data.pos.view(data.batch[-1]+1, num_points, 3)\n",
    "        clouds = clouds.transpose(2, 1).to(device)\n",
    "\n",
    "        labels = data.y.to(device)\n",
    "            \n",
    "        outputs, _ = pointnet(clouds)\n",
    "\n",
    "        _, predicted = torch.max(outputs.data, 1)\n",
    "        total += labels.size(0)\n",
    "        correct += (predicted == labels).sum().item()\n",
    "    \n",
    "    accuracy = correct/total\n",
    "\n",
    "    print(\"{}   Accuracy:   {:8.4}%\".format(datetime.datetime.now(), 100*accuracy))"
   ]
  },
  {
   "cell_type": "code",
   "execution_count": 74,
   "metadata": {},
   "outputs": [
    {
     "name": "stdout",
     "output_type": "stream",
     "text": [
      "Predicted Class: chair    Certainty:    99.99   Actual Class:   chair\n"
     ]
    },
    {
     "data": {
      "application/vnd.plotly.v1+json": {
       "config": {
        "plotlyServerURL": "https://plot.ly"
       },
       "data": [
        {
         "marker": {
          "color": "white",
          "size": 1
         },
         "mode": "markers",
         "type": "scatter3d",
         "x": {
          "bdata": "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",
          "dtype": "f4"
         },
         "y": {
          "bdata": "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",
          "dtype": "f4"
         },
         "z": {
          "bdata": "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",
          "dtype": "f4"
         }
        }
       ],
       "layout": {
        "scene": {
         "xaxis": {
          "visible": false
         },
         "yaxis": {
          "visible": false
         },
         "zaxis": {
          "visible": false
         }
        },
        "template": {
         "data": {
          "bar": [
           {
            "error_x": {
             "color": "#f2f5fa"
            },
            "error_y": {
             "color": "#f2f5fa"
            },
            "marker": {
             "line": {
              "color": "rgb(17,17,17)",
              "width": 0.5
             },
             "pattern": {
              "fillmode": "overlay",
              "size": 10,
              "solidity": 0.2
             }
            },
            "type": "bar"
           }
          ],
          "barpolar": [
           {
            "marker": {
             "line": {
              "color": "rgb(17,17,17)",
              "width": 0.5
             },
             "pattern": {
              "fillmode": "overlay",
              "size": 10,
              "solidity": 0.2
             }
            },
            "type": "barpolar"
           }
          ],
          "carpet": [
           {
            "aaxis": {
             "endlinecolor": "#A2B1C6",
             "gridcolor": "#506784",
             "linecolor": "#506784",
             "minorgridcolor": "#506784",
             "startlinecolor": "#A2B1C6"
            },
            "baxis": {
             "endlinecolor": "#A2B1C6",
             "gridcolor": "#506784",
             "linecolor": "#506784",
             "minorgridcolor": "#506784",
             "startlinecolor": "#A2B1C6"
            },
            "type": "carpet"
           }
          ],
          "choropleth": [
           {
            "colorbar": {
             "outlinewidth": 0,
             "ticks": ""
            },
            "type": "choropleth"
           }
          ],
          "contour": [
           {
            "colorbar": {
             "outlinewidth": 0,
             "ticks": ""
            },
            "colorscale": [
             [
              0,
              "#0d0887"
             ],
             [
              0.1111111111111111,
              "#46039f"
             ],
             [
              0.2222222222222222,
              "#7201a8"
             ],
             [
              0.3333333333333333,
              "#9c179e"
             ],
             [
              0.4444444444444444,
              "#bd3786"
             ],
             [
              0.5555555555555556,
              "#d8576b"
             ],
             [
              0.6666666666666666,
              "#ed7953"
             ],
             [
              0.7777777777777778,
              "#fb9f3a"
             ],
             [
              0.8888888888888888,
              "#fdca26"
             ],
             [
              1,
              "#f0f921"
             ]
            ],
            "type": "contour"
           }
          ],
          "contourcarpet": [
           {
            "colorbar": {
             "outlinewidth": 0,
             "ticks": ""
            },
            "type": "contourcarpet"
           }
          ],
          "heatmap": [
           {
            "colorbar": {
             "outlinewidth": 0,
             "ticks": ""
            },
            "colorscale": [
             [
              0,
              "#0d0887"
             ],
             [
              0.1111111111111111,
              "#46039f"
             ],
             [
              0.2222222222222222,
              "#7201a8"
             ],
             [
              0.3333333333333333,
              "#9c179e"
             ],
             [
              0.4444444444444444,
              "#bd3786"
             ],
             [
              0.5555555555555556,
              "#d8576b"
             ],
             [
              0.6666666666666666,
              "#ed7953"
             ],
             [
              0.7777777777777778,
              "#fb9f3a"
             ],
             [
              0.8888888888888888,
              "#fdca26"
             ],
             [
              1,
              "#f0f921"
             ]
            ],
            "type": "heatmap"
           }
          ],
          "histogram": [
           {
            "marker": {
             "pattern": {
              "fillmode": "overlay",
              "size": 10,
              "solidity": 0.2
             }
            },
            "type": "histogram"
           }
          ],
          "histogram2d": [
           {
            "colorbar": {
             "outlinewidth": 0,
             "ticks": ""
            },
            "colorscale": [
             [
              0,
              "#0d0887"
             ],
             [
              0.1111111111111111,
              "#46039f"
             ],
             [
              0.2222222222222222,
              "#7201a8"
             ],
             [
              0.3333333333333333,
              "#9c179e"
             ],
             [
              0.4444444444444444,
              "#bd3786"
             ],
             [
              0.5555555555555556,
              "#d8576b"
             ],
             [
              0.6666666666666666,
              "#ed7953"
             ],
             [
              0.7777777777777778,
              "#fb9f3a"
             ],
             [
              0.8888888888888888,
              "#fdca26"
             ],
             [
              1,
              "#f0f921"
             ]
            ],
            "type": "histogram2d"
           }
          ],
          "histogram2dcontour": [
           {
            "colorbar": {
             "outlinewidth": 0,
             "ticks": ""
            },
            "colorscale": [
             [
              0,
              "#0d0887"
             ],
             [
              0.1111111111111111,
              "#46039f"
             ],
             [
              0.2222222222222222,
              "#7201a8"
             ],
             [
              0.3333333333333333,
              "#9c179e"
             ],
             [
              0.4444444444444444,
              "#bd3786"
             ],
             [
              0.5555555555555556,
              "#d8576b"
             ],
             [
              0.6666666666666666,
              "#ed7953"
             ],
             [
              0.7777777777777778,
              "#fb9f3a"
             ],
             [
              0.8888888888888888,
              "#fdca26"
             ],
             [
              1,
              "#f0f921"
             ]
            ],
            "type": "histogram2dcontour"
           }
          ],
          "mesh3d": [
           {
            "colorbar": {
             "outlinewidth": 0,
             "ticks": ""
            },
            "type": "mesh3d"
           }
          ],
          "parcoords": [
           {
            "line": {
             "colorbar": {
              "outlinewidth": 0,
              "ticks": ""
             }
            },
            "type": "parcoords"
           }
          ],
          "pie": [
           {
            "automargin": true,
            "type": "pie"
           }
          ],
          "scatter": [
           {
            "marker": {
             "line": {
              "color": "#283442"
             }
            },
            "type": "scatter"
           }
          ],
          "scatter3d": [
           {
            "line": {
             "colorbar": {
              "outlinewidth": 0,
              "ticks": ""
             }
            },
            "marker": {
             "colorbar": {
              "outlinewidth": 0,
              "ticks": ""
             }
            },
            "type": "scatter3d"
           }
          ],
          "scattercarpet": [
           {
            "marker": {
             "colorbar": {
              "outlinewidth": 0,
              "ticks": ""
             }
            },
            "type": "scattercarpet"
           }
          ],
          "scattergeo": [
           {
            "marker": {
             "colorbar": {
              "outlinewidth": 0,
              "ticks": ""
             }
            },
            "type": "scattergeo"
           }
          ],
          "scattergl": [
           {
            "marker": {
             "line": {
              "color": "#283442"
             }
            },
            "type": "scattergl"
           }
          ],
          "scattermap": [
           {
            "marker": {
             "colorbar": {
              "outlinewidth": 0,
              "ticks": ""
             }
            },
            "type": "scattermap"
           }
          ],
          "scattermapbox": [
           {
            "marker": {
             "colorbar": {
              "outlinewidth": 0,
              "ticks": ""
             }
            },
            "type": "scattermapbox"
           }
          ],
          "scatterpolar": [
           {
            "marker": {
             "colorbar": {
              "outlinewidth": 0,
              "ticks": ""
             }
            },
            "type": "scatterpolar"
           }
          ],
          "scatterpolargl": [
           {
            "marker": {
             "colorbar": {
              "outlinewidth": 0,
              "ticks": ""
             }
            },
            "type": "scatterpolargl"
           }
          ],
          "scatterternary": [
           {
            "marker": {
             "colorbar": {
              "outlinewidth": 0,
              "ticks": ""
             }
            },
            "type": "scatterternary"
           }
          ],
          "surface": [
           {
            "colorbar": {
             "outlinewidth": 0,
             "ticks": ""
            },
            "colorscale": [
             [
              0,
              "#0d0887"
             ],
             [
              0.1111111111111111,
              "#46039f"
             ],
             [
              0.2222222222222222,
              "#7201a8"
             ],
             [
              0.3333333333333333,
              "#9c179e"
             ],
             [
              0.4444444444444444,
              "#bd3786"
             ],
             [
              0.5555555555555556,
              "#d8576b"
             ],
             [
              0.6666666666666666,
              "#ed7953"
             ],
             [
              0.7777777777777778,
              "#fb9f3a"
             ],
             [
              0.8888888888888888,
              "#fdca26"
             ],
             [
              1,
              "#f0f921"
             ]
            ],
            "type": "surface"
           }
          ],
          "table": [
           {
            "cells": {
             "fill": {
              "color": "#506784"
             },
             "line": {
              "color": "rgb(17,17,17)"
             }
            },
            "header": {
             "fill": {
              "color": "#2a3f5f"
             },
             "line": {
              "color": "rgb(17,17,17)"
             }
            },
            "type": "table"
           }
          ]
         },
         "layout": {
          "annotationdefaults": {
           "arrowcolor": "#f2f5fa",
           "arrowhead": 0,
           "arrowwidth": 1
          },
          "autotypenumbers": "strict",
          "coloraxis": {
           "colorbar": {
            "outlinewidth": 0,
            "ticks": ""
           }
          },
          "colorscale": {
           "diverging": [
            [
             0,
             "#8e0152"
            ],
            [
             0.1,
             "#c51b7d"
            ],
            [
             0.2,
             "#de77ae"
            ],
            [
             0.3,
             "#f1b6da"
            ],
            [
             0.4,
             "#fde0ef"
            ],
            [
             0.5,
             "#f7f7f7"
            ],
            [
             0.6,
             "#e6f5d0"
            ],
            [
             0.7,
             "#b8e186"
            ],
            [
             0.8,
             "#7fbc41"
            ],
            [
             0.9,
             "#4d9221"
            ],
            [
             1,
             "#276419"
            ]
           ],
           "sequential": [
            [
             0,
             "#0d0887"
            ],
            [
             0.1111111111111111,
             "#46039f"
            ],
            [
             0.2222222222222222,
             "#7201a8"
            ],
            [
             0.3333333333333333,
             "#9c179e"
            ],
            [
             0.4444444444444444,
             "#bd3786"
            ],
            [
             0.5555555555555556,
             "#d8576b"
            ],
            [
             0.6666666666666666,
             "#ed7953"
            ],
            [
             0.7777777777777778,
             "#fb9f3a"
            ],
            [
             0.8888888888888888,
             "#fdca26"
            ],
            [
             1,
             "#f0f921"
            ]
           ],
           "sequentialminus": [
            [
             0,
             "#0d0887"
            ],
            [
             0.1111111111111111,
             "#46039f"
            ],
            [
             0.2222222222222222,
             "#7201a8"
            ],
            [
             0.3333333333333333,
             "#9c179e"
            ],
            [
             0.4444444444444444,
             "#bd3786"
            ],
            [
             0.5555555555555556,
             "#d8576b"
            ],
            [
             0.6666666666666666,
             "#ed7953"
            ],
            [
             0.7777777777777778,
             "#fb9f3a"
            ],
            [
             0.8888888888888888,
             "#fdca26"
            ],
            [
             1,
             "#f0f921"
            ]
           ]
          },
          "colorway": [
           "#636efa",
           "#EF553B",
           "#00cc96",
           "#ab63fa",
           "#FFA15A",
           "#19d3f3",
           "#FF6692",
           "#B6E880",
           "#FF97FF",
           "#FECB52"
          ],
          "font": {
           "color": "#f2f5fa"
          },
          "geo": {
           "bgcolor": "rgb(17,17,17)",
           "lakecolor": "rgb(17,17,17)",
           "landcolor": "rgb(17,17,17)",
           "showlakes": true,
           "showland": true,
           "subunitcolor": "#506784"
          },
          "hoverlabel": {
           "align": "left"
          },
          "hovermode": "closest",
          "mapbox": {
           "style": "dark"
          },
          "paper_bgcolor": "rgb(17,17,17)",
          "plot_bgcolor": "rgb(17,17,17)",
          "polar": {
           "angularaxis": {
            "gridcolor": "#506784",
            "linecolor": "#506784",
            "ticks": ""
           },
           "bgcolor": "rgb(17,17,17)",
           "radialaxis": {
            "gridcolor": "#506784",
            "linecolor": "#506784",
            "ticks": ""
           }
          },
          "scene": {
           "xaxis": {
            "backgroundcolor": "rgb(17,17,17)",
            "gridcolor": "#506784",
            "gridwidth": 2,
            "linecolor": "#506784",
            "showbackground": true,
            "ticks": "",
            "zerolinecolor": "#C8D4E3"
           },
           "yaxis": {
            "backgroundcolor": "rgb(17,17,17)",
            "gridcolor": "#506784",
            "gridwidth": 2,
            "linecolor": "#506784",
            "showbackground": true,
            "ticks": "",
            "zerolinecolor": "#C8D4E3"
           },
           "zaxis": {
            "backgroundcolor": "rgb(17,17,17)",
            "gridcolor": "#506784",
            "gridwidth": 2,
            "linecolor": "#506784",
            "showbackground": true,
            "ticks": "",
            "zerolinecolor": "#C8D4E3"
           }
          },
          "shapedefaults": {
           "line": {
            "color": "#f2f5fa"
           }
          },
          "sliderdefaults": {
           "bgcolor": "#C8D4E3",
           "bordercolor": "rgb(17,17,17)",
           "borderwidth": 1,
           "tickwidth": 0
          },
          "ternary": {
           "aaxis": {
            "gridcolor": "#506784",
            "linecolor": "#506784",
            "ticks": ""
           },
           "baxis": {
            "gridcolor": "#506784",
            "linecolor": "#506784",
            "ticks": ""
           },
           "bgcolor": "rgb(17,17,17)",
           "caxis": {
            "gridcolor": "#506784",
            "linecolor": "#506784",
            "ticks": ""
           }
          },
          "title": {
           "x": 0.05
          },
          "updatemenudefaults": {
           "bgcolor": "#506784",
           "borderwidth": 0
          },
          "xaxis": {
           "automargin": true,
           "gridcolor": "#283442",
           "linecolor": "#506784",
           "ticks": "",
           "title": {
            "standoff": 15
           },
           "zerolinecolor": "#283442",
           "zerolinewidth": 2
          },
          "yaxis": {
           "automargin": true,
           "gridcolor": "#283442",
           "linecolor": "#506784",
           "ticks": "",
           "title": {
            "standoff": 15
           },
           "zerolinecolor": "#283442",
           "zerolinewidth": 2
          }
         }
        }
       }
      }
     },
     "metadata": {},
     "output_type": "display_data"
    }
   ],
   "source": [
    "idx = random.randint(0, len(dataset_test))\n",
    "\n",
    "data = dataset_test[idx]\n",
    "\n",
    "cloud = data.pos.view(1, num_points, 3)\n",
    "cloud = cloud.transpose(2, 1).to(device)\n",
    "\n",
    "output, _ = pointnet(cloud)\n",
    "\n",
    "probabilities = 100*F.softmax(output.transpose(1,0), dim=0)\n",
    "\n",
    "_, predicted = torch.max(output.data, 1)\n",
    "label = data.y\n",
    "\n",
    "print('Predicted Class: {}    Certainty: {:8.4}   Actual Class:   {}'.format(classes[predicted.item()], probabilities[predicted.item()].item(), classes[label.item()]))\n",
    "\n",
    "fig = go.Figure(\n",
    "  data=[\n",
    "    go.Scatter3d(\n",
    "      x=data.pos[:,0], y=data.pos[:,1], z=data.pos[:,2],\n",
    "      mode='markers',\n",
    "      marker=dict(size=1, color=\"white\"))],\n",
    "  layout=dict(\n",
    "    scene=dict(\n",
    "      xaxis=dict(visible=False),\n",
    "      yaxis=dict(visible=False),\n",
    "      zaxis=dict(visible=False))))\n",
    "\n",
    "fig.update_layout(template='plotly_dark')\n",
    "\n",
    "fig.show()"
   ]
  },
  {
   "cell_type": "code",
   "execution_count": null,
   "metadata": {},
   "outputs": [],
   "source": []
  }
 ],
 "metadata": {
  "kernelspec": {
   "display_name": "pointcloud",
   "language": "python",
   "name": "python3"
  },
  "language_info": {
   "codemirror_mode": {
    "name": "ipython",
    "version": 3
   },
   "file_extension": ".py",
   "mimetype": "text/x-python",
   "name": "python",
   "nbconvert_exporter": "python",
   "pygments_lexer": "ipython3",
   "version": "3.10.16"
  }
 },
 "nbformat": 4,
 "nbformat_minor": 2
}
