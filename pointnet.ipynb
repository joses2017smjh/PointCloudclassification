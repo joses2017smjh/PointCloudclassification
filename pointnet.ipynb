{
 "cells": [
  {
   "cell_type": "code",
   "execution_count": 1,
   "metadata": {},
   "outputs": [
    {
     "name": "stdout",
     "output_type": "stream",
     "text": [
      "Jupyter environment detected. Enabling Open3D WebVisualizer.\n",
      "[Open3D INFO] WebRTC GUI backend enabled.\n",
      "[Open3D INFO] WebRTCWindowSystem: HTTP handshake server disabled.\n"
     ]
    }
   ],
   "source": [
    "import torch\n",
    "from torch_geometric.datasets import ModelNet\n",
    "from torch_geometric.transforms import SamplePoints, NormalizeScale\n",
    "from torch_geometric.loader import DataLoader\n",
    "\n",
    "import open3d as o3d\n",
    "import plotly.graph_objects as go\n",
    "\n",
    "import torch.nn as nn\n",
    "import torch.nn.functional as F\n",
    "import torch.optim as optim\n",
    "import datetime"
   ]
  },
  {
   "cell_type": "code",
   "execution_count": 2,
   "metadata": {},
   "outputs": [],
   "source": [
    "device = \"cuda\""
   ]
  },
  {
   "cell_type": "code",
   "execution_count": 3,
   "metadata": {},
   "outputs": [
    {
     "name": "stdout",
     "output_type": "stream",
     "text": [
      "Number of training examples: 3991\n",
      "Number of test examples: 908\n",
      "Data(pos=[2048, 3], y=[1])\n",
      "Point cloud shape: torch.Size([2048, 3])\n",
      "Label: tensor([2])\n"
     ]
    }
   ],
   "source": [
    "num_points = 2048\n",
    "\n",
    "pre_transform = NormalizeScale()\n",
    "transform = SamplePoints(num_points)\n",
    "\n",
    "batch_size = 64\n",
    "\n",
    "root = 'data/ModelNet10'\n",
    "dataset_train = ModelNet(root=root, name='10', train=True, pre_transform=pre_transform, transform=transform)\n",
    "trainloader = DataLoader(dataset_train, batch_size=batch_size, shuffle=True)\n",
    "\n",
    "dataset_test = ModelNet(root=root, name='10', train=False, pre_transform=pre_transform, transform=transform)\n",
    "test_loader = DataLoader(dataset_test, batch_size=batch_size)\n",
    "\n",
    "print(f'Number of training examples: {len(dataset_train)}')\n",
    "print(f'Number of test examples: {len(dataset_test)}')\n",
    "\n",
    "data = dataset_train[1001]\n",
    "print(data)\n",
    "print(f'Point cloud shape: {data.pos.shape}')\n",
    "print(f'Label: {data.y}')"
   ]
  },
  {
   "cell_type": "code",
   "execution_count": 4,
   "metadata": {},
   "outputs": [
    {
     "data": {
      "application/vnd.plotly.v1+json": {
       "config": {
        "plotlyServerURL": "https://plot.ly"
       },
       "data": [
        {
         "marker": {
          "color": "white",
          "size": 1
         },
         "mode": "markers",
         "type": "scatter3d",
         "x": {
          "bdata": "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",
          "dtype": "f4"
         },
         "y": {
          "bdata": "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",
          "dtype": "f4"
         },
         "z": {
          "bdata": "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",
          "dtype": "f4"
         }
        }
       ],
       "layout": {
        "scene": {
         "xaxis": {
          "visible": false
         },
         "yaxis": {
          "visible": false
         },
         "zaxis": {
          "visible": false
         }
        },
        "template": {
         "data": {
          "bar": [
           {
            "error_x": {
             "color": "#f2f5fa"
            },
            "error_y": {
             "color": "#f2f5fa"
            },
            "marker": {
             "line": {
              "color": "rgb(17,17,17)",
              "width": 0.5
             },
             "pattern": {
              "fillmode": "overlay",
              "size": 10,
              "solidity": 0.2
             }
            },
            "type": "bar"
           }
          ],
          "barpolar": [
           {
            "marker": {
             "line": {
              "color": "rgb(17,17,17)",
              "width": 0.5
             },
             "pattern": {
              "fillmode": "overlay",
              "size": 10,
              "solidity": 0.2
             }
            },
            "type": "barpolar"
           }
          ],
          "carpet": [
           {
            "aaxis": {
             "endlinecolor": "#A2B1C6",
             "gridcolor": "#506784",
             "linecolor": "#506784",
             "minorgridcolor": "#506784",
             "startlinecolor": "#A2B1C6"
            },
            "baxis": {
             "endlinecolor": "#A2B1C6",
             "gridcolor": "#506784",
             "linecolor": "#506784",
             "minorgridcolor": "#506784",
             "startlinecolor": "#A2B1C6"
            },
            "type": "carpet"
           }
          ],
          "choropleth": [
           {
            "colorbar": {
             "outlinewidth": 0,
             "ticks": ""
            },
            "type": "choropleth"
           }
          ],
          "contour": [
           {
            "colorbar": {
             "outlinewidth": 0,
             "ticks": ""
            },
            "colorscale": [
             [
              0,
              "#0d0887"
             ],
             [
              0.1111111111111111,
              "#46039f"
             ],
             [
              0.2222222222222222,
              "#7201a8"
             ],
             [
              0.3333333333333333,
              "#9c179e"
             ],
             [
              0.4444444444444444,
              "#bd3786"
             ],
             [
              0.5555555555555556,
              "#d8576b"
             ],
             [
              0.6666666666666666,
              "#ed7953"
             ],
             [
              0.7777777777777778,
              "#fb9f3a"
             ],
             [
              0.8888888888888888,
              "#fdca26"
             ],
             [
              1,
              "#f0f921"
             ]
            ],
            "type": "contour"
           }
          ],
          "contourcarpet": [
           {
            "colorbar": {
             "outlinewidth": 0,
             "ticks": ""
            },
            "type": "contourcarpet"
           }
          ],
          "heatmap": [
           {
            "colorbar": {
             "outlinewidth": 0,
             "ticks": ""
            },
            "colorscale": [
             [
              0,
              "#0d0887"
             ],
             [
              0.1111111111111111,
              "#46039f"
             ],
             [
              0.2222222222222222,
              "#7201a8"
             ],
             [
              0.3333333333333333,
              "#9c179e"
             ],
             [
              0.4444444444444444,
              "#bd3786"
             ],
             [
              0.5555555555555556,
              "#d8576b"
             ],
             [
              0.6666666666666666,
              "#ed7953"
             ],
             [
              0.7777777777777778,
              "#fb9f3a"
             ],
             [
              0.8888888888888888,
              "#fdca26"
             ],
             [
              1,
              "#f0f921"
             ]
            ],
            "type": "heatmap"
           }
          ],
          "histogram": [
           {
            "marker": {
             "pattern": {
              "fillmode": "overlay",
              "size": 10,
              "solidity": 0.2
             }
            },
            "type": "histogram"
           }
          ],
          "histogram2d": [
           {
            "colorbar": {
             "outlinewidth": 0,
             "ticks": ""
            },
            "colorscale": [
             [
              0,
              "#0d0887"
             ],
             [
              0.1111111111111111,
              "#46039f"
             ],
             [
              0.2222222222222222,
              "#7201a8"
             ],
             [
              0.3333333333333333,
              "#9c179e"
             ],
             [
              0.4444444444444444,
              "#bd3786"
             ],
             [
              0.5555555555555556,
              "#d8576b"
             ],
             [
              0.6666666666666666,
              "#ed7953"
             ],
             [
              0.7777777777777778,
              "#fb9f3a"
             ],
             [
              0.8888888888888888,
              "#fdca26"
             ],
             [
              1,
              "#f0f921"
             ]
            ],
            "type": "histogram2d"
           }
          ],
          "histogram2dcontour": [
           {
            "colorbar": {
             "outlinewidth": 0,
             "ticks": ""
            },
            "colorscale": [
             [
              0,
              "#0d0887"
             ],
             [
              0.1111111111111111,
              "#46039f"
             ],
             [
              0.2222222222222222,
              "#7201a8"
             ],
             [
              0.3333333333333333,
              "#9c179e"
             ],
             [
              0.4444444444444444,
              "#bd3786"
             ],
             [
              0.5555555555555556,
              "#d8576b"
             ],
             [
              0.6666666666666666,
              "#ed7953"
             ],
             [
              0.7777777777777778,
              "#fb9f3a"
             ],
             [
              0.8888888888888888,
              "#fdca26"
             ],
             [
              1,
              "#f0f921"
             ]
            ],
            "type": "histogram2dcontour"
           }
          ],
          "mesh3d": [
           {
            "colorbar": {
             "outlinewidth": 0,
             "ticks": ""
            },
            "type": "mesh3d"
           }
          ],
          "parcoords": [
           {
            "line": {
             "colorbar": {
              "outlinewidth": 0,
              "ticks": ""
             }
            },
            "type": "parcoords"
           }
          ],
          "pie": [
           {
            "automargin": true,
            "type": "pie"
           }
          ],
          "scatter": [
           {
            "marker": {
             "line": {
              "color": "#283442"
             }
            },
            "type": "scatter"
           }
          ],
          "scatter3d": [
           {
            "line": {
             "colorbar": {
              "outlinewidth": 0,
              "ticks": ""
             }
            },
            "marker": {
             "colorbar": {
              "outlinewidth": 0,
              "ticks": ""
             }
            },
            "type": "scatter3d"
           }
          ],
          "scattercarpet": [
           {
            "marker": {
             "colorbar": {
              "outlinewidth": 0,
              "ticks": ""
             }
            },
            "type": "scattercarpet"
           }
          ],
          "scattergeo": [
           {
            "marker": {
             "colorbar": {
              "outlinewidth": 0,
              "ticks": ""
             }
            },
            "type": "scattergeo"
           }
          ],
          "scattergl": [
           {
            "marker": {
             "line": {
              "color": "#283442"
             }
            },
            "type": "scattergl"
           }
          ],
          "scattermap": [
           {
            "marker": {
             "colorbar": {
              "outlinewidth": 0,
              "ticks": ""
             }
            },
            "type": "scattermap"
           }
          ],
          "scattermapbox": [
           {
            "marker": {
             "colorbar": {
              "outlinewidth": 0,
              "ticks": ""
             }
            },
            "type": "scattermapbox"
           }
          ],
          "scatterpolar": [
           {
            "marker": {
             "colorbar": {
              "outlinewidth": 0,
              "ticks": ""
             }
            },
            "type": "scatterpolar"
           }
          ],
          "scatterpolargl": [
           {
            "marker": {
             "colorbar": {
              "outlinewidth": 0,
              "ticks": ""
             }
            },
            "type": "scatterpolargl"
           }
          ],
          "scatterternary": [
           {
            "marker": {
             "colorbar": {
              "outlinewidth": 0,
              "ticks": ""
             }
            },
            "type": "scatterternary"
           }
          ],
          "surface": [
           {
            "colorbar": {
             "outlinewidth": 0,
             "ticks": ""
            },
            "colorscale": [
             [
              0,
              "#0d0887"
             ],
             [
              0.1111111111111111,
              "#46039f"
             ],
             [
              0.2222222222222222,
              "#7201a8"
             ],
             [
              0.3333333333333333,
              "#9c179e"
             ],
             [
              0.4444444444444444,
              "#bd3786"
             ],
             [
              0.5555555555555556,
              "#d8576b"
             ],
             [
              0.6666666666666666,
              "#ed7953"
             ],
             [
              0.7777777777777778,
              "#fb9f3a"
             ],
             [
              0.8888888888888888,
              "#fdca26"
             ],
             [
              1,
              "#f0f921"
             ]
            ],
            "type": "surface"
           }
          ],
          "table": [
           {
            "cells": {
             "fill": {
              "color": "#506784"
             },
             "line": {
              "color": "rgb(17,17,17)"
             }
            },
            "header": {
             "fill": {
              "color": "#2a3f5f"
             },
             "line": {
              "color": "rgb(17,17,17)"
             }
            },
            "type": "table"
           }
          ]
         },
         "layout": {
          "annotationdefaults": {
           "arrowcolor": "#f2f5fa",
           "arrowhead": 0,
           "arrowwidth": 1
          },
          "autotypenumbers": "strict",
          "coloraxis": {
           "colorbar": {
            "outlinewidth": 0,
            "ticks": ""
           }
          },
          "colorscale": {
           "diverging": [
            [
             0,
             "#8e0152"
            ],
            [
             0.1,
             "#c51b7d"
            ],
            [
             0.2,
             "#de77ae"
            ],
            [
             0.3,
             "#f1b6da"
            ],
            [
             0.4,
             "#fde0ef"
            ],
            [
             0.5,
             "#f7f7f7"
            ],
            [
             0.6,
             "#e6f5d0"
            ],
            [
             0.7,
             "#b8e186"
            ],
            [
             0.8,
             "#7fbc41"
            ],
            [
             0.9,
             "#4d9221"
            ],
            [
             1,
             "#276419"
            ]
           ],
           "sequential": [
            [
             0,
             "#0d0887"
            ],
            [
             0.1111111111111111,
             "#46039f"
            ],
            [
             0.2222222222222222,
             "#7201a8"
            ],
            [
             0.3333333333333333,
             "#9c179e"
            ],
            [
             0.4444444444444444,
             "#bd3786"
            ],
            [
             0.5555555555555556,
             "#d8576b"
            ],
            [
             0.6666666666666666,
             "#ed7953"
            ],
            [
             0.7777777777777778,
             "#fb9f3a"
            ],
            [
             0.8888888888888888,
             "#fdca26"
            ],
            [
             1,
             "#f0f921"
            ]
           ],
           "sequentialminus": [
            [
             0,
             "#0d0887"
            ],
            [
             0.1111111111111111,
             "#46039f"
            ],
            [
             0.2222222222222222,
             "#7201a8"
            ],
            [
             0.3333333333333333,
             "#9c179e"
            ],
            [
             0.4444444444444444,
             "#bd3786"
            ],
            [
             0.5555555555555556,
             "#d8576b"
            ],
            [
             0.6666666666666666,
             "#ed7953"
            ],
            [
             0.7777777777777778,
             "#fb9f3a"
            ],
            [
             0.8888888888888888,
             "#fdca26"
            ],
            [
             1,
             "#f0f921"
            ]
           ]
          },
          "colorway": [
           "#636efa",
           "#EF553B",
           "#00cc96",
           "#ab63fa",
           "#FFA15A",
           "#19d3f3",
           "#FF6692",
           "#B6E880",
           "#FF97FF",
           "#FECB52"
          ],
          "font": {
           "color": "#f2f5fa"
          },
          "geo": {
           "bgcolor": "rgb(17,17,17)",
           "lakecolor": "rgb(17,17,17)",
           "landcolor": "rgb(17,17,17)",
           "showlakes": true,
           "showland": true,
           "subunitcolor": "#506784"
          },
          "hoverlabel": {
           "align": "left"
          },
          "hovermode": "closest",
          "mapbox": {
           "style": "dark"
          },
          "paper_bgcolor": "rgb(17,17,17)",
          "plot_bgcolor": "rgb(17,17,17)",
          "polar": {
           "angularaxis": {
            "gridcolor": "#506784",
            "linecolor": "#506784",
            "ticks": ""
           },
           "bgcolor": "rgb(17,17,17)",
           "radialaxis": {
            "gridcolor": "#506784",
            "linecolor": "#506784",
            "ticks": ""
           }
          },
          "scene": {
           "xaxis": {
            "backgroundcolor": "rgb(17,17,17)",
            "gridcolor": "#506784",
            "gridwidth": 2,
            "linecolor": "#506784",
            "showbackground": true,
            "ticks": "",
            "zerolinecolor": "#C8D4E3"
           },
           "yaxis": {
            "backgroundcolor": "rgb(17,17,17)",
            "gridcolor": "#506784",
            "gridwidth": 2,
            "linecolor": "#506784",
            "showbackground": true,
            "ticks": "",
            "zerolinecolor": "#C8D4E3"
           },
           "zaxis": {
            "backgroundcolor": "rgb(17,17,17)",
            "gridcolor": "#506784",
            "gridwidth": 2,
            "linecolor": "#506784",
            "showbackground": true,
            "ticks": "",
            "zerolinecolor": "#C8D4E3"
           }
          },
          "shapedefaults": {
           "line": {
            "color": "#f2f5fa"
           }
          },
          "sliderdefaults": {
           "bgcolor": "#C8D4E3",
           "bordercolor": "rgb(17,17,17)",
           "borderwidth": 1,
           "tickwidth": 0
          },
          "ternary": {
           "aaxis": {
            "gridcolor": "#506784",
            "linecolor": "#506784",
            "ticks": ""
           },
           "baxis": {
            "gridcolor": "#506784",
            "linecolor": "#506784",
            "ticks": ""
           },
           "bgcolor": "rgb(17,17,17)",
           "caxis": {
            "gridcolor": "#506784",
            "linecolor": "#506784",
            "ticks": ""
           }
          },
          "title": {
           "x": 0.05
          },
          "updatemenudefaults": {
           "bgcolor": "#506784",
           "borderwidth": 0
          },
          "xaxis": {
           "automargin": true,
           "gridcolor": "#283442",
           "linecolor": "#506784",
           "ticks": "",
           "title": {
            "standoff": 15
           },
           "zerolinecolor": "#283442",
           "zerolinewidth": 2
          },
          "yaxis": {
           "automargin": true,
           "gridcolor": "#283442",
           "linecolor": "#506784",
           "ticks": "",
           "title": {
            "standoff": 15
           },
           "zerolinecolor": "#283442",
           "zerolinewidth": 2
          }
         }
        }
       }
      }
     },
     "metadata": {},
     "output_type": "display_data"
    }
   ],
   "source": [
    "fig = go.Figure(\n",
    "  data=[\n",
    "    go.Scatter3d(\n",
    "      x=data.pos[:,0], y=data.pos[:,1], z=data.pos[:,2],\n",
    "      mode='markers',\n",
    "      marker=dict(size=1, color=\"white\"))],\n",
    "  layout=dict(\n",
    "    scene=dict(\n",
    "      xaxis=dict(visible=False),\n",
    "      yaxis=dict(visible=False),\n",
    "      zaxis=dict(visible=False))))\n",
    "\n",
    "fig.update_layout(template='plotly_dark')\n",
    "\n",
    "fig.show()"
   ]
  },
  {
   "cell_type": "code",
   "execution_count": 15,
   "metadata": {},
   "outputs": [],
   "source": [
    "class Transformer(nn.Module):\n",
    "    def __init__(self, num_points, features):\n",
    "        super(Transformer, self).__init__()\n",
    "\n",
    "        self.features = features\n",
    "\n",
    "        self.mlp1 = nn.Sequential(\n",
    "            nn.Conv1d(in_channels=features, out_channels=64, kernel_size=1),\n",
    "            nn.ReLU(),\n",
    "            nn.BatchNorm1d(64))\n",
    "\n",
    "        self.mlp2 = nn.Sequential(\n",
    "            nn.Conv1d(in_channels=64, out_channels=128, kernel_size=1),\n",
    "            nn.ReLU(),\n",
    "            nn.BatchNorm1d(128))\n",
    "\n",
    "        self.mlp3 = nn.Sequential(\n",
    "            nn.Conv1d(in_channels=128, out_channels=1024, kernel_size=1),\n",
    "            nn.ReLU(),\n",
    "            nn.BatchNorm1d(1024))\n",
    "\n",
    "        self.max_pool = nn.MaxPool1d(kernel_size=num_points)\n",
    "\n",
    "        self.ll1 = nn.Sequential(\n",
    "            nn.Linear(1024, 512),\n",
    "            nn.ReLU(),\n",
    "            nn.BatchNorm1d(512))\n",
    "\n",
    "        self.ll2 = nn.Sequential(\n",
    "            nn.Linear(512, 256),\n",
    "            nn.ReLU(),\n",
    "            nn.BatchNorm1d(256))\n",
    "        \n",
    "        self.ll3 = nn.Linear(256, features*features)\n",
    "    \n",
    "    def forward(self, x):\n",
    "\n",
    "        bs = x.shape[0]\n",
    "\n",
    "        x = self.mlp1(x)\n",
    "        x = self.mlp2(x)\n",
    "        x = self.mlp3(x)\n",
    "\n",
    "        x = self.max_pool(x).view(bs, -1)\n",
    "\n",
    "        x = self.ll1(x)\n",
    "        x = self.ll2(x)\n",
    "\n",
    "        x = self.ll3(x)\n",
    "\n",
    "        eye = torch.eye(self.features, requires_grad=True).repeat(bs, 1, 1).to(device)\n",
    "\n",
    "        x = x.view(-1, self.features, self.features) + eye\n",
    "\n",
    "        print(x)\n",
    "\n",
    "        return x\n",
    "\n",
    "class PointNet(nn.Module):\n",
    "    def __init__(self, num_points, num_classes):\n",
    "        super(PointNet, self).__init__()\n",
    "\n",
    "        self.tnet1 = Transformer(num_points=num_points, features=3).to(device)\n",
    "\n",
    "        self.mlp1 = nn.Sequential(\n",
    "            nn.Conv1d(in_channels=3, out_channels=64, kernel_size=1),\n",
    "            nn.ReLU(),\n",
    "            nn.BatchNorm1d(64),\n",
    "            nn.Conv1d(in_channels=64, out_channels=64, kernel_size=1),\n",
    "            nn.ReLU(),\n",
    "            nn.BatchNorm1d(64))\n",
    "    \n",
    "        self.tnet2 = Transformer(num_points=num_points, features=64).to(device)\n",
    "\n",
    "        self.mlp2 = nn.Sequential(\n",
    "            nn.Conv1d(in_channels=64, out_channels=64, kernel_size=1),\n",
    "            nn.ReLU(),\n",
    "            nn.BatchNorm1d(64),\n",
    "            nn.Conv1d(in_channels=64, out_channels=128, kernel_size=1),\n",
    "            nn.ReLU(),\n",
    "            nn.BatchNorm1d(128),\n",
    "            nn.Conv1d(in_channels=128, out_channels=1024, kernel_size=1),\n",
    "            nn.ReLU(),\n",
    "            nn.BatchNorm1d(1024))\n",
    "\n",
    "        self.max_pool = nn.MaxPool1d(kernel_size=num_points)\n",
    "\n",
    "        self.classification = nn.Sequential(\n",
    "            nn.Linear(in_features=1024, out_features=512),\n",
    "            nn.BatchNorm1d(512),\n",
    "            nn.ReLU(),\n",
    "            nn.Linear(in_features=512, out_features=256),\n",
    "            nn.BatchNorm1d(256),\n",
    "            nn.ReLU(),\n",
    "            #nn.Dropout(p=0.3),\n",
    "            nn.Linear(in_features=256, out_features=num_classes)\n",
    "        )\n",
    "    \n",
    "    def forward(self, x):\n",
    "\n",
    "        bs = x.shape[0]\n",
    "\n",
    "        input_transform = self.tnet1(x)\n",
    "        \n",
    "        x = torch.bmm(x.transpose(2, 1), input_transform).transpose(2, 1)\n",
    "        x = self.mlp1(x)\n",
    "\n",
    "        feature_transform = self.tnet2(x)\n",
    "\n",
    "        x = torch.bmm(x.transpose(2, 1), feature_transform).transpose(2, 1)\n",
    "        x = self.mlp2(x)\n",
    "\n",
    "        x = self.max_pool(x).view(bs, -1)\n",
    "\n",
    "        x = self.classification(x)\n",
    "\n",
    "        return x\n"
   ]
  },
  {
   "cell_type": "code",
   "execution_count": 16,
   "metadata": {},
   "outputs": [
    {
     "data": {
      "text/plain": [
       "PointNet(\n",
       "  (tnet1): Transformer(\n",
       "    (mlp1): Sequential(\n",
       "      (0): Conv1d(3, 64, kernel_size=(1,), stride=(1,))\n",
       "      (1): ReLU()\n",
       "      (2): BatchNorm1d(64, eps=1e-05, momentum=0.1, affine=True, track_running_stats=True)\n",
       "    )\n",
       "    (mlp2): Sequential(\n",
       "      (0): Conv1d(64, 128, kernel_size=(1,), stride=(1,))\n",
       "      (1): ReLU()\n",
       "      (2): BatchNorm1d(128, eps=1e-05, momentum=0.1, affine=True, track_running_stats=True)\n",
       "    )\n",
       "    (mlp3): Sequential(\n",
       "      (0): Conv1d(128, 1024, kernel_size=(1,), stride=(1,))\n",
       "      (1): ReLU()\n",
       "      (2): BatchNorm1d(1024, eps=1e-05, momentum=0.1, affine=True, track_running_stats=True)\n",
       "    )\n",
       "    (max_pool): MaxPool1d(kernel_size=2048, stride=2048, padding=0, dilation=1, ceil_mode=False)\n",
       "    (ll1): Sequential(\n",
       "      (0): Linear(in_features=1024, out_features=512, bias=True)\n",
       "      (1): ReLU()\n",
       "      (2): BatchNorm1d(512, eps=1e-05, momentum=0.1, affine=True, track_running_stats=True)\n",
       "    )\n",
       "    (ll2): Sequential(\n",
       "      (0): Linear(in_features=512, out_features=256, bias=True)\n",
       "      (1): ReLU()\n",
       "      (2): BatchNorm1d(256, eps=1e-05, momentum=0.1, affine=True, track_running_stats=True)\n",
       "    )\n",
       "    (ll3): Linear(in_features=256, out_features=9, bias=True)\n",
       "  )\n",
       "  (mlp1): Sequential(\n",
       "    (0): Conv1d(3, 64, kernel_size=(1,), stride=(1,))\n",
       "    (1): ReLU()\n",
       "    (2): BatchNorm1d(64, eps=1e-05, momentum=0.1, affine=True, track_running_stats=True)\n",
       "    (3): Conv1d(64, 64, kernel_size=(1,), stride=(1,))\n",
       "    (4): ReLU()\n",
       "    (5): BatchNorm1d(64, eps=1e-05, momentum=0.1, affine=True, track_running_stats=True)\n",
       "  )\n",
       "  (tnet2): Transformer(\n",
       "    (mlp1): Sequential(\n",
       "      (0): Conv1d(64, 64, kernel_size=(1,), stride=(1,))\n",
       "      (1): ReLU()\n",
       "      (2): BatchNorm1d(64, eps=1e-05, momentum=0.1, affine=True, track_running_stats=True)\n",
       "    )\n",
       "    (mlp2): Sequential(\n",
       "      (0): Conv1d(64, 128, kernel_size=(1,), stride=(1,))\n",
       "      (1): ReLU()\n",
       "      (2): BatchNorm1d(128, eps=1e-05, momentum=0.1, affine=True, track_running_stats=True)\n",
       "    )\n",
       "    (mlp3): Sequential(\n",
       "      (0): Conv1d(128, 1024, kernel_size=(1,), stride=(1,))\n",
       "      (1): ReLU()\n",
       "      (2): BatchNorm1d(1024, eps=1e-05, momentum=0.1, affine=True, track_running_stats=True)\n",
       "    )\n",
       "    (max_pool): MaxPool1d(kernel_size=2048, stride=2048, padding=0, dilation=1, ceil_mode=False)\n",
       "    (ll1): Sequential(\n",
       "      (0): Linear(in_features=1024, out_features=512, bias=True)\n",
       "      (1): ReLU()\n",
       "      (2): BatchNorm1d(512, eps=1e-05, momentum=0.1, affine=True, track_running_stats=True)\n",
       "    )\n",
       "    (ll2): Sequential(\n",
       "      (0): Linear(in_features=512, out_features=256, bias=True)\n",
       "      (1): ReLU()\n",
       "      (2): BatchNorm1d(256, eps=1e-05, momentum=0.1, affine=True, track_running_stats=True)\n",
       "    )\n",
       "    (ll3): Linear(in_features=256, out_features=4096, bias=True)\n",
       "  )\n",
       "  (mlp2): Sequential(\n",
       "    (0): Conv1d(64, 64, kernel_size=(1,), stride=(1,))\n",
       "    (1): ReLU()\n",
       "    (2): BatchNorm1d(64, eps=1e-05, momentum=0.1, affine=True, track_running_stats=True)\n",
       "    (3): Conv1d(64, 128, kernel_size=(1,), stride=(1,))\n",
       "    (4): ReLU()\n",
       "    (5): BatchNorm1d(128, eps=1e-05, momentum=0.1, affine=True, track_running_stats=True)\n",
       "    (6): Conv1d(128, 1024, kernel_size=(1,), stride=(1,))\n",
       "    (7): ReLU()\n",
       "    (8): BatchNorm1d(1024, eps=1e-05, momentum=0.1, affine=True, track_running_stats=True)\n",
       "  )\n",
       "  (max_pool): MaxPool1d(kernel_size=2048, stride=2048, padding=0, dilation=1, ceil_mode=False)\n",
       "  (classification): Sequential(\n",
       "    (0): Linear(in_features=1024, out_features=512, bias=True)\n",
       "    (1): BatchNorm1d(512, eps=1e-05, momentum=0.1, affine=True, track_running_stats=True)\n",
       "    (2): ReLU()\n",
       "    (3): Linear(in_features=512, out_features=256, bias=True)\n",
       "    (4): BatchNorm1d(256, eps=1e-05, momentum=0.1, affine=True, track_running_stats=True)\n",
       "    (5): ReLU()\n",
       "    (6): Linear(in_features=256, out_features=10, bias=True)\n",
       "  )\n",
       ")"
      ]
     },
     "execution_count": 16,
     "metadata": {},
     "output_type": "execute_result"
    }
   ],
   "source": [
    "pointnet = PointNet(num_points=num_points, num_classes=10)\n",
    "pointnet.to(device)"
   ]
  },
  {
   "cell_type": "code",
   "execution_count": 19,
   "metadata": {},
   "outputs": [],
   "source": [
    "import numpy as np\n",
    "import torch\n",
    "import torch.nn as nn\n",
    "import torch.nn.functional as F\n",
    "\n",
    "\n",
    "class PointNetLoss(nn.Module):\n",
    "    def __init__(self, alpha=None, gamma=0, reg_weight=0, size_average=True):\n",
    "        super(PointNetLoss, self).__init__()\n",
    "        self.alpha = alpha\n",
    "        self.gamma = gamma\n",
    "        self.reg_weight = reg_weight\n",
    "        self.size_average = size_average\n",
    "\n",
    "        # sanitize inputs\n",
    "        if isinstance(alpha,(float, int)): self.alpha = torch.Tensor([alpha,1-alpha])\n",
    "        if isinstance(alpha,(list, np.ndarray)): self.alpha = torch.Tensor(alpha)\n",
    "\n",
    "        # get Balanced Cross Entropy Loss\n",
    "        self.cross_entropy_loss = nn.CrossEntropyLoss(weight=self.alpha)\n",
    "\n",
    "    def forward(self, predictions, targets, A):\n",
    "\n",
    "        # get batch size\n",
    "        bs = predictions.size(0)\n",
    "\n",
    "        # get Balanced Cross Entropy Loss\n",
    "        ce_loss = self.cross_entropy_loss(predictions, targets)\n",
    "\n",
    "        # reformat predictions and targets (segmentation only)\n",
    "        if len(predictions.shape) > 2:\n",
    "            predictions = predictions.transpose(1, 2) # (b, c, n) -> (b, n, c)\n",
    "            predictions = predictions.contiguous() \\\n",
    "                                     .view(-1, predictions.size(2)) # (b, n, c) -> (b*n, c)\n",
    "\n",
    "        # get predicted class probabilities for the true class\n",
    "        pn = F.softmax(predictions)\n",
    "        pn = pn.gather(1, targets.view(-1, 1)).view(-1)\n",
    "\n",
    "        # get regularization term\n",
    "        if self.reg_weight > 0:\n",
    "            I = torch.eye(64).unsqueeze(0).repeat(A.shape[0], 1, 1) # .to(device)\n",
    "            if A.is_cuda: I = I.cuda()\n",
    "            reg = torch.linalg.norm(I - torch.bmm(A, A.transpose(2, 1)))\n",
    "            reg = self.reg_weight*reg/bs\n",
    "        else:\n",
    "            reg = 0\n",
    "\n",
    "        # compute loss (negative sign is included in ce_loss)\n",
    "        loss = ((1 - pn)**self.gamma * ce_loss)\n",
    "        if self.size_average: return loss.mean() + reg\n",
    "        else: return loss.sum() + reg"
   ]
  },
  {
   "cell_type": "code",
   "execution_count": 20,
   "metadata": {},
   "outputs": [],
   "source": [
    "learning_rate = 0.01\n",
    "weight_decay = 0.001\n",
    "num_epochs = 10\n",
    "momentum = 0.9\n",
    "\n",
    "criterion = PointNetLoss()\n",
    "optimizer = optim.SGD(pointnet.parameters(), lr=learning_rate, weight_decay=weight_decay, momentum=momentum)"
   ]
  },
  {
   "cell_type": "code",
   "execution_count": 21,
   "metadata": {},
   "outputs": [
    {
     "name": "stdout",
     "output_type": "stream",
     "text": [
      "tensor([[[-3.2453e-01,  2.1320e-01, -8.9657e-01],\n",
      "         [ 8.5364e-01,  1.1810e+00, -4.8812e-01],\n",
      "         [ 6.4396e-01, -8.6291e-01,  1.8614e+00]],\n",
      "\n",
      "        [[ 7.0053e-01,  1.7361e-01,  3.1551e-01],\n",
      "         [ 5.3966e-03, -2.0258e-01,  2.2178e-01],\n",
      "         [-2.3244e-01,  4.9471e-01,  1.5581e+00]],\n",
      "\n",
      "        [[ 1.5127e+00,  1.8806e-01,  3.1942e-03],\n",
      "         [-3.3128e-01,  1.8441e+00,  6.2730e-01],\n",
      "         [ 5.1252e-01, -2.1749e-02,  4.8961e-01]],\n",
      "\n",
      "        [[ 1.0923e+00,  2.2026e-01, -1.2789e-01],\n",
      "         [ 4.7465e-01,  1.7396e+00, -1.6729e-01],\n",
      "         [-4.9962e-01, -6.7512e-02,  9.0775e-01]],\n",
      "\n",
      "        [[ 1.2147e+00, -2.3655e-01,  1.8408e-01],\n",
      "         [ 4.5251e-01,  7.6995e-01, -4.9652e-01],\n",
      "         [-9.0555e-02, -4.0941e-01,  9.7235e-01]],\n",
      "\n",
      "        [[ 1.2454e+00, -2.6460e-01, -1.5269e-01],\n",
      "         [ 2.5864e-01,  1.5695e+00,  6.5494e-01],\n",
      "         [ 3.6819e-01, -7.6436e-01,  7.8043e-01]],\n",
      "\n",
      "        [[ 1.3150e-01,  2.8598e-01,  5.5346e-01],\n",
      "         [-7.0264e-01,  2.3203e-01, -7.4387e-01],\n",
      "         [-1.7008e-01,  4.3193e-02,  1.3483e+00]],\n",
      "\n",
      "        [[ 7.4601e-01,  5.8177e-02,  1.7874e-01],\n",
      "         [-1.2743e-01,  1.0628e+00, -7.5342e-01],\n",
      "         [-4.9496e-01,  4.3353e-01,  4.6054e-01]],\n",
      "\n",
      "        [[ 1.2315e+00, -5.2934e-01,  5.1775e-01],\n",
      "         [-2.7736e-01,  1.0812e+00, -1.0264e+00],\n",
      "         [-1.5882e-01,  1.0375e+00,  6.9135e-01]],\n",
      "\n",
      "        [[ 1.5567e+00,  3.6457e-01,  2.8239e-01],\n",
      "         [-3.6161e-01,  1.3213e+00,  4.6928e-01],\n",
      "         [ 2.8643e-01, -1.1540e-01,  4.3440e-01]],\n",
      "\n",
      "        [[ 7.2156e-03,  5.5603e-01, -2.8681e-01],\n",
      "         [ 4.3001e-02,  3.3724e-01,  2.9440e-01],\n",
      "         [ 9.1692e-02,  8.5280e-03,  2.5976e-01]],\n",
      "\n",
      "        [[ 6.3266e-01, -4.5309e-01, -2.8839e-01],\n",
      "         [ 9.5281e-01,  1.2815e+00,  9.3906e-01],\n",
      "         [-8.5218e-02, -9.5769e-01,  1.3682e+00]],\n",
      "\n",
      "        [[ 9.3386e-01,  3.2257e-01,  1.6690e-03],\n",
      "         [-5.2248e-01,  3.6781e-01, -9.7815e-02],\n",
      "         [-1.3554e-01,  8.7336e-01,  1.2575e-01]],\n",
      "\n",
      "        [[ 2.0808e+00,  7.2875e-01,  3.4520e-01],\n",
      "         [-2.0049e-01,  1.6336e+00,  2.0683e-01],\n",
      "         [ 1.6636e-01, -1.7447e-01,  1.1306e+00]],\n",
      "\n",
      "        [[-2.2738e-01,  1.5057e-01, -6.6419e-01],\n",
      "         [ 3.1033e-01, -1.9065e-01,  4.4748e-01],\n",
      "         [-5.8261e-01,  1.1083e-01,  7.4391e-01]],\n",
      "\n",
      "        [[ 2.2993e+00, -1.6717e-02,  9.3752e-01],\n",
      "         [ 4.4768e-02,  2.8181e+00,  1.0021e+00],\n",
      "         [ 8.7551e-01, -4.1356e-01,  8.4204e-01]],\n",
      "\n",
      "        [[ 2.0031e-01, -5.1564e-01, -5.2796e-01],\n",
      "         [-1.7339e-01,  8.2898e-01, -4.4105e-01],\n",
      "         [ 9.8275e-02, -2.5054e-01,  1.0452e+00]],\n",
      "\n",
      "        [[ 1.6967e+00,  4.8766e-01,  4.2822e-01],\n",
      "         [-4.4865e-01,  1.3874e+00, -3.5881e-01],\n",
      "         [-2.6110e-01, -2.1012e-01,  1.3077e+00]],\n",
      "\n",
      "        [[ 1.1489e+00,  6.6025e-02,  5.7833e-01],\n",
      "         [-4.1443e-01,  1.3825e+00, -6.9820e-01],\n",
      "         [-1.3963e-01, -2.4150e-01,  2.1802e+00]],\n",
      "\n",
      "        [[ 1.7071e-01, -6.9794e-02, -1.8696e-01],\n",
      "         [ 4.3947e-02,  1.1466e+00,  5.7106e-02],\n",
      "         [-5.9523e-01, -5.5611e-01,  9.4476e-01]],\n",
      "\n",
      "        [[ 4.9412e-01, -9.7017e-02, -1.9580e-01],\n",
      "         [ 3.6198e-02,  7.6107e-02,  8.6884e-02],\n",
      "         [ 3.1453e-01,  3.5191e-01,  5.4197e-01]],\n",
      "\n",
      "        [[ 1.4459e+00, -1.9135e-01,  3.4892e-01],\n",
      "         [ 6.0349e-02,  1.6994e+00, -3.7825e-01],\n",
      "         [ 5.5272e-01, -2.9043e-01,  6.4742e-01]],\n",
      "\n",
      "        [[ 6.3450e-01, -4.7629e-01, -1.7436e-01],\n",
      "         [-3.3246e-01,  1.1260e+00, -6.9202e-01],\n",
      "         [-4.9259e-01,  2.8031e-01,  2.9453e-01]],\n",
      "\n",
      "        [[ 5.5678e-01, -4.1223e-01, -4.4958e-01],\n",
      "         [ 9.6791e-02,  1.1938e+00, -5.3949e-01],\n",
      "         [ 7.0296e-02,  3.9403e-01,  8.4657e-01]],\n",
      "\n",
      "        [[ 1.7420e+00,  2.2071e-01,  8.9695e-01],\n",
      "         [-2.8126e-01,  1.8424e-01,  3.6983e-01],\n",
      "         [ 8.7791e-01, -1.0006e+00,  2.1738e+00]],\n",
      "\n",
      "        [[ 1.1073e+00,  1.8138e-01, -6.2145e-01],\n",
      "         [ 8.0594e-01,  8.0185e-01, -8.9437e-01],\n",
      "         [-4.4848e-02, -6.5227e-01,  1.6507e+00]],\n",
      "\n",
      "        [[ 1.4045e+00, -8.7447e-01, -3.1173e-01],\n",
      "         [-2.7036e-03,  9.7378e-01,  2.4785e+00],\n",
      "         [-1.0832e-01, -8.6139e-01,  9.1529e-01]],\n",
      "\n",
      "        [[ 2.6538e+00,  1.2526e+00,  8.6841e-01],\n",
      "         [-6.8000e-01,  2.4909e+00,  3.7236e-02],\n",
      "         [ 1.0956e+00,  7.5699e-03,  2.3828e+00]],\n",
      "\n",
      "        [[ 8.9131e-01,  1.6738e-01,  2.7969e-03],\n",
      "         [ 5.4948e-01,  6.9065e-01,  7.5939e-01],\n",
      "         [ 8.2869e-02,  3.7857e-01,  1.7921e+00]],\n",
      "\n",
      "        [[ 4.5600e-01,  1.7645e-01, -2.6167e-01],\n",
      "         [-6.8586e-01,  2.7315e-01, -1.9591e-02],\n",
      "         [ 2.8282e-01,  7.7694e-01,  1.1376e+00]],\n",
      "\n",
      "        [[ 1.3131e+00,  2.4341e-01, -3.1443e-01],\n",
      "         [ 1.3407e-01, -3.7414e-02,  1.4085e-01],\n",
      "         [-8.9214e-01,  1.2574e+00,  8.4212e-01]],\n",
      "\n",
      "        [[ 9.0262e-01, -6.3545e-01, -1.0032e+00],\n",
      "         [ 3.4275e-01,  4.0204e-01,  7.4900e-01],\n",
      "         [ 5.7574e-02, -1.8759e-01,  5.0256e-01]]], device='cuda:0',\n",
      "       grad_fn=<AddBackward0>)\n",
      "tensor([[[ 0.4201,  0.1443, -0.0723,  ...,  0.2543, -0.0055, -0.6139],\n",
      "         [ 0.8920,  1.2417, -0.6047,  ...,  0.1972, -0.0310, -0.2429],\n",
      "         [-0.4203,  0.3325,  1.5857,  ...,  0.6213,  0.5225,  0.2750],\n",
      "         ...,\n",
      "         [-0.2845, -0.3175, -0.0532,  ...,  2.0854,  0.3457,  0.1195],\n",
      "         [ 0.0731,  0.0167, -0.2816,  ...,  0.5996,  0.3380,  0.7798],\n",
      "         [ 0.4236, -0.1038,  0.0367,  ..., -0.7058,  1.0076,  1.2146]],\n",
      "\n",
      "        [[ 1.6413,  0.0960, -0.1976,  ..., -0.1818,  0.6680, -0.8557],\n",
      "         [-0.1610, -0.1936, -0.6018,  ...,  0.4030, -0.6339, -0.5668],\n",
      "         [-0.0734, -0.2908,  1.1717,  ..., -0.7199, -1.0753, -0.1861],\n",
      "         ...,\n",
      "         [-0.3721, -0.4651,  0.2497,  ...,  0.8565, -1.0995, -0.6372],\n",
      "         [ 0.1096,  0.1570, -0.1232,  ..., -0.5877,  1.4889, -0.2798],\n",
      "         [ 0.4056,  0.3102,  0.0257,  ..., -0.2310, -0.0309,  1.0342]],\n",
      "\n",
      "        [[ 1.0064,  0.1379,  0.4745,  ..., -0.8512,  0.2250,  0.2937],\n",
      "         [-0.4836,  0.7227, -0.2937,  ..., -0.1639,  0.0806,  0.2038],\n",
      "         [-0.6506,  0.2142,  0.4625,  ..., -0.4684,  0.0385, -0.5227],\n",
      "         ...,\n",
      "         [-0.3597,  0.6889, -0.0540,  ...,  0.5968,  0.3323, -0.0789],\n",
      "         [-0.6835, -0.7824, -0.4365,  ..., -0.5204,  0.9630,  0.1804],\n",
      "         [-0.9634, -0.1317, -0.2115,  ...,  0.3443,  0.2484,  1.1112]],\n",
      "\n",
      "        ...,\n",
      "\n",
      "        [[ 0.9954, -0.6116, -0.0859,  ..., -0.0697,  0.4586,  0.0510],\n",
      "         [ 0.0268,  0.9735,  0.1712,  ..., -0.0777,  0.1121, -0.2646],\n",
      "         [-0.1938,  0.1367,  1.0669,  ...,  1.1962, -0.4050, -0.3661],\n",
      "         ...,\n",
      "         [-0.2024,  0.1415,  0.4422,  ...,  0.9792, -0.0284,  1.1211],\n",
      "         [ 0.1499, -0.6130, -0.0269,  ..., -0.2837,  1.5412,  0.3946],\n",
      "         [ 0.4112, -0.1646, -0.4957,  ...,  0.7313, -0.1254, -0.0639]],\n",
      "\n",
      "        [[ 1.7978, -0.4722, -0.3115,  ..., -0.3002,  0.0987, -0.0838],\n",
      "         [-0.1647,  0.8909,  0.8458,  ..., -0.6612, -0.4251, -0.0712],\n",
      "         [ 0.0815,  0.3400,  0.3946,  ...,  0.5617, -0.5550, -0.2371],\n",
      "         ...,\n",
      "         [-0.4039,  0.2543,  0.2438,  ...,  0.6718,  0.0164,  0.1360],\n",
      "         [ 0.0399, -0.8270, -0.2808,  ..., -0.3828,  1.4526, -0.2182],\n",
      "         [-0.3916,  0.0368, -0.7452,  ..., -0.5681,  0.4408,  0.3783]],\n",
      "\n",
      "        [[ 0.4041, -0.3067,  0.0542,  ...,  0.5917, -0.7451, -0.2386],\n",
      "         [-0.6858,  2.2184, -0.1053,  ...,  0.3365, -1.0759,  0.1262],\n",
      "         [-0.2205,  0.1203,  0.9718,  ..., -0.6674,  0.3981,  1.2203],\n",
      "         ...,\n",
      "         [-0.4528, -0.5720,  0.4824,  ...,  0.1783, -2.1962, -1.8474],\n",
      "         [ 0.9566,  0.5881,  1.6711,  ...,  0.2183,  1.0914,  0.3493],\n",
      "         [-0.9000, -1.1884,  0.7415,  ...,  1.3966,  0.0061,  0.6610]]],\n",
      "       device='cuda:0', grad_fn=<AddBackward0>)\n",
      "torch.Size([32, 10])\n"
     ]
    }
   ],
   "source": [
    "pointnet.train()\n",
    "\n",
    "test_data = torch.rand(32, 3, num_points).to(device)\n",
    "output = pointnet(test_data)\n",
    "print(output.shape)"
   ]
  },
  {
   "cell_type": "code",
   "execution_count": 22,
   "metadata": {},
   "outputs": [
    {
     "name": "stdout",
     "output_type": "stream",
     "text": [
      "tensor([[[ 1.6270e+00,  4.0374e-01, -5.5226e-01],\n",
      "         [ 5.9350e-01,  1.2622e+00,  2.0541e-01],\n",
      "         [-7.9745e-02,  2.2768e-01,  7.0685e-01]],\n",
      "\n",
      "        [[ 1.0002e+00, -4.9960e-01, -1.3954e-01],\n",
      "         [-7.6615e-02,  8.8340e-01, -9.2814e-01],\n",
      "         [ 6.8637e-02,  7.5411e-02,  3.7312e-01]],\n",
      "\n",
      "        [[ 1.1933e+00, -1.7367e-01, -6.1312e-01],\n",
      "         [-1.0280e-01,  1.2919e+00, -5.2838e-02],\n",
      "         [-6.3746e-03, -1.0190e-01,  3.6018e-01]],\n",
      "\n",
      "        [[ 1.6491e+00,  2.6571e-01, -1.2288e-01],\n",
      "         [-2.3176e-02,  5.1634e-01,  8.8678e-01],\n",
      "         [-1.0918e+00,  4.9649e-01,  1.4230e+00]],\n",
      "\n",
      "        [[ 1.6021e+00, -1.5966e-01, -2.2475e-01],\n",
      "         [ 3.3448e-01,  1.2885e+00,  5.0692e-01],\n",
      "         [-5.1645e-01, -1.5417e+00,  7.9385e-01]],\n",
      "\n",
      "        [[ 1.5159e+00,  7.5126e-01,  6.1435e-01],\n",
      "         [ 2.0660e-01,  1.3062e+00, -3.8195e-01],\n",
      "         [-3.2498e-01,  2.1877e-01,  1.4871e+00]],\n",
      "\n",
      "        [[ 7.3406e-01, -7.1309e-01,  5.5707e-01],\n",
      "         [-1.3237e+00,  1.5125e+00,  1.5652e+00],\n",
      "         [-8.3902e-01,  6.0189e-02,  2.8790e+00]],\n",
      "\n",
      "        [[ 1.3079e+00, -5.2670e-01,  9.1472e-01],\n",
      "         [-1.8426e-01,  1.2049e+00, -2.3617e-02],\n",
      "         [-5.2514e-01,  2.9078e-02,  1.1802e+00]],\n",
      "\n",
      "        [[ 2.7782e-01, -1.1673e+00,  1.4342e+00],\n",
      "         [ 4.2688e-01, -3.1062e-01,  7.2043e-01],\n",
      "         [ 1.7968e+00, -1.1468e+00,  2.7826e+00]],\n",
      "\n",
      "        [[ 5.8811e-01,  5.0180e-01, -1.3120e-01],\n",
      "         [-3.1641e-02,  9.3621e-01,  7.9768e-01],\n",
      "         [ 2.1587e-01, -2.0127e-01,  7.8326e-01]],\n",
      "\n",
      "        [[ 9.8755e-01, -6.7735e-01, -4.9582e-02],\n",
      "         [ 4.6844e-01,  1.2777e+00, -5.7104e-01],\n",
      "         [ 9.5117e-01, -2.4552e-01,  1.5017e+00]],\n",
      "\n",
      "        [[ 1.5915e+00, -5.8841e-01,  1.3975e-01],\n",
      "         [-2.7303e-01,  1.4574e+00, -1.3889e+00],\n",
      "         [ 6.7808e-01, -2.8698e-01,  7.0122e-01]],\n",
      "\n",
      "        [[ 1.1509e+00,  8.8029e-01,  2.2764e-01],\n",
      "         [ 4.0462e-01,  8.8866e-01,  8.5821e-02],\n",
      "         [ 1.8850e-01, -5.7666e-01,  9.6504e-01]],\n",
      "\n",
      "        [[ 3.2310e-01, -7.6777e-02,  4.3698e-01],\n",
      "         [ 1.2426e-01,  1.0129e+00, -6.5139e-01],\n",
      "         [ 5.6648e-01, -1.7677e-01,  9.5570e-01]],\n",
      "\n",
      "        [[ 2.2856e-01, -2.4545e-01, -2.6761e-01],\n",
      "         [ 2.1772e-01,  9.2303e-01, -9.0596e-01],\n",
      "         [ 5.3846e-01, -3.2752e-01,  1.0304e+00]],\n",
      "\n",
      "        [[ 1.2208e-01,  4.2649e-01, -5.4183e-01],\n",
      "         [-2.5349e-01,  5.2847e-01, -3.2124e-02],\n",
      "         [ 8.3604e-01, -1.1235e+00,  8.8352e-01]],\n",
      "\n",
      "        [[ 3.8185e-01, -3.6504e-01,  6.6722e-01],\n",
      "         [ 3.3052e-01,  7.6292e-01, -4.3587e-01],\n",
      "         [-2.5985e-03,  1.7932e-01,  8.1355e-01]],\n",
      "\n",
      "        [[ 8.5350e-01,  5.7631e-01, -4.6969e-01],\n",
      "         [-6.8518e-01,  8.3511e-01, -2.4806e-01],\n",
      "         [ 5.1714e-01,  1.0347e-01,  1.5265e+00]],\n",
      "\n",
      "        [[ 8.1505e-01,  3.8090e-01, -1.3089e-01],\n",
      "         [-4.9287e-01,  8.8982e-01, -1.7619e-01],\n",
      "         [-5.4015e-01,  4.4304e-01,  9.4991e-01]],\n",
      "\n",
      "        [[ 1.1952e+00,  2.2241e-01, -2.1127e-01],\n",
      "         [-6.2722e-01,  1.2765e+00, -4.8275e-01],\n",
      "         [ 5.6997e-03,  5.6333e-02,  7.2142e-01]],\n",
      "\n",
      "        [[ 1.0500e+00, -2.1750e-01,  2.2854e-01],\n",
      "         [ 8.3222e-01,  7.3154e-01, -9.6224e-02],\n",
      "         [-2.3015e-01,  9.8046e-02,  8.6437e-01]],\n",
      "\n",
      "        [[ 1.6111e+00,  6.7433e-01,  3.4700e-01],\n",
      "         [ 6.9308e-01,  1.1162e+00,  3.1337e-01],\n",
      "         [-7.1407e-01,  1.8269e-01,  1.3465e+00]],\n",
      "\n",
      "        [[ 1.9493e+00, -1.4560e+00,  4.1443e-01],\n",
      "         [ 2.4177e-02,  1.7360e+00,  1.4142e+00],\n",
      "         [-1.5708e+00, -2.5975e-01,  2.8411e+00]],\n",
      "\n",
      "        [[ 2.0816e+00,  6.7480e-01,  7.9474e-02],\n",
      "         [ 5.1503e-01,  1.4528e+00,  8.5992e-02],\n",
      "         [-9.4002e-01,  6.1822e-01,  1.1139e+00]],\n",
      "\n",
      "        [[ 3.7527e+00,  1.3018e+00,  1.2163e+00],\n",
      "         [-1.2750e+00,  1.0095e+00,  2.1171e+00],\n",
      "         [-3.1841e-01, -3.9480e-01,  1.3406e+00]],\n",
      "\n",
      "        [[ 2.6759e-01,  4.0274e-02, -9.1665e-02],\n",
      "         [-2.1734e-01,  9.0751e-01, -6.6328e-02],\n",
      "         [ 4.0920e-01, -2.6046e-01,  8.6635e-01]],\n",
      "\n",
      "        [[ 1.0447e+00, -6.9734e-01,  9.4005e-02],\n",
      "         [-7.7697e-01,  1.9568e+00,  2.6433e-01],\n",
      "         [ 6.0832e-01,  8.4738e-01,  1.3523e+00]],\n",
      "\n",
      "        [[ 1.4530e+00,  3.2592e-02,  7.6166e-01],\n",
      "         [ 6.7860e-01,  1.7138e+00, -2.7046e-02],\n",
      "         [ 9.7594e-02,  1.9217e-01,  2.3761e+00]],\n",
      "\n",
      "        [[ 9.4424e-01,  8.4595e-01, -1.1603e-01],\n",
      "         [-9.7689e-02,  1.0661e+00, -2.0565e-01],\n",
      "         [ 1.1158e-01, -5.9383e-02,  5.4636e-02]],\n",
      "\n",
      "        [[ 9.8877e-01,  8.8496e-01, -2.1379e-01],\n",
      "         [-3.9998e-02,  8.7064e-01, -2.9471e-01],\n",
      "         [-2.5492e-02, -4.5155e-01,  5.0688e-01]],\n",
      "\n",
      "        [[ 8.0368e-01, -7.3928e-01, -5.6750e-01],\n",
      "         [-8.2341e-02,  5.7399e-01, -3.6110e-02],\n",
      "         [ 5.9608e-01, -5.6789e-01,  9.4260e-01]],\n",
      "\n",
      "        [[ 1.3481e+00,  6.8006e-01, -1.6234e-01],\n",
      "         [ 5.3816e-01,  4.7471e-01,  1.2129e+00],\n",
      "         [ 2.0075e-01, -7.5309e-01,  1.6223e+00]],\n",
      "\n",
      "        [[ 1.2886e+00,  5.3519e-01,  3.0888e-02],\n",
      "         [ 6.8504e-01,  1.1259e+00,  1.0555e+00],\n",
      "         [-1.0533e+00,  4.9065e-01,  1.3447e+00]],\n",
      "\n",
      "        [[ 9.3292e-01,  5.7425e-02, -3.0846e-01],\n",
      "         [-3.7884e-01,  1.2463e+00, -4.0288e-01],\n",
      "         [-1.5463e-01, -3.4360e-02,  2.1984e-01]],\n",
      "\n",
      "        [[ 3.5849e-01, -2.7962e-01, -2.0471e-01],\n",
      "         [-4.8476e-01,  1.5543e+00, -2.8728e-01],\n",
      "         [-4.0651e-01,  7.4025e-01,  4.9134e-01]],\n",
      "\n",
      "        [[ 2.6616e-01,  2.3789e-01, -1.8947e-01],\n",
      "         [ 3.5192e-01,  8.4342e-01, -1.3387e-01],\n",
      "         [ 6.6503e-01, -2.6662e-02,  8.0943e-01]],\n",
      "\n",
      "        [[ 9.4618e-01, -1.0364e-01, -1.0232e-01],\n",
      "         [ 6.2826e-04,  1.1573e+00, -5.6564e-01],\n",
      "         [-2.5673e-01,  1.0812e-01,  1.4187e-01]],\n",
      "\n",
      "        [[ 1.2421e+00,  5.5101e-01,  1.1352e-01],\n",
      "         [-1.7198e-01,  1.3979e+00, -1.8856e-01],\n",
      "         [ 5.6087e-01, -3.4752e-01, -1.4111e-02]],\n",
      "\n",
      "        [[ 2.7596e-01,  1.2981e-01, -2.2118e-01],\n",
      "         [ 3.9898e-01,  1.0607e+00, -2.6779e-01],\n",
      "         [ 5.3358e-01, -1.3598e+00,  8.0177e-01]],\n",
      "\n",
      "        [[ 1.0879e+00,  5.3562e-01, -5.7979e-01],\n",
      "         [ 3.1042e-01,  1.1952e+00,  2.1995e-02],\n",
      "         [-4.9390e-01, -4.7393e-01,  5.5220e-01]],\n",
      "\n",
      "        [[ 5.6081e-01, -2.6344e-01,  6.7770e-01],\n",
      "         [ 1.9502e-01,  8.4280e-01, -6.8444e-01],\n",
      "         [-1.5259e-03,  2.2250e-01,  1.2504e+00]],\n",
      "\n",
      "        [[ 8.6026e-01, -1.3510e-01, -1.8489e-01],\n",
      "         [ 8.6457e-02,  7.4242e-01, -3.6819e-01],\n",
      "         [ 1.8184e-02, -5.8944e-01,  2.7064e-01]],\n",
      "\n",
      "        [[ 6.2077e-01,  8.5812e-01,  6.4255e-01],\n",
      "         [ 1.2979e-01,  7.7764e-01,  1.4296e+00],\n",
      "         [ 6.3321e-01,  3.9112e-01,  9.7931e-01]],\n",
      "\n",
      "        [[ 1.2408e+00,  2.4780e-02, -9.6061e-02],\n",
      "         [-2.7502e-01,  8.6296e-01, -9.4773e-01],\n",
      "         [ 8.8612e-02, -1.1113e-01,  3.4796e-01]],\n",
      "\n",
      "        [[ 7.2886e-01, -7.2028e-01, -3.9684e-01],\n",
      "         [ 3.2421e-01,  8.8370e-01, -1.3611e+00],\n",
      "         [ 3.1594e-02, -2.3454e-01,  1.3297e+00]],\n",
      "\n",
      "        [[ 1.8390e+00,  5.8058e-01, -3.2837e-01],\n",
      "         [ 2.9057e-01,  1.0390e+00,  3.8196e-01],\n",
      "         [ 9.3293e-02,  5.3948e-01,  1.1240e+00]],\n",
      "\n",
      "        [[ 5.2311e-01, -4.3425e-01,  2.1475e-01],\n",
      "         [-1.0805e+00,  7.1476e-01,  1.0852e+00],\n",
      "         [ 1.1245e+00, -8.3351e-01,  7.6302e-01]],\n",
      "\n",
      "        [[ 4.8083e-01, -3.7803e-01,  8.5167e-02],\n",
      "         [ 7.6191e-01,  1.0297e-01, -3.6160e-01],\n",
      "         [-2.2152e-01, -1.0456e+00,  1.0567e+00]],\n",
      "\n",
      "        [[ 1.0191e+00,  6.0867e-01,  8.1035e-01],\n",
      "         [ 4.4967e-01,  1.0391e+00,  5.8261e-01],\n",
      "         [ 6.1155e-01, -1.7705e-01,  7.8455e-01]],\n",
      "\n",
      "        [[ 5.0902e-01,  7.0501e-01, -1.1394e-01],\n",
      "         [-3.5591e-01,  9.9963e-01, -3.5986e-01],\n",
      "         [ 2.8637e-01, -4.6214e-01,  8.9518e-01]],\n",
      "\n",
      "        [[ 3.0022e-01, -8.5569e-01,  1.1342e-01],\n",
      "         [-6.8014e-02,  2.2558e-01, -5.3722e-02],\n",
      "         [ 4.9172e-01, -4.9243e-02,  1.2476e+00]],\n",
      "\n",
      "        [[ 8.9355e-01, -1.3254e-01,  3.4981e-01],\n",
      "         [ 3.6093e-01,  5.7286e-01, -1.4559e+00],\n",
      "         [ 6.1419e-02,  1.1221e-02,  7.2794e-01]],\n",
      "\n",
      "        [[ 5.9800e-01,  4.9556e-01, -4.6371e-02],\n",
      "         [-1.1172e-01,  7.8436e-01, -6.5821e-01],\n",
      "         [ 3.0209e-01,  2.4742e-02,  7.5400e-01]],\n",
      "\n",
      "        [[ 3.6449e-01,  3.9314e-02, -6.0419e-01],\n",
      "         [ 4.5724e-01,  8.7318e-01, -1.7182e-01],\n",
      "         [ 2.3264e+00,  1.0794e-01,  2.3233e-01]],\n",
      "\n",
      "        [[ 9.4357e-01,  5.0044e-01, -2.0562e-01],\n",
      "         [ 2.2268e-01,  8.2825e-01,  6.6576e-01],\n",
      "         [-5.1970e-01,  8.1514e-01,  1.3745e+00]],\n",
      "\n",
      "        [[ 6.0660e-01, -3.4911e-02,  2.0696e-02],\n",
      "         [-6.8761e-02,  1.7781e+00, -6.6836e-01],\n",
      "         [-3.9358e-01,  8.1852e-01,  6.1597e-01]],\n",
      "\n",
      "        [[ 1.5630e+00,  3.5990e-01,  1.2449e-01],\n",
      "         [-6.6404e-01,  1.0270e+00,  4.9828e-01],\n",
      "         [-6.5047e-01,  3.1892e-01,  1.1054e+00]],\n",
      "\n",
      "        [[ 1.5266e+00, -1.8293e-01, -5.5936e-01],\n",
      "         [-6.5372e-01,  9.0672e-01,  1.2773e+00],\n",
      "         [-5.0883e-01,  8.0592e-01,  2.2960e+00]],\n",
      "\n",
      "        [[ 6.6051e-01,  8.4549e-02, -6.2486e-01],\n",
      "         [-3.8210e-01,  8.8800e-01,  2.0339e-01],\n",
      "         [-6.3154e-01,  5.4004e-01,  7.2234e-01]],\n",
      "\n",
      "        [[ 6.7260e-01,  9.0824e-01, -1.7967e-01],\n",
      "         [ 2.0056e-01,  7.8673e-01,  5.7893e-01],\n",
      "         [ 8.2604e-01, -1.5070e-01,  1.0025e+00]],\n",
      "\n",
      "        [[ 1.1407e+00,  1.2530e+00, -6.8322e-01],\n",
      "         [ 2.9235e-01,  6.2519e-01,  5.7397e-01],\n",
      "         [-4.3525e-01, -6.2602e-01,  1.6579e+00]],\n",
      "\n",
      "        [[ 1.4185e+00, -1.3865e+00, -1.0926e-01],\n",
      "         [-3.1473e-01,  1.1762e+00, -1.4149e-01],\n",
      "         [-5.2588e-01,  1.5486e+00,  1.7737e+00]],\n",
      "\n",
      "        [[ 8.0846e-01, -9.7247e-01, -8.3309e-01],\n",
      "         [-3.2073e-01,  6.4079e-01,  1.2150e+00],\n",
      "         [ 1.2470e-01,  8.5421e-02,  7.3664e-01]],\n",
      "\n",
      "        [[ 5.8635e-01, -1.2566e+00, -1.8019e-01],\n",
      "         [-1.6599e-01,  8.8066e-01, -1.6854e-01],\n",
      "         [-3.9975e-01,  4.2198e-01,  9.1838e-01]]], device='cuda:0',\n",
      "       grad_fn=<AddBackward0>)\n",
      "tensor([[[ 0.8619, -0.3160,  0.2402,  ...,  1.0033,  0.0212,  0.5251],\n",
      "         [-0.2086,  1.9071,  0.4559,  ..., -0.4348, -0.2313,  0.2450],\n",
      "         [ 0.7998, -0.0102,  0.8938,  ..., -0.0315, -0.1588, -0.0753],\n",
      "         ...,\n",
      "         [-0.5573, -0.1559, -0.1312,  ...,  1.1572, -0.2261,  0.2339],\n",
      "         [-0.2011, -0.1056, -0.2609,  ..., -0.2614,  1.1069,  0.4268],\n",
      "         [-0.7996,  0.3671, -0.3951,  ..., -0.2636, -0.1211,  1.4190]],\n",
      "\n",
      "        [[ 0.8970, -0.1345,  0.1264,  ..., -0.9183,  0.4071, -0.5274],\n",
      "         [ 0.8700,  0.3934, -0.4600,  ...,  0.3910, -0.2203,  0.0634],\n",
      "         [-0.5173,  0.5519,  0.6020,  ...,  0.1158, -0.1074, -0.6819],\n",
      "         ...,\n",
      "         [-0.0227, -0.9640,  0.4348,  ...,  0.8560, -0.9180, -0.1460],\n",
      "         [ 0.3856,  0.1870, -0.3422,  ..., -0.5982,  1.2062, -0.4313],\n",
      "         [-0.2786,  0.6903,  0.2847,  ...,  0.1491,  0.1982,  0.7315]],\n",
      "\n",
      "        [[ 1.2061,  0.3367, -0.0601,  ..., -0.3393,  0.3358, -0.3375],\n",
      "         [-0.3513,  0.3583,  0.0203,  ...,  0.2266, -0.1436,  0.4791],\n",
      "         [-0.4753, -0.2540,  0.9191,  ..., -0.0407,  0.2309, -0.2803],\n",
      "         ...,\n",
      "         [-0.3559,  0.4972, -0.4129,  ...,  1.0972,  0.0659,  0.3412],\n",
      "         [-0.1352, -0.5135,  0.1982,  ..., -0.2724,  1.6384,  0.0902],\n",
      "         [-0.4347, -0.2884, -0.0085,  ...,  0.2206,  0.1147,  0.4640]],\n",
      "\n",
      "        ...,\n",
      "\n",
      "        [[ 0.0508,  0.5560,  0.0841,  ...,  0.3193, -1.2698,  0.1188],\n",
      "         [ 0.6839,  3.3686,  0.6912,  ...,  0.5874,  0.6563, -1.4812],\n",
      "         [ 0.7272, -1.7480,  0.7220,  ...,  0.1171,  1.1832,  0.6291],\n",
      "         ...,\n",
      "         [-0.5077,  0.0977,  0.1696,  ...,  2.0837,  0.5759, -0.0115],\n",
      "         [-0.5200,  0.6670, -0.8465,  ...,  1.0946, -0.2970,  0.3641],\n",
      "         [ 1.4948,  0.2192, -0.1664,  ...,  0.2723,  0.2805,  2.0685]],\n",
      "\n",
      "        [[ 1.2059,  0.2626,  0.3675,  ..., -0.0900, -0.0036,  0.6225],\n",
      "         [ 0.1646,  2.5339,  0.3776,  ..., -0.0483, -0.4271,  0.6217],\n",
      "         [-0.0954, -0.6965,  0.1955,  ...,  0.4255,  0.6680,  0.0975],\n",
      "         ...,\n",
      "         [-0.1578, -0.0138,  0.1543,  ...,  1.9480,  0.6754, -0.2930],\n",
      "         [ 0.1400, -0.1291, -0.1410,  ...,  0.7096,  0.7580,  0.1418],\n",
      "         [ 0.7472, -0.8994, -0.5862,  ..., -0.1520,  0.8600, -0.1406]],\n",
      "\n",
      "        [[ 1.4151, -0.2491,  0.4640,  ..., -0.7318,  0.4586, -0.0829],\n",
      "         [-0.4432,  1.4250,  1.2873,  ..., -0.1443,  0.5990,  0.4836],\n",
      "         [ 0.4756, -0.3348,  0.7236,  ...,  0.3499, -0.1680,  0.3887],\n",
      "         ...,\n",
      "         [ 0.0571,  1.0315,  0.5318,  ...,  1.4282,  0.2456, -0.1988],\n",
      "         [ 0.1822, -0.5550, -0.0744,  ...,  0.3402,  0.8932,  0.4202],\n",
      "         [ 0.4494, -0.0681, -0.4976,  ...,  0.7975,  0.4827,  2.0963]]],\n",
      "       device='cuda:0', grad_fn=<AddBackward0>)\n"
     ]
    },
    {
     "ename": "TypeError",
     "evalue": "PointNetLoss.forward() missing 1 required positional argument: 'A'",
     "output_type": "error",
     "traceback": [
      "\u001b[1;31m---------------------------------------------------------------------------\u001b[0m",
      "\u001b[1;31mTypeError\u001b[0m                                 Traceback (most recent call last)",
      "Cell \u001b[1;32mIn[22], line 18\u001b[0m\n\u001b[0;32m     15\u001b[0m optimizer\u001b[38;5;241m.\u001b[39mzero_grad()\n\u001b[0;32m     17\u001b[0m logits \u001b[38;5;241m=\u001b[39m pointnet(clouds)\n\u001b[1;32m---> 18\u001b[0m loss \u001b[38;5;241m=\u001b[39m \u001b[43mcriterion\u001b[49m\u001b[43m(\u001b[49m\u001b[43mlogits\u001b[49m\u001b[43m,\u001b[49m\u001b[43m \u001b[49m\u001b[43mlabels\u001b[49m\u001b[43m)\u001b[49m\n\u001b[0;32m     19\u001b[0m optimizer\u001b[38;5;241m.\u001b[39mstep()\n\u001b[0;32m     21\u001b[0m loss_avg \u001b[38;5;241m+\u001b[39m\u001b[38;5;241m=\u001b[39m loss\u001b[38;5;241m.\u001b[39mitem()\n",
      "File \u001b[1;32mc:\\Users\\Joshua\\OneDrive\\Documents\\AI_535\\PointCloudclassification\\.venv\\lib\\site-packages\\torch\\nn\\modules\\module.py:1739\u001b[0m, in \u001b[0;36mModule._wrapped_call_impl\u001b[1;34m(self, *args, **kwargs)\u001b[0m\n\u001b[0;32m   1737\u001b[0m     \u001b[38;5;28;01mreturn\u001b[39;00m \u001b[38;5;28mself\u001b[39m\u001b[38;5;241m.\u001b[39m_compiled_call_impl(\u001b[38;5;241m*\u001b[39margs, \u001b[38;5;241m*\u001b[39m\u001b[38;5;241m*\u001b[39mkwargs)  \u001b[38;5;66;03m# type: ignore[misc]\u001b[39;00m\n\u001b[0;32m   1738\u001b[0m \u001b[38;5;28;01melse\u001b[39;00m:\n\u001b[1;32m-> 1739\u001b[0m     \u001b[38;5;28;01mreturn\u001b[39;00m \u001b[38;5;28mself\u001b[39m\u001b[38;5;241m.\u001b[39m_call_impl(\u001b[38;5;241m*\u001b[39margs, \u001b[38;5;241m*\u001b[39m\u001b[38;5;241m*\u001b[39mkwargs)\n",
      "File \u001b[1;32mc:\\Users\\Joshua\\OneDrive\\Documents\\AI_535\\PointCloudclassification\\.venv\\lib\\site-packages\\torch\\nn\\modules\\module.py:1750\u001b[0m, in \u001b[0;36mModule._call_impl\u001b[1;34m(self, *args, **kwargs)\u001b[0m\n\u001b[0;32m   1745\u001b[0m \u001b[38;5;66;03m# If we don't have any hooks, we want to skip the rest of the logic in\u001b[39;00m\n\u001b[0;32m   1746\u001b[0m \u001b[38;5;66;03m# this function, and just call forward.\u001b[39;00m\n\u001b[0;32m   1747\u001b[0m \u001b[38;5;28;01mif\u001b[39;00m \u001b[38;5;129;01mnot\u001b[39;00m (\u001b[38;5;28mself\u001b[39m\u001b[38;5;241m.\u001b[39m_backward_hooks \u001b[38;5;129;01mor\u001b[39;00m \u001b[38;5;28mself\u001b[39m\u001b[38;5;241m.\u001b[39m_backward_pre_hooks \u001b[38;5;129;01mor\u001b[39;00m \u001b[38;5;28mself\u001b[39m\u001b[38;5;241m.\u001b[39m_forward_hooks \u001b[38;5;129;01mor\u001b[39;00m \u001b[38;5;28mself\u001b[39m\u001b[38;5;241m.\u001b[39m_forward_pre_hooks\n\u001b[0;32m   1748\u001b[0m         \u001b[38;5;129;01mor\u001b[39;00m _global_backward_pre_hooks \u001b[38;5;129;01mor\u001b[39;00m _global_backward_hooks\n\u001b[0;32m   1749\u001b[0m         \u001b[38;5;129;01mor\u001b[39;00m _global_forward_hooks \u001b[38;5;129;01mor\u001b[39;00m _global_forward_pre_hooks):\n\u001b[1;32m-> 1750\u001b[0m     \u001b[38;5;28;01mreturn\u001b[39;00m forward_call(\u001b[38;5;241m*\u001b[39margs, \u001b[38;5;241m*\u001b[39m\u001b[38;5;241m*\u001b[39mkwargs)\n\u001b[0;32m   1752\u001b[0m result \u001b[38;5;241m=\u001b[39m \u001b[38;5;28;01mNone\u001b[39;00m\n\u001b[0;32m   1753\u001b[0m called_always_called_hooks \u001b[38;5;241m=\u001b[39m \u001b[38;5;28mset\u001b[39m()\n",
      "\u001b[1;31mTypeError\u001b[0m: PointNetLoss.forward() missing 1 required positional argument: 'A'"
     ]
    }
   ],
   "source": [
    "\n",
    "for epoch in range(2*num_epochs):\n",
    "\n",
    "    accuracy = 0\n",
    "    loss_avg = 0\n",
    "    count = 0\n",
    "\n",
    "    pointnet.train()\n",
    "    for data in test_loader:\n",
    "\n",
    "        clouds = data.pos.view(data.batch[-1]+1, num_points, 3)\n",
    "        clouds = clouds.view(-1, clouds.shape[2], clouds.shape[1]).to(device)\n",
    "\n",
    "        labels = data.y.to(device)\n",
    "\n",
    "        optimizer.zero_grad()\n",
    "\n",
    "        logits = pointnet(clouds)\n",
    "        loss = criterion(logits, labels)\n",
    "        optimizer.step()\n",
    "\n",
    "        loss_avg += loss.item()\n",
    "        count += 1\n",
    "    \n",
    "    loss_avg = loss_avg/count\n",
    "    \n",
    "    pointnet.eval()\n",
    "    with torch.no_grad():\n",
    "        correct = 0\n",
    "        total = 0\n",
    "        for data in test_loader:\n",
    "            \n",
    "            clouds = data.pos.view(data.batch[-1]+1, num_points, 3)\n",
    "            clouds = clouds.view(-1, clouds.shape[2], clouds.shape[1]).to(device)\n",
    "\n",
    "            labels = data.y.to(device)\n",
    "            \n",
    "            logits = pointnet(clouds)\n",
    "\n",
    "            _, predicted = torch.max(logits.data, 1)\n",
    "            total += labels.size(0)\n",
    "            correct += (predicted == labels).sum().item()\n",
    "\n",
    "        accuracy = correct/total\n",
    "    \n",
    "    print(\"{}   [Epoch {:3}]  Loss: {:8.4}  Accuracy:   {:8.4}%\".format(datetime.datetime.now(), epoch+1, loss_avg, 100*accuracy))"
   ]
  },
  {
   "cell_type": "code",
   "execution_count": 19,
   "metadata": {},
   "outputs": [
    {
     "name": "stdout",
     "output_type": "stream",
     "text": [
      "Accuracy:    11.45374449339207%\n"
     ]
    }
   ],
   "source": [
    "pointnet.eval()\n",
    "\n",
    "with torch.no_grad():\n",
    "    correct = 0\n",
    "    total = 0\n",
    "    for data in test_loader:\n",
    "        \n",
    "        clouds = data.pos.resize(data.batch[-1]+1, num_points, 3)\n",
    "        clouds = clouds.view(-1, clouds.shape[2], clouds.shape[1]).to(device)\n",
    "\n",
    "        labels = data.y.to(device)\n",
    "        \n",
    "        logits = pointnet(clouds)\n",
    "\n",
    "        _, predicted = torch.max(logits.data, 1)\n",
    "        total += labels.size(0)\n",
    "        correct += (predicted == labels).sum().item()\n",
    "\n",
    "    print('Accuracy:    {}%'.format(100 * correct / total))"
   ]
  },
  {
   "cell_type": "code",
   "execution_count": null,
   "metadata": {},
   "outputs": [],
   "source": []
  }
 ],
 "metadata": {
  "kernelspec": {
   "display_name": ".venv",
   "language": "python",
   "name": "python3"
  },
  "language_info": {
   "codemirror_mode": {
    "name": "ipython",
    "version": 3
   },
   "file_extension": ".py",
   "mimetype": "text/x-python",
   "name": "python",
   "nbconvert_exporter": "python",
   "pygments_lexer": "ipython3",
   "version": "3.10.11"
  }
 },
 "nbformat": 4,
 "nbformat_minor": 2
}
