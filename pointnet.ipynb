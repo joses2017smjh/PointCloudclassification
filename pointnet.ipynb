{
 "cells": [
  {
   "cell_type": "code",
   "execution_count": 129,
   "metadata": {},
   "outputs": [],
   "source": [
    "import torch\n",
    "from torch_geometric.datasets import ModelNet, ShapeNet\n",
    "from torch_geometric.transforms import SamplePoints, NormalizeScale\n",
    "from torch_geometric.loader import DataLoader\n",
    "\n",
    "import open3d as o3d\n",
    "import plotly.graph_objects as go\n",
    "\n",
    "import torch.nn as nn\n",
    "import torch.nn.functional as F\n",
    "import torch.optim as optim\n",
    "import datetime\n",
    "import os\n",
    "import random"
   ]
  },
  {
   "cell_type": "code",
   "execution_count": 12,
   "metadata": {},
   "outputs": [],
   "source": [
    "from pointnet import PointNetClassifier, PointNetClassificationLoss"
   ]
  },
  {
   "cell_type": "code",
   "execution_count": 13,
   "metadata": {},
   "outputs": [],
   "source": [
    "device = \"cuda\""
   ]
  },
  {
   "cell_type": "code",
   "execution_count": 64,
   "metadata": {},
   "outputs": [
    {
     "name": "stdout",
     "output_type": "stream",
     "text": [
      "Number of training examples: 3991\n",
      "Number of test examples: 908\n",
      "['bathtub', 'bed', 'chair', 'desk', 'dresser', 'monitor', 'night_stand', 'sofa', 'table', 'toilet']\n",
      "Data(pos=[1024, 3], y=[1])\n",
      "Point cloud shape: torch.Size([1024, 3])\n",
      "Label: tensor([2])\n"
     ]
    }
   ],
   "source": [
    "# modelnet10\n",
    "\n",
    "num_points = 1024\n",
    "\n",
    "pre_transform = NormalizeScale()\n",
    "transform = SamplePoints(num_points)\n",
    "\n",
    "batch_size = 64\n",
    "\n",
    "root = 'data/ModelNet10'\n",
    "dataset_train = ModelNet(root=root, name='10', train=True, pre_transform=pre_transform, transform=transform)\n",
    "trainloader = DataLoader(dataset_train, batch_size=batch_size, shuffle=True)\n",
    "\n",
    "dataset_test = ModelNet(root=root, name='10', train=False, pre_transform=pre_transform, transform=transform)\n",
    "testloader = DataLoader(dataset_test, batch_size=batch_size)\n",
    "\n",
    "print(f'Number of training examples: {len(dataset_train)}')\n",
    "print(f'Number of test examples: {len(dataset_test)}')\n",
    "\n",
    "classes = dataset_test.raw_file_names\n",
    "print(classes)\n",
    "\n",
    "data = dataset_train[1001]\n",
    "print(data)\n",
    "print(f'Point cloud shape: {data.pos.shape}')\n",
    "print(f'Label: {data.y}')"
   ]
  },
  {
   "cell_type": "code",
   "execution_count": 90,
   "metadata": {},
   "outputs": [
    {
     "name": "stdout",
     "output_type": "stream",
     "text": [
      "Number of training examples: 9843\n",
      "Number of test examples: 2468\n",
      "Data(pos=[2048, 3], y=[1])\n",
      "Point cloud shape: torch.Size([2048, 3])\n",
      "Label: tensor([2])\n"
     ]
    }
   ],
   "source": [
    "# modelnet40\n",
    "\n",
    "num_points = 2048\n",
    "\n",
    "pre_transform = NormalizeScale()\n",
    "transform = SamplePoints(num_points)\n",
    "\n",
    "batch_size = 64\n",
    "\n",
    "root = 'data/ModelNet40'\n",
    "dataset_train = ModelNet(root=root, name='40', train=True, pre_transform=pre_transform, transform=transform)\n",
    "trainloader = DataLoader(dataset_train, batch_size=batch_size, shuffle=True)\n",
    "\n",
    "dataset_test = ModelNet(root=root, name='40', train=False, pre_transform=pre_transform, transform=transform)\n",
    "testloader = DataLoader(dataset_test, batch_size=batch_size)\n",
    "\n",
    "classes = [\"airplane\", \"bathtub\", \"bed\", \"bench\", \"bookshelf\", \"bottle\", \"bowl\", \"car\", \"chair\", \"cone\", \"cup\", \"curtain\", \"desk\", \"door\", \"dresser\", \"flower_pot\", \"glass_box\", \"guitar\", \"keyboard\", \"lamp\", \"laptop\", \"mantel\", \"monitor\", \"night_stand\", \"person\", \"piano\", \"plant\", \"radio\", \"range_hood\", \"sink\", \"sofa\", \"stairs\", \"stool\", \"table\", \"tent\", \"toilet\", \"tv_stand\", \"vase\", \"wardrobe\", \"xbox\"]\n",
    "\n",
    "print(f'Number of training examples: {len(dataset_train)}')\n",
    "print(f'Number of test examples: {len(dataset_test)}')\n",
    "\n",
    "data = dataset_train[1001]\n",
    "print(data)\n",
    "print(f'Point cloud shape: {data.pos.shape}')\n",
    "print(f'Label: {data.y}')"
   ]
  },
  {
   "cell_type": "code",
   "execution_count": 80,
   "metadata": {},
   "outputs": [
    {
     "data": {
      "application/vnd.plotly.v1+json": {
       "config": {
        "plotlyServerURL": "https://plot.ly"
       },
       "data": [
        {
         "marker": {
          "color": "white",
          "size": 1
         },
         "mode": "markers",
         "type": "scatter3d",
         "x": {
          "bdata": "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",
          "dtype": "f4"
         },
         "y": {
          "bdata": "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",
          "dtype": "f4"
         },
         "z": {
          "bdata": "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",
          "dtype": "f4"
         }
        }
       ],
       "layout": {
        "scene": {
         "xaxis": {
          "visible": false
         },
         "yaxis": {
          "visible": false
         },
         "zaxis": {
          "visible": false
         }
        },
        "template": {
         "data": {
          "bar": [
           {
            "error_x": {
             "color": "#f2f5fa"
            },
            "error_y": {
             "color": "#f2f5fa"
            },
            "marker": {
             "line": {
              "color": "rgb(17,17,17)",
              "width": 0.5
             },
             "pattern": {
              "fillmode": "overlay",
              "size": 10,
              "solidity": 0.2
             }
            },
            "type": "bar"
           }
          ],
          "barpolar": [
           {
            "marker": {
             "line": {
              "color": "rgb(17,17,17)",
              "width": 0.5
             },
             "pattern": {
              "fillmode": "overlay",
              "size": 10,
              "solidity": 0.2
             }
            },
            "type": "barpolar"
           }
          ],
          "carpet": [
           {
            "aaxis": {
             "endlinecolor": "#A2B1C6",
             "gridcolor": "#506784",
             "linecolor": "#506784",
             "minorgridcolor": "#506784",
             "startlinecolor": "#A2B1C6"
            },
            "baxis": {
             "endlinecolor": "#A2B1C6",
             "gridcolor": "#506784",
             "linecolor": "#506784",
             "minorgridcolor": "#506784",
             "startlinecolor": "#A2B1C6"
            },
            "type": "carpet"
           }
          ],
          "choropleth": [
           {
            "colorbar": {
             "outlinewidth": 0,
             "ticks": ""
            },
            "type": "choropleth"
           }
          ],
          "contour": [
           {
            "colorbar": {
             "outlinewidth": 0,
             "ticks": ""
            },
            "colorscale": [
             [
              0,
              "#0d0887"
             ],
             [
              0.1111111111111111,
              "#46039f"
             ],
             [
              0.2222222222222222,
              "#7201a8"
             ],
             [
              0.3333333333333333,
              "#9c179e"
             ],
             [
              0.4444444444444444,
              "#bd3786"
             ],
             [
              0.5555555555555556,
              "#d8576b"
             ],
             [
              0.6666666666666666,
              "#ed7953"
             ],
             [
              0.7777777777777778,
              "#fb9f3a"
             ],
             [
              0.8888888888888888,
              "#fdca26"
             ],
             [
              1,
              "#f0f921"
             ]
            ],
            "type": "contour"
           }
          ],
          "contourcarpet": [
           {
            "colorbar": {
             "outlinewidth": 0,
             "ticks": ""
            },
            "type": "contourcarpet"
           }
          ],
          "heatmap": [
           {
            "colorbar": {
             "outlinewidth": 0,
             "ticks": ""
            },
            "colorscale": [
             [
              0,
              "#0d0887"
             ],
             [
              0.1111111111111111,
              "#46039f"
             ],
             [
              0.2222222222222222,
              "#7201a8"
             ],
             [
              0.3333333333333333,
              "#9c179e"
             ],
             [
              0.4444444444444444,
              "#bd3786"
             ],
             [
              0.5555555555555556,
              "#d8576b"
             ],
             [
              0.6666666666666666,
              "#ed7953"
             ],
             [
              0.7777777777777778,
              "#fb9f3a"
             ],
             [
              0.8888888888888888,
              "#fdca26"
             ],
             [
              1,
              "#f0f921"
             ]
            ],
            "type": "heatmap"
           }
          ],
          "histogram": [
           {
            "marker": {
             "pattern": {
              "fillmode": "overlay",
              "size": 10,
              "solidity": 0.2
             }
            },
            "type": "histogram"
           }
          ],
          "histogram2d": [
           {
            "colorbar": {
             "outlinewidth": 0,
             "ticks": ""
            },
            "colorscale": [
             [
              0,
              "#0d0887"
             ],
             [
              0.1111111111111111,
              "#46039f"
             ],
             [
              0.2222222222222222,
              "#7201a8"
             ],
             [
              0.3333333333333333,
              "#9c179e"
             ],
             [
              0.4444444444444444,
              "#bd3786"
             ],
             [
              0.5555555555555556,
              "#d8576b"
             ],
             [
              0.6666666666666666,
              "#ed7953"
             ],
             [
              0.7777777777777778,
              "#fb9f3a"
             ],
             [
              0.8888888888888888,
              "#fdca26"
             ],
             [
              1,
              "#f0f921"
             ]
            ],
            "type": "histogram2d"
           }
          ],
          "histogram2dcontour": [
           {
            "colorbar": {
             "outlinewidth": 0,
             "ticks": ""
            },
            "colorscale": [
             [
              0,
              "#0d0887"
             ],
             [
              0.1111111111111111,
              "#46039f"
             ],
             [
              0.2222222222222222,
              "#7201a8"
             ],
             [
              0.3333333333333333,
              "#9c179e"
             ],
             [
              0.4444444444444444,
              "#bd3786"
             ],
             [
              0.5555555555555556,
              "#d8576b"
             ],
             [
              0.6666666666666666,
              "#ed7953"
             ],
             [
              0.7777777777777778,
              "#fb9f3a"
             ],
             [
              0.8888888888888888,
              "#fdca26"
             ],
             [
              1,
              "#f0f921"
             ]
            ],
            "type": "histogram2dcontour"
           }
          ],
          "mesh3d": [
           {
            "colorbar": {
             "outlinewidth": 0,
             "ticks": ""
            },
            "type": "mesh3d"
           }
          ],
          "parcoords": [
           {
            "line": {
             "colorbar": {
              "outlinewidth": 0,
              "ticks": ""
             }
            },
            "type": "parcoords"
           }
          ],
          "pie": [
           {
            "automargin": true,
            "type": "pie"
           }
          ],
          "scatter": [
           {
            "marker": {
             "line": {
              "color": "#283442"
             }
            },
            "type": "scatter"
           }
          ],
          "scatter3d": [
           {
            "line": {
             "colorbar": {
              "outlinewidth": 0,
              "ticks": ""
             }
            },
            "marker": {
             "colorbar": {
              "outlinewidth": 0,
              "ticks": ""
             }
            },
            "type": "scatter3d"
           }
          ],
          "scattercarpet": [
           {
            "marker": {
             "colorbar": {
              "outlinewidth": 0,
              "ticks": ""
             }
            },
            "type": "scattercarpet"
           }
          ],
          "scattergeo": [
           {
            "marker": {
             "colorbar": {
              "outlinewidth": 0,
              "ticks": ""
             }
            },
            "type": "scattergeo"
           }
          ],
          "scattergl": [
           {
            "marker": {
             "line": {
              "color": "#283442"
             }
            },
            "type": "scattergl"
           }
          ],
          "scattermap": [
           {
            "marker": {
             "colorbar": {
              "outlinewidth": 0,
              "ticks": ""
             }
            },
            "type": "scattermap"
           }
          ],
          "scattermapbox": [
           {
            "marker": {
             "colorbar": {
              "outlinewidth": 0,
              "ticks": ""
             }
            },
            "type": "scattermapbox"
           }
          ],
          "scatterpolar": [
           {
            "marker": {
             "colorbar": {
              "outlinewidth": 0,
              "ticks": ""
             }
            },
            "type": "scatterpolar"
           }
          ],
          "scatterpolargl": [
           {
            "marker": {
             "colorbar": {
              "outlinewidth": 0,
              "ticks": ""
             }
            },
            "type": "scatterpolargl"
           }
          ],
          "scatterternary": [
           {
            "marker": {
             "colorbar": {
              "outlinewidth": 0,
              "ticks": ""
             }
            },
            "type": "scatterternary"
           }
          ],
          "surface": [
           {
            "colorbar": {
             "outlinewidth": 0,
             "ticks": ""
            },
            "colorscale": [
             [
              0,
              "#0d0887"
             ],
             [
              0.1111111111111111,
              "#46039f"
             ],
             [
              0.2222222222222222,
              "#7201a8"
             ],
             [
              0.3333333333333333,
              "#9c179e"
             ],
             [
              0.4444444444444444,
              "#bd3786"
             ],
             [
              0.5555555555555556,
              "#d8576b"
             ],
             [
              0.6666666666666666,
              "#ed7953"
             ],
             [
              0.7777777777777778,
              "#fb9f3a"
             ],
             [
              0.8888888888888888,
              "#fdca26"
             ],
             [
              1,
              "#f0f921"
             ]
            ],
            "type": "surface"
           }
          ],
          "table": [
           {
            "cells": {
             "fill": {
              "color": "#506784"
             },
             "line": {
              "color": "rgb(17,17,17)"
             }
            },
            "header": {
             "fill": {
              "color": "#2a3f5f"
             },
             "line": {
              "color": "rgb(17,17,17)"
             }
            },
            "type": "table"
           }
          ]
         },
         "layout": {
          "annotationdefaults": {
           "arrowcolor": "#f2f5fa",
           "arrowhead": 0,
           "arrowwidth": 1
          },
          "autotypenumbers": "strict",
          "coloraxis": {
           "colorbar": {
            "outlinewidth": 0,
            "ticks": ""
           }
          },
          "colorscale": {
           "diverging": [
            [
             0,
             "#8e0152"
            ],
            [
             0.1,
             "#c51b7d"
            ],
            [
             0.2,
             "#de77ae"
            ],
            [
             0.3,
             "#f1b6da"
            ],
            [
             0.4,
             "#fde0ef"
            ],
            [
             0.5,
             "#f7f7f7"
            ],
            [
             0.6,
             "#e6f5d0"
            ],
            [
             0.7,
             "#b8e186"
            ],
            [
             0.8,
             "#7fbc41"
            ],
            [
             0.9,
             "#4d9221"
            ],
            [
             1,
             "#276419"
            ]
           ],
           "sequential": [
            [
             0,
             "#0d0887"
            ],
            [
             0.1111111111111111,
             "#46039f"
            ],
            [
             0.2222222222222222,
             "#7201a8"
            ],
            [
             0.3333333333333333,
             "#9c179e"
            ],
            [
             0.4444444444444444,
             "#bd3786"
            ],
            [
             0.5555555555555556,
             "#d8576b"
            ],
            [
             0.6666666666666666,
             "#ed7953"
            ],
            [
             0.7777777777777778,
             "#fb9f3a"
            ],
            [
             0.8888888888888888,
             "#fdca26"
            ],
            [
             1,
             "#f0f921"
            ]
           ],
           "sequentialminus": [
            [
             0,
             "#0d0887"
            ],
            [
             0.1111111111111111,
             "#46039f"
            ],
            [
             0.2222222222222222,
             "#7201a8"
            ],
            [
             0.3333333333333333,
             "#9c179e"
            ],
            [
             0.4444444444444444,
             "#bd3786"
            ],
            [
             0.5555555555555556,
             "#d8576b"
            ],
            [
             0.6666666666666666,
             "#ed7953"
            ],
            [
             0.7777777777777778,
             "#fb9f3a"
            ],
            [
             0.8888888888888888,
             "#fdca26"
            ],
            [
             1,
             "#f0f921"
            ]
           ]
          },
          "colorway": [
           "#636efa",
           "#EF553B",
           "#00cc96",
           "#ab63fa",
           "#FFA15A",
           "#19d3f3",
           "#FF6692",
           "#B6E880",
           "#FF97FF",
           "#FECB52"
          ],
          "font": {
           "color": "#f2f5fa"
          },
          "geo": {
           "bgcolor": "rgb(17,17,17)",
           "lakecolor": "rgb(17,17,17)",
           "landcolor": "rgb(17,17,17)",
           "showlakes": true,
           "showland": true,
           "subunitcolor": "#506784"
          },
          "hoverlabel": {
           "align": "left"
          },
          "hovermode": "closest",
          "mapbox": {
           "style": "dark"
          },
          "paper_bgcolor": "rgb(17,17,17)",
          "plot_bgcolor": "rgb(17,17,17)",
          "polar": {
           "angularaxis": {
            "gridcolor": "#506784",
            "linecolor": "#506784",
            "ticks": ""
           },
           "bgcolor": "rgb(17,17,17)",
           "radialaxis": {
            "gridcolor": "#506784",
            "linecolor": "#506784",
            "ticks": ""
           }
          },
          "scene": {
           "xaxis": {
            "backgroundcolor": "rgb(17,17,17)",
            "gridcolor": "#506784",
            "gridwidth": 2,
            "linecolor": "#506784",
            "showbackground": true,
            "ticks": "",
            "zerolinecolor": "#C8D4E3"
           },
           "yaxis": {
            "backgroundcolor": "rgb(17,17,17)",
            "gridcolor": "#506784",
            "gridwidth": 2,
            "linecolor": "#506784",
            "showbackground": true,
            "ticks": "",
            "zerolinecolor": "#C8D4E3"
           },
           "zaxis": {
            "backgroundcolor": "rgb(17,17,17)",
            "gridcolor": "#506784",
            "gridwidth": 2,
            "linecolor": "#506784",
            "showbackground": true,
            "ticks": "",
            "zerolinecolor": "#C8D4E3"
           }
          },
          "shapedefaults": {
           "line": {
            "color": "#f2f5fa"
           }
          },
          "sliderdefaults": {
           "bgcolor": "#C8D4E3",
           "bordercolor": "rgb(17,17,17)",
           "borderwidth": 1,
           "tickwidth": 0
          },
          "ternary": {
           "aaxis": {
            "gridcolor": "#506784",
            "linecolor": "#506784",
            "ticks": ""
           },
           "baxis": {
            "gridcolor": "#506784",
            "linecolor": "#506784",
            "ticks": ""
           },
           "bgcolor": "rgb(17,17,17)",
           "caxis": {
            "gridcolor": "#506784",
            "linecolor": "#506784",
            "ticks": ""
           }
          },
          "title": {
           "x": 0.05
          },
          "updatemenudefaults": {
           "bgcolor": "#506784",
           "borderwidth": 0
          },
          "xaxis": {
           "automargin": true,
           "gridcolor": "#283442",
           "linecolor": "#506784",
           "ticks": "",
           "title": {
            "standoff": 15
           },
           "zerolinecolor": "#283442",
           "zerolinewidth": 2
          },
          "yaxis": {
           "automargin": true,
           "gridcolor": "#283442",
           "linecolor": "#506784",
           "ticks": "",
           "title": {
            "standoff": 15
           },
           "zerolinecolor": "#283442",
           "zerolinewidth": 2
          }
         }
        }
       }
      }
     },
     "metadata": {},
     "output_type": "display_data"
    }
   ],
   "source": [
    "fig = go.Figure(\n",
    "  data=[\n",
    "    go.Scatter3d(\n",
    "      x=data.pos[:,0], y=data.pos[:,1], z=data.pos[:,2],\n",
    "      mode='markers',\n",
    "      marker=dict(size=1, color=\"white\"))],\n",
    "  layout=dict(\n",
    "    scene=dict(\n",
    "      xaxis=dict(visible=False),\n",
    "      yaxis=dict(visible=False),\n",
    "      zaxis=dict(visible=False))))\n",
    "\n",
    "fig.update_layout(template='plotly_dark')\n",
    "\n",
    "fig.show()"
   ]
  },
  {
   "cell_type": "code",
   "execution_count": 81,
   "metadata": {},
   "outputs": [
    {
     "data": {
      "text/plain": [
       "PointNetClassifier(\n",
       "  (backbone): PointNetBackbone(\n",
       "    (tnet1): Transformer(\n",
       "      (mlp): Sequential(\n",
       "        (0): Conv1d(3, 64, kernel_size=(1,), stride=(1,))\n",
       "        (1): ReLU()\n",
       "        (2): BatchNorm1d(64, eps=1e-05, momentum=0.1, affine=True, track_running_stats=True)\n",
       "        (3): Conv1d(64, 128, kernel_size=(1,), stride=(1,))\n",
       "        (4): ReLU()\n",
       "        (5): BatchNorm1d(128, eps=1e-05, momentum=0.1, affine=True, track_running_stats=True)\n",
       "        (6): Conv1d(128, 1024, kernel_size=(1,), stride=(1,))\n",
       "        (7): ReLU()\n",
       "        (8): BatchNorm1d(1024, eps=1e-05, momentum=0.1, affine=True, track_running_stats=True)\n",
       "      )\n",
       "      (fcl): Sequential(\n",
       "        (0): Linear(in_features=1024, out_features=512, bias=True)\n",
       "        (1): ReLU()\n",
       "        (2): BatchNorm1d(512, eps=1e-05, momentum=0.1, affine=True, track_running_stats=True)\n",
       "        (3): Linear(in_features=512, out_features=256, bias=True)\n",
       "        (4): ReLU()\n",
       "        (5): BatchNorm1d(256, eps=1e-05, momentum=0.1, affine=True, track_running_stats=True)\n",
       "        (6): Linear(in_features=256, out_features=9, bias=True)\n",
       "      )\n",
       "    )\n",
       "    (mlp1): Sequential(\n",
       "      (0): Conv1d(3, 64, kernel_size=(1,), stride=(1,))\n",
       "      (1): ReLU()\n",
       "      (2): BatchNorm1d(64, eps=1e-05, momentum=0.1, affine=True, track_running_stats=True)\n",
       "      (3): Conv1d(64, 64, kernel_size=(1,), stride=(1,))\n",
       "      (4): ReLU()\n",
       "      (5): BatchNorm1d(64, eps=1e-05, momentum=0.1, affine=True, track_running_stats=True)\n",
       "    )\n",
       "    (tnet2): Transformer(\n",
       "      (mlp): Sequential(\n",
       "        (0): Conv1d(64, 64, kernel_size=(1,), stride=(1,))\n",
       "        (1): ReLU()\n",
       "        (2): BatchNorm1d(64, eps=1e-05, momentum=0.1, affine=True, track_running_stats=True)\n",
       "        (3): Conv1d(64, 128, kernel_size=(1,), stride=(1,))\n",
       "        (4): ReLU()\n",
       "        (5): BatchNorm1d(128, eps=1e-05, momentum=0.1, affine=True, track_running_stats=True)\n",
       "        (6): Conv1d(128, 1024, kernel_size=(1,), stride=(1,))\n",
       "        (7): ReLU()\n",
       "        (8): BatchNorm1d(1024, eps=1e-05, momentum=0.1, affine=True, track_running_stats=True)\n",
       "      )\n",
       "      (fcl): Sequential(\n",
       "        (0): Linear(in_features=1024, out_features=512, bias=True)\n",
       "        (1): ReLU()\n",
       "        (2): BatchNorm1d(512, eps=1e-05, momentum=0.1, affine=True, track_running_stats=True)\n",
       "        (3): Linear(in_features=512, out_features=256, bias=True)\n",
       "        (4): ReLU()\n",
       "        (5): BatchNorm1d(256, eps=1e-05, momentum=0.1, affine=True, track_running_stats=True)\n",
       "        (6): Linear(in_features=256, out_features=4096, bias=True)\n",
       "      )\n",
       "    )\n",
       "    (mlp2): Sequential(\n",
       "      (0): Conv1d(64, 64, kernel_size=(1,), stride=(1,))\n",
       "      (1): ReLU()\n",
       "      (2): BatchNorm1d(64, eps=1e-05, momentum=0.1, affine=True, track_running_stats=True)\n",
       "      (3): Conv1d(64, 128, kernel_size=(1,), stride=(1,))\n",
       "      (4): ReLU()\n",
       "      (5): BatchNorm1d(128, eps=1e-05, momentum=0.1, affine=True, track_running_stats=True)\n",
       "      (6): Conv1d(128, 1024, kernel_size=(1,), stride=(1,))\n",
       "      (7): ReLU()\n",
       "      (8): BatchNorm1d(1024, eps=1e-05, momentum=0.1, affine=True, track_running_stats=True)\n",
       "    )\n",
       "  )\n",
       "  (classification_head): Sequential(\n",
       "    (0): Linear(in_features=1024, out_features=512, bias=True)\n",
       "    (1): BatchNorm1d(512, eps=1e-05, momentum=0.1, affine=True, track_running_stats=True)\n",
       "    (2): ReLU()\n",
       "    (3): Linear(in_features=512, out_features=256, bias=True)\n",
       "    (4): BatchNorm1d(256, eps=1e-05, momentum=0.1, affine=True, track_running_stats=True)\n",
       "    (5): ReLU()\n",
       "    (6): Dropout(p=0.3, inplace=False)\n",
       "    (7): Linear(in_features=256, out_features=40, bias=True)\n",
       "  )\n",
       ")"
      ]
     },
     "execution_count": 81,
     "metadata": {},
     "output_type": "execute_result"
    }
   ],
   "source": [
    "pointnet = PointNetClassifier(num_classes=40)\n",
    "pointnet.to(device)\n",
    "\n",
    "# rotate object around z-axis\n",
    "# apply guassian noise to each point, mean 0 std deviation 0.002"
   ]
  },
  {
   "cell_type": "code",
   "execution_count": 82,
   "metadata": {},
   "outputs": [
    {
     "name": "stdout",
     "output_type": "stream",
     "text": [
      "torch.Size([10, 64, 64])\n",
      "torch.Size([10, 40])\n"
     ]
    }
   ],
   "source": [
    "pointnet.train()\n",
    "\n",
    "test_data = torch.rand(10, 3, num_points).to(device)\n",
    "output, A = pointnet(test_data)\n",
    "print(A.shape)\n",
    "print(output.shape)"
   ]
  },
  {
   "cell_type": "code",
   "execution_count": 8,
   "metadata": {},
   "outputs": [],
   "source": [
    "num_epochs = 50\n",
    "learning_rate = 0.0001\n",
    "reg_weight = 0.001\n",
    "\n",
    "optimizer = optim.Adam(pointnet.parameters(), lr=learning_rate)\n",
    "scheduler = torch.optim.lr_scheduler.CyclicLR(optimizer, base_lr=0.0001, max_lr=0.001, \n",
    "                                              step_size_up=2000, cycle_momentum=False)\n",
    "\n",
    "criterion = PointNetClassificationLoss(reg_weight=reg_weight).to(device)"
   ]
  },
  {
   "cell_type": "code",
   "execution_count": 83,
   "metadata": {},
   "outputs": [
    {
     "data": {
      "text/plain": [
       "<All keys matched successfully>"
      ]
     },
     "execution_count": 83,
     "metadata": {},
     "output_type": "execute_result"
    }
   ],
   "source": [
    "checkpoint = torch.load(\"pointnet_modelnet40.pth\")\n",
    "pointnet.load_state_dict(checkpoint['model_state_dict'])"
   ]
  },
  {
   "cell_type": "code",
   "execution_count": 9,
   "metadata": {},
   "outputs": [
    {
     "name": "stdout",
     "output_type": "stream",
     "text": [
      "2025-03-05 00:39:30.791853   [Epoch   0]  Loss:    3.316  Accuracy:      24.88%\n",
      "2025-03-05 00:40:27.214408   [Epoch   1]  Loss:    2.398  Accuracy:      38.21%\n",
      "2025-03-05 00:41:23.821786   [Epoch   2]  Loss:     1.98  Accuracy:      47.16%\n",
      "2025-03-05 00:42:20.551162   [Epoch   3]  Loss:    1.698  Accuracy:       53.2%\n",
      "2025-03-05 00:43:17.495072   [Epoch   4]  Loss:    1.523  Accuracy:       59.4%\n",
      "2025-03-05 00:44:14.215230   [Epoch   5]  Loss:    1.412  Accuracy:      59.81%\n",
      "2025-03-05 00:45:10.971817   [Epoch   6]  Loss:    1.253  Accuracy:      59.89%\n",
      "2025-03-05 00:46:07.847645   [Epoch   7]  Loss:    1.172  Accuracy:      59.28%\n",
      "2025-03-05 00:47:04.528796   [Epoch   8]  Loss:    1.156  Accuracy:      49.23%\n",
      "2025-03-05 00:48:01.280493   [Epoch   9]  Loss:    1.133  Accuracy:      60.09%\n",
      "2025-03-05 00:48:58.082312   [Epoch  10]  Loss:    1.036  Accuracy:      63.33%\n",
      "2025-03-05 00:49:55.552840   [Epoch  11]  Loss:    1.023  Accuracy:      69.89%\n",
      "2025-03-05 00:50:52.406648   [Epoch  12]  Loss:   0.9927  Accuracy:      66.73%\n",
      "2025-03-05 00:51:49.454870   [Epoch  13]  Loss:    0.927  Accuracy:      68.96%\n",
      "2025-03-05 00:52:46.549367   [Epoch  14]  Loss:   0.8654  Accuracy:      71.31%\n",
      "2025-03-05 00:53:43.539364   [Epoch  15]  Loss:   0.7719  Accuracy:      71.35%\n",
      "2025-03-05 00:54:40.542114   [Epoch  16]  Loss:    0.733  Accuracy:       76.5%\n",
      "2025-03-05 00:55:37.651075   [Epoch  17]  Loss:   0.6827  Accuracy:      77.39%\n",
      "2025-03-05 00:56:34.904224   [Epoch  18]  Loss:   0.6212  Accuracy:      77.96%\n",
      "2025-03-05 00:57:31.869912   [Epoch  19]  Loss:   0.5592  Accuracy:      78.48%\n",
      "2025-03-05 00:58:28.780453   [Epoch  20]  Loss:   0.5599  Accuracy:      75.93%\n",
      "2025-03-05 00:59:25.776507   [Epoch  21]  Loss:   0.5205  Accuracy:      79.21%\n",
      "2025-03-05 01:00:22.649445   [Epoch  22]  Loss:   0.4506  Accuracy:      82.46%\n",
      "2025-03-05 01:01:19.730391   [Epoch  23]  Loss:   0.3908  Accuracy:      82.74%\n",
      "2025-03-05 01:02:16.943769   [Epoch  24]  Loss:   0.3505  Accuracy:      83.39%\n",
      "2025-03-05 01:03:14.079324   [Epoch  25]  Loss:   0.3242  Accuracy:      84.48%\n",
      "2025-03-05 01:04:11.127085   [Epoch  26]  Loss:   0.3096  Accuracy:      83.83%\n",
      "2025-03-05 01:05:08.029264   [Epoch  27]  Loss:   0.3936  Accuracy:      79.29%\n",
      "2025-03-05 01:06:04.962032   [Epoch  28]  Loss:   0.4199  Accuracy:      79.25%\n",
      "2025-03-05 01:07:01.946651   [Epoch  29]  Loss:   0.4175  Accuracy:       81.4%\n",
      "2025-03-05 01:07:59.046011   [Epoch  30]  Loss:   0.4388  Accuracy:      77.59%\n",
      "2025-03-05 01:08:56.036530   [Epoch  31]  Loss:   0.4675  Accuracy:      78.61%\n",
      "2025-03-05 01:09:52.888461   [Epoch  32]  Loss:   0.5039  Accuracy:      78.08%\n",
      "2025-03-05 01:10:50.003321   [Epoch  33]  Loss:   0.5598  Accuracy:       76.3%\n",
      "2025-03-05 01:11:47.118032   [Epoch  34]  Loss:   0.5564  Accuracy:      74.64%\n",
      "2025-03-05 01:12:45.192053   [Epoch  35]  Loss:   0.5914  Accuracy:      70.99%\n",
      "2025-03-05 01:13:43.024929   [Epoch  36]  Loss:   0.5967  Accuracy:      74.96%\n",
      "2025-03-05 01:14:41.268726   [Epoch  37]  Loss:   0.5649  Accuracy:      77.07%\n",
      "2025-03-05 01:15:39.185580   [Epoch  38]  Loss:   0.5872  Accuracy:      74.55%\n",
      "2025-03-05 01:16:37.589464   [Epoch  39]  Loss:   0.5542  Accuracy:      47.85%\n",
      "2025-03-05 01:17:35.466916   [Epoch  40]  Loss:   0.5062  Accuracy:      80.79%\n",
      "2025-03-05 01:18:33.617861   [Epoch  41]  Loss:   0.4487  Accuracy:      79.66%\n",
      "2025-03-05 01:19:32.132687   [Epoch  42]  Loss:   0.4276  Accuracy:      80.27%\n",
      "2025-03-05 01:20:29.912716   [Epoch  43]  Loss:   0.3772  Accuracy:      79.94%\n",
      "2025-03-05 01:21:28.769113   [Epoch  44]  Loss:   0.3991  Accuracy:      77.71%\n",
      "2025-03-05 01:22:26.807482   [Epoch  45]  Loss:   0.3456  Accuracy:      82.25%\n",
      "2025-03-05 01:23:24.886424   [Epoch  46]  Loss:   0.2967  Accuracy:      82.62%\n",
      "2025-03-05 01:24:22.754179   [Epoch  47]  Loss:   0.2568  Accuracy:      83.63%\n",
      "2025-03-05 01:25:20.610699   [Epoch  48]  Loss:   0.2315  Accuracy:      84.08%\n",
      "2025-03-05 01:26:18.377195   [Epoch  49]  Loss:   0.2148  Accuracy:      85.09%\n"
     ]
    }
   ],
   "source": [
    "directory = \"./pointnet_modelnet40\"\n",
    "os.makedirs(directory, exist_ok=True)\n",
    "\n",
    "for epoch in range(num_epochs):\n",
    "\n",
    "    accuracy = 0\n",
    "    loss_avg = 0\n",
    "    count = 0\n",
    "\n",
    "    pointnet.train()\n",
    "    for data in trainloader:\n",
    "\n",
    "        clouds = data.pos.view(data.batch[-1]+1, num_points, 3)\n",
    "        clouds = clouds.transpose(2, 1).to(device)\n",
    "\n",
    "        labels = data.y.to(device)\n",
    "\n",
    "        optimizer.zero_grad()\n",
    "\n",
    "        outputs, A = pointnet(clouds)\n",
    "        loss = criterion(outputs, labels, A)\n",
    "        loss.backward()\n",
    "        optimizer.step()\n",
    "        scheduler.step()\n",
    "\n",
    "        loss_avg += loss.item()\n",
    "        count += 1\n",
    "    \n",
    "    loss_avg = loss_avg/count\n",
    "    \n",
    "    pointnet.eval()\n",
    "    with torch.no_grad():\n",
    "        correct = 0\n",
    "        total = 0\n",
    "        for data in testloader:\n",
    "            \n",
    "            clouds = data.pos.view(data.batch[-1]+1, num_points, 3)\n",
    "            clouds = clouds.transpose(2,1).to(device)\n",
    "\n",
    "            labels = data.y.to(device)\n",
    "            \n",
    "            outputs, _ = pointnet(clouds)\n",
    "\n",
    "            _, predicted = torch.max(outputs.data, 1)\n",
    "            total += labels.size(0)\n",
    "            correct += (predicted == labels).sum().item()\n",
    "\n",
    "        accuracy = correct/total\n",
    "    \n",
    "    print(\"{}   [Epoch {:3}]  Loss: {:8.4}  Accuracy:   {:8.4}%\".format(datetime.datetime.now(), epoch, loss_avg, 100*accuracy))\n",
    "\n",
    "    torch.save(\n",
    "        {'model_state_dict': pointnet.state_dict()},\n",
    "        directory + \"/epoch_\" + str(epoch) + \".pth\")"
   ]
  },
  {
   "cell_type": "code",
   "execution_count": 84,
   "metadata": {},
   "outputs": [
    {
     "name": "stdout",
     "output_type": "stream",
     "text": [
      "2025-03-05 11:46:09.989012   Accuracy:      88.09%\n"
     ]
    }
   ],
   "source": [
    "pointnet.eval()\n",
    "\n",
    "with torch.no_grad():\n",
    "    correct = 0\n",
    "    total = 0\n",
    "    for data in testloader:\n",
    "        \n",
    "        clouds = data.pos.view(data.batch[-1]+1, num_points, 3)\n",
    "        clouds = clouds.transpose(2, 1).to(device)\n",
    "\n",
    "        labels = data.y.to(device)\n",
    "            \n",
    "        outputs, _ = pointnet(clouds)\n",
    "\n",
    "        _, predicted = torch.max(outputs.data, 1)\n",
    "        total += labels.size(0)\n",
    "        correct += (predicted == labels).sum().item()\n",
    "    \n",
    "    accuracy = correct/total\n",
    "\n",
    "    print(\"{}   Accuracy:   {:8.4}%\".format(datetime.datetime.now(), 100*accuracy))"
   ]
  },
  {
   "cell_type": "code",
   "execution_count": 127,
   "metadata": {},
   "outputs": [
    {
     "name": "stdout",
     "output_type": "stream",
     "text": [
      "Predicted Class: piano    Certainty:    99.97   Actual Class:   piano\n"
     ]
    },
    {
     "data": {
      "application/vnd.plotly.v1+json": {
       "config": {
        "plotlyServerURL": "https://plot.ly"
       },
       "data": [
        {
         "marker": {
          "color": "white",
          "size": 1
         },
         "mode": "markers",
         "type": "scatter3d",
         "x": {
          "bdata": "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",
          "dtype": "f4"
         },
         "y": {
          "bdata": "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",
          "dtype": "f4"
         },
         "z": {
          "bdata": "qbnJvQOmNz3J5Ei/1iFAPrZGLz077KQ8jCMYPzhaT74mlyS/kFuSPAEBS77Ej1O+fmMLvLFzDT2baYm9SZPWPrq9Or+1mbq+phDGvVEFlzxzTqe9i+Mcv3gr9D5g+OM+5PbzPPAdhL5JvF6/KUs3PfvFx7xUvI89UQWXPCr9Uz0L3IA+kFuSPEyLRb/WN7s+TZw9v5BbkjxrOyA+UQWXPPNbKr80uM08kFuSPJBbkjyQW5I8hZ8VPfjzJL+oCLs9ugQkvnyIFT1d6ma+S4/9vLf4XL2Yiek+ElkXP64Wcj47Ueu8vW8ePcRUdDutjwU/1SDWPp1KCz0T5Fe/ugQkvvpRpr0ACf69TJYRPdvVn73+PSG+mzJmPpBbkjzwfZI9kFuSPIZUT7+6V1u/lifPProEJL5mJzg+W0l2vreEQb+UjNS9McUrv1EFlzw2kgo/kFuSPFEFlzyQW5I8KUs3PRJZFz8gBDA+kFuSPJBbkjyA3c48r2l9vlLz1T5NU6k+HVxCv7KLXj3wmzS/UYMhPSlLNz00O6s8tVCAvVTHQT7Qr3C+UQWXPBt2Eb/zCyW/U6Vuv8sfQ7+rZcE+kFuSPFQZ1D5RBZc84UaWPlgovD4SWRc/UQWXPBJZFz8pnNQ+ugQkvhJZFz8COxU/sNFxv/AdhL7wHYS+kFuSPLoEJL6QW5I8Ox60vCJ7ab99LMg9r24jPSCOSr9i6yo+UBjXvFEFlzz8Pfk9VUcsvwsiXj6QW5I8UQWXPJBbkjzcHHk+V1j3PuH7Ir7d8zO/UQWXPL6OsD0XlGi+oxa9PVEFlzySRv88KUs3PQtmTb+a4JM+hVXsPJEY8D4sJma/RTXmvcdHMz6QW5I8ZxD6PoFNH7+6BCS+XmLUPRuTIL/ohFw+E/mePZBbkjzwHYS+n6tXvT5PT7xnt+Q+UQWXPJBbkjzufws/lXYNvroEJL4tNQ2+R2pbvpBbkjwpSzc9IL60PBJZFz9UQ5s86IMTv7rCgr66BCS+HzJ1PpBbkjzwHYS+3kVRvssnhz7wHYS+ElkXP1kXCj9RBZc8kFuSPO6hCT0pSzc9dWgGPm32ND441FC/BumYPpBbkjzwHYS+vaH1Pk7MzjyknEM+8I3tPvAdhL6Kkoc9a2qhvf9iDz/v3Ek+r77gPDSmOzyppgo/h6BEv7TEBT1gkK88f8D6vO8RKL9qIJQ9ugQkvgOmNz26BCS+8B2EviwaPb9FzZS9ugQkvuB9Xr94MAy+G3YRvxpCBz+RRiK9KUs3PZBbkjz3gAM/ElkXP9mZAL5NHdI+KUs3PboEJL4AvrS999kAO5GXNz5lcOE88gTVu//VwjzdhPo+xdkIPca3G75k7+29cGyRPtRb8Dxz7sQ6ElkXPxJZFz/53Km7RvYfvylLNz0ajyq/UQWXPJxLiD4rvcw80BmFProEJL6QW5I8H1MGPmimTr3dAQA/k8Y2v/nA0T6QW5I8zeUPP/trvjyh+AM/ElkXPwOmNz1XrKM+SxwxPfLsVr96zV2/sA1evzAZjz7E5KM+kFuSPGn0H7/lnAC+UQWXPH5CM72QW5I8k7YLP5BbkjxRBZc8UQWXPLANXr+izL48UQWXPHymUb+4pcY+kFuSPAOmNz0GjhA8ZtPPPiJ7ab/7ZXs+ElkXP21Qa77SfGQ9kFuSPLGKBj66BCS+kFuSPJBbkjzwHYS+jUQPPvAdhL4ie2m/Ht1Nv1EFlzxBwzM+ECQjv2pdM78T9Nc88PkuvyQ0Fz/wHYS+3ydrv2vehb2ArzE+bpIWP8T0Zb8tuk+/T6Usv8mCRL+hzy6/mesKPxDyub1RBZc8ugQkvt12Yr+wDV6/dacNP5HjGL82qGq+1r/JvvvXH70vPgk93Ai1PlEFlzz+vly/zJU9vydR2zwpSzc9KUs3PZBbkjz0oTe/8B2Evjg18D0IQ2k+pw06Pc15+D4gFt8+ugQkvm8O2r2QW5I84VgnPZBFsz1YlWC/L6pHv7dqn72QW5I8mwBhv2twFz1RBZc8iLqcPnJglz66BCS+ugQkvjX3z74SWRc/a+Jevg8tLb86uJ08UQWXPBt2Eb8SWRc/rXRRv5BbkjyQW5I8lU0JP82wgz5NWnk+ugQkvqW3DD1RBZc8wiAUP/yZXL17H2e/u+Rkv9QEtj0pSzc9kFuSPHrEPL+L4xy/eZNivQzpUL8pSzc9WhSsvSitYL8Dpjc9UQWXPJBbkjyaubk8pCg/v1EFlzwaIp0+aFzRvXu8GT5RBZc8UQWXPK3wgr1Ro9I++HAyvroEJL6ZUfU+KUs3Pf/gxTxARyE9ApAvPilLNz1RBZc8msz0PUO1KL+6BCS+mj4wvboEJL5RBZc8XUlFv5oyk74TXmw+UQWXPGVJJb+QW5I8nD3oPilLNz2WfwQ+Intpv/AdhL6QW5I8R8yePhMoAT9qVz2/KUs3Pcw0BD8Dpjc9JDQXP5BbkjyQW5I8txwMv7mfCT9RBZc8n+wtvwthHr8M+Qw/b3T/vbN3ZT0L7EO/frPzPboEJL66BCS+8B2EvhJZFz8of7i9ugQkvpBbkjxCzMK9Txl4PtSqJ79n+hK/ElkXP5BbkjwAhm29pRekPYcdgb7wHYS+CSxLv+w1NL+Jii2/lLUav7oEJL4Dpjc9nTomPboEJL4kNBc/4NgxPpHshT7wEBS+pF6aPhY/fz5rtpA+FCVBPilLNz1L3CA9PMbZPKl0Xr9xP9w+1KECv7oEJL4Iv4c99sRLPnYbSb/zCyW/vQurPa5FYL6V1ja/yaRWv2Kxrb7geQE/g524PhMBV7+wDV6/GSXbvLoEJL6QW5I8LwJGvxpa0D6L4Cs9UQWXPH2WW70RPKs9FvyNPvHPBj8kNBc/KUs3PdvSWb+PpD49bqEkv+Gy1z6ol3C98B2EvlZO6z3wHYS+fHMqvn9Ugz5RBZc8dS2EPIg3Oz0+Z9K89Hl7PkDNG7+6BCS+kFuSPGwFCD8zIS+/iXomv5wMNL4pSzc9kFuSPOarsL6wDV6/UATSPAOmNz0Dpjc9MicxPZBbkjyQW5I8kFuSPLoEJL66BCS+p3sWviBiH79RBZc8b9akPpBbkjyQW5I8ElkXPzAjCz6yZ2s9Hk/jPk4w2b4pSzc984oBP9Ynwz2QW5I8kFuSPBt2Eb/34li/8B2EvmEMI7+O5Ts+8B2EvroEJL5yFgs/A6Y3Pe42B75pJ9q9KUs3PdoekrsrY5I+ugQkviJ7ab/2xY89kFuSPClLNz1yUSG/75xavzMPwD5VNqa8+PpovroEJL49vY4+kFuSPINRez6Edj4+u0vEPU1EKb+QW5I8ElkXP/AdhL66BCS+ugQkvjKKEj2Lljm+VxDYPkSQLL7FOhQ+HiwavilLNz3xMFC/A6Y3PRJZFz8IwfM+KWACP3hwNz5dnKc+XFoQPzW2XD5RBZc8KUs3PX1uLb9guZs+NYC4Pa4TLD0c0Q0+kFuSPHi/pT4ie2m/jSNOv1EFlzyvOkg+ugQkvocTZb+QW5I8xygoPpBbkjy6BCS+XnLNPrjOOr4bdhG/DKnOvW3rSL/wHYS+lZgMPnbhkrvsIVm/Nd2OPs0sND7Uyrc9CkqXPlza2z5Rbgs/1o4KvoGzdT6YNwe+KUs3PQmc8z3sxhG+t2cgvYWEMr5aGy2+Z6m+vnqVF772wJO7KUs3PT/AgL56IPY8930QPyJ7ab92XyQ9TNiDvilLNz2lews9qAbOvbVaK7+QW5I8ugQkvht2Eb/zvFs+sa3SPPOEIr6Iw0u/UQWXPLoEJL4zP8Y6JDQXP3ZBUj0xj+g9PpWXveIyDT+1e5k8UQWXPClLNz26bz4++vgVvfG5XLxLJSi9KUs3PboEJL66BCS+8bZXv5BbkjyQW5I8uYOUPpBbkjzwHYS+G3YRv5aCSj4GBxM+sA1ev32mIL8t6IY+R3Jivwq5N77m88s+FlvYPgOmNz2QW5I8kFuSPNGY5zxRBZc8Rm0AvjaII7+QW5I8rxJIvhJZFz9hkf4+KUs3PXOfvDyciZO9UQWXPPAdhL7ig5E+gzQIPl9DDL1RBZc8az2WPjUTBj+sm16/wvEQPdOp8zwwiKE+kFuSPBJZFz9RBZc8ySRjPdchlD6nhGO9vqLXPVNOCD3aJmy/TfWFvXttQT6NgIO+kFuSPF2yb79qWla+G3YRv2q2Jz5uoSS/kFuSPFwPK79ZR58+pWlCPpBbkjyldHO/2uEsPthrGr/5rNU8EiZav+gKPL/q3Rm+ugQkvroEJL5RvqG8ynwTv0w0Wj6tWSu/sxUuv99IWT5midA+sA1ev7mIUb9RBZc8CDo9PpBbkjwhHC+/GBIdPUmSGj0SWRc/rRcKP9labD5RBZc8RvFSv84rwj6QW5I8KUs3PboEJL6BJ4Q+KUs3PeU8CT8pSzc9kFuSPOJAZ72QW5I8lAmiPtwtNz2QW5I8UQWXPMhjYb52VJg+NRMGPyQ0Fz+HIza+SB4LPxS/NT5iOLE+NM71vke4BT2QW5I8kFuSPG/ULL/AYHc+Hhp8Pp6xDr59Wz4+ifrGPilLNz3R026+p+A6v5BbkjyQW5I8PZIUP5Bbkjy6BCS+sA1ev1EFlzyQW5I8yD/xPZBbkjyQW5I8KBkWv53Ygb4DQ6k8EWSdPpBbkjxLYpY+aZo/PSlLNz0SWRc/JDilvhP1kj1RBZc8kFuSPIvjHL8tIJy91DoYv1hfFD6nqFw96jsQvmSXt726BCS+oaK8vmW6Q750coo9J00LvwOmNz3kdss8DjWaPvAdhL5RBZc8DjomvlEFlzxFyDI+ynF9Ph2M+T6QW5I8ElkXPzqGBz7bp8q9Bh8aPoUDIb9RBZc8ucxUv+CUSL6QW5I8EHQxPZBbkjwGas4+Cw2aPS3gSb2A/d89wEz5PAOmNz2tjAg9hFNxPhavFr9w8nQ+OuYlvroEJL4gYCG/wJRivs4uDj+6BCS+klJWv7oEJL4Y2Tm/OnxTvylLNz1RBZc86uQKP/rwKL4vi7C9rUwXvtzAhj6SqE0+Nko5PgQNFr7XjgS//XzYvfAdhL4kNBc/kFuSPJX8Mr+WVz+/yjQxvjeJKT0pEJE+2ySzPObAUb+UgJ0+8YBaPYycvT4pc4s+9cOJvMacGb/nmk2/jB0VP3OlnD1DuB493gRKv7d6DD/Ls7c+cz1MvznaCT+lRxC+KUs3PQOYmT6QW5I8kFuSPJwsgL6QW5I8Mvkev5Bbkjw5MVe/ylRdPen+Mj2DDwk/fTJIvbOmUb/jyN0+SoB2vmzkYL/OfCK/5dsiv6GgvD0Wma8+iOdmvyxtLj1GqNE+/oUtv72QkT0ie8k8kFuSPO7K0T40Jg2+CrFUvp97CD+QHW+9ElkXP1EFlzy6BCS+m5vGvO1jpj5oauu+ILd0PEEmUb/ggmO+98A6vYvjHL81AVe/TVS2PIAKDD5uusE+iDBYv+LlF7+OqdY+m5RKPilLNz3oHvU+fRNFvlEFlzydALE8Intpv/6DVj6QW5I8QmP2PKkror2QW5I8r0M1Pk8jab91DN4+mWn8PYEC/b2ruD0+SPJSPTBBmT4xRFG+AC/UvaNSDT7kPA8/dBDsPrCdEj/m9yI9StzAvvAdhL4UACY9KUs3PSNLnTzrAmG/UQWXPLoEJL4bVOU9v0VNvovYG74wI/i8+TBLvRhY8L36nyC/2Gwdv2W6Q75crvY9ElkXP5BbkjwpSzc9kFuSPAppdD5PIg0/UQWXPMj+aD4tL0e+2ONPPbv9IL8Dpjc94L8avrANXr/4dSS/sA1ev7r4cT5lukO+JDQXPx4TSb/QkyO/+u4TvgUlQb9vsUG+ugQkvi/GgL5/oiy/aXghPnGSfT5do4c+CIYjv3nCpr1lukO+RJlYvxH/Hr+k3DS/XEL3PRt2Eb+QW5I8btaZPh9oJj4pSzc9sXksv5BbkjxlukO+kFuSPCneVz42x8Y8eIkuv5BbkjwDpjc9wMzcPcL4Lb/QQS+/S7D+PuZrED0tGmU9E0xrv/AdhL5Sauw+5YwSPboEJL7Lbp4+UQWXPIpUXL+CTE+/+mQavznPgD1s1l2/81XnvTcP+jxdeug8ioZKv7oEJL5Z79I+KUs3PRJZFz9RBZc8h5HJPqgHCD2eBS09ElkXP7oEJL6wva89ugQkvpBbkjwb0qO9vHRWvzZnrT6AeBE85bapPnUCfj0PDt8+QXvbPH6q5735lgE/VFiHvvAdhL6QW5I8p3irPZG79T4DfoE+kFuSPAOmNz0pSzc9klyWvuTTIj66BCS+AoMRPv5ALr/3AV++WIC6PiQ0Fz9RBZc8Intpv+d8ub3dQhq/kFuSPBJZFz+OVRc/ElkXP5BbkjzsvJO+UQWXPLoEJL5gFxe/kFuSPJBbkjzv3Xo+iyYPP5+L+D7D6he/kFuSPM9rbb97584+ugQkvqAD7T6QW5I8kFuSPClLNz1RBZc8ElkXPylLNz2QW5I8KUs3PSLpO7/6zBU/8B2Evo/6DT8kNBc/x2pdvofL9Dy3/Dq+LfQDvt2l3j1P7aO952pxv/Y0U79KejU+CDAZvmaBVb6JDIi9yxpAPpBbkjzuAOU+UQWXPCLF+70AkFQ9zV9Jv5BbkjzNdrI9yydXPvFjtD6qKNA+e0F8PrezIL+6BCS+9uMpv1EFlzw1EwY/++Ekv5BbkjwpSzc9ZbpDvlEFlzz5q6W9wm+UvVEFlzw9jIK+kFuSPDq3Fz5X7eQ+ugQkvqDNub3BUts88B2Evv7UOb+1Bhi/xZWaProEJL5RBZc81guQvFtreD5VJHK/XvppPe3ZxD2LFT+/gkZpv5t6Zz2agIQ+xWQuvyeDRr+QW5I8HHCZPs46UjxRBZc8dKgiPilLNz2Mlhg9VkeaPrtuHb9iCl2/e5CIvbh88DuQW5I8VkiUveHW+r3wHYS+NHNhPVEFlzwSWRc/2TgxPVEFlzx4864+iRp3ProEJL5O7B89mAiyOuMY/T1lYSk9kFuSPMB2V77U8uo8jLsRvrANXr8oUmg+jwluvroEJL6QW5I8ta/vPBJZFz/b4CK/xCACPwH+jD4Dpjc9ElkXP6wBmj6QW5I8ugQkvgOmNz2zty49ugQkvi9WoD4CM2G/G3YRv0JyVr1RBZc8p9qAvZclT79RBZc8CDgOP1EFlzyL4xy/KUs3PbtHyz54tec8WqsPvp65Nr66BCS+lGlAv1ANbL4KaQY/ugQkvvkAyD7aqzK+SILhPmTIdL7WIYq9e2u/PiQdhj7hCMC+ZjKEvf4nIr8SWRc/s/ACP5BbkjyQW5I8UQWXPIvjHL+QW5I8UQWXPLoEJL5+OwM/ugQkvolzK79Zw0C/G3YRv9FySL/DWUm9HUFbv1EFlzyB1b09yas5v2/SPb9RBZc80TfnPHVAoz2L4xy/l1EfPG4jVb2QW5I8a6+CvroEJL5UoCK/8wslv5bAGz26BCS+McRQv1EFlzw2BTm+aaWDPhJZFz/VDkK/s2X3vboEJL7sjN89MXQNvhJZFz9+n9e8ElkXP7oEJL5rL7o8sh9XPYAP2T4PWiM9ugQkvmUmozxRBZc8NTh4vpBbkjyQW5I89Ou4uqdNIb7rGgA/8XJdPhk3Xr+zHvw+BhY0ProEJL4YV4o9whsUvtVDCj531f89U9AAPYbFmDuQW5I8kqm2Po/uED9EHa+8r6FJvpBbkjzVk/Y+A6Y3PWIBkD7UYQg/CYhwvYa4Ub+6BCS+A6Y3PSlLNz3wHYS+m54nPVEFlzybMuY+9KJev5XZHr0SWRc//j3OPLoEJL5MPU08UQWXPOBLG7/Dpki847+MPkX7rr1hGPc86qabPboEJL4GTq4+4BbjvrEIWT4qAFK//5Ypv4RBvz7vUAg/c1L9vFTgIL8ie2m/gewgvxjJlT54FCw9ugQkvsxtvz4sROG+s33CPgidub1+hn09N9Arv2nG4Twj+CS/ElkXP7XkBD7v0NY+kFuSPFEFlzwCKdQ9cGXOveDZET+QW5I8UQWXPGTrY7+QW5I8ugQkvjmTLz1GPZy8UQWXPPAdhL5uoSS/sA1ev5m7XT1CeGi/TlxXv338Zb+1VV+9XlPYPgOmNz3tD9c8UQWXPJAWcTu6BCS+ugQkvoMPSr/lPXU+dGtaviI3mz4hweu9WcpNPugT7z7k+Nk9J30MPSQ0Fz+RE9g+Bd9Wv/AdhL5k1DO/1ipAvwzUMj3zhcE9aQ4rv3ZKOT6n3Ws9Mu3wProEJL7mGUA+MosSv+6aWr+QW5I86wgQP3SSMju6BCS+d5FHvylLNz1Qwfa8fA4cvwN+iD7QkFW/8B2EvjjXmr1BGrS93GtBvilLNz2BoOM++L4BP1xgrjyWQhA+N8EoPjoTLT2QW5I8ugQkvgm45j5O9BC/KUs3PfSxRz26BCS+ZbpDvpBbkjxizPo99HUQPjz7LT7WaL+9/0gnv1rCbb8pSzc98B2EvvHqkL5RBZc8vcFCv2+pZr9OexW/RPRmvylLNz3wHYS+cHiQvTzoRb7wHYS+kFuSPFEFlzyQW5I80pmZvRFlID1OsTG/A634Pni8HD9RBZc8A6Y3PYQu7DwDpjc9A6Y3PZBbkjy6BCS+OpIxvpyWjT5RBZc8oBsIPTrYGr4pSzc9D4ZQv5Bbkjzbq6G+ugQkvpBbkjwcckk+kFuSPHEGFL8u+j2/5quWPY7iWr8kNBc/jgHiPmqKpD703rK6ugQkvlfeDz2L4xy/ugQkvvZwGD6QW5I8UQWXPBawGzyQW5I8wVxSvq6f9r43s4a7NvDSvVuHnDw5h8c8QdNtv7Ezor6LmSG/ch5YPlEFlzxRBZc8kFuSPEbvJD0+xBa/A6Y3PSD5Aj8pSzc97VLivTQrHb+QW5I89HEUP5BbkjyQ3Ue/lFx+vRt2Eb+qndm9f395PtMfKL9qKEq/kFuSPGLrFL66BCS+dFzwPlEFlzwkLQg+UQWXPBHmo73xLgu+amT4PjU+Aj/wHYS+TBFHv1m2Rb8SWRc/qcy1PpBbkjy8Iy89ElkXPxJZFz+QW5I8ZL6DPhK7GL2DfWE+tGQ3PpBbkjy2CJk++0cfPpNc7z5bVMU+6/gFPUgmFj66BCS+aJezvei2E78Dpjc9IFo/v1EFlzxRBZc8UQWXPJp04z4SWRc/6+f4vhr5Wb8pSzc9h2/9PrWfpDyQW5I8KHCGPDIpTb8kNBc/UQWXPANZDD7c7gQ9WhQAPboEJL4J4my/KOUxPZBbkjy6BCS+r2gYvylLNz3ztQE+KUs3PVEFlzwHP4e+PVXePIErRbxgInY9JDQXP8IX2T4C7bk+cqixPvAdhL7CS6w+kFuSPLoEJL6QW5I8YwDpPPrnMj4c5/M8NXojPkJOkr0bMTM90lorv5BbkjztwbE9vAxNPnLmrDyVQMk8vEWPvRt2Eb9NgAE+O0C9PZBbkjzsGaq+RiGdveYRtz7Zszy/KWPqvfAdhL66BCS+kFuSPIvjHL9mUk+/ugQkvpBbkjycRw6/KEDzPJCaT78dUiC/FvsavlEFlzx1PyW/4NAPPSIMX7+QW5I84oS2PuxMLb4pSzc9emVCv7/HNL6QW5I8qlxYPpBbkjw3CXu8UQWXPH22pzwiBAg/7escPZxbFj8ZqKk8d/MsPmyXAT3T21q/Lh4JPcCzuL1nhki+zh1rv/2Ntz5HAAw+D1okv8MH3766BCS+7DmfPNhGET2P6km91WptPV0PpD4pSzc9BQ4kPSJ7ab+nEfI+kFuSPIgxJ79yprM+A6Y3PTElFj/zCyW/cxijPpBbkjyQW5I8omErv1jNKb8GWx6+J4kXPkB71T3/5zY+kFuSPJVhRz7jc0S8bccNPYWmq7uHsVO/hcsXvsoakj6ac9g+lOzyvbANXr/5Ymi/8B2Evs9RpD5mcGa/d5tov7oEJL5RBZc8A6Y3PboEJL4bdhG/aJsrPboEJL4kNBc/zjNsPUJaR74pSzc9F8AGP5BbkjzSKzC/UQWXPG0z2z4bdhG/kFuSPJBbkjxRBZc8K9NLv9Ppaz0jhYs+Z8vcPjhfML8PSZk8SeRFvpMNhj2ehO4+JDQXP5BbkjyqfcO9ugQkvv8wHL+QW5I8UQWXPAoPjT4bdhG/2QogPlSEHj0ie2m/kFuSPPAq6z0SWRc/q7uHPkzPjz7qU/I8kFuSPPAdhL6+p4Y+ElkXP1EFlzxRBZc8sf9qPRt2Eb8ie2m/ElkXP3q+ED4kNBc/yfIsv7oEJL6xpqQ+Pqhdv7oEJL4cqBA/ugQkvkDzLL+6BCS+7ng9vroEJL5RBZc8kFuSPLoEJL7viZy+LWQLP65Bpj20hKc9ugQkvilLNz1RBZc8ElkXP5BbkjxLhTm/FOKyPboEJL5t0g4/C4IgvlEFlzxh6I08oZuJvTHD3zspSzc9FhVaPa2feT64D3w+KUs3PboEJL5LgzU+C68CPilLNz2QW5I8tF5rv8ePoz5Ze0I+Uf0pvxJZFz8STHU+wOB3Psy2BT1RBZc8ugQkvn/zhDycQe89dpAQP4c7K7/ze6A+CnOYPvQinD2V5A49UQWXPAoYGT7RkWW+cwAXPzUTBj+QW5I8vpJVvkn7Dz+QW5I8UQWXPJBbkjwie2m/ld5dvpBbkjyuLCM+sQlpv8Qmgz4ie2m/UfzmPpBbkjwpSzc9ugQkviQ0Fz8JAeE98wslv5Tl4j5r1Sg+3vnoPjLbyz5RBZc8ugQkviNmfb6khU6/MAxsvilLNz02BzW/LYjPPMDtIL+qFmK/oLdnPatRWb+jMiU+44xHPrANXr+wDV6/ElkXP/AdhL4SWRc/UQWXPAqVHL+K11q/DvwZPVCzYb9kSlu/9a1Tv1EFlzy6BCS+UQWXPP0dTL3Bzam92qu+PrCW8jpRBZc8kFuSPJvXJb84EoU+5iJOv9+A1TwpSzc9kFuSPN0/Zb6QW5I8ThXDPZBbkjwd9qI+L1QSPpBbkjyZl4A+WXX8Pl1Roz4=",
          "dtype": "f4"
         }
        }
       ],
       "layout": {
        "scene": {
         "xaxis": {
          "visible": false
         },
         "yaxis": {
          "visible": false
         },
         "zaxis": {
          "visible": false
         }
        },
        "template": {
         "data": {
          "bar": [
           {
            "error_x": {
             "color": "#f2f5fa"
            },
            "error_y": {
             "color": "#f2f5fa"
            },
            "marker": {
             "line": {
              "color": "rgb(17,17,17)",
              "width": 0.5
             },
             "pattern": {
              "fillmode": "overlay",
              "size": 10,
              "solidity": 0.2
             }
            },
            "type": "bar"
           }
          ],
          "barpolar": [
           {
            "marker": {
             "line": {
              "color": "rgb(17,17,17)",
              "width": 0.5
             },
             "pattern": {
              "fillmode": "overlay",
              "size": 10,
              "solidity": 0.2
             }
            },
            "type": "barpolar"
           }
          ],
          "carpet": [
           {
            "aaxis": {
             "endlinecolor": "#A2B1C6",
             "gridcolor": "#506784",
             "linecolor": "#506784",
             "minorgridcolor": "#506784",
             "startlinecolor": "#A2B1C6"
            },
            "baxis": {
             "endlinecolor": "#A2B1C6",
             "gridcolor": "#506784",
             "linecolor": "#506784",
             "minorgridcolor": "#506784",
             "startlinecolor": "#A2B1C6"
            },
            "type": "carpet"
           }
          ],
          "choropleth": [
           {
            "colorbar": {
             "outlinewidth": 0,
             "ticks": ""
            },
            "type": "choropleth"
           }
          ],
          "contour": [
           {
            "colorbar": {
             "outlinewidth": 0,
             "ticks": ""
            },
            "colorscale": [
             [
              0,
              "#0d0887"
             ],
             [
              0.1111111111111111,
              "#46039f"
             ],
             [
              0.2222222222222222,
              "#7201a8"
             ],
             [
              0.3333333333333333,
              "#9c179e"
             ],
             [
              0.4444444444444444,
              "#bd3786"
             ],
             [
              0.5555555555555556,
              "#d8576b"
             ],
             [
              0.6666666666666666,
              "#ed7953"
             ],
             [
              0.7777777777777778,
              "#fb9f3a"
             ],
             [
              0.8888888888888888,
              "#fdca26"
             ],
             [
              1,
              "#f0f921"
             ]
            ],
            "type": "contour"
           }
          ],
          "contourcarpet": [
           {
            "colorbar": {
             "outlinewidth": 0,
             "ticks": ""
            },
            "type": "contourcarpet"
           }
          ],
          "heatmap": [
           {
            "colorbar": {
             "outlinewidth": 0,
             "ticks": ""
            },
            "colorscale": [
             [
              0,
              "#0d0887"
             ],
             [
              0.1111111111111111,
              "#46039f"
             ],
             [
              0.2222222222222222,
              "#7201a8"
             ],
             [
              0.3333333333333333,
              "#9c179e"
             ],
             [
              0.4444444444444444,
              "#bd3786"
             ],
             [
              0.5555555555555556,
              "#d8576b"
             ],
             [
              0.6666666666666666,
              "#ed7953"
             ],
             [
              0.7777777777777778,
              "#fb9f3a"
             ],
             [
              0.8888888888888888,
              "#fdca26"
             ],
             [
              1,
              "#f0f921"
             ]
            ],
            "type": "heatmap"
           }
          ],
          "histogram": [
           {
            "marker": {
             "pattern": {
              "fillmode": "overlay",
              "size": 10,
              "solidity": 0.2
             }
            },
            "type": "histogram"
           }
          ],
          "histogram2d": [
           {
            "colorbar": {
             "outlinewidth": 0,
             "ticks": ""
            },
            "colorscale": [
             [
              0,
              "#0d0887"
             ],
             [
              0.1111111111111111,
              "#46039f"
             ],
             [
              0.2222222222222222,
              "#7201a8"
             ],
             [
              0.3333333333333333,
              "#9c179e"
             ],
             [
              0.4444444444444444,
              "#bd3786"
             ],
             [
              0.5555555555555556,
              "#d8576b"
             ],
             [
              0.6666666666666666,
              "#ed7953"
             ],
             [
              0.7777777777777778,
              "#fb9f3a"
             ],
             [
              0.8888888888888888,
              "#fdca26"
             ],
             [
              1,
              "#f0f921"
             ]
            ],
            "type": "histogram2d"
           }
          ],
          "histogram2dcontour": [
           {
            "colorbar": {
             "outlinewidth": 0,
             "ticks": ""
            },
            "colorscale": [
             [
              0,
              "#0d0887"
             ],
             [
              0.1111111111111111,
              "#46039f"
             ],
             [
              0.2222222222222222,
              "#7201a8"
             ],
             [
              0.3333333333333333,
              "#9c179e"
             ],
             [
              0.4444444444444444,
              "#bd3786"
             ],
             [
              0.5555555555555556,
              "#d8576b"
             ],
             [
              0.6666666666666666,
              "#ed7953"
             ],
             [
              0.7777777777777778,
              "#fb9f3a"
             ],
             [
              0.8888888888888888,
              "#fdca26"
             ],
             [
              1,
              "#f0f921"
             ]
            ],
            "type": "histogram2dcontour"
           }
          ],
          "mesh3d": [
           {
            "colorbar": {
             "outlinewidth": 0,
             "ticks": ""
            },
            "type": "mesh3d"
           }
          ],
          "parcoords": [
           {
            "line": {
             "colorbar": {
              "outlinewidth": 0,
              "ticks": ""
             }
            },
            "type": "parcoords"
           }
          ],
          "pie": [
           {
            "automargin": true,
            "type": "pie"
           }
          ],
          "scatter": [
           {
            "marker": {
             "line": {
              "color": "#283442"
             }
            },
            "type": "scatter"
           }
          ],
          "scatter3d": [
           {
            "line": {
             "colorbar": {
              "outlinewidth": 0,
              "ticks": ""
             }
            },
            "marker": {
             "colorbar": {
              "outlinewidth": 0,
              "ticks": ""
             }
            },
            "type": "scatter3d"
           }
          ],
          "scattercarpet": [
           {
            "marker": {
             "colorbar": {
              "outlinewidth": 0,
              "ticks": ""
             }
            },
            "type": "scattercarpet"
           }
          ],
          "scattergeo": [
           {
            "marker": {
             "colorbar": {
              "outlinewidth": 0,
              "ticks": ""
             }
            },
            "type": "scattergeo"
           }
          ],
          "scattergl": [
           {
            "marker": {
             "line": {
              "color": "#283442"
             }
            },
            "type": "scattergl"
           }
          ],
          "scattermap": [
           {
            "marker": {
             "colorbar": {
              "outlinewidth": 0,
              "ticks": ""
             }
            },
            "type": "scattermap"
           }
          ],
          "scattermapbox": [
           {
            "marker": {
             "colorbar": {
              "outlinewidth": 0,
              "ticks": ""
             }
            },
            "type": "scattermapbox"
           }
          ],
          "scatterpolar": [
           {
            "marker": {
             "colorbar": {
              "outlinewidth": 0,
              "ticks": ""
             }
            },
            "type": "scatterpolar"
           }
          ],
          "scatterpolargl": [
           {
            "marker": {
             "colorbar": {
              "outlinewidth": 0,
              "ticks": ""
             }
            },
            "type": "scatterpolargl"
           }
          ],
          "scatterternary": [
           {
            "marker": {
             "colorbar": {
              "outlinewidth": 0,
              "ticks": ""
             }
            },
            "type": "scatterternary"
           }
          ],
          "surface": [
           {
            "colorbar": {
             "outlinewidth": 0,
             "ticks": ""
            },
            "colorscale": [
             [
              0,
              "#0d0887"
             ],
             [
              0.1111111111111111,
              "#46039f"
             ],
             [
              0.2222222222222222,
              "#7201a8"
             ],
             [
              0.3333333333333333,
              "#9c179e"
             ],
             [
              0.4444444444444444,
              "#bd3786"
             ],
             [
              0.5555555555555556,
              "#d8576b"
             ],
             [
              0.6666666666666666,
              "#ed7953"
             ],
             [
              0.7777777777777778,
              "#fb9f3a"
             ],
             [
              0.8888888888888888,
              "#fdca26"
             ],
             [
              1,
              "#f0f921"
             ]
            ],
            "type": "surface"
           }
          ],
          "table": [
           {
            "cells": {
             "fill": {
              "color": "#506784"
             },
             "line": {
              "color": "rgb(17,17,17)"
             }
            },
            "header": {
             "fill": {
              "color": "#2a3f5f"
             },
             "line": {
              "color": "rgb(17,17,17)"
             }
            },
            "type": "table"
           }
          ]
         },
         "layout": {
          "annotationdefaults": {
           "arrowcolor": "#f2f5fa",
           "arrowhead": 0,
           "arrowwidth": 1
          },
          "autotypenumbers": "strict",
          "coloraxis": {
           "colorbar": {
            "outlinewidth": 0,
            "ticks": ""
           }
          },
          "colorscale": {
           "diverging": [
            [
             0,
             "#8e0152"
            ],
            [
             0.1,
             "#c51b7d"
            ],
            [
             0.2,
             "#de77ae"
            ],
            [
             0.3,
             "#f1b6da"
            ],
            [
             0.4,
             "#fde0ef"
            ],
            [
             0.5,
             "#f7f7f7"
            ],
            [
             0.6,
             "#e6f5d0"
            ],
            [
             0.7,
             "#b8e186"
            ],
            [
             0.8,
             "#7fbc41"
            ],
            [
             0.9,
             "#4d9221"
            ],
            [
             1,
             "#276419"
            ]
           ],
           "sequential": [
            [
             0,
             "#0d0887"
            ],
            [
             0.1111111111111111,
             "#46039f"
            ],
            [
             0.2222222222222222,
             "#7201a8"
            ],
            [
             0.3333333333333333,
             "#9c179e"
            ],
            [
             0.4444444444444444,
             "#bd3786"
            ],
            [
             0.5555555555555556,
             "#d8576b"
            ],
            [
             0.6666666666666666,
             "#ed7953"
            ],
            [
             0.7777777777777778,
             "#fb9f3a"
            ],
            [
             0.8888888888888888,
             "#fdca26"
            ],
            [
             1,
             "#f0f921"
            ]
           ],
           "sequentialminus": [
            [
             0,
             "#0d0887"
            ],
            [
             0.1111111111111111,
             "#46039f"
            ],
            [
             0.2222222222222222,
             "#7201a8"
            ],
            [
             0.3333333333333333,
             "#9c179e"
            ],
            [
             0.4444444444444444,
             "#bd3786"
            ],
            [
             0.5555555555555556,
             "#d8576b"
            ],
            [
             0.6666666666666666,
             "#ed7953"
            ],
            [
             0.7777777777777778,
             "#fb9f3a"
            ],
            [
             0.8888888888888888,
             "#fdca26"
            ],
            [
             1,
             "#f0f921"
            ]
           ]
          },
          "colorway": [
           "#636efa",
           "#EF553B",
           "#00cc96",
           "#ab63fa",
           "#FFA15A",
           "#19d3f3",
           "#FF6692",
           "#B6E880",
           "#FF97FF",
           "#FECB52"
          ],
          "font": {
           "color": "#f2f5fa"
          },
          "geo": {
           "bgcolor": "rgb(17,17,17)",
           "lakecolor": "rgb(17,17,17)",
           "landcolor": "rgb(17,17,17)",
           "showlakes": true,
           "showland": true,
           "subunitcolor": "#506784"
          },
          "hoverlabel": {
           "align": "left"
          },
          "hovermode": "closest",
          "mapbox": {
           "style": "dark"
          },
          "paper_bgcolor": "rgb(17,17,17)",
          "plot_bgcolor": "rgb(17,17,17)",
          "polar": {
           "angularaxis": {
            "gridcolor": "#506784",
            "linecolor": "#506784",
            "ticks": ""
           },
           "bgcolor": "rgb(17,17,17)",
           "radialaxis": {
            "gridcolor": "#506784",
            "linecolor": "#506784",
            "ticks": ""
           }
          },
          "scene": {
           "xaxis": {
            "backgroundcolor": "rgb(17,17,17)",
            "gridcolor": "#506784",
            "gridwidth": 2,
            "linecolor": "#506784",
            "showbackground": true,
            "ticks": "",
            "zerolinecolor": "#C8D4E3"
           },
           "yaxis": {
            "backgroundcolor": "rgb(17,17,17)",
            "gridcolor": "#506784",
            "gridwidth": 2,
            "linecolor": "#506784",
            "showbackground": true,
            "ticks": "",
            "zerolinecolor": "#C8D4E3"
           },
           "zaxis": {
            "backgroundcolor": "rgb(17,17,17)",
            "gridcolor": "#506784",
            "gridwidth": 2,
            "linecolor": "#506784",
            "showbackground": true,
            "ticks": "",
            "zerolinecolor": "#C8D4E3"
           }
          },
          "shapedefaults": {
           "line": {
            "color": "#f2f5fa"
           }
          },
          "sliderdefaults": {
           "bgcolor": "#C8D4E3",
           "bordercolor": "rgb(17,17,17)",
           "borderwidth": 1,
           "tickwidth": 0
          },
          "ternary": {
           "aaxis": {
            "gridcolor": "#506784",
            "linecolor": "#506784",
            "ticks": ""
           },
           "baxis": {
            "gridcolor": "#506784",
            "linecolor": "#506784",
            "ticks": ""
           },
           "bgcolor": "rgb(17,17,17)",
           "caxis": {
            "gridcolor": "#506784",
            "linecolor": "#506784",
            "ticks": ""
           }
          },
          "title": {
           "x": 0.05
          },
          "updatemenudefaults": {
           "bgcolor": "#506784",
           "borderwidth": 0
          },
          "xaxis": {
           "automargin": true,
           "gridcolor": "#283442",
           "linecolor": "#506784",
           "ticks": "",
           "title": {
            "standoff": 15
           },
           "zerolinecolor": "#283442",
           "zerolinewidth": 2
          },
          "yaxis": {
           "automargin": true,
           "gridcolor": "#283442",
           "linecolor": "#506784",
           "ticks": "",
           "title": {
            "standoff": 15
           },
           "zerolinecolor": "#283442",
           "zerolinewidth": 2
          }
         }
        }
       }
      }
     },
     "metadata": {},
     "output_type": "display_data"
    }
   ],
   "source": [
    "idx = random.randint(0, len(dataset_test))\n",
    "\n",
    "data = dataset_test[idx]\n",
    "\n",
    "cloud = data.pos.view(1, num_points, 3)\n",
    "cloud = cloud.transpose(2, 1).to(device)\n",
    "\n",
    "output, _ = pointnet(cloud)\n",
    "\n",
    "probabilities = 100*F.softmax(output.transpose(1,0), dim=0)\n",
    "\n",
    "_, predicted = torch.max(output.data, 1)\n",
    "label = data.y\n",
    "\n",
    "print('Predicted Class: {}    Certainty: {:8.4}   Actual Class:   {}'.format(classes[predicted.item()], probabilities[predicted.item()].item(), classes[label.item()]))\n",
    "\n",
    "fig = go.Figure(\n",
    "  data=[\n",
    "    go.Scatter3d(\n",
    "      x=data.pos[:,0], y=data.pos[:,1], z=data.pos[:,2],\n",
    "      mode='markers',\n",
    "      marker=dict(size=1, color=\"white\"))],\n",
    "  layout=dict(\n",
    "    scene=dict(\n",
    "      xaxis=dict(visible=False),\n",
    "      yaxis=dict(visible=False),\n",
    "      zaxis=dict(visible=False))))\n",
    "\n",
    "fig.update_layout(template='plotly_dark')\n",
    "\n",
    "fig.show()"
   ]
  },
  {
   "cell_type": "code",
   "execution_count": null,
   "metadata": {},
   "outputs": [],
   "source": []
  }
 ],
 "metadata": {
  "kernelspec": {
   "display_name": "pointcloud",
   "language": "python",
   "name": "python3"
  },
  "language_info": {
   "codemirror_mode": {
    "name": "ipython",
    "version": 3
   },
   "file_extension": ".py",
   "mimetype": "text/x-python",
   "name": "python",
   "nbconvert_exporter": "python",
   "pygments_lexer": "ipython3",
   "version": "3.10.16"
  }
 },
 "nbformat": 4,
 "nbformat_minor": 2
}
