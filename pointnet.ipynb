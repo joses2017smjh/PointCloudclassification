{
 "cells": [
  {
   "cell_type": "code",
   "execution_count": 70,
   "metadata": {},
   "outputs": [],
   "source": [
    "# requires torch, torch_geometric, open3d, plotly\n",
    "# open3d needs python 3.10, anything higher will not work\n",
    "\n",
    "import torch\n",
    "from torch_geometric.datasets import ModelNet, FAUST\n",
    "from torch_geometric.transforms import SamplePoints, NormalizeScale\n",
    "from torch_geometric.loader import DataLoader\n",
    "\n",
    "import open3d as o3d\n",
    "import plotly.graph_objects as go\n",
    "\n",
    "import torch.nn as nn\n",
    "import torch.nn.functional as F\n",
    "import torch.optim as optim\n",
    "import datetime\n",
    "import os\n",
    "import random"
   ]
  },
  {
   "cell_type": "code",
   "execution_count": 71,
   "metadata": {},
   "outputs": [],
   "source": [
    "# pointnet fully implemented, consolidated to another file for import\n",
    "from pointnet import PointNetClassifier, PointNetClassificationLoss"
   ]
  },
  {
   "cell_type": "code",
   "execution_count": 72,
   "metadata": {},
   "outputs": [],
   "source": [
    "# change to your device, also change device in pointnet.py file\n",
    "device = \"mps\""
   ]
  },
  {
   "cell_type": "code",
   "execution_count": 79,
   "metadata": {},
   "outputs": [
    {
     "name": "stdout",
     "output_type": "stream",
     "text": [
      "Number of training examples: 3991\n",
      "Number of test examples: 908\n",
      "['bathtub', 'bed', 'chair', 'desk', 'dresser', 'monitor', 'night_stand', 'sofa', 'table', 'toilet']\n",
      "Data(pos=[1024, 3], y=[1])\n",
      "Point cloud shape: torch.Size([1024, 3])\n",
      "Label: tensor([0])\n"
     ]
    }
   ],
   "source": [
    "# modelnet10 dataset config\n",
    "\n",
    "num_points = 1024\n",
    "\n",
    "pre_transform = NormalizeScale()\n",
    "transform = SamplePoints(num_points)\n",
    "\n",
    "batch_size = 64\n",
    "\n",
    "root = 'data/ModelNet10'\n",
    "dataset_train = ModelNet(root=root, name='10', train=True, pre_transform=pre_transform, transform=transform)\n",
    "trainloader = DataLoader(dataset_train, batch_size=batch_size, shuffle=True)\n",
    "\n",
    "dataset_test = ModelNet(root=root, name='10', train=False, pre_transform=pre_transform, transform=transform)\n",
    "testloader = DataLoader(dataset_test, batch_size=batch_size)\n",
    "\n",
    "print(f'Number of training examples: {len(dataset_train)}')\n",
    "print(f'Number of test examples: {len(dataset_test)}')\n",
    "\n",
    "classes = dataset_test.raw_file_names\n",
    "print(classes)\n",
    "\n",
    "data = dataset_train[0]\n",
    "print(data)\n",
    "print(f'Point cloud shape: {data.pos.shape}')\n",
    "print(f'Label: {data.y}')"
   ]
  },
  {
   "cell_type": "code",
   "execution_count": 78,
   "metadata": {},
   "outputs": [
    {
     "name": "stdout",
     "output_type": "stream",
     "text": [
      "Number of training examples: 9843\n",
      "Number of test examples: 2468\n",
      "Data(pos=[1024, 3], y=[1])\n",
      "Point cloud shape: torch.Size([1024, 3])\n",
      "Label: tensor([0])\n"
     ]
    }
   ],
   "source": [
    "# modelnet40 dataset config\n",
    "\n",
    "num_points = 1024\n",
    "\n",
    "pre_transform = NormalizeScale()\n",
    "transform = SamplePoints(num_points)\n",
    "\n",
    "batch_size = 64\n",
    "\n",
    "root = 'data/ModelNet40'\n",
    "dataset_train = ModelNet(root=root, name='40', train=True, pre_transform=pre_transform, transform=transform)\n",
    "trainloader = DataLoader(dataset_train, batch_size=batch_size, shuffle=True)\n",
    "\n",
    "dataset_test = ModelNet(root=root, name='40', train=False, pre_transform=pre_transform, transform=transform)\n",
    "testloader = DataLoader(dataset_test, batch_size=batch_size)\n",
    "\n",
    "classes = [\"airplane\", \"bathtub\", \"bed\", \"bench\", \"bookshelf\", \"bottle\", \"bowl\", \"car\", \"chair\", \"cone\", \"cup\", \"curtain\", \"desk\", \"door\", \"dresser\", \"flower_pot\", \"glass_box\", \"guitar\", \"keyboard\", \"lamp\", \"laptop\", \"mantel\", \"monitor\", \"night_stand\", \"person\", \"piano\", \"plant\", \"radio\", \"range_hood\", \"sink\", \"sofa\", \"stairs\", \"stool\", \"table\", \"tent\", \"toilet\", \"tv_stand\", \"vase\", \"wardrobe\", \"xbox\"]\n",
    "\n",
    "print(f'Number of training examples: {len(dataset_train)}')\n",
    "print(f'Number of test examples: {len(dataset_test)}')\n",
    "\n",
    "data = dataset_train[0]\n",
    "print(data)\n",
    "print(f'Point cloud shape: {data.pos.shape}')\n",
    "print(f'Label: {data.y}')"
   ]
  },
  {
   "cell_type": "code",
   "execution_count": 80,
   "metadata": {},
   "outputs": [
    {
     "data": {
      "application/vnd.plotly.v1+json": {
       "config": {
        "plotlyServerURL": "https://plot.ly"
       },
       "data": [
        {
         "marker": {
          "color": "white",
          "size": 1
         },
         "mode": "markers",
         "type": "scatter3d",
         "x": {
          "bdata": "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",
          "dtype": "f4"
         },
         "y": {
          "bdata": "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",
          "dtype": "f4"
         },
         "z": {
          "bdata": "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",
          "dtype": "f4"
         }
        }
       ],
       "layout": {
        "scene": {
         "xaxis": {
          "visible": false
         },
         "yaxis": {
          "visible": false
         },
         "zaxis": {
          "visible": false
         }
        },
        "template": {
         "data": {
          "bar": [
           {
            "error_x": {
             "color": "#f2f5fa"
            },
            "error_y": {
             "color": "#f2f5fa"
            },
            "marker": {
             "line": {
              "color": "rgb(17,17,17)",
              "width": 0.5
             },
             "pattern": {
              "fillmode": "overlay",
              "size": 10,
              "solidity": 0.2
             }
            },
            "type": "bar"
           }
          ],
          "barpolar": [
           {
            "marker": {
             "line": {
              "color": "rgb(17,17,17)",
              "width": 0.5
             },
             "pattern": {
              "fillmode": "overlay",
              "size": 10,
              "solidity": 0.2
             }
            },
            "type": "barpolar"
           }
          ],
          "carpet": [
           {
            "aaxis": {
             "endlinecolor": "#A2B1C6",
             "gridcolor": "#506784",
             "linecolor": "#506784",
             "minorgridcolor": "#506784",
             "startlinecolor": "#A2B1C6"
            },
            "baxis": {
             "endlinecolor": "#A2B1C6",
             "gridcolor": "#506784",
             "linecolor": "#506784",
             "minorgridcolor": "#506784",
             "startlinecolor": "#A2B1C6"
            },
            "type": "carpet"
           }
          ],
          "choropleth": [
           {
            "colorbar": {
             "outlinewidth": 0,
             "ticks": ""
            },
            "type": "choropleth"
           }
          ],
          "contour": [
           {
            "colorbar": {
             "outlinewidth": 0,
             "ticks": ""
            },
            "colorscale": [
             [
              0,
              "#0d0887"
             ],
             [
              0.1111111111111111,
              "#46039f"
             ],
             [
              0.2222222222222222,
              "#7201a8"
             ],
             [
              0.3333333333333333,
              "#9c179e"
             ],
             [
              0.4444444444444444,
              "#bd3786"
             ],
             [
              0.5555555555555556,
              "#d8576b"
             ],
             [
              0.6666666666666666,
              "#ed7953"
             ],
             [
              0.7777777777777778,
              "#fb9f3a"
             ],
             [
              0.8888888888888888,
              "#fdca26"
             ],
             [
              1,
              "#f0f921"
             ]
            ],
            "type": "contour"
           }
          ],
          "contourcarpet": [
           {
            "colorbar": {
             "outlinewidth": 0,
             "ticks": ""
            },
            "type": "contourcarpet"
           }
          ],
          "heatmap": [
           {
            "colorbar": {
             "outlinewidth": 0,
             "ticks": ""
            },
            "colorscale": [
             [
              0,
              "#0d0887"
             ],
             [
              0.1111111111111111,
              "#46039f"
             ],
             [
              0.2222222222222222,
              "#7201a8"
             ],
             [
              0.3333333333333333,
              "#9c179e"
             ],
             [
              0.4444444444444444,
              "#bd3786"
             ],
             [
              0.5555555555555556,
              "#d8576b"
             ],
             [
              0.6666666666666666,
              "#ed7953"
             ],
             [
              0.7777777777777778,
              "#fb9f3a"
             ],
             [
              0.8888888888888888,
              "#fdca26"
             ],
             [
              1,
              "#f0f921"
             ]
            ],
            "type": "heatmap"
           }
          ],
          "histogram": [
           {
            "marker": {
             "pattern": {
              "fillmode": "overlay",
              "size": 10,
              "solidity": 0.2
             }
            },
            "type": "histogram"
           }
          ],
          "histogram2d": [
           {
            "colorbar": {
             "outlinewidth": 0,
             "ticks": ""
            },
            "colorscale": [
             [
              0,
              "#0d0887"
             ],
             [
              0.1111111111111111,
              "#46039f"
             ],
             [
              0.2222222222222222,
              "#7201a8"
             ],
             [
              0.3333333333333333,
              "#9c179e"
             ],
             [
              0.4444444444444444,
              "#bd3786"
             ],
             [
              0.5555555555555556,
              "#d8576b"
             ],
             [
              0.6666666666666666,
              "#ed7953"
             ],
             [
              0.7777777777777778,
              "#fb9f3a"
             ],
             [
              0.8888888888888888,
              "#fdca26"
             ],
             [
              1,
              "#f0f921"
             ]
            ],
            "type": "histogram2d"
           }
          ],
          "histogram2dcontour": [
           {
            "colorbar": {
             "outlinewidth": 0,
             "ticks": ""
            },
            "colorscale": [
             [
              0,
              "#0d0887"
             ],
             [
              0.1111111111111111,
              "#46039f"
             ],
             [
              0.2222222222222222,
              "#7201a8"
             ],
             [
              0.3333333333333333,
              "#9c179e"
             ],
             [
              0.4444444444444444,
              "#bd3786"
             ],
             [
              0.5555555555555556,
              "#d8576b"
             ],
             [
              0.6666666666666666,
              "#ed7953"
             ],
             [
              0.7777777777777778,
              "#fb9f3a"
             ],
             [
              0.8888888888888888,
              "#fdca26"
             ],
             [
              1,
              "#f0f921"
             ]
            ],
            "type": "histogram2dcontour"
           }
          ],
          "mesh3d": [
           {
            "colorbar": {
             "outlinewidth": 0,
             "ticks": ""
            },
            "type": "mesh3d"
           }
          ],
          "parcoords": [
           {
            "line": {
             "colorbar": {
              "outlinewidth": 0,
              "ticks": ""
             }
            },
            "type": "parcoords"
           }
          ],
          "pie": [
           {
            "automargin": true,
            "type": "pie"
           }
          ],
          "scatter": [
           {
            "marker": {
             "line": {
              "color": "#283442"
             }
            },
            "type": "scatter"
           }
          ],
          "scatter3d": [
           {
            "line": {
             "colorbar": {
              "outlinewidth": 0,
              "ticks": ""
             }
            },
            "marker": {
             "colorbar": {
              "outlinewidth": 0,
              "ticks": ""
             }
            },
            "type": "scatter3d"
           }
          ],
          "scattercarpet": [
           {
            "marker": {
             "colorbar": {
              "outlinewidth": 0,
              "ticks": ""
             }
            },
            "type": "scattercarpet"
           }
          ],
          "scattergeo": [
           {
            "marker": {
             "colorbar": {
              "outlinewidth": 0,
              "ticks": ""
             }
            },
            "type": "scattergeo"
           }
          ],
          "scattergl": [
           {
            "marker": {
             "line": {
              "color": "#283442"
             }
            },
            "type": "scattergl"
           }
          ],
          "scattermap": [
           {
            "marker": {
             "colorbar": {
              "outlinewidth": 0,
              "ticks": ""
             }
            },
            "type": "scattermap"
           }
          ],
          "scattermapbox": [
           {
            "marker": {
             "colorbar": {
              "outlinewidth": 0,
              "ticks": ""
             }
            },
            "type": "scattermapbox"
           }
          ],
          "scatterpolar": [
           {
            "marker": {
             "colorbar": {
              "outlinewidth": 0,
              "ticks": ""
             }
            },
            "type": "scatterpolar"
           }
          ],
          "scatterpolargl": [
           {
            "marker": {
             "colorbar": {
              "outlinewidth": 0,
              "ticks": ""
             }
            },
            "type": "scatterpolargl"
           }
          ],
          "scatterternary": [
           {
            "marker": {
             "colorbar": {
              "outlinewidth": 0,
              "ticks": ""
             }
            },
            "type": "scatterternary"
           }
          ],
          "surface": [
           {
            "colorbar": {
             "outlinewidth": 0,
             "ticks": ""
            },
            "colorscale": [
             [
              0,
              "#0d0887"
             ],
             [
              0.1111111111111111,
              "#46039f"
             ],
             [
              0.2222222222222222,
              "#7201a8"
             ],
             [
              0.3333333333333333,
              "#9c179e"
             ],
             [
              0.4444444444444444,
              "#bd3786"
             ],
             [
              0.5555555555555556,
              "#d8576b"
             ],
             [
              0.6666666666666666,
              "#ed7953"
             ],
             [
              0.7777777777777778,
              "#fb9f3a"
             ],
             [
              0.8888888888888888,
              "#fdca26"
             ],
             [
              1,
              "#f0f921"
             ]
            ],
            "type": "surface"
           }
          ],
          "table": [
           {
            "cells": {
             "fill": {
              "color": "#506784"
             },
             "line": {
              "color": "rgb(17,17,17)"
             }
            },
            "header": {
             "fill": {
              "color": "#2a3f5f"
             },
             "line": {
              "color": "rgb(17,17,17)"
             }
            },
            "type": "table"
           }
          ]
         },
         "layout": {
          "annotationdefaults": {
           "arrowcolor": "#f2f5fa",
           "arrowhead": 0,
           "arrowwidth": 1
          },
          "autotypenumbers": "strict",
          "coloraxis": {
           "colorbar": {
            "outlinewidth": 0,
            "ticks": ""
           }
          },
          "colorscale": {
           "diverging": [
            [
             0,
             "#8e0152"
            ],
            [
             0.1,
             "#c51b7d"
            ],
            [
             0.2,
             "#de77ae"
            ],
            [
             0.3,
             "#f1b6da"
            ],
            [
             0.4,
             "#fde0ef"
            ],
            [
             0.5,
             "#f7f7f7"
            ],
            [
             0.6,
             "#e6f5d0"
            ],
            [
             0.7,
             "#b8e186"
            ],
            [
             0.8,
             "#7fbc41"
            ],
            [
             0.9,
             "#4d9221"
            ],
            [
             1,
             "#276419"
            ]
           ],
           "sequential": [
            [
             0,
             "#0d0887"
            ],
            [
             0.1111111111111111,
             "#46039f"
            ],
            [
             0.2222222222222222,
             "#7201a8"
            ],
            [
             0.3333333333333333,
             "#9c179e"
            ],
            [
             0.4444444444444444,
             "#bd3786"
            ],
            [
             0.5555555555555556,
             "#d8576b"
            ],
            [
             0.6666666666666666,
             "#ed7953"
            ],
            [
             0.7777777777777778,
             "#fb9f3a"
            ],
            [
             0.8888888888888888,
             "#fdca26"
            ],
            [
             1,
             "#f0f921"
            ]
           ],
           "sequentialminus": [
            [
             0,
             "#0d0887"
            ],
            [
             0.1111111111111111,
             "#46039f"
            ],
            [
             0.2222222222222222,
             "#7201a8"
            ],
            [
             0.3333333333333333,
             "#9c179e"
            ],
            [
             0.4444444444444444,
             "#bd3786"
            ],
            [
             0.5555555555555556,
             "#d8576b"
            ],
            [
             0.6666666666666666,
             "#ed7953"
            ],
            [
             0.7777777777777778,
             "#fb9f3a"
            ],
            [
             0.8888888888888888,
             "#fdca26"
            ],
            [
             1,
             "#f0f921"
            ]
           ]
          },
          "colorway": [
           "#636efa",
           "#EF553B",
           "#00cc96",
           "#ab63fa",
           "#FFA15A",
           "#19d3f3",
           "#FF6692",
           "#B6E880",
           "#FF97FF",
           "#FECB52"
          ],
          "font": {
           "color": "#f2f5fa"
          },
          "geo": {
           "bgcolor": "rgb(17,17,17)",
           "lakecolor": "rgb(17,17,17)",
           "landcolor": "rgb(17,17,17)",
           "showlakes": true,
           "showland": true,
           "subunitcolor": "#506784"
          },
          "hoverlabel": {
           "align": "left"
          },
          "hovermode": "closest",
          "mapbox": {
           "style": "dark"
          },
          "paper_bgcolor": "rgb(17,17,17)",
          "plot_bgcolor": "rgb(17,17,17)",
          "polar": {
           "angularaxis": {
            "gridcolor": "#506784",
            "linecolor": "#506784",
            "ticks": ""
           },
           "bgcolor": "rgb(17,17,17)",
           "radialaxis": {
            "gridcolor": "#506784",
            "linecolor": "#506784",
            "ticks": ""
           }
          },
          "scene": {
           "xaxis": {
            "backgroundcolor": "rgb(17,17,17)",
            "gridcolor": "#506784",
            "gridwidth": 2,
            "linecolor": "#506784",
            "showbackground": true,
            "ticks": "",
            "zerolinecolor": "#C8D4E3"
           },
           "yaxis": {
            "backgroundcolor": "rgb(17,17,17)",
            "gridcolor": "#506784",
            "gridwidth": 2,
            "linecolor": "#506784",
            "showbackground": true,
            "ticks": "",
            "zerolinecolor": "#C8D4E3"
           },
           "zaxis": {
            "backgroundcolor": "rgb(17,17,17)",
            "gridcolor": "#506784",
            "gridwidth": 2,
            "linecolor": "#506784",
            "showbackground": true,
            "ticks": "",
            "zerolinecolor": "#C8D4E3"
           }
          },
          "shapedefaults": {
           "line": {
            "color": "#f2f5fa"
           }
          },
          "sliderdefaults": {
           "bgcolor": "#C8D4E3",
           "bordercolor": "rgb(17,17,17)",
           "borderwidth": 1,
           "tickwidth": 0
          },
          "ternary": {
           "aaxis": {
            "gridcolor": "#506784",
            "linecolor": "#506784",
            "ticks": ""
           },
           "baxis": {
            "gridcolor": "#506784",
            "linecolor": "#506784",
            "ticks": ""
           },
           "bgcolor": "rgb(17,17,17)",
           "caxis": {
            "gridcolor": "#506784",
            "linecolor": "#506784",
            "ticks": ""
           }
          },
          "title": {
           "x": 0.05
          },
          "updatemenudefaults": {
           "bgcolor": "#506784",
           "borderwidth": 0
          },
          "xaxis": {
           "automargin": true,
           "gridcolor": "#283442",
           "linecolor": "#506784",
           "ticks": "",
           "title": {
            "standoff": 15
           },
           "zerolinecolor": "#283442",
           "zerolinewidth": 2
          },
          "yaxis": {
           "automargin": true,
           "gridcolor": "#283442",
           "linecolor": "#506784",
           "ticks": "",
           "title": {
            "standoff": 15
           },
           "zerolinecolor": "#283442",
           "zerolinewidth": 2
          }
         }
        }
       }
      }
     },
     "metadata": {},
     "output_type": "display_data"
    }
   ],
   "source": [
    "# plot the first element of the training data\n",
    "fig = go.Figure(\n",
    "  data=[\n",
    "    go.Scatter3d(\n",
    "      x=data.pos[:,0], y=data.pos[:,1], z=data.pos[:,2],\n",
    "      mode='markers',\n",
    "      marker=dict(size=1, color=\"white\"))],\n",
    "  layout=dict(\n",
    "    scene=dict(\n",
    "      xaxis=dict(visible=False),\n",
    "      yaxis=dict(visible=False),\n",
    "      zaxis=dict(visible=False))))\n",
    "\n",
    "fig.update_layout(template='plotly_dark')\n",
    "\n",
    "fig.show()"
   ]
  },
  {
   "cell_type": "code",
   "execution_count": 81,
   "metadata": {},
   "outputs": [],
   "source": [
    "# dodgy but somehow working implementation of point transfomer architecture\n",
    "# https://arxiv.org/pdf/2012.09164\n",
    "\n",
    "class TransformerLayer(nn.Module):\n",
    "    def __init__(self, features):\n",
    "        super(TransformerLayer, self).__init__()\n",
    "\n",
    "        self.phi = nn.Linear(in_features=features, out_features=features)\n",
    "        self.psi = nn.Linear(in_features=features, out_features=features)\n",
    "        self.alpha = nn.Linear(in_features=features, out_features=features)\n",
    "\n",
    "        self.theta = nn.Sequential(\n",
    "            nn.Conv1d(in_channels=3, out_channels=features, kernel_size=1),\n",
    "            nn.ReLU(),\n",
    "            nn.Conv1d(in_channels=features, out_channels=features, kernel_size=1))\n",
    "    \n",
    "    def forward(self, x, p):\n",
    "\n",
    "        # require the calculation of positional encoding still\n",
    "        #x += self.theta(p.transpose(2, 1)).transpose(2, 1)\n",
    "\n",
    "        phi_x = self.phi(x)\n",
    "        psi_x = self.psi(x)\n",
    "        alpha_x = self.alpha(x)\n",
    "\n",
    "        # originally was going to implement vector attention, switched to scalar\n",
    "        # not sure if this is working properly though\n",
    "        x = torch.bmm(F.softmax(torch.bmm(phi_x, psi_x.transpose(2,1)), dim=1), alpha_x)\n",
    "        \n",
    "        # also, normalization isn't working well? not sure why...\n",
    "        #x = F.layer_norm(x, normalized_shape=[x.shape[1], x.shape[2]])\n",
    "\n",
    "        return x\n",
    "\n",
    "class PointTransformer(nn.Module):\n",
    "    def __init__(self, channels):\n",
    "        super(PointTransformer, self).__init__()\n",
    "\n",
    "        self.fcl1 = nn.Linear(in_features=channels, out_features=channels)\n",
    "        self.transformer = TransformerLayer(channels).to(device)\n",
    "        self.fcl2 = nn.Linear(in_features=channels, out_features=channels)\n",
    "\n",
    "    def forward(self, x, p):\n",
    "\n",
    "        residual = x\n",
    "        \n",
    "        x = self.fcl1(x)\n",
    "        x = self.transformer(x, p)\n",
    "        x = self.fcl2(x)\n",
    "\n",
    "        return x + residual, p\n",
    "\n",
    "class TransitionDown(nn.Module):\n",
    "    def __init__(self, features):\n",
    "        super(TransitionDown, self).__init__()\n",
    "\n",
    "        self.mlp = nn.Sequential(\n",
    "            nn.Conv1d(in_channels=features, out_channels=features*2, kernel_size=1),\n",
    "            nn.BatchNorm1d(features*2),\n",
    "            nn.ReLU())\n",
    "    \n",
    "    def forward(self, x, p):\n",
    "\n",
    "        # random sampling, not the best but gets the job done\n",
    "        idx = torch.randint(0, x.shape[1], (int(x.shape[1]/4),))\n",
    "        \n",
    "        # not sure if this is correct either haha\n",
    "        x = self.mlp(x[:,idx,:].transpose(2, 1)).transpose(2, 1)\n",
    "        p = p[:,idx,:]\n",
    "\n",
    "        return x, p\n",
    "\n",
    "class PointTransformerBackbone(nn.Module):\n",
    "    def __init__(self):\n",
    "        super(PointTransformerBackbone, self).__init__()\n",
    "\n",
    "        self.init_linear = nn.Linear(in_features=3, out_features=32)\n",
    "        \n",
    "        self.transformer1 = PointTransformer(channels=32).to(device)\n",
    "        self.down1 = TransitionDown(features=32).to(device)\n",
    "        self.transformer2 = PointTransformer(channels=64).to(device)\n",
    "        self.down2 = TransitionDown(features=64).to(device)\n",
    "        self.transformer3 = PointTransformer(channels=128).to(device)\n",
    "        self.down3 = TransitionDown(features=128).to(device)\n",
    "        self.transformer4 = PointTransformer(channels=256).to(device)\n",
    "        self.down4 = TransitionDown(features=256).to(device)\n",
    "        self.transformer5 = PointTransformer(channels=512).to(device)\n",
    "    \n",
    "    def forward(self, x):\n",
    "\n",
    "        bs = x.shape[0]\n",
    "        num_points = x.shape[1]\n",
    "\n",
    "        p = x\n",
    "        x = self.init_linear(x)\n",
    "\n",
    "        x, p = self.transformer1(x, p)\n",
    "        x, p = self.down1(x, p)\n",
    "        x, p = self.transformer2(x, p)\n",
    "        x, p = self.down2(x, p)\n",
    "        x, p = self.transformer3(x, p)\n",
    "        x, p = self.down3(x, p)\n",
    "        x, p = self.transformer4(x, p)\n",
    "        x, p = self.down4(x, p)\n",
    "        x, p = self.transformer5(x, p)\n",
    "\n",
    "        x = x.transpose(2, 1)\n",
    "\n",
    "        x = F.max_pool1d(x, kernel_size=int(num_points/256)).view(bs, -1)\n",
    "\n",
    "        return x\n",
    "\n",
    "class PointTransformerClassifier(nn.Module):\n",
    "    def __init__(self, num_classes):\n",
    "        super(PointTransformerClassifier, self).__init__()\n",
    "        \n",
    "        self.backbone = PointTransformerBackbone().to(device)\n",
    "\n",
    "        self.classification_head = nn.Sequential(\n",
    "            nn.Linear(in_features=512, out_features=256),\n",
    "            nn.BatchNorm1d(256),\n",
    "            nn.ReLU(),\n",
    "            nn.Linear(in_features=256, out_features=num_classes))\n",
    "\n",
    "    def forward(self, x):\n",
    "\n",
    "        x = self.backbone(x)\n",
    "        x = self.classification_head(x)\n",
    "\n",
    "        return x"
   ]
  },
  {
   "cell_type": "code",
   "execution_count": 85,
   "metadata": {},
   "outputs": [
    {
     "data": {
      "text/plain": [
       "PointTransformerClassifier(\n",
       "  (backbone): PointTransformerBackbone(\n",
       "    (init_linear): Linear(in_features=3, out_features=32, bias=True)\n",
       "    (transformer1): PointTransformer(\n",
       "      (fcl1): Linear(in_features=32, out_features=32, bias=True)\n",
       "      (transformer): TransformerLayer(\n",
       "        (phi): Linear(in_features=32, out_features=32, bias=True)\n",
       "        (psi): Linear(in_features=32, out_features=32, bias=True)\n",
       "        (alpha): Linear(in_features=32, out_features=32, bias=True)\n",
       "        (theta): Sequential(\n",
       "          (0): Conv1d(3, 32, kernel_size=(1,), stride=(1,))\n",
       "          (1): ReLU()\n",
       "          (2): Conv1d(32, 32, kernel_size=(1,), stride=(1,))\n",
       "        )\n",
       "      )\n",
       "      (fcl2): Linear(in_features=32, out_features=32, bias=True)\n",
       "    )\n",
       "    (down1): TransitionDown(\n",
       "      (mlp): Sequential(\n",
       "        (0): Conv1d(32, 64, kernel_size=(1,), stride=(1,))\n",
       "        (1): BatchNorm1d(64, eps=1e-05, momentum=0.1, affine=True, track_running_stats=True)\n",
       "        (2): ReLU()\n",
       "      )\n",
       "    )\n",
       "    (transformer2): PointTransformer(\n",
       "      (fcl1): Linear(in_features=64, out_features=64, bias=True)\n",
       "      (transformer): TransformerLayer(\n",
       "        (phi): Linear(in_features=64, out_features=64, bias=True)\n",
       "        (psi): Linear(in_features=64, out_features=64, bias=True)\n",
       "        (alpha): Linear(in_features=64, out_features=64, bias=True)\n",
       "        (theta): Sequential(\n",
       "          (0): Conv1d(3, 64, kernel_size=(1,), stride=(1,))\n",
       "          (1): ReLU()\n",
       "          (2): Conv1d(64, 64, kernel_size=(1,), stride=(1,))\n",
       "        )\n",
       "      )\n",
       "      (fcl2): Linear(in_features=64, out_features=64, bias=True)\n",
       "    )\n",
       "    (down2): TransitionDown(\n",
       "      (mlp): Sequential(\n",
       "        (0): Conv1d(64, 128, kernel_size=(1,), stride=(1,))\n",
       "        (1): BatchNorm1d(128, eps=1e-05, momentum=0.1, affine=True, track_running_stats=True)\n",
       "        (2): ReLU()\n",
       "      )\n",
       "    )\n",
       "    (transformer3): PointTransformer(\n",
       "      (fcl1): Linear(in_features=128, out_features=128, bias=True)\n",
       "      (transformer): TransformerLayer(\n",
       "        (phi): Linear(in_features=128, out_features=128, bias=True)\n",
       "        (psi): Linear(in_features=128, out_features=128, bias=True)\n",
       "        (alpha): Linear(in_features=128, out_features=128, bias=True)\n",
       "        (theta): Sequential(\n",
       "          (0): Conv1d(3, 128, kernel_size=(1,), stride=(1,))\n",
       "          (1): ReLU()\n",
       "          (2): Conv1d(128, 128, kernel_size=(1,), stride=(1,))\n",
       "        )\n",
       "      )\n",
       "      (fcl2): Linear(in_features=128, out_features=128, bias=True)\n",
       "    )\n",
       "    (down3): TransitionDown(\n",
       "      (mlp): Sequential(\n",
       "        (0): Conv1d(128, 256, kernel_size=(1,), stride=(1,))\n",
       "        (1): BatchNorm1d(256, eps=1e-05, momentum=0.1, affine=True, track_running_stats=True)\n",
       "        (2): ReLU()\n",
       "      )\n",
       "    )\n",
       "    (transformer4): PointTransformer(\n",
       "      (fcl1): Linear(in_features=256, out_features=256, bias=True)\n",
       "      (transformer): TransformerLayer(\n",
       "        (phi): Linear(in_features=256, out_features=256, bias=True)\n",
       "        (psi): Linear(in_features=256, out_features=256, bias=True)\n",
       "        (alpha): Linear(in_features=256, out_features=256, bias=True)\n",
       "        (theta): Sequential(\n",
       "          (0): Conv1d(3, 256, kernel_size=(1,), stride=(1,))\n",
       "          (1): ReLU()\n",
       "          (2): Conv1d(256, 256, kernel_size=(1,), stride=(1,))\n",
       "        )\n",
       "      )\n",
       "      (fcl2): Linear(in_features=256, out_features=256, bias=True)\n",
       "    )\n",
       "    (down4): TransitionDown(\n",
       "      (mlp): Sequential(\n",
       "        (0): Conv1d(256, 512, kernel_size=(1,), stride=(1,))\n",
       "        (1): BatchNorm1d(512, eps=1e-05, momentum=0.1, affine=True, track_running_stats=True)\n",
       "        (2): ReLU()\n",
       "      )\n",
       "    )\n",
       "    (transformer5): PointTransformer(\n",
       "      (fcl1): Linear(in_features=512, out_features=512, bias=True)\n",
       "      (transformer): TransformerLayer(\n",
       "        (phi): Linear(in_features=512, out_features=512, bias=True)\n",
       "        (psi): Linear(in_features=512, out_features=512, bias=True)\n",
       "        (alpha): Linear(in_features=512, out_features=512, bias=True)\n",
       "        (theta): Sequential(\n",
       "          (0): Conv1d(3, 512, kernel_size=(1,), stride=(1,))\n",
       "          (1): ReLU()\n",
       "          (2): Conv1d(512, 512, kernel_size=(1,), stride=(1,))\n",
       "        )\n",
       "      )\n",
       "      (fcl2): Linear(in_features=512, out_features=512, bias=True)\n",
       "    )\n",
       "  )\n",
       "  (classification_head): Sequential(\n",
       "    (0): Linear(in_features=512, out_features=256, bias=True)\n",
       "    (1): BatchNorm1d(256, eps=1e-05, momentum=0.1, affine=True, track_running_stats=True)\n",
       "    (2): ReLU()\n",
       "    (3): Linear(in_features=256, out_features=10, bias=True)\n",
       "  )\n",
       ")"
      ]
     },
     "execution_count": 85,
     "metadata": {},
     "output_type": "execute_result"
    }
   ],
   "source": [
    "# create a new pointtransformer\n",
    "pointtransformer = PointTransformerClassifier(num_classes=10)\n",
    "pointtransformer.to(device)"
   ]
  },
  {
   "cell_type": "code",
   "execution_count": 86,
   "metadata": {},
   "outputs": [
    {
     "name": "stdout",
     "output_type": "stream",
     "text": [
      "torch.Size([64, 10])\n"
     ]
    }
   ],
   "source": [
    "# quick sanity check\n",
    "test_data = torch.rand(batch_size, num_points, 3).to(device)\n",
    "\n",
    "x = pointtransformer(test_data)\n",
    "print(x.shape)"
   ]
  },
  {
   "cell_type": "code",
   "execution_count": 87,
   "metadata": {},
   "outputs": [
    {
     "data": {
      "text/plain": [
       "PointNetClassifier(\n",
       "  (backbone): PointNetBackbone(\n",
       "    (tnet1): Transformer(\n",
       "      (mlp): Sequential(\n",
       "        (0): Conv1d(3, 64, kernel_size=(1,), stride=(1,))\n",
       "        (1): ReLU()\n",
       "        (2): BatchNorm1d(64, eps=1e-05, momentum=0.1, affine=True, track_running_stats=True)\n",
       "        (3): Conv1d(64, 128, kernel_size=(1,), stride=(1,))\n",
       "        (4): ReLU()\n",
       "        (5): BatchNorm1d(128, eps=1e-05, momentum=0.1, affine=True, track_running_stats=True)\n",
       "        (6): Conv1d(128, 1024, kernel_size=(1,), stride=(1,))\n",
       "        (7): ReLU()\n",
       "        (8): BatchNorm1d(1024, eps=1e-05, momentum=0.1, affine=True, track_running_stats=True)\n",
       "      )\n",
       "      (fcl): Sequential(\n",
       "        (0): Linear(in_features=1024, out_features=512, bias=True)\n",
       "        (1): ReLU()\n",
       "        (2): BatchNorm1d(512, eps=1e-05, momentum=0.1, affine=True, track_running_stats=True)\n",
       "        (3): Linear(in_features=512, out_features=256, bias=True)\n",
       "        (4): ReLU()\n",
       "        (5): BatchNorm1d(256, eps=1e-05, momentum=0.1, affine=True, track_running_stats=True)\n",
       "        (6): Linear(in_features=256, out_features=9, bias=True)\n",
       "      )\n",
       "    )\n",
       "    (mlp1): Sequential(\n",
       "      (0): Conv1d(3, 64, kernel_size=(1,), stride=(1,))\n",
       "      (1): ReLU()\n",
       "      (2): BatchNorm1d(64, eps=1e-05, momentum=0.1, affine=True, track_running_stats=True)\n",
       "      (3): Conv1d(64, 64, kernel_size=(1,), stride=(1,))\n",
       "      (4): ReLU()\n",
       "      (5): BatchNorm1d(64, eps=1e-05, momentum=0.1, affine=True, track_running_stats=True)\n",
       "    )\n",
       "    (tnet2): Transformer(\n",
       "      (mlp): Sequential(\n",
       "        (0): Conv1d(64, 64, kernel_size=(1,), stride=(1,))\n",
       "        (1): ReLU()\n",
       "        (2): BatchNorm1d(64, eps=1e-05, momentum=0.1, affine=True, track_running_stats=True)\n",
       "        (3): Conv1d(64, 128, kernel_size=(1,), stride=(1,))\n",
       "        (4): ReLU()\n",
       "        (5): BatchNorm1d(128, eps=1e-05, momentum=0.1, affine=True, track_running_stats=True)\n",
       "        (6): Conv1d(128, 1024, kernel_size=(1,), stride=(1,))\n",
       "        (7): ReLU()\n",
       "        (8): BatchNorm1d(1024, eps=1e-05, momentum=0.1, affine=True, track_running_stats=True)\n",
       "      )\n",
       "      (fcl): Sequential(\n",
       "        (0): Linear(in_features=1024, out_features=512, bias=True)\n",
       "        (1): ReLU()\n",
       "        (2): BatchNorm1d(512, eps=1e-05, momentum=0.1, affine=True, track_running_stats=True)\n",
       "        (3): Linear(in_features=512, out_features=256, bias=True)\n",
       "        (4): ReLU()\n",
       "        (5): BatchNorm1d(256, eps=1e-05, momentum=0.1, affine=True, track_running_stats=True)\n",
       "        (6): Linear(in_features=256, out_features=4096, bias=True)\n",
       "      )\n",
       "    )\n",
       "    (mlp2): Sequential(\n",
       "      (0): Conv1d(64, 64, kernel_size=(1,), stride=(1,))\n",
       "      (1): ReLU()\n",
       "      (2): BatchNorm1d(64, eps=1e-05, momentum=0.1, affine=True, track_running_stats=True)\n",
       "      (3): Conv1d(64, 128, kernel_size=(1,), stride=(1,))\n",
       "      (4): ReLU()\n",
       "      (5): BatchNorm1d(128, eps=1e-05, momentum=0.1, affine=True, track_running_stats=True)\n",
       "      (6): Conv1d(128, 1024, kernel_size=(1,), stride=(1,))\n",
       "      (7): ReLU()\n",
       "      (8): BatchNorm1d(1024, eps=1e-05, momentum=0.1, affine=True, track_running_stats=True)\n",
       "    )\n",
       "  )\n",
       "  (classification_head): Sequential(\n",
       "    (0): Linear(in_features=1024, out_features=512, bias=True)\n",
       "    (1): BatchNorm1d(512, eps=1e-05, momentum=0.1, affine=True, track_running_stats=True)\n",
       "    (2): ReLU()\n",
       "    (3): Linear(in_features=512, out_features=256, bias=True)\n",
       "    (4): BatchNorm1d(256, eps=1e-05, momentum=0.1, affine=True, track_running_stats=True)\n",
       "    (5): ReLU()\n",
       "    (6): Dropout(p=0.3, inplace=False)\n",
       "    (7): Linear(in_features=256, out_features=10, bias=True)\n",
       "  )\n",
       ")"
      ]
     },
     "execution_count": 87,
     "metadata": {},
     "output_type": "execute_result"
    }
   ],
   "source": [
    "# create a new pointnet\n",
    "pointnet = PointNetClassifier(num_classes=10)\n",
    "pointnet.to(device)"
   ]
  },
  {
   "cell_type": "code",
   "execution_count": 88,
   "metadata": {},
   "outputs": [
    {
     "name": "stdout",
     "output_type": "stream",
     "text": [
      "torch.Size([10, 64, 64])\n",
      "torch.Size([10, 10])\n"
     ]
    }
   ],
   "source": [
    "# quick sanity check\n",
    "test_data = torch.rand(10, 3, num_points).to(device)\n",
    "\n",
    "output, A = pointnet(test_data)\n",
    "print(A.shape)\n",
    "print(output.shape)"
   ]
  },
  {
   "cell_type": "code",
   "execution_count": 89,
   "metadata": {},
   "outputs": [],
   "source": [
    "# training hyperparameters\n",
    "num_epochs = 50\n",
    "learning_rate = 0.00001\n",
    "\n",
    "# reg_weight used for training pointnet\n",
    "#reg_weight = 0.0001\n",
    "\n",
    "optimizer = optim.Adam(pointtransformer.parameters(), lr=learning_rate)\n",
    "\n",
    "# scheduler sometimes works, maybe a better one can be used\n",
    "#scheduler = torch.optim.lr_scheduler.CyclicLR(optimizer, base_lr=0.00001, max_lr=0.0001, \n",
    "#                                              step_size_up=2000, cycle_momentum=False)\n",
    "\n",
    "criterion = nn.CrossEntropyLoss().to(device)\n",
    "\n",
    "# special crossentropy loss defined for pointnet that incorporates reg_weight\n",
    "#criterion = PointNetClassificationLoss(reg_weight=reg_weight).to(device)"
   ]
  },
  {
   "cell_type": "code",
   "execution_count": 91,
   "metadata": {},
   "outputs": [
    {
     "data": {
      "text/plain": [
       "<All keys matched successfully>"
      ]
     },
     "execution_count": 91,
     "metadata": {},
     "output_type": "execute_result"
    }
   ],
   "source": [
    "# load a pointnet from a saved state\n",
    "checkpoint_pointnet = torch.load(\"pointnet_modelnet10.pth\", map_location=torch.device(device))\n",
    "pointnet.load_state_dict(checkpoint_pointnet['model_state_dict'])\n",
    "\n",
    "checkpoint_pointtransformer = torch.load(\"pointtransformer_modelnet10.pth\", map_location=torch.device(device))\n",
    "pointtransformer.load_state_dict(checkpoint_pointtransformer['model_state_dict'])"
   ]
  },
  {
   "cell_type": "code",
   "execution_count": null,
   "metadata": {},
   "outputs": [],
   "source": [
    "# training loop, currently set up for training pointtransformer\n",
    "#directory = \"./pointtransformer_modelnet10\"\n",
    "#os.makedirs(directory, exist_ok=True)\n",
    "\n",
    "for epoch in range(num_epochs):\n",
    "\n",
    "    accuracy = 0\n",
    "    loss_avg = 0\n",
    "    count = 0\n",
    "\n",
    "    pointtransformer.train()\n",
    "    for data in trainloader:\n",
    "\n",
    "        clouds = data.pos.view(data.batch[-1]+1, num_points, 3).to(device)\n",
    "        # pointnet requires transposed data, pointtransformer does not\n",
    "        #clouds = clouds.transpose(2, 1).to(device)\n",
    "\n",
    "        labels = data.y.to(device)\n",
    "\n",
    "        optimizer.zero_grad()\n",
    "\n",
    "        outputs = pointtransformer(clouds)\n",
    "        loss = criterion(outputs, labels)\n",
    "        loss.backward()\n",
    "        optimizer.step()\n",
    "        #scheduler.step()\n",
    "\n",
    "        loss_avg += loss.item()\n",
    "        count += 1\n",
    "    \n",
    "    loss_avg = loss_avg/count\n",
    "    \n",
    "    pointtransformer.eval()\n",
    "    with torch.no_grad():\n",
    "        correct = 0\n",
    "        total = 0\n",
    "        for data in testloader:\n",
    "            \n",
    "            clouds = data.pos.view(data.batch[-1]+1, num_points, 3).to(device)\n",
    "            # pointnet requires transposed data, pointtransformer does not\n",
    "            #clouds = clouds.transpose(2,1).to(device)\n",
    "\n",
    "            labels = data.y.to(device)\n",
    "            \n",
    "            outputs = pointtransformer(clouds)\n",
    "\n",
    "            _, predicted = torch.max(outputs.data, 1)\n",
    "            total += labels.size(0)\n",
    "            correct += (predicted == labels).sum().item()\n",
    "\n",
    "        accuracy = correct/total\n",
    "    \n",
    "    print(\"{}   [Epoch {:3}]  Loss: {:8.4}  Accuracy:   {:8.4}%\".format(datetime.datetime.now(), epoch, loss_avg, 100*accuracy))\n",
    "\n",
    "'''\n",
    "    torch.save(\n",
    "        {'model_state_dict': pointnet.state_dict()},\n",
    "        directory + \"/epoch_\" + str(epoch) + \".pth\")\n",
    "'''"
   ]
  },
  {
   "cell_type": "code",
   "execution_count": 93,
   "metadata": {},
   "outputs": [
    {
     "name": "stdout",
     "output_type": "stream",
     "text": [
      "2025-03-11 01:55:22.046050   Accuracy:      90.86%\n"
     ]
    }
   ],
   "source": [
    "pointnet.eval()\n",
    "with torch.no_grad():\n",
    "    correct = 0\n",
    "    total = 0\n",
    "    for data in testloader:\n",
    "        \n",
    "        clouds = data.pos.view(data.batch[-1]+1, num_points, 3).to(device)\n",
    "        clouds = clouds.transpose(2, 1).to(device)\n",
    "\n",
    "        labels = data.y.to(device)\n",
    "            \n",
    "        outputs, _ = pointnet(clouds)\n",
    "\n",
    "        _, predicted = torch.max(outputs.data, 1)\n",
    "        total += labels.size(0)\n",
    "        correct += (predicted == labels).sum().item()\n",
    "    \n",
    "    accuracy = correct/total\n",
    "\n",
    "    print(\"{}   Accuracy:   {:8.4}%\".format(datetime.datetime.now(), 100*accuracy))"
   ]
  },
  {
   "cell_type": "code",
   "execution_count": 96,
   "metadata": {},
   "outputs": [
    {
     "name": "stdout",
     "output_type": "stream",
     "text": [
      "Predicted Class: table    Certainty:    71.37   Actual Class:   desk\n"
     ]
    },
    {
     "data": {
      "application/vnd.plotly.v1+json": {
       "config": {
        "plotlyServerURL": "https://plot.ly"
       },
       "data": [
        {
         "marker": {
          "color": "white",
          "size": 1
         },
         "mode": "markers",
         "type": "scatter3d",
         "x": {
          "bdata": "yuQ4vpBLzT5hll6+BmOivrcreT6thAw/6G9VPb0EJT4qocy87Qg3voBC8zzlf7A+7qHOvXslqr6FcMi+GkqyvtWUWT4KC6W+r+9wvmwHeL5erbo+KorKvpnK/T3Fqso+5m42PgbETT1/Sw69VZSsvkEkkL5Dz3w+oPpmPghQgT5RpD8+mAWTPgKuEb4aSrK+DkR7viqKyr5zAg6+FNecvvn3JD4jltA+i3+IvhkRxb5l9YA+x199vU9SrD7lmoq+I2eBPgVbWj6vyL0+zAjmPna47jyiAu8+CftgPuczrT5Dz3w+KorKvgzQWD7YixW+gHWuvusNoL6kfD6+f7n9PYsLe75ZiqE89EB4PiOW0D66a1S8NJHPPrEnAz9Dz3w+qaViPuksZj41luG9J+WIvZ5eTT7AbJ2+Lb9oPsRVtr70Wb4+5Ep4PkPPfD5t5No+5fC9vp3pj770Wb4+gBQFP+Wair4WQae+aDANPxzQAD9O+Zq8+69wPujXcj3GLkw+ioK6Pq9vxb2m95I+Q898PgkIZz497tg+FNecvhRXuTvVT44+TOVfPlIhg74txGY+/4hXPpb6OL70Wb4+2kccPvrujL6uCRK+Q898PnmC4j6czNM+3/oBPiE5ej7R0Ps+gTJmvF30ZD5fesW+UzdjPtp4bD7BBw2+Q1mSvlJk4T4l7qq+b2iqPqAucD6Ukjc89R3DPnvCmb53r0c+kQ1XPvRZvj4arNI9LYzHPYRzm76IBlA++DnMPZYHaj5N5Zg+wu5nPo/GoT5iWAI+zAjmPvnZqb6H0QU/pbNEvuWair45aVu+lAChvQWWEz4U15y+iFnxPc46aD7ZWOM9SQeDPpRmLTzvmWc+5ZqKvmicBz/NbmO+5ZqKvsUMJL7VSCc9F54vPhb29j7nnrG+sRoqPVLfU7yK0lQ96w2gvlWuaT4jltA+FPe8vvvBrz4gdeI+A6UGvkEhpj6X0se++JyzPlUp2D7lmoq+9BjLPrxWmz5Mmu4+GkqyvlxukD68Uzm+sSCSvur2nb6cGbG+TuuqvuWair4BlaO+nG0HP1L1zryQygI/1fF2PusNoL5GAIg+GffRPsZfKD5OCxq9kOSvPhpKsr4qisq+eHsUPiokir7rDaC+mUsFP3z47T6oc4i+FCCdPiqlpr6Eoeg9veDHPrtxij4FkAg/k/TjPs40tb0U15y+HqLOvQvL/D63TQM/LHrjPneS2T7nXsM+rxsJP6s0Qr1gANY+wrgLP3r307229BK8r54HPzQZrryrywO9xO20vSqKyr7GLkw+1DtSPhpKsr43xYm9MDcXvsQXkT3GLkw+BNZyPqhXw77uYJg8dD1oPn7+sL5g7G29oqSTvpdSw72//1W+w6tiPmYEsL6uG9g9abb3Pg3TdD4Hloy94Sc3PSOW0D7vrGQ+XUMTPjDSOj6hB+s+VNqbvij/f76czNM+RDdyvdjBp75Dz3w+kExyPQx9ob5/+eY+INhuPswI5j62Shq8pVlWPofCGT4GdrI9SRZbvuuzVz4jltA+GQmJvP0j6b0L9H2+2lV4PnSDcT7Vb/A+BJCZvoT7zj6E4mc+bYeAPoEfZj4qisq+KorKviOW0D7MCOY+JNLOPgFoQ77yLOQ+Wf+1vkPPfD4Kj9c9B9CNvpY+Zj4qisq+I5bQPuWair531YE7EaFbvAVRrL0ue7g+UbDAvuWair4H9II+6vq9vUTTuD7LIro+kVspPmzUMr4U15y+0Yj9vUsgv77XEIe80BqyPqhmYz6h9Pk+/fvIPuaVeT7EuRC+f6H2Ph6dvD56g7G+iD0AP6mlVT5V3Q0/d2wHu/GchD5x+nW+PFuYPQFqbz6jfci+qrq7vjy1Rr6gudg+3zmRvpL0s7283rk+8eHbutYWB77GLkw+1gekvrr9Cb6czNM+K8WoPr8tAz7Mu/i9IDVzvna10z6JJz4+p9KIPj8Pg71Dz3w+FNecvkPPfD5SwrO+kux1Pg6rU7514bw+ZoSevoAmwz4jltA+iDWWPtVFiz0U15y+aD1cPipIE74nkME9w/KbPoQecD7B1XA+NzRoPv8cW76hTI69W7iGPmCQoj5v6Kg+5ZqKvhkD2z4cQfI+1i2nvsXZir4fCQQ9LelCPusNoL5GR3M+lONBvvH75bpRqyi+GcRtPhpKsr6YKbe+L9ljPnPb7T4nWCy+jT4OPrth1T5m+5s+iGdxPuxU7j2itSi+6w2gvr9MfDwek9k+CvmzPrC6Vz7NdAc/7//kPR7f1j0PSQ49ZUaMvjiPrz5tan8+zAjmPlEEpb4fv4c+McPfvR1VBj/CUpK8bQ9jvgEuZz4aSrK+uw5rPgCzcD0qisq+miXZvWXpoj2nOW++hX2dPnsQ4D5HYdc9BjSavvkb4D1RiD6+nMzTPpzM0z6mTW2+EaZfvApA1D29zFs9M1RcPhTXnL4Y/ms+zk7yvfxd6j3I0LS99BZ5PsWIRL7jHAO+JCGcPqt/oj4rK6q+nMzTPglAZT4aSrK+2OQYvswI5j6h/2g+1kPXPlXdDT/+P4E+94F9vfJbdz7MCOY+b2JGvZTEkT74CDk+2o1jPvRZvj7GLkw+FNecvnowmr2f5CS+RziDvfkMoT2peV69RDL2PZNkor4G6VE+kTWWvpviBT9V3Q0/mdpXvnJiMz7Zc1s+YSrJPjLRm74jltA+5ZqKvhDpkb5AI2s9zAjmPgZtj7zpobS9ctjPu+Wair4i7sq9+ST6PlpJyj7yD/Q+xaqMvaULyT5h0mW+5ZqKvswI5j7GLkw+DMqVvvEL3Ll3wJ0+X1mmPvn/vz0BfuO7iUaFPa+bp74LK6C9ICc8vsf1Aj/GLkw+86acvjxL6T7nDFs+osiivkFsYr7bSUS9QCEXvSqKyr5Og869zUonvbpIaD48bzY9FNecvu8Cejv3NJi+d+aPPgFmnL4Wkmu+I5bQPiqKyr7lmoq+5FmRPgU7DL60irE+0Oy5Pm7XrD5QFtQ+10jVPrXWUT4mW8c+DiJNPk2cWT46PYY9wBaTPgFE37wNJZ49PC/1PVXdDT9NuB6+R0W9Psbz7z7T/I49PMGmPptKLL59Zoq+FNecvlOdXD5gbxW+dKqtvgs0Bz4AgpY+F3oVvnh46b2vrZA+kQLBvvKTVTzuUQ0/FG5PPmhynL4gAIo+p6jmPdfrqD4npLW+IDcdPvqAkT4bC5C+5ZqKvtmahT7of5a+iuRpPh8Haz6dA6I+LL+cvjmExD4EZDQ+Gkqyvlg1E74U15y+9d+mOjqbGr2iEWk+rNglvsV/Aj+qdq6+mmaavs0a5D4POoq8QHZ1vXRwqb62nf4+lNIXvvRZvj4MCZa+4ZmvvkElnb7hkLs9Vd0NP/Hhrb4bFTO+Vd0NP77CDD+Lgl0+IchDPjLTUr7U8So+Tt9lPiVECz/ph988yC+cvvHM2zoU15y+PX1JPt/Q/T3TrWU+9gKdPcYuTD41oaG8r8EAPY+LOT5Fq4e+10HBPvNmwD7wx5A8V7SlvpXb3T7J5eA9oYVovl6u5T7xugk+rNWPPqKs2T7IzVC+eUPdvGvX9z4W24g+Lw5ePoSBL70khqi+ee3ivffXijrhs3m+kouLvroFcz7JwA4+ekLYPeWair7/pFw+cKOjvuSUJT6aP2w+v3P+vLQCGr7f2gu+y85yPqK7TD2XS4M+R2fxPlQquz3fqtk+bCcCvvvXjr5URq6976wjPksDj75C4fI+KorKvocVmb4fSMo+q4vgPj23AT91vKI+7oN3Pk8Cwj3uzlg+nMzTPvRZvj4YIWc+SCHTvWcxAz/iKxU+tXGhPBTMMjzRnd8+RYraPjMdjL5uECm+5ZqKviPiHb610Oo+NZimu5DSrr29SL8+6PyYvlXdDT9d6PM9sCTCPvhxnT6sbpA+tMe1vfKOYD4+q04+NOZTvesNoL6tfwS+LJdRvibV8T5VhAY/X0D1vch4TD7lmoq+8UYqvpqSVj7bIpM+Cq+GPkL6jL62WY88AvbfPswI5j5/ISs+P0DEPvRZvj6k4xo+0QuDvsj4GL4aSrK+g5RuPvJRBj8DO3u+AQ21vhTXnL6czNM+JiIcPQFmAb5n7xI+V9pdPgFjIL4WJGY+DQqAPqG90z5gc4c+wwJ6vk0T3T7Ow5C+GUfBvnJXzT7HKEK9Ukw5vstsPj6/dpO+EaGevpdGWz6A/Qm+1jI2Pk9mwj4biX49pTtMPuHhpr4SBYM+JsMOPsVXJr7/Q76+jsmvvoVPRL6rwEA+LB5gPk3AC76V4eY+f9NQPni7wT7hA2g+DZfiPcYuTD5PUKm+GevlPfDDcTyJr4w+4a+tPl0V8T4QhpS+MWcIvusNoL5+44q+xi5MPhpKsr6ByW8+xi5MPktgET7MuJi+ynY0vktZ4T416Kg8SofdvU073T4HUZa+aO4BP9KKCT/GLkw+mPS7PpzM0z5rPJC+nm3NPvmWfz7yX8c+HRy9vSAXV77dIKG9LzNCPgAYO75Zbk8+FNecvsfPqb7+B46+It+mvmb5uj5ywEC+70V7OtdZ/D21E6c9CnHWPiqKyr7lmoq+GkqyvhTXnL5VvWg+QYfiPBOKhD6JRGm+tuO0vkbPnr5TAvq95ZqKvtMm0z4qisq+qSzevGjZFr6ZmZA+DzDKPSlAWT7ANmU+nMzTPrtpYr58Kuk+NKCvPiOW0D4ahDI+KorKvpxBzT6IH24+xi5MPkhzM723goy8I5bQPkQjuj6czNM+IxayvkKvJr6uqAI/9Fm+Ptxyqj4KBgk/YD78PtGner5V3Q0/nMzTPusNoL4U15y+Lx7BPhZJnz5Jq0o+DTVdPYxvZb6ltOg+Vd0NPyN0cz70Wb4+zAjmPk/oej6czNM+hRKJvlXdDT+SrZC919EHPbjWjr4BV8o+LVyFPphM7LwU15y+xi5MPioRlD3clJU+VFVZPnAvtz4U15y+KjGSvho9BT54Y2s+PhYMPyRcszz1Vn4+eLWzPsYuTD4XCOI+phLSvRpKsr5DE2I+lkjaPTBhxb5Dz3w+F2Ohvo5K5z7uy/s+SB3JPpzM0z5V3Q0/R0K+vgfQwj5V3Q0/3vuOPdn9sr5V3Q0/Q898PthWbz4ktLk8AXxEPrXtXT5xGsU+FNecvmXCkL70Wb4+xi5MPl+U3j7PyE0+IqKhPf5wvD63WXs+FNecvl6M+z7HExE+H62MvVXdDT9mg+Y+bCCoPiqKyr5/SwO+b66IPPPPPDlnKn6+sFnsO3I1ub0wMqM+nCejPs/fRr200Ns+FtmpPsL71DxUgLi+DLO7PMBF4T5K54u+8XvIPuMWxz2kdC89TNFoPrmsm77lmoq+I5bQPrswm77IjJS+Ry+FPZrQcz5+ZLg+VZxvPg2NK756thy+wzN5Po/kCD9V3Q0/EB+6vetp5z7ZCH6+6w2gvmk3Vj7M35C+uQlqPrYnQj70Wb4+0eoEP8YuTD6+T7o+rQKLvg==",
          "dtype": "f4"
         },
         "y": {
          "bdata": "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",
          "dtype": "f4"
         },
         "z": {
          "bdata": "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",
          "dtype": "f4"
         }
        }
       ],
       "layout": {
        "scene": {
         "xaxis": {
          "visible": false
         },
         "yaxis": {
          "visible": false
         },
         "zaxis": {
          "visible": false
         }
        },
        "template": {
         "data": {
          "bar": [
           {
            "error_x": {
             "color": "#f2f5fa"
            },
            "error_y": {
             "color": "#f2f5fa"
            },
            "marker": {
             "line": {
              "color": "rgb(17,17,17)",
              "width": 0.5
             },
             "pattern": {
              "fillmode": "overlay",
              "size": 10,
              "solidity": 0.2
             }
            },
            "type": "bar"
           }
          ],
          "barpolar": [
           {
            "marker": {
             "line": {
              "color": "rgb(17,17,17)",
              "width": 0.5
             },
             "pattern": {
              "fillmode": "overlay",
              "size": 10,
              "solidity": 0.2
             }
            },
            "type": "barpolar"
           }
          ],
          "carpet": [
           {
            "aaxis": {
             "endlinecolor": "#A2B1C6",
             "gridcolor": "#506784",
             "linecolor": "#506784",
             "minorgridcolor": "#506784",
             "startlinecolor": "#A2B1C6"
            },
            "baxis": {
             "endlinecolor": "#A2B1C6",
             "gridcolor": "#506784",
             "linecolor": "#506784",
             "minorgridcolor": "#506784",
             "startlinecolor": "#A2B1C6"
            },
            "type": "carpet"
           }
          ],
          "choropleth": [
           {
            "colorbar": {
             "outlinewidth": 0,
             "ticks": ""
            },
            "type": "choropleth"
           }
          ],
          "contour": [
           {
            "colorbar": {
             "outlinewidth": 0,
             "ticks": ""
            },
            "colorscale": [
             [
              0,
              "#0d0887"
             ],
             [
              0.1111111111111111,
              "#46039f"
             ],
             [
              0.2222222222222222,
              "#7201a8"
             ],
             [
              0.3333333333333333,
              "#9c179e"
             ],
             [
              0.4444444444444444,
              "#bd3786"
             ],
             [
              0.5555555555555556,
              "#d8576b"
             ],
             [
              0.6666666666666666,
              "#ed7953"
             ],
             [
              0.7777777777777778,
              "#fb9f3a"
             ],
             [
              0.8888888888888888,
              "#fdca26"
             ],
             [
              1,
              "#f0f921"
             ]
            ],
            "type": "contour"
           }
          ],
          "contourcarpet": [
           {
            "colorbar": {
             "outlinewidth": 0,
             "ticks": ""
            },
            "type": "contourcarpet"
           }
          ],
          "heatmap": [
           {
            "colorbar": {
             "outlinewidth": 0,
             "ticks": ""
            },
            "colorscale": [
             [
              0,
              "#0d0887"
             ],
             [
              0.1111111111111111,
              "#46039f"
             ],
             [
              0.2222222222222222,
              "#7201a8"
             ],
             [
              0.3333333333333333,
              "#9c179e"
             ],
             [
              0.4444444444444444,
              "#bd3786"
             ],
             [
              0.5555555555555556,
              "#d8576b"
             ],
             [
              0.6666666666666666,
              "#ed7953"
             ],
             [
              0.7777777777777778,
              "#fb9f3a"
             ],
             [
              0.8888888888888888,
              "#fdca26"
             ],
             [
              1,
              "#f0f921"
             ]
            ],
            "type": "heatmap"
           }
          ],
          "histogram": [
           {
            "marker": {
             "pattern": {
              "fillmode": "overlay",
              "size": 10,
              "solidity": 0.2
             }
            },
            "type": "histogram"
           }
          ],
          "histogram2d": [
           {
            "colorbar": {
             "outlinewidth": 0,
             "ticks": ""
            },
            "colorscale": [
             [
              0,
              "#0d0887"
             ],
             [
              0.1111111111111111,
              "#46039f"
             ],
             [
              0.2222222222222222,
              "#7201a8"
             ],
             [
              0.3333333333333333,
              "#9c179e"
             ],
             [
              0.4444444444444444,
              "#bd3786"
             ],
             [
              0.5555555555555556,
              "#d8576b"
             ],
             [
              0.6666666666666666,
              "#ed7953"
             ],
             [
              0.7777777777777778,
              "#fb9f3a"
             ],
             [
              0.8888888888888888,
              "#fdca26"
             ],
             [
              1,
              "#f0f921"
             ]
            ],
            "type": "histogram2d"
           }
          ],
          "histogram2dcontour": [
           {
            "colorbar": {
             "outlinewidth": 0,
             "ticks": ""
            },
            "colorscale": [
             [
              0,
              "#0d0887"
             ],
             [
              0.1111111111111111,
              "#46039f"
             ],
             [
              0.2222222222222222,
              "#7201a8"
             ],
             [
              0.3333333333333333,
              "#9c179e"
             ],
             [
              0.4444444444444444,
              "#bd3786"
             ],
             [
              0.5555555555555556,
              "#d8576b"
             ],
             [
              0.6666666666666666,
              "#ed7953"
             ],
             [
              0.7777777777777778,
              "#fb9f3a"
             ],
             [
              0.8888888888888888,
              "#fdca26"
             ],
             [
              1,
              "#f0f921"
             ]
            ],
            "type": "histogram2dcontour"
           }
          ],
          "mesh3d": [
           {
            "colorbar": {
             "outlinewidth": 0,
             "ticks": ""
            },
            "type": "mesh3d"
           }
          ],
          "parcoords": [
           {
            "line": {
             "colorbar": {
              "outlinewidth": 0,
              "ticks": ""
             }
            },
            "type": "parcoords"
           }
          ],
          "pie": [
           {
            "automargin": true,
            "type": "pie"
           }
          ],
          "scatter": [
           {
            "marker": {
             "line": {
              "color": "#283442"
             }
            },
            "type": "scatter"
           }
          ],
          "scatter3d": [
           {
            "line": {
             "colorbar": {
              "outlinewidth": 0,
              "ticks": ""
             }
            },
            "marker": {
             "colorbar": {
              "outlinewidth": 0,
              "ticks": ""
             }
            },
            "type": "scatter3d"
           }
          ],
          "scattercarpet": [
           {
            "marker": {
             "colorbar": {
              "outlinewidth": 0,
              "ticks": ""
             }
            },
            "type": "scattercarpet"
           }
          ],
          "scattergeo": [
           {
            "marker": {
             "colorbar": {
              "outlinewidth": 0,
              "ticks": ""
             }
            },
            "type": "scattergeo"
           }
          ],
          "scattergl": [
           {
            "marker": {
             "line": {
              "color": "#283442"
             }
            },
            "type": "scattergl"
           }
          ],
          "scattermap": [
           {
            "marker": {
             "colorbar": {
              "outlinewidth": 0,
              "ticks": ""
             }
            },
            "type": "scattermap"
           }
          ],
          "scattermapbox": [
           {
            "marker": {
             "colorbar": {
              "outlinewidth": 0,
              "ticks": ""
             }
            },
            "type": "scattermapbox"
           }
          ],
          "scatterpolar": [
           {
            "marker": {
             "colorbar": {
              "outlinewidth": 0,
              "ticks": ""
             }
            },
            "type": "scatterpolar"
           }
          ],
          "scatterpolargl": [
           {
            "marker": {
             "colorbar": {
              "outlinewidth": 0,
              "ticks": ""
             }
            },
            "type": "scatterpolargl"
           }
          ],
          "scatterternary": [
           {
            "marker": {
             "colorbar": {
              "outlinewidth": 0,
              "ticks": ""
             }
            },
            "type": "scatterternary"
           }
          ],
          "surface": [
           {
            "colorbar": {
             "outlinewidth": 0,
             "ticks": ""
            },
            "colorscale": [
             [
              0,
              "#0d0887"
             ],
             [
              0.1111111111111111,
              "#46039f"
             ],
             [
              0.2222222222222222,
              "#7201a8"
             ],
             [
              0.3333333333333333,
              "#9c179e"
             ],
             [
              0.4444444444444444,
              "#bd3786"
             ],
             [
              0.5555555555555556,
              "#d8576b"
             ],
             [
              0.6666666666666666,
              "#ed7953"
             ],
             [
              0.7777777777777778,
              "#fb9f3a"
             ],
             [
              0.8888888888888888,
              "#fdca26"
             ],
             [
              1,
              "#f0f921"
             ]
            ],
            "type": "surface"
           }
          ],
          "table": [
           {
            "cells": {
             "fill": {
              "color": "#506784"
             },
             "line": {
              "color": "rgb(17,17,17)"
             }
            },
            "header": {
             "fill": {
              "color": "#2a3f5f"
             },
             "line": {
              "color": "rgb(17,17,17)"
             }
            },
            "type": "table"
           }
          ]
         },
         "layout": {
          "annotationdefaults": {
           "arrowcolor": "#f2f5fa",
           "arrowhead": 0,
           "arrowwidth": 1
          },
          "autotypenumbers": "strict",
          "coloraxis": {
           "colorbar": {
            "outlinewidth": 0,
            "ticks": ""
           }
          },
          "colorscale": {
           "diverging": [
            [
             0,
             "#8e0152"
            ],
            [
             0.1,
             "#c51b7d"
            ],
            [
             0.2,
             "#de77ae"
            ],
            [
             0.3,
             "#f1b6da"
            ],
            [
             0.4,
             "#fde0ef"
            ],
            [
             0.5,
             "#f7f7f7"
            ],
            [
             0.6,
             "#e6f5d0"
            ],
            [
             0.7,
             "#b8e186"
            ],
            [
             0.8,
             "#7fbc41"
            ],
            [
             0.9,
             "#4d9221"
            ],
            [
             1,
             "#276419"
            ]
           ],
           "sequential": [
            [
             0,
             "#0d0887"
            ],
            [
             0.1111111111111111,
             "#46039f"
            ],
            [
             0.2222222222222222,
             "#7201a8"
            ],
            [
             0.3333333333333333,
             "#9c179e"
            ],
            [
             0.4444444444444444,
             "#bd3786"
            ],
            [
             0.5555555555555556,
             "#d8576b"
            ],
            [
             0.6666666666666666,
             "#ed7953"
            ],
            [
             0.7777777777777778,
             "#fb9f3a"
            ],
            [
             0.8888888888888888,
             "#fdca26"
            ],
            [
             1,
             "#f0f921"
            ]
           ],
           "sequentialminus": [
            [
             0,
             "#0d0887"
            ],
            [
             0.1111111111111111,
             "#46039f"
            ],
            [
             0.2222222222222222,
             "#7201a8"
            ],
            [
             0.3333333333333333,
             "#9c179e"
            ],
            [
             0.4444444444444444,
             "#bd3786"
            ],
            [
             0.5555555555555556,
             "#d8576b"
            ],
            [
             0.6666666666666666,
             "#ed7953"
            ],
            [
             0.7777777777777778,
             "#fb9f3a"
            ],
            [
             0.8888888888888888,
             "#fdca26"
            ],
            [
             1,
             "#f0f921"
            ]
           ]
          },
          "colorway": [
           "#636efa",
           "#EF553B",
           "#00cc96",
           "#ab63fa",
           "#FFA15A",
           "#19d3f3",
           "#FF6692",
           "#B6E880",
           "#FF97FF",
           "#FECB52"
          ],
          "font": {
           "color": "#f2f5fa"
          },
          "geo": {
           "bgcolor": "rgb(17,17,17)",
           "lakecolor": "rgb(17,17,17)",
           "landcolor": "rgb(17,17,17)",
           "showlakes": true,
           "showland": true,
           "subunitcolor": "#506784"
          },
          "hoverlabel": {
           "align": "left"
          },
          "hovermode": "closest",
          "mapbox": {
           "style": "dark"
          },
          "paper_bgcolor": "rgb(17,17,17)",
          "plot_bgcolor": "rgb(17,17,17)",
          "polar": {
           "angularaxis": {
            "gridcolor": "#506784",
            "linecolor": "#506784",
            "ticks": ""
           },
           "bgcolor": "rgb(17,17,17)",
           "radialaxis": {
            "gridcolor": "#506784",
            "linecolor": "#506784",
            "ticks": ""
           }
          },
          "scene": {
           "xaxis": {
            "backgroundcolor": "rgb(17,17,17)",
            "gridcolor": "#506784",
            "gridwidth": 2,
            "linecolor": "#506784",
            "showbackground": true,
            "ticks": "",
            "zerolinecolor": "#C8D4E3"
           },
           "yaxis": {
            "backgroundcolor": "rgb(17,17,17)",
            "gridcolor": "#506784",
            "gridwidth": 2,
            "linecolor": "#506784",
            "showbackground": true,
            "ticks": "",
            "zerolinecolor": "#C8D4E3"
           },
           "zaxis": {
            "backgroundcolor": "rgb(17,17,17)",
            "gridcolor": "#506784",
            "gridwidth": 2,
            "linecolor": "#506784",
            "showbackground": true,
            "ticks": "",
            "zerolinecolor": "#C8D4E3"
           }
          },
          "shapedefaults": {
           "line": {
            "color": "#f2f5fa"
           }
          },
          "sliderdefaults": {
           "bgcolor": "#C8D4E3",
           "bordercolor": "rgb(17,17,17)",
           "borderwidth": 1,
           "tickwidth": 0
          },
          "ternary": {
           "aaxis": {
            "gridcolor": "#506784",
            "linecolor": "#506784",
            "ticks": ""
           },
           "baxis": {
            "gridcolor": "#506784",
            "linecolor": "#506784",
            "ticks": ""
           },
           "bgcolor": "rgb(17,17,17)",
           "caxis": {
            "gridcolor": "#506784",
            "linecolor": "#506784",
            "ticks": ""
           }
          },
          "title": {
           "x": 0.05
          },
          "updatemenudefaults": {
           "bgcolor": "#506784",
           "borderwidth": 0
          },
          "xaxis": {
           "automargin": true,
           "gridcolor": "#283442",
           "linecolor": "#506784",
           "ticks": "",
           "title": {
            "standoff": 15
           },
           "zerolinecolor": "#283442",
           "zerolinewidth": 2
          },
          "yaxis": {
           "automargin": true,
           "gridcolor": "#283442",
           "linecolor": "#506784",
           "ticks": "",
           "title": {
            "standoff": 15
           },
           "zerolinecolor": "#283442",
           "zerolinewidth": 2
          }
         }
        }
       }
      }
     },
     "metadata": {},
     "output_type": "display_data"
    }
   ],
   "source": [
    "idx = random.randint(0, len(dataset_test))\n",
    "\n",
    "data = dataset_test[idx]\n",
    "\n",
    "cloud = data.pos.view(1, num_points, 3).to(device)\n",
    "# pointnet requires transposed data, pointtransformer does not\n",
    "cloud = cloud.transpose(2, 1).to(device)\n",
    "\n",
    "output, _ = pointnet(cloud)\n",
    "\n",
    "probabilities = 100*F.softmax(output.transpose(1,0), dim=0)\n",
    "\n",
    "_, predicted = torch.max(output.data, 1)\n",
    "label = data.y\n",
    "\n",
    "print('Predicted Class: {}    Certainty: {:8.4}   Actual Class:   {}'.format(classes[predicted.item()], probabilities[predicted.item()].item(), classes[label.item()]))\n",
    "\n",
    "fig = go.Figure(\n",
    "  data=[\n",
    "    go.Scatter3d(\n",
    "      x=data.pos[:,0], y=data.pos[:,1], z=data.pos[:,2],\n",
    "      mode='markers',\n",
    "      marker=dict(size=1, color=\"white\"))],\n",
    "  layout=dict(\n",
    "    scene=dict(\n",
    "      xaxis=dict(visible=False),\n",
    "      yaxis=dict(visible=False),\n",
    "      zaxis=dict(visible=False))))\n",
    "\n",
    "fig.update_layout(template='plotly_dark')\n",
    "\n",
    "fig.show()"
   ]
  },
  {
   "cell_type": "code",
   "execution_count": null,
   "metadata": {},
   "outputs": [],
   "source": []
  }
 ],
 "metadata": {
  "kernelspec": {
   "display_name": "pointcloud",
   "language": "python",
   "name": "python3"
  },
  "language_info": {
   "codemirror_mode": {
    "name": "ipython",
    "version": 3
   },
   "file_extension": ".py",
   "mimetype": "text/x-python",
   "name": "python",
   "nbconvert_exporter": "python",
   "pygments_lexer": "ipython3",
   "version": "3.10.16"
  }
 },
 "nbformat": 4,
 "nbformat_minor": 2
}
