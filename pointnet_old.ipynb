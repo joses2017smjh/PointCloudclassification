{
 "cells": [
  {
   "cell_type": "code",
   "execution_count": 2,
   "metadata": {},
   "outputs": [],
   "source": [
    "import torch\n",
    "from torch_geometric.datasets import ModelNet\n",
    "from torch_geometric.transforms import SamplePoints, NormalizeScale\n",
    "from torch_geometric.loader import DataLoader\n",
    "\n",
    "import open3d as o3d\n",
    "import plotly.graph_objects as go\n",
    "\n",
    "import torch.nn as nn\n",
    "import torch.nn.functional as F\n",
    "import torch.optim as optim\n",
    "import datetime\n",
    "import random"
   ]
  },
  {
   "cell_type": "code",
   "execution_count": 4,
   "metadata": {},
   "outputs": [],
   "source": [
    "from pointnet import PointNetClassifier, PointNetClassificationLoss"
   ]
  },
  {
   "cell_type": "code",
   "execution_count": 5,
   "metadata": {},
   "outputs": [],
   "source": [
    "device = \"cuda\""
   ]
  },
  {
   "cell_type": "code",
   "execution_count": 8,
   "metadata": {},
   "outputs": [
    {
     "name": "stdout",
     "output_type": "stream",
     "text": [
      "Number of training examples: 9843\n",
      "Number of test examples: 2468\n"
     ]
    },
    {
     "ename": "AttributeError",
     "evalue": "'ModelNet' object has no attribute 'raw_names'",
     "output_type": "error",
     "traceback": [
      "\u001b[1;31m---------------------------------------------------------------------------\u001b[0m",
      "\u001b[1;31mAttributeError\u001b[0m                            Traceback (most recent call last)",
      "Cell \u001b[1;32mIn[8], line 18\u001b[0m\n\u001b[0;32m     15\u001b[0m \u001b[38;5;28mprint\u001b[39m(\u001b[38;5;124mf\u001b[39m\u001b[38;5;124m'\u001b[39m\u001b[38;5;124mNumber of training examples: \u001b[39m\u001b[38;5;132;01m{\u001b[39;00m\u001b[38;5;28mlen\u001b[39m(dataset_train)\u001b[38;5;132;01m}\u001b[39;00m\u001b[38;5;124m'\u001b[39m)\n\u001b[0;32m     16\u001b[0m \u001b[38;5;28mprint\u001b[39m(\u001b[38;5;124mf\u001b[39m\u001b[38;5;124m'\u001b[39m\u001b[38;5;124mNumber of test examples: \u001b[39m\u001b[38;5;132;01m{\u001b[39;00m\u001b[38;5;28mlen\u001b[39m(dataset_test)\u001b[38;5;132;01m}\u001b[39;00m\u001b[38;5;124m'\u001b[39m)\n\u001b[1;32m---> 18\u001b[0m classes \u001b[38;5;241m=\u001b[39m \u001b[43mdataset_train\u001b[49m\u001b[38;5;241;43m.\u001b[39;49m\u001b[43mraw_names\u001b[49m\n\u001b[0;32m     20\u001b[0m \u001b[38;5;28mprint\u001b[39m(classes)\n\u001b[0;32m     22\u001b[0m data \u001b[38;5;241m=\u001b[39m dataset_train[\u001b[38;5;241m1001\u001b[39m]\n",
      "File \u001b[1;32mc:\\Users\\Joshua\\anaconda3\\envs\\pointcloud\\lib\\site-packages\\torch_geometric\\data\\in_memory_dataset.py:318\u001b[0m, in \u001b[0;36mInMemoryDataset.__getattr__\u001b[1;34m(self, key)\u001b[0m\n\u001b[0;32m    315\u001b[0m         data_list \u001b[38;5;241m=\u001b[39m [\u001b[38;5;28mself\u001b[39m\u001b[38;5;241m.\u001b[39mget(i) \u001b[38;5;28;01mfor\u001b[39;00m i \u001b[38;5;129;01min\u001b[39;00m \u001b[38;5;28mself\u001b[39m\u001b[38;5;241m.\u001b[39mindices()]\n\u001b[0;32m    316\u001b[0m         \u001b[38;5;28;01mreturn\u001b[39;00m Batch\u001b[38;5;241m.\u001b[39mfrom_data_list(data_list)[key]\n\u001b[1;32m--> 318\u001b[0m \u001b[38;5;28;01mraise\u001b[39;00m \u001b[38;5;167;01mAttributeError\u001b[39;00m(\u001b[38;5;124mf\u001b[39m\u001b[38;5;124m\"\u001b[39m\u001b[38;5;124m'\u001b[39m\u001b[38;5;132;01m{\u001b[39;00m\u001b[38;5;28mself\u001b[39m\u001b[38;5;241m.\u001b[39m\u001b[38;5;18m__class__\u001b[39m\u001b[38;5;241m.\u001b[39m\u001b[38;5;18m__name__\u001b[39m\u001b[38;5;132;01m}\u001b[39;00m\u001b[38;5;124m'\u001b[39m\u001b[38;5;124m object has no \u001b[39m\u001b[38;5;124m\"\u001b[39m\n\u001b[0;32m    319\u001b[0m                      \u001b[38;5;124mf\u001b[39m\u001b[38;5;124m\"\u001b[39m\u001b[38;5;124mattribute \u001b[39m\u001b[38;5;124m'\u001b[39m\u001b[38;5;132;01m{\u001b[39;00mkey\u001b[38;5;132;01m}\u001b[39;00m\u001b[38;5;124m'\u001b[39m\u001b[38;5;124m\"\u001b[39m)\n",
      "\u001b[1;31mAttributeError\u001b[0m: 'ModelNet' object has no attribute 'raw_names'"
     ]
    }
   ],
   "source": [
    "num_points = 1024\n",
    "\n",
    "pre_transform = NormalizeScale()\n",
    "transform = SamplePoints(num_points)\n",
    "\n",
    "batch_size = 32\n",
    "\n",
    "root = 'data/ModelNet40'\n",
    "dataset_train = ModelNet(root=root, name='40', train=True, pre_transform=pre_transform, transform=transform)\n",
    "trainloader = DataLoader(dataset_train, batch_size=batch_size, shuffle=True)\n",
    "\n",
    "dataset_test = ModelNet(root=root, name='40', train=False, pre_transform=pre_transform, transform=transform)\n",
    "test_loader = DataLoader(dataset_test, batch_size=batch_size)\n",
    "\n",
    "print(f'Number of training examples: {len(dataset_train)}')\n",
    "print(f'Number of test examples: {len(dataset_test)}')\n",
    "\n",
    "classes = dataset_train.raw_names\n",
    "\n",
    "print(classes)\n",
    "\n",
    "data = dataset_train[1001]\n",
    "print(data)\n",
    "print(f'Point cloud shape: {data.pos.shape}')\n",
    "print(f'Label: {data.y}')"
   ]
  },
  {
   "cell_type": "code",
   "execution_count": 7,
   "metadata": {},
   "outputs": [
    {
     "data": {
      "application/vnd.plotly.v1+json": {
       "config": {
        "plotlyServerURL": "https://plot.ly"
       },
       "data": [
        {
         "marker": {
          "color": "white",
          "size": 1
         },
         "mode": "markers",
         "type": "scatter3d",
         "x": {
          "bdata": "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",
          "dtype": "f4"
         },
         "y": {
          "bdata": "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",
          "dtype": "f4"
         },
         "z": {
          "bdata": "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",
          "dtype": "f4"
         }
        }
       ],
       "layout": {
        "scene": {
         "xaxis": {
          "visible": false
         },
         "yaxis": {
          "visible": false
         },
         "zaxis": {
          "visible": false
         }
        },
        "template": {
         "data": {
          "bar": [
           {
            "error_x": {
             "color": "#f2f5fa"
            },
            "error_y": {
             "color": "#f2f5fa"
            },
            "marker": {
             "line": {
              "color": "rgb(17,17,17)",
              "width": 0.5
             },
             "pattern": {
              "fillmode": "overlay",
              "size": 10,
              "solidity": 0.2
             }
            },
            "type": "bar"
           }
          ],
          "barpolar": [
           {
            "marker": {
             "line": {
              "color": "rgb(17,17,17)",
              "width": 0.5
             },
             "pattern": {
              "fillmode": "overlay",
              "size": 10,
              "solidity": 0.2
             }
            },
            "type": "barpolar"
           }
          ],
          "carpet": [
           {
            "aaxis": {
             "endlinecolor": "#A2B1C6",
             "gridcolor": "#506784",
             "linecolor": "#506784",
             "minorgridcolor": "#506784",
             "startlinecolor": "#A2B1C6"
            },
            "baxis": {
             "endlinecolor": "#A2B1C6",
             "gridcolor": "#506784",
             "linecolor": "#506784",
             "minorgridcolor": "#506784",
             "startlinecolor": "#A2B1C6"
            },
            "type": "carpet"
           }
          ],
          "choropleth": [
           {
            "colorbar": {
             "outlinewidth": 0,
             "ticks": ""
            },
            "type": "choropleth"
           }
          ],
          "contour": [
           {
            "colorbar": {
             "outlinewidth": 0,
             "ticks": ""
            },
            "colorscale": [
             [
              0,
              "#0d0887"
             ],
             [
              0.1111111111111111,
              "#46039f"
             ],
             [
              0.2222222222222222,
              "#7201a8"
             ],
             [
              0.3333333333333333,
              "#9c179e"
             ],
             [
              0.4444444444444444,
              "#bd3786"
             ],
             [
              0.5555555555555556,
              "#d8576b"
             ],
             [
              0.6666666666666666,
              "#ed7953"
             ],
             [
              0.7777777777777778,
              "#fb9f3a"
             ],
             [
              0.8888888888888888,
              "#fdca26"
             ],
             [
              1,
              "#f0f921"
             ]
            ],
            "type": "contour"
           }
          ],
          "contourcarpet": [
           {
            "colorbar": {
             "outlinewidth": 0,
             "ticks": ""
            },
            "type": "contourcarpet"
           }
          ],
          "heatmap": [
           {
            "colorbar": {
             "outlinewidth": 0,
             "ticks": ""
            },
            "colorscale": [
             [
              0,
              "#0d0887"
             ],
             [
              0.1111111111111111,
              "#46039f"
             ],
             [
              0.2222222222222222,
              "#7201a8"
             ],
             [
              0.3333333333333333,
              "#9c179e"
             ],
             [
              0.4444444444444444,
              "#bd3786"
             ],
             [
              0.5555555555555556,
              "#d8576b"
             ],
             [
              0.6666666666666666,
              "#ed7953"
             ],
             [
              0.7777777777777778,
              "#fb9f3a"
             ],
             [
              0.8888888888888888,
              "#fdca26"
             ],
             [
              1,
              "#f0f921"
             ]
            ],
            "type": "heatmap"
           }
          ],
          "histogram": [
           {
            "marker": {
             "pattern": {
              "fillmode": "overlay",
              "size": 10,
              "solidity": 0.2
             }
            },
            "type": "histogram"
           }
          ],
          "histogram2d": [
           {
            "colorbar": {
             "outlinewidth": 0,
             "ticks": ""
            },
            "colorscale": [
             [
              0,
              "#0d0887"
             ],
             [
              0.1111111111111111,
              "#46039f"
             ],
             [
              0.2222222222222222,
              "#7201a8"
             ],
             [
              0.3333333333333333,
              "#9c179e"
             ],
             [
              0.4444444444444444,
              "#bd3786"
             ],
             [
              0.5555555555555556,
              "#d8576b"
             ],
             [
              0.6666666666666666,
              "#ed7953"
             ],
             [
              0.7777777777777778,
              "#fb9f3a"
             ],
             [
              0.8888888888888888,
              "#fdca26"
             ],
             [
              1,
              "#f0f921"
             ]
            ],
            "type": "histogram2d"
           }
          ],
          "histogram2dcontour": [
           {
            "colorbar": {
             "outlinewidth": 0,
             "ticks": ""
            },
            "colorscale": [
             [
              0,
              "#0d0887"
             ],
             [
              0.1111111111111111,
              "#46039f"
             ],
             [
              0.2222222222222222,
              "#7201a8"
             ],
             [
              0.3333333333333333,
              "#9c179e"
             ],
             [
              0.4444444444444444,
              "#bd3786"
             ],
             [
              0.5555555555555556,
              "#d8576b"
             ],
             [
              0.6666666666666666,
              "#ed7953"
             ],
             [
              0.7777777777777778,
              "#fb9f3a"
             ],
             [
              0.8888888888888888,
              "#fdca26"
             ],
             [
              1,
              "#f0f921"
             ]
            ],
            "type": "histogram2dcontour"
           }
          ],
          "mesh3d": [
           {
            "colorbar": {
             "outlinewidth": 0,
             "ticks": ""
            },
            "type": "mesh3d"
           }
          ],
          "parcoords": [
           {
            "line": {
             "colorbar": {
              "outlinewidth": 0,
              "ticks": ""
             }
            },
            "type": "parcoords"
           }
          ],
          "pie": [
           {
            "automargin": true,
            "type": "pie"
           }
          ],
          "scatter": [
           {
            "marker": {
             "line": {
              "color": "#283442"
             }
            },
            "type": "scatter"
           }
          ],
          "scatter3d": [
           {
            "line": {
             "colorbar": {
              "outlinewidth": 0,
              "ticks": ""
             }
            },
            "marker": {
             "colorbar": {
              "outlinewidth": 0,
              "ticks": ""
             }
            },
            "type": "scatter3d"
           }
          ],
          "scattercarpet": [
           {
            "marker": {
             "colorbar": {
              "outlinewidth": 0,
              "ticks": ""
             }
            },
            "type": "scattercarpet"
           }
          ],
          "scattergeo": [
           {
            "marker": {
             "colorbar": {
              "outlinewidth": 0,
              "ticks": ""
             }
            },
            "type": "scattergeo"
           }
          ],
          "scattergl": [
           {
            "marker": {
             "line": {
              "color": "#283442"
             }
            },
            "type": "scattergl"
           }
          ],
          "scattermap": [
           {
            "marker": {
             "colorbar": {
              "outlinewidth": 0,
              "ticks": ""
             }
            },
            "type": "scattermap"
           }
          ],
          "scattermapbox": [
           {
            "marker": {
             "colorbar": {
              "outlinewidth": 0,
              "ticks": ""
             }
            },
            "type": "scattermapbox"
           }
          ],
          "scatterpolar": [
           {
            "marker": {
             "colorbar": {
              "outlinewidth": 0,
              "ticks": ""
             }
            },
            "type": "scatterpolar"
           }
          ],
          "scatterpolargl": [
           {
            "marker": {
             "colorbar": {
              "outlinewidth": 0,
              "ticks": ""
             }
            },
            "type": "scatterpolargl"
           }
          ],
          "scatterternary": [
           {
            "marker": {
             "colorbar": {
              "outlinewidth": 0,
              "ticks": ""
             }
            },
            "type": "scatterternary"
           }
          ],
          "surface": [
           {
            "colorbar": {
             "outlinewidth": 0,
             "ticks": ""
            },
            "colorscale": [
             [
              0,
              "#0d0887"
             ],
             [
              0.1111111111111111,
              "#46039f"
             ],
             [
              0.2222222222222222,
              "#7201a8"
             ],
             [
              0.3333333333333333,
              "#9c179e"
             ],
             [
              0.4444444444444444,
              "#bd3786"
             ],
             [
              0.5555555555555556,
              "#d8576b"
             ],
             [
              0.6666666666666666,
              "#ed7953"
             ],
             [
              0.7777777777777778,
              "#fb9f3a"
             ],
             [
              0.8888888888888888,
              "#fdca26"
             ],
             [
              1,
              "#f0f921"
             ]
            ],
            "type": "surface"
           }
          ],
          "table": [
           {
            "cells": {
             "fill": {
              "color": "#506784"
             },
             "line": {
              "color": "rgb(17,17,17)"
             }
            },
            "header": {
             "fill": {
              "color": "#2a3f5f"
             },
             "line": {
              "color": "rgb(17,17,17)"
             }
            },
            "type": "table"
           }
          ]
         },
         "layout": {
          "annotationdefaults": {
           "arrowcolor": "#f2f5fa",
           "arrowhead": 0,
           "arrowwidth": 1
          },
          "autotypenumbers": "strict",
          "coloraxis": {
           "colorbar": {
            "outlinewidth": 0,
            "ticks": ""
           }
          },
          "colorscale": {
           "diverging": [
            [
             0,
             "#8e0152"
            ],
            [
             0.1,
             "#c51b7d"
            ],
            [
             0.2,
             "#de77ae"
            ],
            [
             0.3,
             "#f1b6da"
            ],
            [
             0.4,
             "#fde0ef"
            ],
            [
             0.5,
             "#f7f7f7"
            ],
            [
             0.6,
             "#e6f5d0"
            ],
            [
             0.7,
             "#b8e186"
            ],
            [
             0.8,
             "#7fbc41"
            ],
            [
             0.9,
             "#4d9221"
            ],
            [
             1,
             "#276419"
            ]
           ],
           "sequential": [
            [
             0,
             "#0d0887"
            ],
            [
             0.1111111111111111,
             "#46039f"
            ],
            [
             0.2222222222222222,
             "#7201a8"
            ],
            [
             0.3333333333333333,
             "#9c179e"
            ],
            [
             0.4444444444444444,
             "#bd3786"
            ],
            [
             0.5555555555555556,
             "#d8576b"
            ],
            [
             0.6666666666666666,
             "#ed7953"
            ],
            [
             0.7777777777777778,
             "#fb9f3a"
            ],
            [
             0.8888888888888888,
             "#fdca26"
            ],
            [
             1,
             "#f0f921"
            ]
           ],
           "sequentialminus": [
            [
             0,
             "#0d0887"
            ],
            [
             0.1111111111111111,
             "#46039f"
            ],
            [
             0.2222222222222222,
             "#7201a8"
            ],
            [
             0.3333333333333333,
             "#9c179e"
            ],
            [
             0.4444444444444444,
             "#bd3786"
            ],
            [
             0.5555555555555556,
             "#d8576b"
            ],
            [
             0.6666666666666666,
             "#ed7953"
            ],
            [
             0.7777777777777778,
             "#fb9f3a"
            ],
            [
             0.8888888888888888,
             "#fdca26"
            ],
            [
             1,
             "#f0f921"
            ]
           ]
          },
          "colorway": [
           "#636efa",
           "#EF553B",
           "#00cc96",
           "#ab63fa",
           "#FFA15A",
           "#19d3f3",
           "#FF6692",
           "#B6E880",
           "#FF97FF",
           "#FECB52"
          ],
          "font": {
           "color": "#f2f5fa"
          },
          "geo": {
           "bgcolor": "rgb(17,17,17)",
           "lakecolor": "rgb(17,17,17)",
           "landcolor": "rgb(17,17,17)",
           "showlakes": true,
           "showland": true,
           "subunitcolor": "#506784"
          },
          "hoverlabel": {
           "align": "left"
          },
          "hovermode": "closest",
          "mapbox": {
           "style": "dark"
          },
          "paper_bgcolor": "rgb(17,17,17)",
          "plot_bgcolor": "rgb(17,17,17)",
          "polar": {
           "angularaxis": {
            "gridcolor": "#506784",
            "linecolor": "#506784",
            "ticks": ""
           },
           "bgcolor": "rgb(17,17,17)",
           "radialaxis": {
            "gridcolor": "#506784",
            "linecolor": "#506784",
            "ticks": ""
           }
          },
          "scene": {
           "xaxis": {
            "backgroundcolor": "rgb(17,17,17)",
            "gridcolor": "#506784",
            "gridwidth": 2,
            "linecolor": "#506784",
            "showbackground": true,
            "ticks": "",
            "zerolinecolor": "#C8D4E3"
           },
           "yaxis": {
            "backgroundcolor": "rgb(17,17,17)",
            "gridcolor": "#506784",
            "gridwidth": 2,
            "linecolor": "#506784",
            "showbackground": true,
            "ticks": "",
            "zerolinecolor": "#C8D4E3"
           },
           "zaxis": {
            "backgroundcolor": "rgb(17,17,17)",
            "gridcolor": "#506784",
            "gridwidth": 2,
            "linecolor": "#506784",
            "showbackground": true,
            "ticks": "",
            "zerolinecolor": "#C8D4E3"
           }
          },
          "shapedefaults": {
           "line": {
            "color": "#f2f5fa"
           }
          },
          "sliderdefaults": {
           "bgcolor": "#C8D4E3",
           "bordercolor": "rgb(17,17,17)",
           "borderwidth": 1,
           "tickwidth": 0
          },
          "ternary": {
           "aaxis": {
            "gridcolor": "#506784",
            "linecolor": "#506784",
            "ticks": ""
           },
           "baxis": {
            "gridcolor": "#506784",
            "linecolor": "#506784",
            "ticks": ""
           },
           "bgcolor": "rgb(17,17,17)",
           "caxis": {
            "gridcolor": "#506784",
            "linecolor": "#506784",
            "ticks": ""
           }
          },
          "title": {
           "x": 0.05
          },
          "updatemenudefaults": {
           "bgcolor": "#506784",
           "borderwidth": 0
          },
          "xaxis": {
           "automargin": true,
           "gridcolor": "#283442",
           "linecolor": "#506784",
           "ticks": "",
           "title": {
            "standoff": 15
           },
           "zerolinecolor": "#283442",
           "zerolinewidth": 2
          },
          "yaxis": {
           "automargin": true,
           "gridcolor": "#283442",
           "linecolor": "#506784",
           "ticks": "",
           "title": {
            "standoff": 15
           },
           "zerolinecolor": "#283442",
           "zerolinewidth": 2
          }
         }
        }
       }
      }
     },
     "metadata": {},
     "output_type": "display_data"
    }
   ],
   "source": [
    "data = dataset_train[random.randint(0, len(dataset_train)-1)]\n",
    "\n",
    "fig = go.Figure(\n",
    "  data=[\n",
    "    go.Scatter3d(\n",
    "      x=data.pos[:,0], y=data.pos[:,1], z=data.pos[:,2],\n",
    "      mode='markers',\n",
    "      marker=dict(size=1, color=\"white\"))],\n",
    "  layout=dict(\n",
    "    scene=dict(\n",
    "      xaxis=dict(visible=False),\n",
    "      yaxis=dict(visible=False),\n",
    "      zaxis=dict(visible=False))))\n",
    "\n",
    "fig.update_layout(template='plotly_dark')\n",
    "\n",
    "fig.show()"
   ]
  },
  {
   "cell_type": "code",
   "execution_count": 16,
   "metadata": {},
   "outputs": [],
   "source": [
    "class Transformer(nn.Module):\n",
    "    def __init__(self, num_points, features):\n",
    "        super(Transformer, self).__init__()\n",
    "\n",
    "        self.features = features\n",
    "\n",
    "        self.mlp1 = nn.Sequential(\n",
    "            nn.Conv1d(in_channels=features, out_channels=64, kernel_size=1),\n",
    "            nn.ReLU(),\n",
    "            nn.BatchNorm1d(64))\n",
    "\n",
    "        self.mlp2 = nn.Sequential(\n",
    "            nn.Conv1d(in_channels=64, out_channels=128, kernel_size=1),\n",
    "            nn.ReLU(),\n",
    "            nn.BatchNorm1d(128))\n",
    "\n",
    "        self.mlp3 = nn.Sequential(\n",
    "            nn.Conv1d(in_channels=128, out_channels=1024, kernel_size=1),\n",
    "            nn.ReLU(),\n",
    "            nn.BatchNorm1d(1024))\n",
    "\n",
    "        self.max_pool = nn.MaxPool1d(kernel_size=num_points)\n",
    "\n",
    "        self.ll1 = nn.Sequential(\n",
    "            nn.Linear(1024, 512),\n",
    "            nn.ReLU(),\n",
    "            nn.BatchNorm1d(512))\n",
    "\n",
    "        self.ll2 = nn.Sequential(\n",
    "            nn.Linear(512, 256),\n",
    "            nn.ReLU(),\n",
    "            nn.BatchNorm1d(256))\n",
    "        \n",
    "        self.ll3 = nn.Linear(256, features*features)\n",
    "    \n",
    "    def forward(self, x):\n",
    "\n",
    "        bs = x.shape[0]\n",
    "\n",
    "        x = self.mlp1(x)\n",
    "        x = self.mlp2(x)\n",
    "        x = self.mlp3(x)\n",
    "\n",
    "        x = self.max_pool(x).view(bs, -1)\n",
    "\n",
    "        x = self.ll1(x)\n",
    "        x = self.ll2(x)\n",
    "\n",
    "        x = self.ll3(x)\n",
    "\n",
    "        eye = torch.eye(self.features, requires_grad=True).repeat(bs, 1, 1).to(device)\n",
    "\n",
    "        x = x.view(-1, self.features, self.features) + eye\n",
    "\n",
    "        print(x)\n",
    "\n",
    "        return x\n",
    "\n",
    "class PointNet(nn.Module):\n",
    "    def __init__(self, num_points, num_classes):\n",
    "        super(PointNet, self).__init__()\n",
    "\n",
    "        self.tnet1 = Transformer(num_points=num_points, features=3).to(device)\n",
    "\n",
    "        self.mlp1 = nn.Sequential(\n",
    "            nn.Conv1d(in_channels=3, out_channels=64, kernel_size=1),\n",
    "            nn.ReLU(),\n",
    "            nn.BatchNorm1d(64),\n",
    "            nn.Conv1d(in_channels=64, out_channels=64, kernel_size=1),\n",
    "            nn.ReLU(),\n",
    "            nn.BatchNorm1d(64))\n",
    "    \n",
    "        self.tnet2 = Transformer(num_points=num_points, features=64).to(device)\n",
    "\n",
    "        self.mlp2 = nn.Sequential(\n",
    "            nn.Conv1d(in_channels=64, out_channels=64, kernel_size=1),\n",
    "            nn.ReLU(),\n",
    "            nn.BatchNorm1d(64),\n",
    "            nn.Conv1d(in_channels=64, out_channels=128, kernel_size=1),\n",
    "            nn.ReLU(),\n",
    "            nn.BatchNorm1d(128),\n",
    "            nn.Conv1d(in_channels=128, out_channels=1024, kernel_size=1),\n",
    "            nn.ReLU(),\n",
    "            nn.BatchNorm1d(1024))\n",
    "\n",
    "        self.max_pool = nn.MaxPool1d(kernel_size=num_points)\n",
    "\n",
    "        self.classification = nn.Sequential(\n",
    "            nn.Linear(in_features=1024, out_features=512),\n",
    "            nn.BatchNorm1d(512),\n",
    "            nn.ReLU(),\n",
    "            nn.Linear(in_features=512, out_features=256),\n",
    "            nn.BatchNorm1d(256),\n",
    "            nn.ReLU(),\n",
    "            #nn.Dropout(p=0.3),\n",
    "            nn.Linear(in_features=256, out_features=num_classes)\n",
    "        )\n",
    "    \n",
    "    def forward(self, x):\n",
    "\n",
    "        bs = x.shape[0]\n",
    "\n",
    "        input_transform = self.tnet1(x)\n",
    "        \n",
    "        x = torch.bmm(x.transpose(2, 1), input_transform).transpose(2, 1)\n",
    "        x = self.mlp1(x)\n",
    "\n",
    "        feature_transform = self.tnet2(x)\n",
    "\n",
    "        x = torch.bmm(x.transpose(2, 1), feature_transform).transpose(2, 1)\n",
    "        x = self.mlp2(x)\n",
    "\n",
    "        x = self.max_pool(x).view(bs, -1)\n",
    "\n",
    "        x = self.classification(x)\n",
    "\n",
    "        return x\n"
   ]
  },
  {
   "cell_type": "code",
   "execution_count": 17,
   "metadata": {},
   "outputs": [
    {
     "data": {
      "text/plain": [
       "PointNet(\n",
       "  (tnet1): Transformer(\n",
       "    (mlp1): Sequential(\n",
       "      (0): Conv1d(3, 64, kernel_size=(1,), stride=(1,))\n",
       "      (1): ReLU()\n",
       "      (2): BatchNorm1d(64, eps=1e-05, momentum=0.1, affine=True, track_running_stats=True)\n",
       "    )\n",
       "    (mlp2): Sequential(\n",
       "      (0): Conv1d(64, 128, kernel_size=(1,), stride=(1,))\n",
       "      (1): ReLU()\n",
       "      (2): BatchNorm1d(128, eps=1e-05, momentum=0.1, affine=True, track_running_stats=True)\n",
       "    )\n",
       "    (mlp3): Sequential(\n",
       "      (0): Conv1d(128, 1024, kernel_size=(1,), stride=(1,))\n",
       "      (1): ReLU()\n",
       "      (2): BatchNorm1d(1024, eps=1e-05, momentum=0.1, affine=True, track_running_stats=True)\n",
       "    )\n",
       "    (max_pool): MaxPool1d(kernel_size=1024, stride=1024, padding=0, dilation=1, ceil_mode=False)\n",
       "    (ll1): Sequential(\n",
       "      (0): Linear(in_features=1024, out_features=512, bias=True)\n",
       "      (1): ReLU()\n",
       "      (2): BatchNorm1d(512, eps=1e-05, momentum=0.1, affine=True, track_running_stats=True)\n",
       "    )\n",
       "    (ll2): Sequential(\n",
       "      (0): Linear(in_features=512, out_features=256, bias=True)\n",
       "      (1): ReLU()\n",
       "      (2): BatchNorm1d(256, eps=1e-05, momentum=0.1, affine=True, track_running_stats=True)\n",
       "    )\n",
       "    (ll3): Linear(in_features=256, out_features=9, bias=True)\n",
       "  )\n",
       "  (mlp1): Sequential(\n",
       "    (0): Conv1d(3, 64, kernel_size=(1,), stride=(1,))\n",
       "    (1): ReLU()\n",
       "    (2): BatchNorm1d(64, eps=1e-05, momentum=0.1, affine=True, track_running_stats=True)\n",
       "    (3): Conv1d(64, 64, kernel_size=(1,), stride=(1,))\n",
       "    (4): ReLU()\n",
       "    (5): BatchNorm1d(64, eps=1e-05, momentum=0.1, affine=True, track_running_stats=True)\n",
       "  )\n",
       "  (tnet2): Transformer(\n",
       "    (mlp1): Sequential(\n",
       "      (0): Conv1d(64, 64, kernel_size=(1,), stride=(1,))\n",
       "      (1): ReLU()\n",
       "      (2): BatchNorm1d(64, eps=1e-05, momentum=0.1, affine=True, track_running_stats=True)\n",
       "    )\n",
       "    (mlp2): Sequential(\n",
       "      (0): Conv1d(64, 128, kernel_size=(1,), stride=(1,))\n",
       "      (1): ReLU()\n",
       "      (2): BatchNorm1d(128, eps=1e-05, momentum=0.1, affine=True, track_running_stats=True)\n",
       "    )\n",
       "    (mlp3): Sequential(\n",
       "      (0): Conv1d(128, 1024, kernel_size=(1,), stride=(1,))\n",
       "      (1): ReLU()\n",
       "      (2): BatchNorm1d(1024, eps=1e-05, momentum=0.1, affine=True, track_running_stats=True)\n",
       "    )\n",
       "    (max_pool): MaxPool1d(kernel_size=1024, stride=1024, padding=0, dilation=1, ceil_mode=False)\n",
       "    (ll1): Sequential(\n",
       "      (0): Linear(in_features=1024, out_features=512, bias=True)\n",
       "      (1): ReLU()\n",
       "      (2): BatchNorm1d(512, eps=1e-05, momentum=0.1, affine=True, track_running_stats=True)\n",
       "    )\n",
       "    (ll2): Sequential(\n",
       "      (0): Linear(in_features=512, out_features=256, bias=True)\n",
       "      (1): ReLU()\n",
       "      (2): BatchNorm1d(256, eps=1e-05, momentum=0.1, affine=True, track_running_stats=True)\n",
       "    )\n",
       "    (ll3): Linear(in_features=256, out_features=4096, bias=True)\n",
       "  )\n",
       "  (mlp2): Sequential(\n",
       "    (0): Conv1d(64, 64, kernel_size=(1,), stride=(1,))\n",
       "    (1): ReLU()\n",
       "    (2): BatchNorm1d(64, eps=1e-05, momentum=0.1, affine=True, track_running_stats=True)\n",
       "    (3): Conv1d(64, 128, kernel_size=(1,), stride=(1,))\n",
       "    (4): ReLU()\n",
       "    (5): BatchNorm1d(128, eps=1e-05, momentum=0.1, affine=True, track_running_stats=True)\n",
       "    (6): Conv1d(128, 1024, kernel_size=(1,), stride=(1,))\n",
       "    (7): ReLU()\n",
       "    (8): BatchNorm1d(1024, eps=1e-05, momentum=0.1, affine=True, track_running_stats=True)\n",
       "  )\n",
       "  (max_pool): MaxPool1d(kernel_size=1024, stride=1024, padding=0, dilation=1, ceil_mode=False)\n",
       "  (classification): Sequential(\n",
       "    (0): Linear(in_features=1024, out_features=512, bias=True)\n",
       "    (1): BatchNorm1d(512, eps=1e-05, momentum=0.1, affine=True, track_running_stats=True)\n",
       "    (2): ReLU()\n",
       "    (3): Linear(in_features=512, out_features=256, bias=True)\n",
       "    (4): BatchNorm1d(256, eps=1e-05, momentum=0.1, affine=True, track_running_stats=True)\n",
       "    (5): ReLU()\n",
       "    (6): Linear(in_features=256, out_features=40, bias=True)\n",
       "  )\n",
       ")"
      ]
     },
     "execution_count": 17,
     "metadata": {},
     "output_type": "execute_result"
    }
   ],
   "source": [
    "pointnet = PointNet(num_points=num_points, num_classes=40)\n",
    "pointnet.to(device)"
   ]
  },
  {
   "cell_type": "code",
   "execution_count": 20,
   "metadata": {},
   "outputs": [],
   "source": [
    "learning_rate = 0.01\n",
    "weight_decay = 0.001\n",
    "num_epochs = 10\n",
    "momentum = 0.9\n",
    "\n",
    "criterion = nn.CrossEntropyLoss()\n",
    "optimizer = optim.SGD(pointnet.parameters(), lr=learning_rate, weight_decay=weight_decay, momentum=momentum)"
   ]
  },
  {
   "cell_type": "code",
   "execution_count": 21,
   "metadata": {},
   "outputs": [
    {
     "name": "stdout",
     "output_type": "stream",
     "text": [
      "tensor([[[-3.2453e-01,  2.1320e-01, -8.9657e-01],\n",
      "         [ 8.5364e-01,  1.1810e+00, -4.8812e-01],\n",
      "         [ 6.4396e-01, -8.6291e-01,  1.8614e+00]],\n",
      "\n",
      "        [[ 7.0053e-01,  1.7361e-01,  3.1551e-01],\n",
      "         [ 5.3966e-03, -2.0258e-01,  2.2178e-01],\n",
      "         [-2.3244e-01,  4.9471e-01,  1.5581e+00]],\n",
      "\n",
      "        [[ 1.5127e+00,  1.8806e-01,  3.1942e-03],\n",
      "         [-3.3128e-01,  1.8441e+00,  6.2730e-01],\n",
      "         [ 5.1252e-01, -2.1749e-02,  4.8961e-01]],\n",
      "\n",
      "        [[ 1.0923e+00,  2.2026e-01, -1.2789e-01],\n",
      "         [ 4.7465e-01,  1.7396e+00, -1.6729e-01],\n",
      "         [-4.9962e-01, -6.7512e-02,  9.0775e-01]],\n",
      "\n",
      "        [[ 1.2147e+00, -2.3655e-01,  1.8408e-01],\n",
      "         [ 4.5251e-01,  7.6995e-01, -4.9652e-01],\n",
      "         [-9.0555e-02, -4.0941e-01,  9.7235e-01]],\n",
      "\n",
      "        [[ 1.2454e+00, -2.6460e-01, -1.5269e-01],\n",
      "         [ 2.5864e-01,  1.5695e+00,  6.5494e-01],\n",
      "         [ 3.6819e-01, -7.6436e-01,  7.8043e-01]],\n",
      "\n",
      "        [[ 1.3150e-01,  2.8598e-01,  5.5346e-01],\n",
      "         [-7.0264e-01,  2.3203e-01, -7.4387e-01],\n",
      "         [-1.7008e-01,  4.3193e-02,  1.3483e+00]],\n",
      "\n",
      "        [[ 7.4601e-01,  5.8177e-02,  1.7874e-01],\n",
      "         [-1.2743e-01,  1.0628e+00, -7.5342e-01],\n",
      "         [-4.9496e-01,  4.3353e-01,  4.6054e-01]],\n",
      "\n",
      "        [[ 1.2315e+00, -5.2934e-01,  5.1775e-01],\n",
      "         [-2.7736e-01,  1.0812e+00, -1.0264e+00],\n",
      "         [-1.5882e-01,  1.0375e+00,  6.9135e-01]],\n",
      "\n",
      "        [[ 1.5567e+00,  3.6457e-01,  2.8239e-01],\n",
      "         [-3.6161e-01,  1.3213e+00,  4.6928e-01],\n",
      "         [ 2.8643e-01, -1.1540e-01,  4.3440e-01]],\n",
      "\n",
      "        [[ 7.2156e-03,  5.5603e-01, -2.8681e-01],\n",
      "         [ 4.3001e-02,  3.3724e-01,  2.9440e-01],\n",
      "         [ 9.1692e-02,  8.5280e-03,  2.5976e-01]],\n",
      "\n",
      "        [[ 6.3266e-01, -4.5309e-01, -2.8839e-01],\n",
      "         [ 9.5281e-01,  1.2815e+00,  9.3906e-01],\n",
      "         [-8.5218e-02, -9.5769e-01,  1.3682e+00]],\n",
      "\n",
      "        [[ 9.3386e-01,  3.2257e-01,  1.6690e-03],\n",
      "         [-5.2248e-01,  3.6781e-01, -9.7815e-02],\n",
      "         [-1.3554e-01,  8.7336e-01,  1.2575e-01]],\n",
      "\n",
      "        [[ 2.0808e+00,  7.2875e-01,  3.4520e-01],\n",
      "         [-2.0049e-01,  1.6336e+00,  2.0683e-01],\n",
      "         [ 1.6636e-01, -1.7447e-01,  1.1306e+00]],\n",
      "\n",
      "        [[-2.2738e-01,  1.5057e-01, -6.6419e-01],\n",
      "         [ 3.1033e-01, -1.9065e-01,  4.4748e-01],\n",
      "         [-5.8261e-01,  1.1083e-01,  7.4391e-01]],\n",
      "\n",
      "        [[ 2.2993e+00, -1.6717e-02,  9.3752e-01],\n",
      "         [ 4.4768e-02,  2.8181e+00,  1.0021e+00],\n",
      "         [ 8.7551e-01, -4.1356e-01,  8.4204e-01]],\n",
      "\n",
      "        [[ 2.0031e-01, -5.1564e-01, -5.2796e-01],\n",
      "         [-1.7339e-01,  8.2898e-01, -4.4105e-01],\n",
      "         [ 9.8275e-02, -2.5054e-01,  1.0452e+00]],\n",
      "\n",
      "        [[ 1.6967e+00,  4.8766e-01,  4.2822e-01],\n",
      "         [-4.4865e-01,  1.3874e+00, -3.5881e-01],\n",
      "         [-2.6110e-01, -2.1012e-01,  1.3077e+00]],\n",
      "\n",
      "        [[ 1.1489e+00,  6.6025e-02,  5.7833e-01],\n",
      "         [-4.1443e-01,  1.3825e+00, -6.9820e-01],\n",
      "         [-1.3963e-01, -2.4150e-01,  2.1802e+00]],\n",
      "\n",
      "        [[ 1.7071e-01, -6.9794e-02, -1.8696e-01],\n",
      "         [ 4.3947e-02,  1.1466e+00,  5.7106e-02],\n",
      "         [-5.9523e-01, -5.5611e-01,  9.4476e-01]],\n",
      "\n",
      "        [[ 4.9412e-01, -9.7017e-02, -1.9580e-01],\n",
      "         [ 3.6198e-02,  7.6107e-02,  8.6884e-02],\n",
      "         [ 3.1453e-01,  3.5191e-01,  5.4197e-01]],\n",
      "\n",
      "        [[ 1.4459e+00, -1.9135e-01,  3.4892e-01],\n",
      "         [ 6.0349e-02,  1.6994e+00, -3.7825e-01],\n",
      "         [ 5.5272e-01, -2.9043e-01,  6.4742e-01]],\n",
      "\n",
      "        [[ 6.3450e-01, -4.7629e-01, -1.7436e-01],\n",
      "         [-3.3246e-01,  1.1260e+00, -6.9202e-01],\n",
      "         [-4.9259e-01,  2.8031e-01,  2.9453e-01]],\n",
      "\n",
      "        [[ 5.5678e-01, -4.1223e-01, -4.4958e-01],\n",
      "         [ 9.6791e-02,  1.1938e+00, -5.3949e-01],\n",
      "         [ 7.0296e-02,  3.9403e-01,  8.4657e-01]],\n",
      "\n",
      "        [[ 1.7420e+00,  2.2071e-01,  8.9695e-01],\n",
      "         [-2.8126e-01,  1.8424e-01,  3.6983e-01],\n",
      "         [ 8.7791e-01, -1.0006e+00,  2.1738e+00]],\n",
      "\n",
      "        [[ 1.1073e+00,  1.8138e-01, -6.2145e-01],\n",
      "         [ 8.0594e-01,  8.0185e-01, -8.9437e-01],\n",
      "         [-4.4848e-02, -6.5227e-01,  1.6507e+00]],\n",
      "\n",
      "        [[ 1.4045e+00, -8.7447e-01, -3.1173e-01],\n",
      "         [-2.7036e-03,  9.7378e-01,  2.4785e+00],\n",
      "         [-1.0832e-01, -8.6139e-01,  9.1529e-01]],\n",
      "\n",
      "        [[ 2.6538e+00,  1.2526e+00,  8.6841e-01],\n",
      "         [-6.8000e-01,  2.4909e+00,  3.7236e-02],\n",
      "         [ 1.0956e+00,  7.5699e-03,  2.3828e+00]],\n",
      "\n",
      "        [[ 8.9131e-01,  1.6738e-01,  2.7969e-03],\n",
      "         [ 5.4948e-01,  6.9065e-01,  7.5939e-01],\n",
      "         [ 8.2869e-02,  3.7857e-01,  1.7921e+00]],\n",
      "\n",
      "        [[ 4.5600e-01,  1.7645e-01, -2.6167e-01],\n",
      "         [-6.8586e-01,  2.7315e-01, -1.9591e-02],\n",
      "         [ 2.8282e-01,  7.7694e-01,  1.1376e+00]],\n",
      "\n",
      "        [[ 1.3131e+00,  2.4341e-01, -3.1443e-01],\n",
      "         [ 1.3407e-01, -3.7414e-02,  1.4085e-01],\n",
      "         [-8.9214e-01,  1.2574e+00,  8.4212e-01]],\n",
      "\n",
      "        [[ 9.0262e-01, -6.3545e-01, -1.0032e+00],\n",
      "         [ 3.4275e-01,  4.0204e-01,  7.4900e-01],\n",
      "         [ 5.7574e-02, -1.8759e-01,  5.0256e-01]]], device='cuda:0',\n",
      "       grad_fn=<AddBackward0>)\n",
      "tensor([[[ 0.4201,  0.1443, -0.0723,  ...,  0.2543, -0.0055, -0.6139],\n",
      "         [ 0.8920,  1.2417, -0.6047,  ...,  0.1972, -0.0310, -0.2429],\n",
      "         [-0.4203,  0.3325,  1.5857,  ...,  0.6213,  0.5225,  0.2750],\n",
      "         ...,\n",
      "         [-0.2845, -0.3175, -0.0532,  ...,  2.0854,  0.3457,  0.1195],\n",
      "         [ 0.0731,  0.0167, -0.2816,  ...,  0.5996,  0.3380,  0.7798],\n",
      "         [ 0.4236, -0.1038,  0.0367,  ..., -0.7058,  1.0076,  1.2146]],\n",
      "\n",
      "        [[ 1.6413,  0.0960, -0.1976,  ..., -0.1818,  0.6680, -0.8557],\n",
      "         [-0.1610, -0.1936, -0.6018,  ...,  0.4030, -0.6339, -0.5668],\n",
      "         [-0.0734, -0.2908,  1.1717,  ..., -0.7199, -1.0753, -0.1861],\n",
      "         ...,\n",
      "         [-0.3721, -0.4651,  0.2497,  ...,  0.8565, -1.0995, -0.6372],\n",
      "         [ 0.1096,  0.1570, -0.1232,  ..., -0.5877,  1.4889, -0.2798],\n",
      "         [ 0.4056,  0.3102,  0.0257,  ..., -0.2310, -0.0309,  1.0342]],\n",
      "\n",
      "        [[ 1.0064,  0.1379,  0.4745,  ..., -0.8512,  0.2250,  0.2937],\n",
      "         [-0.4836,  0.7227, -0.2937,  ..., -0.1639,  0.0806,  0.2038],\n",
      "         [-0.6506,  0.2142,  0.4625,  ..., -0.4684,  0.0385, -0.5227],\n",
      "         ...,\n",
      "         [-0.3597,  0.6889, -0.0540,  ...,  0.5968,  0.3323, -0.0789],\n",
      "         [-0.6835, -0.7824, -0.4365,  ..., -0.5204,  0.9630,  0.1804],\n",
      "         [-0.9634, -0.1317, -0.2115,  ...,  0.3443,  0.2484,  1.1112]],\n",
      "\n",
      "        ...,\n",
      "\n",
      "        [[ 0.9954, -0.6116, -0.0859,  ..., -0.0697,  0.4586,  0.0510],\n",
      "         [ 0.0268,  0.9735,  0.1712,  ..., -0.0777,  0.1121, -0.2646],\n",
      "         [-0.1938,  0.1367,  1.0669,  ...,  1.1962, -0.4050, -0.3661],\n",
      "         ...,\n",
      "         [-0.2024,  0.1415,  0.4422,  ...,  0.9792, -0.0284,  1.1211],\n",
      "         [ 0.1499, -0.6130, -0.0269,  ..., -0.2837,  1.5412,  0.3946],\n",
      "         [ 0.4112, -0.1646, -0.4957,  ...,  0.7313, -0.1254, -0.0639]],\n",
      "\n",
      "        [[ 1.7978, -0.4722, -0.3115,  ..., -0.3002,  0.0987, -0.0838],\n",
      "         [-0.1647,  0.8909,  0.8458,  ..., -0.6612, -0.4251, -0.0712],\n",
      "         [ 0.0815,  0.3400,  0.3946,  ...,  0.5617, -0.5550, -0.2371],\n",
      "         ...,\n",
      "         [-0.4039,  0.2543,  0.2438,  ...,  0.6718,  0.0164,  0.1360],\n",
      "         [ 0.0399, -0.8270, -0.2808,  ..., -0.3828,  1.4526, -0.2182],\n",
      "         [-0.3916,  0.0368, -0.7452,  ..., -0.5681,  0.4408,  0.3783]],\n",
      "\n",
      "        [[ 0.4041, -0.3067,  0.0542,  ...,  0.5917, -0.7451, -0.2386],\n",
      "         [-0.6858,  2.2184, -0.1053,  ...,  0.3365, -1.0759,  0.1262],\n",
      "         [-0.2205,  0.1203,  0.9718,  ..., -0.6674,  0.3981,  1.2203],\n",
      "         ...,\n",
      "         [-0.4528, -0.5720,  0.4824,  ...,  0.1783, -2.1962, -1.8474],\n",
      "         [ 0.9566,  0.5881,  1.6711,  ...,  0.2183,  1.0914,  0.3493],\n",
      "         [-0.9000, -1.1884,  0.7415,  ...,  1.3966,  0.0061,  0.6610]]],\n",
      "       device='cuda:0', grad_fn=<AddBackward0>)\n",
      "torch.Size([32, 10])\n"
     ]
    }
   ],
   "source": [
    "pointnet.train()\n",
    "\n",
    "test_data = torch.rand(32, 3, num_points).to(device)\n",
    "output = pointnet(test_data)\n",
    "print(output.shape)"
   ]
  },
  {
   "cell_type": "code",
   "execution_count": 22,
   "metadata": {},
   "outputs": [
    {
     "name": "stdout",
     "output_type": "stream",
     "text": [
      "tensor([[[ 1.6270e+00,  4.0374e-01, -5.5226e-01],\n",
      "         [ 5.9350e-01,  1.2622e+00,  2.0541e-01],\n",
      "         [-7.9745e-02,  2.2768e-01,  7.0685e-01]],\n",
      "\n",
      "        [[ 1.0002e+00, -4.9960e-01, -1.3954e-01],\n",
      "         [-7.6615e-02,  8.8340e-01, -9.2814e-01],\n",
      "         [ 6.8637e-02,  7.5411e-02,  3.7312e-01]],\n",
      "\n",
      "        [[ 1.1933e+00, -1.7367e-01, -6.1312e-01],\n",
      "         [-1.0280e-01,  1.2919e+00, -5.2838e-02],\n",
      "         [-6.3746e-03, -1.0190e-01,  3.6018e-01]],\n",
      "\n",
      "        [[ 1.6491e+00,  2.6571e-01, -1.2288e-01],\n",
      "         [-2.3176e-02,  5.1634e-01,  8.8678e-01],\n",
      "         [-1.0918e+00,  4.9649e-01,  1.4230e+00]],\n",
      "\n",
      "        [[ 1.6021e+00, -1.5966e-01, -2.2475e-01],\n",
      "         [ 3.3448e-01,  1.2885e+00,  5.0692e-01],\n",
      "         [-5.1645e-01, -1.5417e+00,  7.9385e-01]],\n",
      "\n",
      "        [[ 1.5159e+00,  7.5126e-01,  6.1435e-01],\n",
      "         [ 2.0660e-01,  1.3062e+00, -3.8195e-01],\n",
      "         [-3.2498e-01,  2.1877e-01,  1.4871e+00]],\n",
      "\n",
      "        [[ 7.3406e-01, -7.1309e-01,  5.5707e-01],\n",
      "         [-1.3237e+00,  1.5125e+00,  1.5652e+00],\n",
      "         [-8.3902e-01,  6.0189e-02,  2.8790e+00]],\n",
      "\n",
      "        [[ 1.3079e+00, -5.2670e-01,  9.1472e-01],\n",
      "         [-1.8426e-01,  1.2049e+00, -2.3617e-02],\n",
      "         [-5.2514e-01,  2.9078e-02,  1.1802e+00]],\n",
      "\n",
      "        [[ 2.7782e-01, -1.1673e+00,  1.4342e+00],\n",
      "         [ 4.2688e-01, -3.1062e-01,  7.2043e-01],\n",
      "         [ 1.7968e+00, -1.1468e+00,  2.7826e+00]],\n",
      "\n",
      "        [[ 5.8811e-01,  5.0180e-01, -1.3120e-01],\n",
      "         [-3.1641e-02,  9.3621e-01,  7.9768e-01],\n",
      "         [ 2.1587e-01, -2.0127e-01,  7.8326e-01]],\n",
      "\n",
      "        [[ 9.8755e-01, -6.7735e-01, -4.9582e-02],\n",
      "         [ 4.6844e-01,  1.2777e+00, -5.7104e-01],\n",
      "         [ 9.5117e-01, -2.4552e-01,  1.5017e+00]],\n",
      "\n",
      "        [[ 1.5915e+00, -5.8841e-01,  1.3975e-01],\n",
      "         [-2.7303e-01,  1.4574e+00, -1.3889e+00],\n",
      "         [ 6.7808e-01, -2.8698e-01,  7.0122e-01]],\n",
      "\n",
      "        [[ 1.1509e+00,  8.8029e-01,  2.2764e-01],\n",
      "         [ 4.0462e-01,  8.8866e-01,  8.5821e-02],\n",
      "         [ 1.8850e-01, -5.7666e-01,  9.6504e-01]],\n",
      "\n",
      "        [[ 3.2310e-01, -7.6777e-02,  4.3698e-01],\n",
      "         [ 1.2426e-01,  1.0129e+00, -6.5139e-01],\n",
      "         [ 5.6648e-01, -1.7677e-01,  9.5570e-01]],\n",
      "\n",
      "        [[ 2.2856e-01, -2.4545e-01, -2.6761e-01],\n",
      "         [ 2.1772e-01,  9.2303e-01, -9.0596e-01],\n",
      "         [ 5.3846e-01, -3.2752e-01,  1.0304e+00]],\n",
      "\n",
      "        [[ 1.2208e-01,  4.2649e-01, -5.4183e-01],\n",
      "         [-2.5349e-01,  5.2847e-01, -3.2124e-02],\n",
      "         [ 8.3604e-01, -1.1235e+00,  8.8352e-01]],\n",
      "\n",
      "        [[ 3.8185e-01, -3.6504e-01,  6.6722e-01],\n",
      "         [ 3.3052e-01,  7.6292e-01, -4.3587e-01],\n",
      "         [-2.5985e-03,  1.7932e-01,  8.1355e-01]],\n",
      "\n",
      "        [[ 8.5350e-01,  5.7631e-01, -4.6969e-01],\n",
      "         [-6.8518e-01,  8.3511e-01, -2.4806e-01],\n",
      "         [ 5.1714e-01,  1.0347e-01,  1.5265e+00]],\n",
      "\n",
      "        [[ 8.1505e-01,  3.8090e-01, -1.3089e-01],\n",
      "         [-4.9287e-01,  8.8982e-01, -1.7619e-01],\n",
      "         [-5.4015e-01,  4.4304e-01,  9.4991e-01]],\n",
      "\n",
      "        [[ 1.1952e+00,  2.2241e-01, -2.1127e-01],\n",
      "         [-6.2722e-01,  1.2765e+00, -4.8275e-01],\n",
      "         [ 5.6997e-03,  5.6333e-02,  7.2142e-01]],\n",
      "\n",
      "        [[ 1.0500e+00, -2.1750e-01,  2.2854e-01],\n",
      "         [ 8.3222e-01,  7.3154e-01, -9.6224e-02],\n",
      "         [-2.3015e-01,  9.8046e-02,  8.6437e-01]],\n",
      "\n",
      "        [[ 1.6111e+00,  6.7433e-01,  3.4700e-01],\n",
      "         [ 6.9308e-01,  1.1162e+00,  3.1337e-01],\n",
      "         [-7.1407e-01,  1.8269e-01,  1.3465e+00]],\n",
      "\n",
      "        [[ 1.9493e+00, -1.4560e+00,  4.1443e-01],\n",
      "         [ 2.4177e-02,  1.7360e+00,  1.4142e+00],\n",
      "         [-1.5708e+00, -2.5975e-01,  2.8411e+00]],\n",
      "\n",
      "        [[ 2.0816e+00,  6.7480e-01,  7.9474e-02],\n",
      "         [ 5.1503e-01,  1.4528e+00,  8.5992e-02],\n",
      "         [-9.4002e-01,  6.1822e-01,  1.1139e+00]],\n",
      "\n",
      "        [[ 3.7527e+00,  1.3018e+00,  1.2163e+00],\n",
      "         [-1.2750e+00,  1.0095e+00,  2.1171e+00],\n",
      "         [-3.1841e-01, -3.9480e-01,  1.3406e+00]],\n",
      "\n",
      "        [[ 2.6759e-01,  4.0274e-02, -9.1665e-02],\n",
      "         [-2.1734e-01,  9.0751e-01, -6.6328e-02],\n",
      "         [ 4.0920e-01, -2.6046e-01,  8.6635e-01]],\n",
      "\n",
      "        [[ 1.0447e+00, -6.9734e-01,  9.4005e-02],\n",
      "         [-7.7697e-01,  1.9568e+00,  2.6433e-01],\n",
      "         [ 6.0832e-01,  8.4738e-01,  1.3523e+00]],\n",
      "\n",
      "        [[ 1.4530e+00,  3.2592e-02,  7.6166e-01],\n",
      "         [ 6.7860e-01,  1.7138e+00, -2.7046e-02],\n",
      "         [ 9.7594e-02,  1.9217e-01,  2.3761e+00]],\n",
      "\n",
      "        [[ 9.4424e-01,  8.4595e-01, -1.1603e-01],\n",
      "         [-9.7689e-02,  1.0661e+00, -2.0565e-01],\n",
      "         [ 1.1158e-01, -5.9383e-02,  5.4636e-02]],\n",
      "\n",
      "        [[ 9.8877e-01,  8.8496e-01, -2.1379e-01],\n",
      "         [-3.9998e-02,  8.7064e-01, -2.9471e-01],\n",
      "         [-2.5492e-02, -4.5155e-01,  5.0688e-01]],\n",
      "\n",
      "        [[ 8.0368e-01, -7.3928e-01, -5.6750e-01],\n",
      "         [-8.2341e-02,  5.7399e-01, -3.6110e-02],\n",
      "         [ 5.9608e-01, -5.6789e-01,  9.4260e-01]],\n",
      "\n",
      "        [[ 1.3481e+00,  6.8006e-01, -1.6234e-01],\n",
      "         [ 5.3816e-01,  4.7471e-01,  1.2129e+00],\n",
      "         [ 2.0075e-01, -7.5309e-01,  1.6223e+00]],\n",
      "\n",
      "        [[ 1.2886e+00,  5.3519e-01,  3.0888e-02],\n",
      "         [ 6.8504e-01,  1.1259e+00,  1.0555e+00],\n",
      "         [-1.0533e+00,  4.9065e-01,  1.3447e+00]],\n",
      "\n",
      "        [[ 9.3292e-01,  5.7425e-02, -3.0846e-01],\n",
      "         [-3.7884e-01,  1.2463e+00, -4.0288e-01],\n",
      "         [-1.5463e-01, -3.4360e-02,  2.1984e-01]],\n",
      "\n",
      "        [[ 3.5849e-01, -2.7962e-01, -2.0471e-01],\n",
      "         [-4.8476e-01,  1.5543e+00, -2.8728e-01],\n",
      "         [-4.0651e-01,  7.4025e-01,  4.9134e-01]],\n",
      "\n",
      "        [[ 2.6616e-01,  2.3789e-01, -1.8947e-01],\n",
      "         [ 3.5192e-01,  8.4342e-01, -1.3387e-01],\n",
      "         [ 6.6503e-01, -2.6662e-02,  8.0943e-01]],\n",
      "\n",
      "        [[ 9.4618e-01, -1.0364e-01, -1.0232e-01],\n",
      "         [ 6.2826e-04,  1.1573e+00, -5.6564e-01],\n",
      "         [-2.5673e-01,  1.0812e-01,  1.4187e-01]],\n",
      "\n",
      "        [[ 1.2421e+00,  5.5101e-01,  1.1352e-01],\n",
      "         [-1.7198e-01,  1.3979e+00, -1.8856e-01],\n",
      "         [ 5.6087e-01, -3.4752e-01, -1.4111e-02]],\n",
      "\n",
      "        [[ 2.7596e-01,  1.2981e-01, -2.2118e-01],\n",
      "         [ 3.9898e-01,  1.0607e+00, -2.6779e-01],\n",
      "         [ 5.3358e-01, -1.3598e+00,  8.0177e-01]],\n",
      "\n",
      "        [[ 1.0879e+00,  5.3562e-01, -5.7979e-01],\n",
      "         [ 3.1042e-01,  1.1952e+00,  2.1995e-02],\n",
      "         [-4.9390e-01, -4.7393e-01,  5.5220e-01]],\n",
      "\n",
      "        [[ 5.6081e-01, -2.6344e-01,  6.7770e-01],\n",
      "         [ 1.9502e-01,  8.4280e-01, -6.8444e-01],\n",
      "         [-1.5259e-03,  2.2250e-01,  1.2504e+00]],\n",
      "\n",
      "        [[ 8.6026e-01, -1.3510e-01, -1.8489e-01],\n",
      "         [ 8.6457e-02,  7.4242e-01, -3.6819e-01],\n",
      "         [ 1.8184e-02, -5.8944e-01,  2.7064e-01]],\n",
      "\n",
      "        [[ 6.2077e-01,  8.5812e-01,  6.4255e-01],\n",
      "         [ 1.2979e-01,  7.7764e-01,  1.4296e+00],\n",
      "         [ 6.3321e-01,  3.9112e-01,  9.7931e-01]],\n",
      "\n",
      "        [[ 1.2408e+00,  2.4780e-02, -9.6061e-02],\n",
      "         [-2.7502e-01,  8.6296e-01, -9.4773e-01],\n",
      "         [ 8.8612e-02, -1.1113e-01,  3.4796e-01]],\n",
      "\n",
      "        [[ 7.2886e-01, -7.2028e-01, -3.9684e-01],\n",
      "         [ 3.2421e-01,  8.8370e-01, -1.3611e+00],\n",
      "         [ 3.1594e-02, -2.3454e-01,  1.3297e+00]],\n",
      "\n",
      "        [[ 1.8390e+00,  5.8058e-01, -3.2837e-01],\n",
      "         [ 2.9057e-01,  1.0390e+00,  3.8196e-01],\n",
      "         [ 9.3293e-02,  5.3948e-01,  1.1240e+00]],\n",
      "\n",
      "        [[ 5.2311e-01, -4.3425e-01,  2.1475e-01],\n",
      "         [-1.0805e+00,  7.1476e-01,  1.0852e+00],\n",
      "         [ 1.1245e+00, -8.3351e-01,  7.6302e-01]],\n",
      "\n",
      "        [[ 4.8083e-01, -3.7803e-01,  8.5167e-02],\n",
      "         [ 7.6191e-01,  1.0297e-01, -3.6160e-01],\n",
      "         [-2.2152e-01, -1.0456e+00,  1.0567e+00]],\n",
      "\n",
      "        [[ 1.0191e+00,  6.0867e-01,  8.1035e-01],\n",
      "         [ 4.4967e-01,  1.0391e+00,  5.8261e-01],\n",
      "         [ 6.1155e-01, -1.7705e-01,  7.8455e-01]],\n",
      "\n",
      "        [[ 5.0902e-01,  7.0501e-01, -1.1394e-01],\n",
      "         [-3.5591e-01,  9.9963e-01, -3.5986e-01],\n",
      "         [ 2.8637e-01, -4.6214e-01,  8.9518e-01]],\n",
      "\n",
      "        [[ 3.0022e-01, -8.5569e-01,  1.1342e-01],\n",
      "         [-6.8014e-02,  2.2558e-01, -5.3722e-02],\n",
      "         [ 4.9172e-01, -4.9243e-02,  1.2476e+00]],\n",
      "\n",
      "        [[ 8.9355e-01, -1.3254e-01,  3.4981e-01],\n",
      "         [ 3.6093e-01,  5.7286e-01, -1.4559e+00],\n",
      "         [ 6.1419e-02,  1.1221e-02,  7.2794e-01]],\n",
      "\n",
      "        [[ 5.9800e-01,  4.9556e-01, -4.6371e-02],\n",
      "         [-1.1172e-01,  7.8436e-01, -6.5821e-01],\n",
      "         [ 3.0209e-01,  2.4742e-02,  7.5400e-01]],\n",
      "\n",
      "        [[ 3.6449e-01,  3.9314e-02, -6.0419e-01],\n",
      "         [ 4.5724e-01,  8.7318e-01, -1.7182e-01],\n",
      "         [ 2.3264e+00,  1.0794e-01,  2.3233e-01]],\n",
      "\n",
      "        [[ 9.4357e-01,  5.0044e-01, -2.0562e-01],\n",
      "         [ 2.2268e-01,  8.2825e-01,  6.6576e-01],\n",
      "         [-5.1970e-01,  8.1514e-01,  1.3745e+00]],\n",
      "\n",
      "        [[ 6.0660e-01, -3.4911e-02,  2.0696e-02],\n",
      "         [-6.8761e-02,  1.7781e+00, -6.6836e-01],\n",
      "         [-3.9358e-01,  8.1852e-01,  6.1597e-01]],\n",
      "\n",
      "        [[ 1.5630e+00,  3.5990e-01,  1.2449e-01],\n",
      "         [-6.6404e-01,  1.0270e+00,  4.9828e-01],\n",
      "         [-6.5047e-01,  3.1892e-01,  1.1054e+00]],\n",
      "\n",
      "        [[ 1.5266e+00, -1.8293e-01, -5.5936e-01],\n",
      "         [-6.5372e-01,  9.0672e-01,  1.2773e+00],\n",
      "         [-5.0883e-01,  8.0592e-01,  2.2960e+00]],\n",
      "\n",
      "        [[ 6.6051e-01,  8.4549e-02, -6.2486e-01],\n",
      "         [-3.8210e-01,  8.8800e-01,  2.0339e-01],\n",
      "         [-6.3154e-01,  5.4004e-01,  7.2234e-01]],\n",
      "\n",
      "        [[ 6.7260e-01,  9.0824e-01, -1.7967e-01],\n",
      "         [ 2.0056e-01,  7.8673e-01,  5.7893e-01],\n",
      "         [ 8.2604e-01, -1.5070e-01,  1.0025e+00]],\n",
      "\n",
      "        [[ 1.1407e+00,  1.2530e+00, -6.8322e-01],\n",
      "         [ 2.9235e-01,  6.2519e-01,  5.7397e-01],\n",
      "         [-4.3525e-01, -6.2602e-01,  1.6579e+00]],\n",
      "\n",
      "        [[ 1.4185e+00, -1.3865e+00, -1.0926e-01],\n",
      "         [-3.1473e-01,  1.1762e+00, -1.4149e-01],\n",
      "         [-5.2588e-01,  1.5486e+00,  1.7737e+00]],\n",
      "\n",
      "        [[ 8.0846e-01, -9.7247e-01, -8.3309e-01],\n",
      "         [-3.2073e-01,  6.4079e-01,  1.2150e+00],\n",
      "         [ 1.2470e-01,  8.5421e-02,  7.3664e-01]],\n",
      "\n",
      "        [[ 5.8635e-01, -1.2566e+00, -1.8019e-01],\n",
      "         [-1.6599e-01,  8.8066e-01, -1.6854e-01],\n",
      "         [-3.9975e-01,  4.2198e-01,  9.1838e-01]]], device='cuda:0',\n",
      "       grad_fn=<AddBackward0>)\n",
      "tensor([[[ 0.8619, -0.3160,  0.2402,  ...,  1.0033,  0.0212,  0.5251],\n",
      "         [-0.2086,  1.9071,  0.4559,  ..., -0.4348, -0.2313,  0.2450],\n",
      "         [ 0.7998, -0.0102,  0.8938,  ..., -0.0315, -0.1588, -0.0753],\n",
      "         ...,\n",
      "         [-0.5573, -0.1559, -0.1312,  ...,  1.1572, -0.2261,  0.2339],\n",
      "         [-0.2011, -0.1056, -0.2609,  ..., -0.2614,  1.1069,  0.4268],\n",
      "         [-0.7996,  0.3671, -0.3951,  ..., -0.2636, -0.1211,  1.4190]],\n",
      "\n",
      "        [[ 0.8970, -0.1345,  0.1264,  ..., -0.9183,  0.4071, -0.5274],\n",
      "         [ 0.8700,  0.3934, -0.4600,  ...,  0.3910, -0.2203,  0.0634],\n",
      "         [-0.5173,  0.5519,  0.6020,  ...,  0.1158, -0.1074, -0.6819],\n",
      "         ...,\n",
      "         [-0.0227, -0.9640,  0.4348,  ...,  0.8560, -0.9180, -0.1460],\n",
      "         [ 0.3856,  0.1870, -0.3422,  ..., -0.5982,  1.2062, -0.4313],\n",
      "         [-0.2786,  0.6903,  0.2847,  ...,  0.1491,  0.1982,  0.7315]],\n",
      "\n",
      "        [[ 1.2061,  0.3367, -0.0601,  ..., -0.3393,  0.3358, -0.3375],\n",
      "         [-0.3513,  0.3583,  0.0203,  ...,  0.2266, -0.1436,  0.4791],\n",
      "         [-0.4753, -0.2540,  0.9191,  ..., -0.0407,  0.2309, -0.2803],\n",
      "         ...,\n",
      "         [-0.3559,  0.4972, -0.4129,  ...,  1.0972,  0.0659,  0.3412],\n",
      "         [-0.1352, -0.5135,  0.1982,  ..., -0.2724,  1.6384,  0.0902],\n",
      "         [-0.4347, -0.2884, -0.0085,  ...,  0.2206,  0.1147,  0.4640]],\n",
      "\n",
      "        ...,\n",
      "\n",
      "        [[ 0.0508,  0.5560,  0.0841,  ...,  0.3193, -1.2698,  0.1188],\n",
      "         [ 0.6839,  3.3686,  0.6912,  ...,  0.5874,  0.6563, -1.4812],\n",
      "         [ 0.7272, -1.7480,  0.7220,  ...,  0.1171,  1.1832,  0.6291],\n",
      "         ...,\n",
      "         [-0.5077,  0.0977,  0.1696,  ...,  2.0837,  0.5759, -0.0115],\n",
      "         [-0.5200,  0.6670, -0.8465,  ...,  1.0946, -0.2970,  0.3641],\n",
      "         [ 1.4948,  0.2192, -0.1664,  ...,  0.2723,  0.2805,  2.0685]],\n",
      "\n",
      "        [[ 1.2059,  0.2626,  0.3675,  ..., -0.0900, -0.0036,  0.6225],\n",
      "         [ 0.1646,  2.5339,  0.3776,  ..., -0.0483, -0.4271,  0.6217],\n",
      "         [-0.0954, -0.6965,  0.1955,  ...,  0.4255,  0.6680,  0.0975],\n",
      "         ...,\n",
      "         [-0.1578, -0.0138,  0.1543,  ...,  1.9480,  0.6754, -0.2930],\n",
      "         [ 0.1400, -0.1291, -0.1410,  ...,  0.7096,  0.7580,  0.1418],\n",
      "         [ 0.7472, -0.8994, -0.5862,  ..., -0.1520,  0.8600, -0.1406]],\n",
      "\n",
      "        [[ 1.4151, -0.2491,  0.4640,  ..., -0.7318,  0.4586, -0.0829],\n",
      "         [-0.4432,  1.4250,  1.2873,  ..., -0.1443,  0.5990,  0.4836],\n",
      "         [ 0.4756, -0.3348,  0.7236,  ...,  0.3499, -0.1680,  0.3887],\n",
      "         ...,\n",
      "         [ 0.0571,  1.0315,  0.5318,  ...,  1.4282,  0.2456, -0.1988],\n",
      "         [ 0.1822, -0.5550, -0.0744,  ...,  0.3402,  0.8932,  0.4202],\n",
      "         [ 0.4494, -0.0681, -0.4976,  ...,  0.7975,  0.4827,  2.0963]]],\n",
      "       device='cuda:0', grad_fn=<AddBackward0>)\n"
     ]
    },
    {
     "ename": "TypeError",
     "evalue": "PointNetLoss.forward() missing 1 required positional argument: 'A'",
     "output_type": "error",
     "traceback": [
      "\u001b[1;31m---------------------------------------------------------------------------\u001b[0m",
      "\u001b[1;31mTypeError\u001b[0m                                 Traceback (most recent call last)",
      "Cell \u001b[1;32mIn[22], line 18\u001b[0m\n\u001b[0;32m     15\u001b[0m optimizer\u001b[38;5;241m.\u001b[39mzero_grad()\n\u001b[0;32m     17\u001b[0m logits \u001b[38;5;241m=\u001b[39m pointnet(clouds)\n\u001b[1;32m---> 18\u001b[0m loss \u001b[38;5;241m=\u001b[39m \u001b[43mcriterion\u001b[49m\u001b[43m(\u001b[49m\u001b[43mlogits\u001b[49m\u001b[43m,\u001b[49m\u001b[43m \u001b[49m\u001b[43mlabels\u001b[49m\u001b[43m)\u001b[49m\n\u001b[0;32m     19\u001b[0m optimizer\u001b[38;5;241m.\u001b[39mstep()\n\u001b[0;32m     21\u001b[0m loss_avg \u001b[38;5;241m+\u001b[39m\u001b[38;5;241m=\u001b[39m loss\u001b[38;5;241m.\u001b[39mitem()\n",
      "File \u001b[1;32mc:\\Users\\Joshua\\OneDrive\\Documents\\AI_535\\PointCloudclassification\\.venv\\lib\\site-packages\\torch\\nn\\modules\\module.py:1739\u001b[0m, in \u001b[0;36mModule._wrapped_call_impl\u001b[1;34m(self, *args, **kwargs)\u001b[0m\n\u001b[0;32m   1737\u001b[0m     \u001b[38;5;28;01mreturn\u001b[39;00m \u001b[38;5;28mself\u001b[39m\u001b[38;5;241m.\u001b[39m_compiled_call_impl(\u001b[38;5;241m*\u001b[39margs, \u001b[38;5;241m*\u001b[39m\u001b[38;5;241m*\u001b[39mkwargs)  \u001b[38;5;66;03m# type: ignore[misc]\u001b[39;00m\n\u001b[0;32m   1738\u001b[0m \u001b[38;5;28;01melse\u001b[39;00m:\n\u001b[1;32m-> 1739\u001b[0m     \u001b[38;5;28;01mreturn\u001b[39;00m \u001b[38;5;28mself\u001b[39m\u001b[38;5;241m.\u001b[39m_call_impl(\u001b[38;5;241m*\u001b[39margs, \u001b[38;5;241m*\u001b[39m\u001b[38;5;241m*\u001b[39mkwargs)\n",
      "File \u001b[1;32mc:\\Users\\Joshua\\OneDrive\\Documents\\AI_535\\PointCloudclassification\\.venv\\lib\\site-packages\\torch\\nn\\modules\\module.py:1750\u001b[0m, in \u001b[0;36mModule._call_impl\u001b[1;34m(self, *args, **kwargs)\u001b[0m\n\u001b[0;32m   1745\u001b[0m \u001b[38;5;66;03m# If we don't have any hooks, we want to skip the rest of the logic in\u001b[39;00m\n\u001b[0;32m   1746\u001b[0m \u001b[38;5;66;03m# this function, and just call forward.\u001b[39;00m\n\u001b[0;32m   1747\u001b[0m \u001b[38;5;28;01mif\u001b[39;00m \u001b[38;5;129;01mnot\u001b[39;00m (\u001b[38;5;28mself\u001b[39m\u001b[38;5;241m.\u001b[39m_backward_hooks \u001b[38;5;129;01mor\u001b[39;00m \u001b[38;5;28mself\u001b[39m\u001b[38;5;241m.\u001b[39m_backward_pre_hooks \u001b[38;5;129;01mor\u001b[39;00m \u001b[38;5;28mself\u001b[39m\u001b[38;5;241m.\u001b[39m_forward_hooks \u001b[38;5;129;01mor\u001b[39;00m \u001b[38;5;28mself\u001b[39m\u001b[38;5;241m.\u001b[39m_forward_pre_hooks\n\u001b[0;32m   1748\u001b[0m         \u001b[38;5;129;01mor\u001b[39;00m _global_backward_pre_hooks \u001b[38;5;129;01mor\u001b[39;00m _global_backward_hooks\n\u001b[0;32m   1749\u001b[0m         \u001b[38;5;129;01mor\u001b[39;00m _global_forward_hooks \u001b[38;5;129;01mor\u001b[39;00m _global_forward_pre_hooks):\n\u001b[1;32m-> 1750\u001b[0m     \u001b[38;5;28;01mreturn\u001b[39;00m forward_call(\u001b[38;5;241m*\u001b[39margs, \u001b[38;5;241m*\u001b[39m\u001b[38;5;241m*\u001b[39mkwargs)\n\u001b[0;32m   1752\u001b[0m result \u001b[38;5;241m=\u001b[39m \u001b[38;5;28;01mNone\u001b[39;00m\n\u001b[0;32m   1753\u001b[0m called_always_called_hooks \u001b[38;5;241m=\u001b[39m \u001b[38;5;28mset\u001b[39m()\n",
      "\u001b[1;31mTypeError\u001b[0m: PointNetLoss.forward() missing 1 required positional argument: 'A'"
     ]
    }
   ],
   "source": [
    "\n",
    "for epoch in range(2*num_epochs):\n",
    "\n",
    "    accuracy = 0\n",
    "    loss_avg = 0\n",
    "    count = 0\n",
    "\n",
    "    pointnet.train()\n",
    "    for data in test_loader:\n",
    "\n",
    "        clouds = data.pos.view(data.batch[-1]+1, num_points, 3)\n",
    "        clouds = clouds.view(-1, clouds.shape[2], clouds.shape[1]).to(device)\n",
    "\n",
    "        labels = data.y.to(device)\n",
    "\n",
    "        optimizer.zero_grad()\n",
    "\n",
    "        logits = pointnet(clouds)\n",
    "        loss = criterion(logits, labels)\n",
    "        optimizer.step()\n",
    "\n",
    "        loss_avg += loss.item()\n",
    "        count += 1\n",
    "    \n",
    "    loss_avg = loss_avg/count\n",
    "    \n",
    "    pointnet.eval()\n",
    "    with torch.no_grad():\n",
    "        correct = 0\n",
    "        total = 0\n",
    "        for data in test_loader:\n",
    "            \n",
    "            clouds = data.pos.view(data.batch[-1]+1, num_points, 3)\n",
    "            clouds = clouds.view(-1, clouds.shape[2], clouds.shape[1]).to(device)\n",
    "\n",
    "            labels = data.y.to(device)\n",
    "            \n",
    "            logits = pointnet(clouds)\n",
    "\n",
    "            _, predicted = torch.max(logits.data, 1)\n",
    "            total += labels.size(0)\n",
    "            correct += (predicted == labels).sum().item()\n",
    "\n",
    "        accuracy = correct/total\n",
    "    \n",
    "    print(\"{}   [Epoch {:3}]  Loss: {:8.4}  Accuracy:   {:8.4}%\".format(datetime.datetime.now(), epoch+1, loss_avg, 100*accuracy))"
   ]
  },
  {
   "cell_type": "code",
   "execution_count": 19,
   "metadata": {},
   "outputs": [
    {
     "name": "stdout",
     "output_type": "stream",
     "text": [
      "Accuracy:    11.45374449339207%\n"
     ]
    }
   ],
   "source": [
    "pointnet.eval()\n",
    "\n",
    "with torch.no_grad():\n",
    "    correct = 0\n",
    "    total = 0\n",
    "    for data in test_loader:\n",
    "        \n",
    "        clouds = data.pos.resize(data.batch[-1]+1, num_points, 3)\n",
    "        clouds = clouds.view(-1, clouds.shape[2], clouds.shape[1]).to(device)\n",
    "\n",
    "        labels = data.y.to(device)\n",
    "        \n",
    "        logits = pointnet(clouds)\n",
    "\n",
    "        _, predicted = torch.max(logits.data, 1)\n",
    "        total += labels.size(0)\n",
    "        correct += (predicted == labels).sum().item()\n",
    "\n",
    "    print('Accuracy:    {}%'.format(100 * correct / total))"
   ]
  },
  {
   "cell_type": "code",
   "execution_count": null,
   "metadata": {},
   "outputs": [],
   "source": []
  }
 ],
 "metadata": {
  "kernelspec": {
   "display_name": "pointcloud",
   "language": "python",
   "name": "python3"
  },
  "language_info": {
   "codemirror_mode": {
    "name": "ipython",
    "version": 3
   },
   "file_extension": ".py",
   "mimetype": "text/x-python",
   "name": "python",
   "nbconvert_exporter": "python",
   "pygments_lexer": "ipython3",
   "version": "3.10.16"
  }
 },
 "nbformat": 4,
 "nbformat_minor": 2
}
